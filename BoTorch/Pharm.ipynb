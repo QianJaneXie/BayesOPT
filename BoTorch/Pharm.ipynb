{
 "cells": [
  {
   "cell_type": "code",
   "execution_count": 17,
   "id": "7f2b0e35",
   "metadata": {},
   "outputs": [],
   "source": [
    "import torch\n",
    "\n",
    "# Define the Python function for f1 and f2 as provided in the image\n",
    "def f1(x):\n",
    "    # Squeeze the middle dimension to make sure we have a m*4 tensor\n",
    "    x_squeezed = x.squeeze(1)\n",
    "    return -3.95 + 9.20 * torch.sigmoid(-0.32 + 5.06*x_squeezed[:,0] - 4.07*x_squeezed[:,1] - 0.36*x_squeezed[:,2] - 0.34*x_squeezed[:,3]) + \\\n",
    "           9.88 * torch.sigmoid(-4.83 + 7.43*x_squeezed[:,0] + 3.46*x_squeezed[:,1] + 9.19*x_squeezed[:,2] + 16.58*x_squeezed[:,3]) + \\\n",
    "           10.84 * torch.sigmoid(-7.90 - 7.91*x_squeezed[:,0] - 4.48*x_squeezed[:,1] - 4.08*x_squeezed[:,2] - 8.28*x_squeezed[:,3]) + \\\n",
    "           15.18 * torch.sigmoid(-9.41 - 7.99*x_squeezed[:,0] + 0.65*x_squeezed[:,1] + 3.14*x_squeezed[:,2] + 0.31*x_squeezed[:,3])\n",
    "\n",
    "def f2(x):\n",
    "    # Squeeze the middle dimension to make sure we have a m*4 tensor\n",
    "    x_squeezed = x.squeeze(1)\n",
    "    return 1.07 + 0.62 * torch.sigmoid(-3.05 + 0.03*x_squeezed[:,0] + 0.16*x_squeezed[:,1] + 4.03*x_squeezed[:,2] - 0.54*x_squeezed[:,3]) + \\\n",
    "           0.65 * torch.sigmoid(-1.78 + 0.60*x_squeezed[:,0] - 3.19*x_squeezed[:,1] + 0.10*x_squeezed[:,2] + 0.54*x_squeezed[:,3]) - \\\n",
    "           0.72 * torch.sigmoid(-0.01 + 2.04*x_squeezed[:,0] - 3.73*x_squeezed[:,1] + 0.10*x_squeezed[:,2] - 1.05*x_squeezed[:,3]) - \\\n",
    "           0.45 * torch.sigmoid(-1.82 + 4.78*x_squeezed[:,0] + 0.48*x_squeezed[:,1] - 4.68*x_squeezed[:,2] - 1.65*x_squeezed[:,3]) - \\\n",
    "           0.32 * torch.sigmoid(-2.69 + 5.99*x_squeezed[:,0] + 3.87*x_squeezed[:,1] + 3.10*x_squeezed[:,2] - 2.17*x_squeezed[:,3])\n",
    "\n",
    "# Define the combined function f3\n",
    "def objective(x):\n",
    "    # Calculate f3 using f1 and f2\n",
    "    return ((60 - f1(x)) / 60) * (f2(x) / 1.5)"
   ]
  },
  {
   "cell_type": "code",
   "execution_count": 15,
   "id": "f8aff3a0",
   "metadata": {},
   "outputs": [],
   "source": [
    "# use a GPU if available\n",
    "device = torch.device(\"cuda\" if torch.cuda.is_available() else \"cpu\")\n",
    "dtype = torch.double"
   ]
  },
  {
   "cell_type": "code",
   "execution_count": 8,
   "id": "8c252587",
   "metadata": {},
   "outputs": [],
   "source": [
    "import gpytorch\n",
    "from torch import Tensor\n",
    "\n",
    "from botorch.models import FixedNoiseGP\n",
    "from botorch.models.transforms import Standardize\n",
    "from gpytorch.mlls import ExactMarginalLogLikelihood\n",
    "from botorch.fit import fit_gpytorch_model"
   ]
  },
  {
   "cell_type": "code",
   "execution_count": 9,
   "id": "86786cdd",
   "metadata": {},
   "outputs": [],
   "source": [
    "def fit_gp_model(X, Y, Yvar=None):\n",
    "    if X.ndim == 1:\n",
    "        X = X.unsqueeze(dim=-1)\n",
    "    if Y.ndim == 1:\n",
    "        Y = Y.unsqueeze(dim=-1)\n",
    "    model = FixedNoiseGP(X, Y, torch.ones(Y.shape) * 1e-4, outcome_transform=Standardize(m=Y.shape[-1]))\n",
    "    mll = ExactMarginalLogLikelihood(model.likelihood, model)\n",
    "    fit_gpytorch_model(mll)\n",
    "    return model"
   ]
  },
  {
   "cell_type": "code",
   "execution_count": 10,
   "id": "5f4ebf79",
   "metadata": {},
   "outputs": [],
   "source": [
    "from torch.autograd import (Function, grad)\n",
    "from botorch.acquisition import AnalyticAcquisitionFunction\n",
    "from botorch.models.model import Model\n",
    "from botorch.acquisition.analytic import (_scaled_improvement, _ei_helper)\n",
    "from botorch.acquisition.objective import PosteriorTransform\n",
    "from typing import Dict, Optional, Tuple, Union\n",
    "from botorch.utils.transforms import t_batch_mode_transform\n",
    "from botorch.utils.probability.utils import (\n",
    "    ndtr as Phi,\n",
    "    phi,\n",
    ")"
   ]
  },
  {
   "cell_type": "code",
   "execution_count": 57,
   "id": "2da72605",
   "metadata": {},
   "outputs": [],
   "source": [
    "class GittinsIndexFunction(Function):\n",
    "    @staticmethod\n",
    "    def forward(X: torch.Tensor, mean: torch.Tensor, sigma: torch.Tensor, cost: float, maximize: bool, bounds: torch.Tensor, eps: float):\n",
    "        \n",
    "        def cost_adjusted_expected_improvement(best_f):\n",
    "            u = _scaled_improvement(mean, sigma, best_f, maximize)\n",
    "            return sigma * _ei_helper(u) - cost\n",
    "\n",
    "        size = X.size()[0]\n",
    "        l = bounds[0]*torch.ones(size)\n",
    "        h = bounds[1]*torch.ones(size)\n",
    "        m = (h + l) / 2\n",
    "\n",
    "        if maximize:\n",
    "            while torch.any(cost_adjusted_expected_improvement(best_f=l) < 0):\n",
    "                l = 2 * l\n",
    "            while torch.any(cost_adjusted_expected_improvement(best_f=h) > 0):\n",
    "                h = 2 * h\n",
    "        else:\n",
    "            while torch.any(cost_adjusted_expected_improvement(best_f=l) > 0):\n",
    "                l = 2 * l\n",
    "            while torch.any(cost_adjusted_expected_improvement(best_f=h) < 0):\n",
    "                h = 2 * h\n",
    "\n",
    "        # Bisection method\n",
    "#         while torch.max(torch.abs(cost_adjusted_expected_improvement(best_f=m))) >= eps:\n",
    "        for _ in range(100):\n",
    "            sgn_m = torch.sign(cost_adjusted_expected_improvement(best_f=m))\n",
    "            if maximize:\n",
    "                l = torch.where(sgn_m >= 0, m, l)\n",
    "                h = torch.where(sgn_m <= 0, m, h)\n",
    "            else:\n",
    "                l = torch.where(sgn_m <= 0, m, l)\n",
    "                h = torch.where(sgn_m >= 0, m, h)\n",
    "            m = (h + l) / 2\n",
    "            \n",
    "        return m\n",
    "    \n",
    "    @staticmethod\n",
    "    def setup_context(ctx, inputs, output):\n",
    "        X, mean, sigma, cost, maximize, bounds, eps = inputs\n",
    "        \n",
    "        # Save u for backward computation\n",
    "        u = _scaled_improvement(mean, sigma, output, maximize)\n",
    "        \n",
    "        # Save values needed in the backward pass\n",
    "        ctx.save_for_backward(X, mean, sigma, u)\n",
    "        \n",
    "        # Save boolean flag directly in ctx\n",
    "        ctx.maximize = maximize  \n",
    "\n",
    "    @staticmethod\n",
    "    def backward(ctx, grad_output):\n",
    "                \n",
    "        # Retrieve saved tensors\n",
    "        X, mean, sigma, u = ctx.saved_tensors\n",
    "        maximize = ctx.maximize  # Retrieve the boolean flag directly from ctx\n",
    "                \n",
    "        # Gradient of mean function with respect to x\n",
    "        dmean_dX = grad(outputs=mean, inputs=X, grad_outputs=torch.ones_like(mean), retain_graph=True, allow_unused=True)[0].clone()\n",
    "\n",
    "        # Gradient of the std function with respect to x\n",
    "        dsigma_dX = grad(outputs=sigma, inputs=X, grad_outputs=torch.ones_like(sigma), retain_graph=True, allow_unused=True)[0].clone()\n",
    "        \n",
    "        # Check if gradients are None and handle accordingly\n",
    "        if dmean_dX is None or dsigma_dX is None:\n",
    "            raise RuntimeError(\"Gradients could not be computed for one or more components.\")\n",
    "        \n",
    "        # Compute the gradient of the Gittins acquisition function\n",
    "        if maximize:\n",
    "            grad_X = grad_output.unsqueeze(-1).unsqueeze(-1) * (dmean_dX + phi(u).unsqueeze(-1).unsqueeze(-1) * dsigma_dX / Phi(u).unsqueeze(-1).unsqueeze(-1))\n",
    "        else:\n",
    "            grad_X = grad_output.unsqueeze(-1).unsqueeze(-1) * (dmean_dX - phi(u).unsqueeze(-1).unsqueeze(-1) * dsigma_dX / Phi(u).unsqueeze(-1).unsqueeze(-1))\n",
    "\n",
    "        return grad_X, None, None, None, None, None, None"
   ]
  },
  {
   "cell_type": "code",
   "execution_count": 12,
   "id": "0cdcd949",
   "metadata": {},
   "outputs": [],
   "source": [
    "class GittinsIndex(AnalyticAcquisitionFunction):\n",
    "    r\"\"\"Single-outcome Gittins Index (analytic).\n",
    "\n",
    "    Computes Gittins index using the analytic formula for a Normal posterior distribution. Unlike the\n",
    "    MC-based acquisition functions, this relies on the posterior at single test\n",
    "    point being Gaussian (and require the posterior to implement `mean` and\n",
    "    `variance` properties). Only supports the case of `q=1`. The model must be\n",
    "    single-outcome.\n",
    "\n",
    "    `GI(x) = argmin_g |E(max(f(x) - g, 0))-cost|,`\n",
    "\n",
    "    where the expectation is taken over the value of stochastic function `f` at `x`.\n",
    "\n",
    "    Example:\n",
    "        >>> model = SingleTaskGP(train_X, train_Y)\n",
    "        >>> GI = GittinsIndex(model, cost=0.05)\n",
    "        >>> gi = GI(test_X)\n",
    "        \n",
    "    \"\"\"\n",
    "\n",
    "    def __init__(\n",
    "        self,\n",
    "        model: Model,\n",
    "        cost: float,\n",
    "        posterior_transform: Optional[PosteriorTransform] = None,\n",
    "        maximize: bool = True,\n",
    "        bounds: torch.Tensor = torch.tensor([[-1.0], [1.0]], dtype=torch.float64),\n",
    "        eps: float = 1e-6\n",
    "    ):\n",
    "        r\"\"\"Single-outcome Gittins Index (analytic).\n",
    "        \n",
    "        Args:\n",
    "            model: A fitted single-outcome model.\n",
    "            cost: Either a scalar or a `b`-dim Tensor (batch mode) representing\n",
    "                the cost function.\n",
    "            posterior_transform: A PosteriorTransform. If using a multi-output model,\n",
    "                a PosteriorTransform that transforms the multi-output posterior into a\n",
    "                single-output posterior is required.\n",
    "            maximize: If True, consider the problem a maximization problem.\n",
    "            bounds: A `2 x d` tensor of lower and upper bounds for each column of `X`.\n",
    "        \"\"\"\n",
    "        super().__init__(model=model, posterior_transform=posterior_transform)\n",
    "        self.cost = cost\n",
    "        self.maximize = maximize\n",
    "        self.bounds = bounds\n",
    "        self.eps = eps\n",
    "      \n",
    "        \n",
    "    @t_batch_mode_transform(expected_q=1)\n",
    "    def forward(self, X: Tensor) -> Tensor:\n",
    "        r\"\"\"Evaluate Gittins Index on the candidate set X using bisection method.\n",
    "\n",
    "        Args:\n",
    "            X: A `(b1 x ... bk) x 1 x d`-dim batched tensor of `d`-dim design points.\n",
    "                Gittins Index is computed for each point individually,\n",
    "                i.e., what is considered are the marginal posteriors, not the joint.\n",
    "\n",
    "        Returns:\n",
    "            A `(b1 x ... bk)`-dim tensor of Gittins Index values at the\n",
    "            given design points `X`.\n",
    "        \"\"\"\n",
    "        \n",
    "        mean, sigma = self._mean_and_sigma(X)\n",
    "#         mean = self.model.posterior(X).mean.squeeze(-2).squeeze(-1)\n",
    "#         sigma = self.model.posterior(X).variance.sqrt().squeeze(-2).squeeze(-1)\n",
    "            \n",
    "        return GittinsIndexFunction.apply(X, mean, sigma, self.cost, self.maximize, self.bounds, self.eps)"
   ]
  },
  {
   "cell_type": "code",
   "execution_count": 82,
   "id": "7065f939",
   "metadata": {},
   "outputs": [
    {
     "name": "stdout",
     "output_type": "stream",
     "text": [
      "Iteration: 0\n",
      "new point: [[0.11187595 0.42373687 1.         0.5917849 ]]\n",
      "new value: 0.6934027075767517\n",
      "best oberved value: 0.6934027075767517\n",
      "\n",
      "Iteration: 1\n",
      "new point: [[0.01931297 0.44735402 1.         0.9168324 ]]\n",
      "new value: 0.7561575770378113\n",
      "best oberved value: 0.7561575770378113\n",
      "\n",
      "Iteration: 2\n",
      "new point: [[-0.21556103  0.3249234   0.9848357   0.8457353 ]]\n",
      "new value: 0.8303751349449158\n",
      "best oberved value: 0.8303751349449158\n",
      "\n"
     ]
    },
    {
     "name": "stderr",
     "output_type": "stream",
     "text": [
      "/Users/qianxie/Library/Python/3.9/lib/python/site-packages/botorch/models/utils/assorted.py:173: InputDataWarning: Input data is not contained to the unit cube. Please consider min-max scaling the input data.\n",
      "  warnings.warn(msg, InputDataWarning)\n"
     ]
    },
    {
     "name": "stdout",
     "output_type": "stream",
     "text": [
      "Iteration: 3\n",
      "new point: [[-0.44155678  0.41037136  0.87545997  0.852367  ]]\n",
      "new value: 0.8142523765563965\n",
      "best oberved value: 0.8303751349449158\n",
      "\n"
     ]
    },
    {
     "name": "stderr",
     "output_type": "stream",
     "text": [
      "/Users/qianxie/Library/Python/3.9/lib/python/site-packages/botorch/models/utils/assorted.py:173: InputDataWarning: Input data is not contained to the unit cube. Please consider min-max scaling the input data.\n",
      "  warnings.warn(msg, InputDataWarning)\n"
     ]
    },
    {
     "name": "stdout",
     "output_type": "stream",
     "text": [
      "Iteration: 4\n",
      "new point: [[-0.38188788  0.08351872  1.          0.944436  ]]\n",
      "new value: 0.8586493134498596\n",
      "best oberved value: 0.8586493134498596\n",
      "\n"
     ]
    },
    {
     "name": "stderr",
     "output_type": "stream",
     "text": [
      "/Users/qianxie/Library/Python/3.9/lib/python/site-packages/botorch/models/utils/assorted.py:173: InputDataWarning: Input data is not contained to the unit cube. Please consider min-max scaling the input data.\n",
      "  warnings.warn(msg, InputDataWarning)\n"
     ]
    },
    {
     "name": "stdout",
     "output_type": "stream",
     "text": [
      "Iteration: 5\n",
      "new point: [[-0.48090577  0.01209885  1.          0.68805414]]\n",
      "new value: 0.8445667624473572\n",
      "best oberved value: 0.8586493134498596\n",
      "\n"
     ]
    },
    {
     "name": "stderr",
     "output_type": "stream",
     "text": [
      "/Users/qianxie/Library/Python/3.9/lib/python/site-packages/botorch/models/utils/assorted.py:173: InputDataWarning: Input data is not contained to the unit cube. Please consider min-max scaling the input data.\n",
      "  warnings.warn(msg, InputDataWarning)\n"
     ]
    },
    {
     "name": "stdout",
     "output_type": "stream",
     "text": [
      "Iteration: 6\n",
      "new point: [[-0.39472234 -0.0532208   0.79703856  0.88099134]]\n",
      "new value: 0.7841343879699707\n",
      "best oberved value: 0.8586493134498596\n",
      "\n"
     ]
    },
    {
     "name": "stderr",
     "output_type": "stream",
     "text": [
      "/Users/qianxie/Library/Python/3.9/lib/python/site-packages/botorch/models/utils/assorted.py:173: InputDataWarning: Input data is not contained to the unit cube. Please consider min-max scaling the input data.\n",
      "  warnings.warn(msg, InputDataWarning)\n"
     ]
    },
    {
     "name": "stdout",
     "output_type": "stream",
     "text": [
      "Iteration: 7\n",
      "new point: [[-0.6174114   0.14895913  1.          0.94852185]]\n",
      "new value: 0.818794846534729\n",
      "best oberved value: 0.8586493134498596\n",
      "\n"
     ]
    },
    {
     "name": "stderr",
     "output_type": "stream",
     "text": [
      "/Users/qianxie/Library/Python/3.9/lib/python/site-packages/botorch/models/utils/assorted.py:173: InputDataWarning: Input data is not contained to the unit cube. Please consider min-max scaling the input data.\n",
      "  warnings.warn(msg, InputDataWarning)\n"
     ]
    },
    {
     "name": "stdout",
     "output_type": "stream",
     "text": [
      "Iteration: 8\n",
      "new point: [[-0.3933995   0.16863362  1.          0.8103902 ]]\n",
      "new value: 0.8550941348075867\n",
      "best oberved value: 0.8586493134498596\n",
      "\n"
     ]
    },
    {
     "name": "stderr",
     "output_type": "stream",
     "text": [
      "/Users/qianxie/Library/Python/3.9/lib/python/site-packages/botorch/models/utils/assorted.py:173: InputDataWarning: Input data is not contained to the unit cube. Please consider min-max scaling the input data.\n",
      "  warnings.warn(msg, InputDataWarning)\n"
     ]
    },
    {
     "name": "stdout",
     "output_type": "stream",
     "text": [
      "Iteration: 9\n",
      "new point: [[-0.70956624  0.433702    1.          0.31987116]]\n",
      "new value: 0.7807573080062866\n",
      "best oberved value: 0.8586493134498596\n",
      "\n",
      "Iteration: 10\n",
      "new point: [[-0.93853545 -0.40812868  1.          0.24652094]]\n",
      "new value: 0.7525675892829895\n",
      "best oberved value: 0.8586493134498596\n",
      "\n"
     ]
    },
    {
     "name": "stderr",
     "output_type": "stream",
     "text": [
      "/Users/qianxie/Library/Python/3.9/lib/python/site-packages/botorch/models/utils/assorted.py:173: InputDataWarning: Input data is not contained to the unit cube. Please consider min-max scaling the input data.\n",
      "  warnings.warn(msg, InputDataWarning)\n",
      "/Users/qianxie/Library/Python/3.9/lib/python/site-packages/botorch/models/utils/assorted.py:173: InputDataWarning: Input data is not contained to the unit cube. Please consider min-max scaling the input data.\n",
      "  warnings.warn(msg, InputDataWarning)\n"
     ]
    },
    {
     "name": "stdout",
     "output_type": "stream",
     "text": [
      "Iteration: 11\n",
      "new point: [[-0.4458704  -0.63468575  1.          1.        ]]\n",
      "new value: 0.7822137475013733\n",
      "best oberved value: 0.8586493134498596\n",
      "\n",
      "Iteration: 12\n",
      "new point: [[-1.          0.22437689  0.3537008   0.10510418]]\n",
      "new value: 0.7291802167892456\n",
      "best oberved value: 0.8586493134498596\n",
      "\n"
     ]
    },
    {
     "name": "stderr",
     "output_type": "stream",
     "text": [
      "/Users/qianxie/Library/Python/3.9/lib/python/site-packages/botorch/models/utils/assorted.py:173: InputDataWarning: Input data is not contained to the unit cube. Please consider min-max scaling the input data.\n",
      "  warnings.warn(msg, InputDataWarning)\n",
      "/Users/qianxie/Library/Python/3.9/lib/python/site-packages/botorch/models/utils/assorted.py:173: InputDataWarning: Input data is not contained to the unit cube. Please consider min-max scaling the input data.\n",
      "  warnings.warn(msg, InputDataWarning)\n"
     ]
    },
    {
     "name": "stdout",
     "output_type": "stream",
     "text": [
      "Iteration: 13\n",
      "new point: [[-1.          0.19133458  0.80117196 -0.7387695 ]]\n",
      "new value: 0.6691114902496338\n",
      "best oberved value: 0.8586493134498596\n",
      "\n",
      "Iteration: 14\n",
      "new point: [[-0.5043975  1.         1.         1.       ]]\n",
      "new value: 0.7785278558731079\n",
      "best oberved value: 0.8586493134498596\n",
      "\n"
     ]
    },
    {
     "name": "stderr",
     "output_type": "stream",
     "text": [
      "/Users/qianxie/Library/Python/3.9/lib/python/site-packages/botorch/models/utils/assorted.py:173: InputDataWarning: Input data is not contained to the unit cube. Please consider min-max scaling the input data.\n",
      "  warnings.warn(msg, InputDataWarning)\n",
      "/Users/qianxie/Library/Python/3.9/lib/python/site-packages/botorch/models/utils/assorted.py:173: InputDataWarning: Input data is not contained to the unit cube. Please consider min-max scaling the input data.\n",
      "  warnings.warn(msg, InputDataWarning)\n"
     ]
    },
    {
     "name": "stdout",
     "output_type": "stream",
     "text": [
      "Iteration: 15\n",
      "new point: [[-1.         -1.          0.18551992 -0.1170254 ]]\n",
      "new value: 0.5094829201698303\n",
      "best oberved value: 0.8586493134498596\n",
      "\n"
     ]
    },
    {
     "name": "stderr",
     "output_type": "stream",
     "text": [
      "/Users/qianxie/Library/Python/3.9/lib/python/site-packages/botorch/models/utils/assorted.py:173: InputDataWarning: Input data is not contained to the unit cube. Please consider min-max scaling the input data.\n",
      "  warnings.warn(msg, InputDataWarning)\n"
     ]
    },
    {
     "name": "stdout",
     "output_type": "stream",
     "text": [
      "Iteration: 16\n",
      "new point: [[-2.9750189e-01 -7.7740505e-04  1.0000000e+00  1.0000000e+00]]\n",
      "new value: 0.8532801270484924\n",
      "best oberved value: 0.8586493134498596\n",
      "\n"
     ]
    },
    {
     "name": "stderr",
     "output_type": "stream",
     "text": [
      "/Users/qianxie/Library/Python/3.9/lib/python/site-packages/botorch/models/utils/assorted.py:173: InputDataWarning: Input data is not contained to the unit cube. Please consider min-max scaling the input data.\n",
      "  warnings.warn(msg, InputDataWarning)\n"
     ]
    },
    {
     "name": "stdout",
     "output_type": "stream",
     "text": [
      "Iteration: 17\n",
      "new point: [[-0.3598519   0.21986797  1.          1.        ]]\n",
      "new value: 0.8590558767318726\n",
      "best oberved value: 0.8590558767318726\n",
      "\n"
     ]
    },
    {
     "name": "stderr",
     "output_type": "stream",
     "text": [
      "/Users/qianxie/Library/Python/3.9/lib/python/site-packages/botorch/models/utils/assorted.py:173: InputDataWarning: Input data is not contained to the unit cube. Please consider min-max scaling the input data.\n",
      "  warnings.warn(msg, InputDataWarning)\n"
     ]
    },
    {
     "name": "stdout",
     "output_type": "stream",
     "text": [
      "Iteration: 18\n",
      "new point: [[-1.         1.         0.4634848  0.6859267]]\n",
      "new value: 0.572711169719696\n",
      "best oberved value: 0.8590558767318726\n",
      "\n"
     ]
    },
    {
     "name": "stderr",
     "output_type": "stream",
     "text": [
      "/Users/qianxie/Library/Python/3.9/lib/python/site-packages/botorch/models/utils/assorted.py:173: InputDataWarning: Input data is not contained to the unit cube. Please consider min-max scaling the input data.\n",
      "  warnings.warn(msg, InputDataWarning)\n"
     ]
    },
    {
     "name": "stdout",
     "output_type": "stream",
     "text": [
      "Iteration: 19\n",
      "new point: [[-0.36347252  0.2109016   1.          1.        ]]\n",
      "new value: 0.8592827916145325\n",
      "best oberved value: 0.8592827916145325\n",
      "\n"
     ]
    },
    {
     "name": "stderr",
     "output_type": "stream",
     "text": [
      "/Users/qianxie/Library/Python/3.9/lib/python/site-packages/botorch/models/utils/assorted.py:173: InputDataWarning: Input data is not contained to the unit cube. Please consider min-max scaling the input data.\n",
      "  warnings.warn(msg, InputDataWarning)\n"
     ]
    },
    {
     "name": "stdout",
     "output_type": "stream",
     "text": [
      "Iteration: 20\n",
      "new point: [[-0.37232652  0.1520135   1.          0.9209017 ]]\n",
      "new value: 0.8581227660179138\n",
      "best oberved value: 0.8592827916145325\n",
      "\n",
      "Iteration: 21\n",
      "new point: [[-0.9140018   0.83189505 -0.01444114 -0.6889893 ]]\n",
      "new value: 0.6447451114654541\n",
      "best oberved value: 0.8592827916145325\n",
      "\n"
     ]
    },
    {
     "name": "stderr",
     "output_type": "stream",
     "text": [
      "/Users/qianxie/Library/Python/3.9/lib/python/site-packages/botorch/models/utils/assorted.py:173: InputDataWarning: Input data is not contained to the unit cube. Please consider min-max scaling the input data.\n",
      "  warnings.warn(msg, InputDataWarning)\n",
      "/Users/qianxie/Library/Python/3.9/lib/python/site-packages/botorch/models/utils/assorted.py:173: InputDataWarning: Input data is not contained to the unit cube. Please consider min-max scaling the input data.\n",
      "  warnings.warn(msg, InputDataWarning)\n"
     ]
    },
    {
     "name": "stdout",
     "output_type": "stream",
     "text": [
      "Iteration: 22\n",
      "new point: [[-1. -1.  1.  1.]]\n",
      "new value: 0.6623169779777527\n",
      "best oberved value: 0.8592827916145325\n",
      "\n"
     ]
    },
    {
     "name": "stderr",
     "output_type": "stream",
     "text": [
      "/Users/qianxie/Library/Python/3.9/lib/python/site-packages/botorch/models/utils/assorted.py:173: InputDataWarning: Input data is not contained to the unit cube. Please consider min-max scaling the input data.\n",
      "  warnings.warn(msg, InputDataWarning)\n"
     ]
    },
    {
     "name": "stdout",
     "output_type": "stream",
     "text": [
      "Iteration: 23\n",
      "new point: [[-0.36259934  0.19264431  1.          1.        ]]\n",
      "new value: 0.8596562743186951\n",
      "best oberved value: 0.8596562743186951\n",
      "\n"
     ]
    },
    {
     "name": "stderr",
     "output_type": "stream",
     "text": [
      "/Users/qianxie/Library/Python/3.9/lib/python/site-packages/botorch/models/utils/assorted.py:173: InputDataWarning: Input data is not contained to the unit cube. Please consider min-max scaling the input data.\n",
      "  warnings.warn(msg, InputDataWarning)\n"
     ]
    },
    {
     "name": "stdout",
     "output_type": "stream",
     "text": [
      "Iteration: 24\n",
      "new point: [[-0.7849899   0.5088231  -0.69553816  0.32404265]]\n",
      "new value: 0.7356360554695129\n",
      "best oberved value: 0.8596562743186951\n",
      "\n",
      "Iteration: 25\n",
      "new point: [[-0.5842837   1.         -1.         -0.39773774]]\n",
      "new value: 0.4740558862686157\n",
      "best oberved value: 0.8596562743186951\n",
      "\n"
     ]
    },
    {
     "name": "stderr",
     "output_type": "stream",
     "text": [
      "/Users/qianxie/Library/Python/3.9/lib/python/site-packages/botorch/models/utils/assorted.py:173: InputDataWarning: Input data is not contained to the unit cube. Please consider min-max scaling the input data.\n",
      "  warnings.warn(msg, InputDataWarning)\n",
      "/Users/qianxie/Library/Python/3.9/lib/python/site-packages/botorch/models/utils/assorted.py:173: InputDataWarning: Input data is not contained to the unit cube. Please consider min-max scaling the input data.\n",
      "  warnings.warn(msg, InputDataWarning)\n"
     ]
    },
    {
     "name": "stdout",
     "output_type": "stream",
     "text": [
      "Iteration: 26\n",
      "new point: [[-0.92803043  0.06716558 -0.56179553  1.        ]]\n",
      "new value: 0.7272025346755981\n",
      "best oberved value: 0.8596562743186951\n",
      "\n"
     ]
    },
    {
     "name": "stderr",
     "output_type": "stream",
     "text": [
      "/Users/qianxie/Library/Python/3.9/lib/python/site-packages/botorch/models/utils/assorted.py:173: InputDataWarning: Input data is not contained to the unit cube. Please consider min-max scaling the input data.\n",
      "  warnings.warn(msg, InputDataWarning)\n"
     ]
    },
    {
     "name": "stdout",
     "output_type": "stream",
     "text": [
      "Iteration: 27\n",
      "new point: [[-0.7852489   0.28001416 -0.23556355  0.3735884 ]]\n",
      "new value: 0.757970929145813\n",
      "best oberved value: 0.8596562743186951\n",
      "\n"
     ]
    },
    {
     "name": "stderr",
     "output_type": "stream",
     "text": [
      "/Users/qianxie/Library/Python/3.9/lib/python/site-packages/botorch/models/utils/assorted.py:173: InputDataWarning: Input data is not contained to the unit cube. Please consider min-max scaling the input data.\n",
      "  warnings.warn(msg, InputDataWarning)\n"
     ]
    },
    {
     "name": "stdout",
     "output_type": "stream",
     "text": [
      "Iteration: 28\n",
      "new point: [[-0.5641418   0.84055775 -0.5346217   1.        ]]\n",
      "new value: 0.63688725233078\n",
      "best oberved value: 0.8596562743186951\n",
      "\n"
     ]
    },
    {
     "name": "stderr",
     "output_type": "stream",
     "text": [
      "/Users/qianxie/Library/Python/3.9/lib/python/site-packages/botorch/models/utils/assorted.py:173: InputDataWarning: Input data is not contained to the unit cube. Please consider min-max scaling the input data.\n",
      "  warnings.warn(msg, InputDataWarning)\n"
     ]
    },
    {
     "name": "stdout",
     "output_type": "stream",
     "text": [
      "Iteration: 29\n",
      "new point: [[-0.3645027  0.2653138  1.         1.       ]]\n",
      "new value: 0.8577417731285095\n",
      "best oberved value: 0.8596562743186951\n",
      "\n"
     ]
    },
    {
     "name": "stderr",
     "output_type": "stream",
     "text": [
      "/Users/qianxie/Library/Python/3.9/lib/python/site-packages/botorch/models/utils/assorted.py:173: InputDataWarning: Input data is not contained to the unit cube. Please consider min-max scaling the input data.\n",
      "  warnings.warn(msg, InputDataWarning)\n"
     ]
    },
    {
     "name": "stdout",
     "output_type": "stream",
     "text": [
      "Iteration: 30\n",
      "new point: [[-0.36845466  0.11450787  1.          1.        ]]\n",
      "new value: 0.8605063557624817\n",
      "best oberved value: 0.8605063557624817\n",
      "\n"
     ]
    },
    {
     "name": "stderr",
     "output_type": "stream",
     "text": [
      "/Users/qianxie/Library/Python/3.9/lib/python/site-packages/botorch/models/utils/assorted.py:173: InputDataWarning: Input data is not contained to the unit cube. Please consider min-max scaling the input data.\n",
      "  warnings.warn(msg, InputDataWarning)\n"
     ]
    },
    {
     "name": "stdout",
     "output_type": "stream",
     "text": [
      "Iteration: 31\n",
      "new point: [[-0.65827864 -0.4195197  -0.82312995  0.45160434]]\n",
      "new value: 0.628229558467865\n",
      "best oberved value: 0.8605063557624817\n",
      "\n"
     ]
    },
    {
     "name": "stderr",
     "output_type": "stream",
     "text": [
      "/Users/qianxie/Library/Python/3.9/lib/python/site-packages/botorch/models/utils/assorted.py:173: InputDataWarning: Input data is not contained to the unit cube. Please consider min-max scaling the input data.\n",
      "  warnings.warn(msg, InputDataWarning)\n"
     ]
    },
    {
     "name": "stdout",
     "output_type": "stream",
     "text": [
      "Iteration: 32\n",
      "new point: [[-1.          0.12708667 -0.45602062 -0.01120823]]\n",
      "new value: 0.6359711289405823\n",
      "best oberved value: 0.8605063557624817\n",
      "\n"
     ]
    },
    {
     "name": "stderr",
     "output_type": "stream",
     "text": [
      "/Users/qianxie/Library/Python/3.9/lib/python/site-packages/botorch/models/utils/assorted.py:173: InputDataWarning: Input data is not contained to the unit cube. Please consider min-max scaling the input data.\n",
      "  warnings.warn(msg, InputDataWarning)\n"
     ]
    },
    {
     "name": "stdout",
     "output_type": "stream",
     "text": [
      "Iteration: 33\n",
      "new point: [[-0.37585008  0.1650262   1.          0.90686053]]\n",
      "new value: 0.8577370047569275\n",
      "best oberved value: 0.8605063557624817\n",
      "\n"
     ]
    },
    {
     "name": "stderr",
     "output_type": "stream",
     "text": [
      "/Users/qianxie/Library/Python/3.9/lib/python/site-packages/botorch/models/utils/assorted.py:173: InputDataWarning: Input data is not contained to the unit cube. Please consider min-max scaling the input data.\n",
      "  warnings.warn(msg, InputDataWarning)\n"
     ]
    },
    {
     "name": "stdout",
     "output_type": "stream",
     "text": [
      "Iteration: 34\n",
      "new point: [[-0.3801735   0.08591967  1.          1.        ]]\n",
      "new value: 0.8605880737304688\n",
      "best oberved value: 0.8605880737304688\n",
      "\n"
     ]
    },
    {
     "name": "stderr",
     "output_type": "stream",
     "text": [
      "/Users/qianxie/Library/Python/3.9/lib/python/site-packages/botorch/models/utils/assorted.py:173: InputDataWarning: Input data is not contained to the unit cube. Please consider min-max scaling the input data.\n",
      "  warnings.warn(msg, InputDataWarning)\n"
     ]
    },
    {
     "name": "stdout",
     "output_type": "stream",
     "text": [
      "Iteration: 35\n",
      "new point: [[-0.54502845 -0.20377061  1.          0.29171938]]\n",
      "new value: 0.7931660413742065\n",
      "best oberved value: 0.8605880737304688\n",
      "\n",
      "Iteration: 36\n",
      "new point: [[-1.         0.6188754 -1.         0.9174757]]\n",
      "new value: 0.7477980852127075\n",
      "best oberved value: 0.8605880737304688\n",
      "\n"
     ]
    },
    {
     "name": "stderr",
     "output_type": "stream",
     "text": [
      "/Users/qianxie/Library/Python/3.9/lib/python/site-packages/botorch/models/utils/assorted.py:173: InputDataWarning: Input data is not contained to the unit cube. Please consider min-max scaling the input data.\n",
      "  warnings.warn(msg, InputDataWarning)\n",
      "/Users/qianxie/Library/Python/3.9/lib/python/site-packages/botorch/models/utils/assorted.py:173: InputDataWarning: Input data is not contained to the unit cube. Please consider min-max scaling the input data.\n",
      "  warnings.warn(msg, InputDataWarning)\n"
     ]
    },
    {
     "name": "stdout",
     "output_type": "stream",
     "text": [
      "Iteration: 37\n",
      "new point: [[-0.3592525   0.17515096  1.          1.        ]]\n",
      "new value: 0.8599157929420471\n",
      "best oberved value: 0.8605880737304688\n",
      "\n"
     ]
    },
    {
     "name": "stderr",
     "output_type": "stream",
     "text": [
      "/Users/qianxie/Library/Python/3.9/lib/python/site-packages/botorch/models/utils/assorted.py:173: InputDataWarning: Input data is not contained to the unit cube. Please consider min-max scaling the input data.\n",
      "  warnings.warn(msg, InputDataWarning)\n"
     ]
    },
    {
     "name": "stdout",
     "output_type": "stream",
     "text": [
      "Iteration: 38\n",
      "new point: [[-0.36802095  0.2726989   1.          1.        ]]\n",
      "new value: 0.8574723601341248\n",
      "best oberved value: 0.8605880737304688\n",
      "\n"
     ]
    },
    {
     "name": "stderr",
     "output_type": "stream",
     "text": [
      "/Users/qianxie/Library/Python/3.9/lib/python/site-packages/botorch/models/utils/assorted.py:173: InputDataWarning: Input data is not contained to the unit cube. Please consider min-max scaling the input data.\n",
      "  warnings.warn(msg, InputDataWarning)\n"
     ]
    },
    {
     "name": "stdout",
     "output_type": "stream",
     "text": [
      "Iteration: 39\n",
      "new point: [[-0.37494156  0.10042424  1.          1.        ]]\n",
      "new value: 0.8605778813362122\n",
      "best oberved value: 0.8605880737304688\n",
      "\n"
     ]
    }
   ],
   "source": [
    "from botorch.acquisition import ExpectedImprovement\n",
    "from botorch.optim import optimize_acqf\n",
    "\n",
    "seed = 42\n",
    "\n",
    "maximize = True \n",
    "\n",
    "num_iterations = 40\n",
    "\n",
    "torch.manual_seed(seed)\n",
    "\n",
    "x = torch.rand(10, 4, device=device, dtype=dtype).requires_grad_(True)\n",
    "y = objective(x).unsqueeze(-1)  # add output dimension\n",
    "\n",
    "if maximize:\n",
    "    best_f = y.max().item() \n",
    "else:\n",
    "    best_f = y.min().item() \n",
    "    \n",
    "EI_best = [best_f] # This will store the best value\n",
    "\n",
    "for i in range(num_iterations):\n",
    "    \n",
    "    # Fit the model\n",
    "#     with torch.no_grad():  # Temporarily set all the requires_grad flags to false\n",
    "    model = fit_gp_model(x.detach(), y.detach(), Yvar=None)\n",
    "            \n",
    "    # Optimize EI\n",
    "    BoTorch_EI = ExpectedImprovement(model=model, best_f=best_f, maximize=maximize)\n",
    "    new_point, new_point_EI = optimize_acqf(\n",
    "        acq_function=BoTorch_EI,\n",
    "        bounds=torch.tensor([[-1., -1., -1., -1.],[1., 1., 1., 1.]]),\n",
    "        q=1,\n",
    "        num_restarts=40,\n",
    "        raw_samples=400,\n",
    "        options={},\n",
    "    )\n",
    "    \n",
    "    new_value = objective(new_point)\n",
    "    \n",
    "    print(\"Iteration:\", i)\n",
    "    print(\"new point:\", new_point.detach().numpy())\n",
    "    print(\"new value:\", new_value.item())\n",
    "    \n",
    "    #cross_validation(x,y,nu=0.5)\n",
    "\n",
    "    \n",
    "    # Add the new data\n",
    "    x = torch.cat((x,new_point))\n",
    "    y = torch.cat((y,new_value.unsqueeze(-1)))\n",
    "    \n",
    "    if maximize:\n",
    "        best_f = max(best_f, new_value.item())\n",
    "    else:\n",
    "        best_f = min(best_f, new_value.item())\n",
    "        \n",
    "    EI_best.append(best_f)\n",
    "    print(\"best oberved value:\", best_f)\n",
    "    print()"
   ]
  },
  {
   "cell_type": "code",
   "execution_count": 83,
   "id": "feac0d19",
   "metadata": {},
   "outputs": [
    {
     "data": {
      "text/plain": [
       "Text(0.5, 1.0, 'Performance of EI policy')"
      ]
     },
     "execution_count": 83,
     "metadata": {},
     "output_type": "execute_result"
    },
    {
     "data": {
      "image/png": "[encoded data removed]",
      "text/plain": [
       "<Figure size 640x480 with 1 Axes>"
      ]
     },
     "metadata": {},
     "output_type": "display_data"
    }
   ],
   "source": [
    "import matplotlib.pyplot as plt\n",
    "\n",
    "plt.plot(EI_best,'o-')\n",
    "plt.xlabel('Iteration')\n",
    "plt.ylabel('Best value found')\n",
    "plt.title(\"Performance of EI policy\")"
   ]
  },
  {
   "cell_type": "code",
   "execution_count": 88,
   "id": "5015f65f",
   "metadata": {},
   "outputs": [],
   "source": [
    "GI_best_dict = {}"
   ]
  },
  {
   "cell_type": "code",
   "execution_count": 89,
   "id": "78e5a1df",
   "metadata": {},
   "outputs": [],
   "source": [
    "def test_Gittins(seed, maximize, cost, num_iterations, GI_best_dict):\n",
    "    \n",
    "    torch.manual_seed(seed)\n",
    "    \n",
    "    x = torch.rand(10, 4, device=device, dtype=dtype).requires_grad_(True)\n",
    "    y = objective(x).unsqueeze(-1)  # add output dimension\n",
    "\n",
    "    if maximize:\n",
    "        best_f = y.max().item() \n",
    "    else:\n",
    "        best_f = y.min().item() \n",
    "\n",
    "    GI_best = [best_f] # This will store the best value\n",
    "\n",
    "    for i in range(num_iterations):\n",
    "\n",
    "        # Fit the model\n",
    "    #     with torch.no_grad():  # Temporarily set all the requires_grad flags to false\n",
    "        model = fit_gp_model(x.detach(), y.detach(), Yvar=None)\n",
    "\n",
    "        # Optimize GI\n",
    "        GI = GittinsIndex(model=model, cost=cost, maximize=maximize)\n",
    "        if maximize:\n",
    "            new_point, new_point_GI = optimize_acqf(\n",
    "                acq_function=GI,\n",
    "                bounds=torch.tensor([[-1., -1., -1., -1.],[1., 1., 1., 1.]]),\n",
    "                q=1,\n",
    "                num_restarts=40,\n",
    "                raw_samples=400,\n",
    "                options={'method': 'L-BFGS-B'},\n",
    "            )\n",
    "        else:\n",
    "            neg_GI = lambda X: -GI(X)\n",
    "            new_point, new_point_neg_GI = optimize_acqf(\n",
    "                acq_function=neg_GI,\n",
    "                bounds=torch.tensor([[-1., -1., -1., -1.],[1., 1., 1., 1.]], dtype=torch.float64),\n",
    "                q=1,\n",
    "                num_restarts=40,\n",
    "                raw_samples=400,\n",
    "                options={'method': 'L-BFGS-B'},\n",
    "            )\n",
    "            new_point_GI = -new_point_neg_GI\n",
    "\n",
    "        new_value = objective(new_point)\n",
    "\n",
    "        print(\"Iteration:\", i)\n",
    "        print(\"new point:\", new_point.detach().numpy())\n",
    "        print(\"new value:\", new_value.item())\n",
    "\n",
    "        #cross_validation(x,y,nu=0.5)\n",
    "\n",
    "\n",
    "        # Add the new data\n",
    "        x = torch.cat((x,new_point))\n",
    "        y = torch.cat((y,new_value.unsqueeze(-1)))\n",
    "\n",
    "        if maximize:\n",
    "            best_f = max(best_f, new_value.item())\n",
    "        else:\n",
    "            best_f = min(best_f, new_value.item())\n",
    "\n",
    "        GI_best.append(best_f)\n",
    "        print(\"best oberved value:\", best_f)\n",
    "        print()\n",
    "        \n",
    "    GI_best_dict[cost] = GI_best"
   ]
  },
  {
   "cell_type": "code",
   "execution_count": 90,
   "id": "5ea3e05a",
   "metadata": {},
   "outputs": [
    {
     "name": "stdout",
     "output_type": "stream",
     "text": [
      "Iteration: 0\n",
      "new point: [[0.0392906  0.42102888 1.         0.7129568 ]]\n",
      "new value: 0.7297431230545044\n",
      "best oberved value: 0.7297431230545044\n",
      "\n",
      "Iteration: 1\n",
      "new point: [[-0.25541088  0.31382185  0.90019864  0.7362143 ]]\n",
      "new value: 0.8093884587287903\n",
      "best oberved value: 0.8093884587287903\n",
      "\n"
     ]
    },
    {
     "name": "stderr",
     "output_type": "stream",
     "text": [
      "/Users/qianxie/Library/Python/3.9/lib/python/site-packages/botorch/models/utils/assorted.py:173: InputDataWarning: Input data is not contained to the unit cube. Please consider min-max scaling the input data.\n",
      "  warnings.warn(msg, InputDataWarning)\n"
     ]
    },
    {
     "name": "stdout",
     "output_type": "stream",
     "text": [
      "Iteration: 2\n",
      "new point: [[-0.35579345  0.53837365  0.92075914  1.        ]]\n",
      "new value: 0.8202759027481079\n",
      "best oberved value: 0.8202759027481079\n",
      "\n"
     ]
    },
    {
     "name": "stderr",
     "output_type": "stream",
     "text": [
      "/Users/qianxie/Library/Python/3.9/lib/python/site-packages/botorch/models/utils/assorted.py:173: InputDataWarning: Input data is not contained to the unit cube. Please consider min-max scaling the input data.\n",
      "  warnings.warn(msg, InputDataWarning)\n"
     ]
    },
    {
     "name": "stdout",
     "output_type": "stream",
     "text": [
      "Iteration: 3\n",
      "new point: [[-0.45663863  0.12199193  1.          1.        ]]\n",
      "new value: 0.856736958026886\n",
      "best oberved value: 0.856736958026886\n",
      "\n"
     ]
    },
    {
     "name": "stderr",
     "output_type": "stream",
     "text": [
      "/Users/qianxie/Library/Python/3.9/lib/python/site-packages/botorch/models/utils/assorted.py:173: InputDataWarning: Input data is not contained to the unit cube. Please consider min-max scaling the input data.\n",
      "  warnings.warn(msg, InputDataWarning)\n"
     ]
    },
    {
     "name": "stdout",
     "output_type": "stream",
     "text": [
      "Iteration: 4\n",
      "new point: [[-0.7167457  0.3005253  1.         0.7895936]]\n",
      "new value: 0.7712770700454712\n",
      "best oberved value: 0.856736958026886\n",
      "\n"
     ]
    },
    {
     "name": "stderr",
     "output_type": "stream",
     "text": [
      "/Users/qianxie/Library/Python/3.9/lib/python/site-packages/botorch/models/utils/assorted.py:173: InputDataWarning: Input data is not contained to the unit cube. Please consider min-max scaling the input data.\n",
      "  warnings.warn(msg, InputDataWarning)\n"
     ]
    },
    {
     "name": "stdout",
     "output_type": "stream",
     "text": [
      "Iteration: 5\n",
      "new point: [[-0.46718392  0.07344183  0.70636517  1.        ]]\n",
      "new value: 0.7671700716018677\n",
      "best oberved value: 0.856736958026886\n",
      "\n"
     ]
    },
    {
     "name": "stderr",
     "output_type": "stream",
     "text": [
      "/Users/qianxie/Library/Python/3.9/lib/python/site-packages/botorch/models/utils/assorted.py:173: InputDataWarning: Input data is not contained to the unit cube. Please consider min-max scaling the input data.\n",
      "  warnings.warn(msg, InputDataWarning)\n"
     ]
    },
    {
     "name": "stdout",
     "output_type": "stream",
     "text": [
      "Iteration: 6\n",
      "new point: [[-0.2860778   0.18520677  1.          1.        ]]\n",
      "new value: 0.8561781644821167\n",
      "best oberved value: 0.856736958026886\n",
      "\n"
     ]
    },
    {
     "name": "stderr",
     "output_type": "stream",
     "text": [
      "/Users/qianxie/Library/Python/3.9/lib/python/site-packages/botorch/models/utils/assorted.py:173: InputDataWarning: Input data is not contained to the unit cube. Please consider min-max scaling the input data.\n",
      "  warnings.warn(msg, InputDataWarning)\n"
     ]
    },
    {
     "name": "stdout",
     "output_type": "stream",
     "text": [
      "Iteration: 7\n",
      "new point: [[-0.38602084  0.24595714  1.          1.        ]]\n",
      "new value: 0.8580703735351562\n",
      "best oberved value: 0.8580703735351562\n",
      "\n"
     ]
    },
    {
     "name": "stderr",
     "output_type": "stream",
     "text": [
      "/Users/qianxie/Library/Python/3.9/lib/python/site-packages/botorch/models/utils/assorted.py:173: InputDataWarning: Input data is not contained to the unit cube. Please consider min-max scaling the input data.\n",
      "  warnings.warn(msg, InputDataWarning)\n"
     ]
    },
    {
     "name": "stdout",
     "output_type": "stream",
     "text": [
      "Iteration: 8\n",
      "new point: [[-0.3703949   0.17846891  1.          1.        ]]\n",
      "new value: 0.8599236607551575\n",
      "best oberved value: 0.8599236607551575\n",
      "\n"
     ]
    },
    {
     "name": "stderr",
     "output_type": "stream",
     "text": [
      "/Users/qianxie/Library/Python/3.9/lib/python/site-packages/botorch/models/utils/assorted.py:173: InputDataWarning: Input data is not contained to the unit cube. Please consider min-max scaling the input data.\n",
      "  warnings.warn(msg, InputDataWarning)\n"
     ]
    },
    {
     "name": "stdout",
     "output_type": "stream",
     "text": [
      "Iteration: 9\n",
      "new point: [[-0.370656   0.1816611  1.         1.       ]]\n",
      "new value: 0.8598692417144775\n",
      "best oberved value: 0.8599236607551575\n",
      "\n"
     ]
    },
    {
     "name": "stderr",
     "output_type": "stream",
     "text": [
      "/Users/qianxie/Library/Python/3.9/lib/python/site-packages/botorch/models/utils/assorted.py:173: InputDataWarning: Input data is not contained to the unit cube. Please consider min-max scaling the input data.\n",
      "  warnings.warn(msg, InputDataWarning)\n"
     ]
    },
    {
     "name": "stdout",
     "output_type": "stream",
     "text": [
      "Iteration: 10\n",
      "new point: [[-0.37070662  0.1825601   1.          1.        ]]\n",
      "new value: 0.8598534464836121\n",
      "best oberved value: 0.8599236607551575\n",
      "\n"
     ]
    },
    {
     "name": "stderr",
     "output_type": "stream",
     "text": [
      "/Users/qianxie/Library/Python/3.9/lib/python/site-packages/botorch/models/utils/assorted.py:173: InputDataWarning: Input data is not contained to the unit cube. Please consider min-max scaling the input data.\n",
      "  warnings.warn(msg, InputDataWarning)\n"
     ]
    },
    {
     "name": "stdout",
     "output_type": "stream",
     "text": [
      "Iteration: 11\n",
      "new point: [[-0.370716    0.18292607  1.          1.        ]]\n",
      "new value: 0.8598470687866211\n",
      "best oberved value: 0.8599236607551575\n",
      "\n"
     ]
    },
    {
     "name": "stderr",
     "output_type": "stream",
     "text": [
      "/Users/qianxie/Library/Python/3.9/lib/python/site-packages/botorch/models/utils/assorted.py:173: InputDataWarning: Input data is not contained to the unit cube. Please consider min-max scaling the input data.\n",
      "  warnings.warn(msg, InputDataWarning)\n"
     ]
    },
    {
     "name": "stdout",
     "output_type": "stream",
     "text": [
      "Iteration: 12\n",
      "new point: [[-0.37071347  0.18310024  1.          1.        ]]\n",
      "new value: 0.8598440885543823\n",
      "best oberved value: 0.8599236607551575\n",
      "\n"
     ]
    },
    {
     "name": "stderr",
     "output_type": "stream",
     "text": [
      "/Users/qianxie/Library/Python/3.9/lib/python/site-packages/botorch/models/utils/assorted.py:173: InputDataWarning: Input data is not contained to the unit cube. Please consider min-max scaling the input data.\n",
      "  warnings.warn(msg, InputDataWarning)\n"
     ]
    },
    {
     "name": "stdout",
     "output_type": "stream",
     "text": [
      "Iteration: 13\n",
      "new point: [[-0.37070942  0.18319406  1.          1.        ]]\n",
      "new value: 0.8598424792289734\n",
      "best oberved value: 0.8599236607551575\n",
      "\n"
     ]
    },
    {
     "name": "stderr",
     "output_type": "stream",
     "text": [
      "/Users/qianxie/Library/Python/3.9/lib/python/site-packages/botorch/models/utils/assorted.py:173: InputDataWarning: Input data is not contained to the unit cube. Please consider min-max scaling the input data.\n",
      "  warnings.warn(msg, InputDataWarning)\n"
     ]
    },
    {
     "name": "stdout",
     "output_type": "stream",
     "text": [
      "Iteration: 14\n",
      "new point: [[-0.37070492  0.1832479   1.          1.        ]]\n",
      "new value: 0.8598415851593018\n",
      "best oberved value: 0.8599236607551575\n",
      "\n"
     ]
    },
    {
     "name": "stderr",
     "output_type": "stream",
     "text": [
      "/Users/qianxie/Library/Python/3.9/lib/python/site-packages/botorch/models/utils/assorted.py:173: InputDataWarning: Input data is not contained to the unit cube. Please consider min-max scaling the input data.\n",
      "  warnings.warn(msg, InputDataWarning)\n"
     ]
    },
    {
     "name": "stdout",
     "output_type": "stream",
     "text": [
      "Iteration: 15\n",
      "new point: [[-0.37069973  0.1832828   1.          1.        ]]\n",
      "new value: 0.8598409295082092\n",
      "best oberved value: 0.8599236607551575\n",
      "\n"
     ]
    },
    {
     "name": "stderr",
     "output_type": "stream",
     "text": [
      "/Users/qianxie/Library/Python/3.9/lib/python/site-packages/botorch/models/utils/assorted.py:173: InputDataWarning: Input data is not contained to the unit cube. Please consider min-max scaling the input data.\n",
      "  warnings.warn(msg, InputDataWarning)\n"
     ]
    },
    {
     "name": "stdout",
     "output_type": "stream",
     "text": [
      "Iteration: 16\n",
      "new point: [[-0.37069455  0.18331088  1.          1.        ]]\n",
      "new value: 0.8598403334617615\n",
      "best oberved value: 0.8599236607551575\n",
      "\n"
     ]
    },
    {
     "name": "stderr",
     "output_type": "stream",
     "text": [
      "/Users/qianxie/Library/Python/3.9/lib/python/site-packages/botorch/models/utils/assorted.py:173: InputDataWarning: Input data is not contained to the unit cube. Please consider min-max scaling the input data.\n",
      "  warnings.warn(msg, InputDataWarning)\n"
     ]
    },
    {
     "name": "stdout",
     "output_type": "stream",
     "text": [
      "Iteration: 17\n",
      "new point: [[-0.37069082  0.18332393  1.          1.        ]]\n",
      "new value: 0.8598402142524719\n",
      "best oberved value: 0.8599236607551575\n",
      "\n"
     ]
    },
    {
     "name": "stderr",
     "output_type": "stream",
     "text": [
      "/Users/qianxie/Library/Python/3.9/lib/python/site-packages/botorch/models/utils/assorted.py:173: InputDataWarning: Input data is not contained to the unit cube. Please consider min-max scaling the input data.\n",
      "  warnings.warn(msg, InputDataWarning)\n"
     ]
    },
    {
     "name": "stdout",
     "output_type": "stream",
     "text": [
      "Iteration: 18\n",
      "new point: [[-0.3706874   0.18333572  1.          1.        ]]\n",
      "new value: 0.8598399758338928\n",
      "best oberved value: 0.8599236607551575\n",
      "\n"
     ]
    },
    {
     "name": "stderr",
     "output_type": "stream",
     "text": [
      "/Users/qianxie/Library/Python/3.9/lib/python/site-packages/botorch/models/utils/assorted.py:173: InputDataWarning: Input data is not contained to the unit cube. Please consider min-max scaling the input data.\n",
      "  warnings.warn(msg, InputDataWarning)\n"
     ]
    },
    {
     "name": "stdout",
     "output_type": "stream",
     "text": [
      "Iteration: 19\n",
      "new point: [[-0.37068498  0.18334392  1.          1.        ]]\n",
      "new value: 0.8598397970199585\n",
      "best oberved value: 0.8599236607551575\n",
      "\n"
     ]
    },
    {
     "name": "stderr",
     "output_type": "stream",
     "text": [
      "/Users/qianxie/Library/Python/3.9/lib/python/site-packages/botorch/models/utils/assorted.py:173: InputDataWarning: Input data is not contained to the unit cube. Please consider min-max scaling the input data.\n",
      "  warnings.warn(msg, InputDataWarning)\n"
     ]
    },
    {
     "name": "stdout",
     "output_type": "stream",
     "text": [
      "Iteration: 20\n",
      "new point: [[-0.3706819   0.18335061  1.          1.        ]]\n",
      "new value: 0.8598397374153137\n",
      "best oberved value: 0.8599236607551575\n",
      "\n"
     ]
    },
    {
     "name": "stderr",
     "output_type": "stream",
     "text": [
      "/Users/qianxie/Library/Python/3.9/lib/python/site-packages/botorch/models/utils/assorted.py:173: InputDataWarning: Input data is not contained to the unit cube. Please consider min-max scaling the input data.\n",
      "  warnings.warn(msg, InputDataWarning)\n"
     ]
    },
    {
     "name": "stdout",
     "output_type": "stream",
     "text": [
      "Iteration: 21\n",
      "new point: [[-0.3707565  0.183335   1.         1.       ]]\n",
      "new value: 0.859839916229248\n",
      "best oberved value: 0.8599236607551575\n",
      "\n"
     ]
    },
    {
     "name": "stderr",
     "output_type": "stream",
     "text": [
      "/Users/qianxie/Library/Python/3.9/lib/python/site-packages/botorch/models/utils/assorted.py:173: InputDataWarning: Input data is not contained to the unit cube. Please consider min-max scaling the input data.\n",
      "  warnings.warn(msg, InputDataWarning)\n"
     ]
    },
    {
     "name": "stdout",
     "output_type": "stream",
     "text": [
      "Iteration: 22\n",
      "new point: [[-0.3706786   0.18336324  1.          1.        ]]\n",
      "new value: 0.8598394989967346\n",
      "best oberved value: 0.8599236607551575\n",
      "\n"
     ]
    },
    {
     "name": "stderr",
     "output_type": "stream",
     "text": [
      "/Users/qianxie/Library/Python/3.9/lib/python/site-packages/botorch/models/utils/assorted.py:173: InputDataWarning: Input data is not contained to the unit cube. Please consider min-max scaling the input data.\n",
      "  warnings.warn(msg, InputDataWarning)\n"
     ]
    },
    {
     "name": "stdout",
     "output_type": "stream",
     "text": [
      "Iteration: 23\n",
      "new point: [[-0.37067738  0.18336685  1.          1.        ]]\n",
      "new value: 0.8598393797874451\n",
      "best oberved value: 0.8599236607551575\n",
      "\n"
     ]
    },
    {
     "name": "stderr",
     "output_type": "stream",
     "text": [
      "/Users/qianxie/Library/Python/3.9/lib/python/site-packages/botorch/models/utils/assorted.py:173: InputDataWarning: Input data is not contained to the unit cube. Please consider min-max scaling the input data.\n",
      "  warnings.warn(msg, InputDataWarning)\n"
     ]
    },
    {
     "name": "stdout",
     "output_type": "stream",
     "text": [
      "Iteration: 24\n",
      "new point: [[-0.37067658  0.18337093  1.          1.        ]]\n",
      "new value: 0.8598393797874451\n",
      "best oberved value: 0.8599236607551575\n",
      "\n"
     ]
    },
    {
     "name": "stderr",
     "output_type": "stream",
     "text": [
      "/Users/qianxie/Library/Python/3.9/lib/python/site-packages/botorch/models/utils/assorted.py:173: InputDataWarning: Input data is not contained to the unit cube. Please consider min-max scaling the input data.\n",
      "  warnings.warn(msg, InputDataWarning)\n"
     ]
    },
    {
     "name": "stdout",
     "output_type": "stream",
     "text": [
      "Iteration: 25\n",
      "new point: [[-0.37067574  0.1833755   1.          1.        ]]\n",
      "new value: 0.8598393201828003\n",
      "best oberved value: 0.8599236607551575\n",
      "\n"
     ]
    },
    {
     "name": "stderr",
     "output_type": "stream",
     "text": [
      "/Users/qianxie/Library/Python/3.9/lib/python/site-packages/botorch/models/utils/assorted.py:173: InputDataWarning: Input data is not contained to the unit cube. Please consider min-max scaling the input data.\n",
      "  warnings.warn(msg, InputDataWarning)\n"
     ]
    },
    {
     "name": "stdout",
     "output_type": "stream",
     "text": [
      "Iteration: 26\n",
      "new point: [[-0.3706751   0.18338038  1.          1.        ]]\n",
      "new value: 0.8598390817642212\n",
      "best oberved value: 0.8599236607551575\n",
      "\n"
     ]
    },
    {
     "name": "stderr",
     "output_type": "stream",
     "text": [
      "/Users/qianxie/Library/Python/3.9/lib/python/site-packages/botorch/models/utils/assorted.py:173: InputDataWarning: Input data is not contained to the unit cube. Please consider min-max scaling the input data.\n",
      "  warnings.warn(msg, InputDataWarning)\n"
     ]
    },
    {
     "name": "stdout",
     "output_type": "stream",
     "text": [
      "Iteration: 27\n",
      "new point: [[-0.37067494  0.18338744  1.          1.        ]]\n",
      "new value: 0.8598390221595764\n",
      "best oberved value: 0.8599236607551575\n",
      "\n"
     ]
    },
    {
     "name": "stderr",
     "output_type": "stream",
     "text": [
      "/Users/qianxie/Library/Python/3.9/lib/python/site-packages/botorch/models/utils/assorted.py:173: InputDataWarning: Input data is not contained to the unit cube. Please consider min-max scaling the input data.\n",
      "  warnings.warn(msg, InputDataWarning)\n"
     ]
    },
    {
     "name": "stdout",
     "output_type": "stream",
     "text": [
      "Iteration: 28\n",
      "new point: [[-0.37067437  0.18338454  1.          1.        ]]\n",
      "new value: 0.8598390817642212\n",
      "best oberved value: 0.8599236607551575\n",
      "\n"
     ]
    },
    {
     "name": "stderr",
     "output_type": "stream",
     "text": [
      "/Users/qianxie/Library/Python/3.9/lib/python/site-packages/botorch/models/utils/assorted.py:173: InputDataWarning: Input data is not contained to the unit cube. Please consider min-max scaling the input data.\n",
      "  warnings.warn(msg, InputDataWarning)\n"
     ]
    },
    {
     "name": "stdout",
     "output_type": "stream",
     "text": [
      "Iteration: 29\n",
      "new point: [[-0.37067392  0.18339074  1.          1.        ]]\n",
      "new value: 0.859839141368866\n",
      "best oberved value: 0.8599236607551575\n",
      "\n"
     ]
    },
    {
     "name": "stderr",
     "output_type": "stream",
     "text": [
      "/Users/qianxie/Library/Python/3.9/lib/python/site-packages/botorch/models/utils/assorted.py:173: InputDataWarning: Input data is not contained to the unit cube. Please consider min-max scaling the input data.\n",
      "  warnings.warn(msg, InputDataWarning)\n"
     ]
    },
    {
     "name": "stdout",
     "output_type": "stream",
     "text": [
      "Iteration: 30\n",
      "new point: [[-0.37067327  0.18339224  1.          1.        ]]\n",
      "new value: 0.8598390221595764\n",
      "best oberved value: 0.8599236607551575\n",
      "\n"
     ]
    },
    {
     "name": "stderr",
     "output_type": "stream",
     "text": [
      "/Users/qianxie/Library/Python/3.9/lib/python/site-packages/botorch/models/utils/assorted.py:173: InputDataWarning: Input data is not contained to the unit cube. Please consider min-max scaling the input data.\n",
      "  warnings.warn(msg, InputDataWarning)\n"
     ]
    },
    {
     "name": "stdout",
     "output_type": "stream",
     "text": [
      "Iteration: 31\n",
      "new point: [[-0.370673    0.18339132  1.          1.        ]]\n",
      "new value: 0.8598390221595764\n",
      "best oberved value: 0.8599236607551575\n",
      "\n"
     ]
    },
    {
     "name": "stderr",
     "output_type": "stream",
     "text": [
      "/Users/qianxie/Library/Python/3.9/lib/python/site-packages/botorch/models/utils/assorted.py:173: InputDataWarning: Input data is not contained to the unit cube. Please consider min-max scaling the input data.\n",
      "  warnings.warn(msg, InputDataWarning)\n"
     ]
    },
    {
     "name": "stdout",
     "output_type": "stream",
     "text": [
      "Iteration: 32\n",
      "new point: [[-0.37067276  0.18338907  1.          1.        ]]\n",
      "new value: 0.859839141368866\n",
      "best oberved value: 0.8599236607551575\n",
      "\n"
     ]
    },
    {
     "name": "stderr",
     "output_type": "stream",
     "text": [
      "/Users/qianxie/Library/Python/3.9/lib/python/site-packages/botorch/models/utils/assorted.py:173: InputDataWarning: Input data is not contained to the unit cube. Please consider min-max scaling the input data.\n",
      "  warnings.warn(msg, InputDataWarning)\n"
     ]
    },
    {
     "name": "stdout",
     "output_type": "stream",
     "text": [
      "Iteration: 33\n",
      "new point: [[-0.37067273  0.18338913  1.          1.        ]]\n",
      "new value: 0.859839141368866\n",
      "best oberved value: 0.8599236607551575\n",
      "\n"
     ]
    },
    {
     "name": "stderr",
     "output_type": "stream",
     "text": [
      "/Users/qianxie/Library/Python/3.9/lib/python/site-packages/botorch/models/utils/assorted.py:173: InputDataWarning: Input data is not contained to the unit cube. Please consider min-max scaling the input data.\n",
      "  warnings.warn(msg, InputDataWarning)\n"
     ]
    },
    {
     "name": "stdout",
     "output_type": "stream",
     "text": [
      "Iteration: 34\n",
      "new point: [[-0.37067264  0.18339203  1.          1.        ]]\n",
      "new value: 0.8598390817642212\n",
      "best oberved value: 0.8599236607551575\n",
      "\n"
     ]
    },
    {
     "name": "stderr",
     "output_type": "stream",
     "text": [
      "/Users/qianxie/Library/Python/3.9/lib/python/site-packages/botorch/models/utils/assorted.py:173: InputDataWarning: Input data is not contained to the unit cube. Please consider min-max scaling the input data.\n",
      "  warnings.warn(msg, InputDataWarning)\n"
     ]
    },
    {
     "name": "stdout",
     "output_type": "stream",
     "text": [
      "Iteration: 35\n",
      "new point: [[-0.37067366  0.18339615  1.          1.        ]]\n",
      "new value: 0.8598390221595764\n",
      "best oberved value: 0.8599236607551575\n",
      "\n"
     ]
    },
    {
     "name": "stderr",
     "output_type": "stream",
     "text": [
      "/Users/qianxie/Library/Python/3.9/lib/python/site-packages/botorch/models/utils/assorted.py:173: InputDataWarning: Input data is not contained to the unit cube. Please consider min-max scaling the input data.\n",
      "  warnings.warn(msg, InputDataWarning)\n"
     ]
    },
    {
     "name": "stdout",
     "output_type": "stream",
     "text": [
      "Iteration: 36\n",
      "new point: [[-0.37067467  0.18340062  1.          1.        ]]\n",
      "new value: 0.8598389625549316\n",
      "best oberved value: 0.8599236607551575\n",
      "\n"
     ]
    },
    {
     "name": "stderr",
     "output_type": "stream",
     "text": [
      "/Users/qianxie/Library/Python/3.9/lib/python/site-packages/botorch/models/utils/assorted.py:173: InputDataWarning: Input data is not contained to the unit cube. Please consider min-max scaling the input data.\n",
      "  warnings.warn(msg, InputDataWarning)\n"
     ]
    },
    {
     "name": "stdout",
     "output_type": "stream",
     "text": [
      "Iteration: 37\n",
      "new point: [[-0.37067434  0.1833998   1.          1.        ]]\n",
      "new value: 0.8598389625549316\n",
      "best oberved value: 0.8599236607551575\n",
      "\n"
     ]
    },
    {
     "name": "stderr",
     "output_type": "stream",
     "text": [
      "/Users/qianxie/Library/Python/3.9/lib/python/site-packages/botorch/models/utils/assorted.py:173: InputDataWarning: Input data is not contained to the unit cube. Please consider min-max scaling the input data.\n",
      "  warnings.warn(msg, InputDataWarning)\n"
     ]
    },
    {
     "name": "stdout",
     "output_type": "stream",
     "text": [
      "Iteration: 38\n",
      "new point: [[-0.37067404  0.18339938  1.          1.        ]]\n",
      "new value: 0.8598388433456421\n",
      "best oberved value: 0.8599236607551575\n",
      "\n"
     ]
    },
    {
     "name": "stderr",
     "output_type": "stream",
     "text": [
      "/Users/qianxie/Library/Python/3.9/lib/python/site-packages/botorch/models/utils/assorted.py:173: InputDataWarning: Input data is not contained to the unit cube. Please consider min-max scaling the input data.\n",
      "  warnings.warn(msg, InputDataWarning)\n"
     ]
    },
    {
     "name": "stdout",
     "output_type": "stream",
     "text": [
      "Iteration: 39\n",
      "new point: [[-0.37067422  0.18339951  1.          1.        ]]\n",
      "new value: 0.8598388433456421\n",
      "best oberved value: 0.8599236607551575\n",
      "\n"
     ]
    }
   ],
   "source": [
    "cost=0.01\n",
    "maximize=True\n",
    "test_Gittins(seed=seed, maximize=maximize, cost=cost, num_iterations=num_iterations, GI_best_dict=GI_best_dict)"
   ]
  },
  {
   "cell_type": "code",
   "execution_count": 91,
   "id": "6ad788ce",
   "metadata": {},
   "outputs": [
    {
     "name": "stdout",
     "output_type": "stream",
     "text": [
      "Iteration: 0\n",
      "new point: [[0.07990743 0.4299673  1.         0.6566356 ]]\n",
      "new value: 0.7099400162696838\n",
      "best oberved value: 0.7099400162696838\n",
      "\n",
      "Iteration: 1\n",
      "new point: [[-0.15591066  0.33664924  0.94585365  0.7190615 ]]\n",
      "new value: 0.7952448129653931\n",
      "best oberved value: 0.7952448129653931\n",
      "\n"
     ]
    },
    {
     "name": "stderr",
     "output_type": "stream",
     "text": [
      "/Users/qianxie/Library/Python/3.9/lib/python/site-packages/botorch/models/utils/assorted.py:173: InputDataWarning: Input data is not contained to the unit cube. Please consider min-max scaling the input data.\n",
      "  warnings.warn(msg, InputDataWarning)\n"
     ]
    },
    {
     "name": "stdout",
     "output_type": "stream",
     "text": [
      "Iteration: 2\n",
      "new point: [[-0.24573678  0.3771136   0.9674587   0.981936  ]]\n",
      "new value: 0.8346102237701416\n",
      "best oberved value: 0.8346102237701416\n",
      "\n"
     ]
    },
    {
     "name": "stderr",
     "output_type": "stream",
     "text": [
      "/Users/qianxie/Library/Python/3.9/lib/python/site-packages/botorch/models/utils/assorted.py:173: InputDataWarning: Input data is not contained to the unit cube. Please consider min-max scaling the input data.\n",
      "  warnings.warn(msg, InputDataWarning)\n"
     ]
    },
    {
     "name": "stdout",
     "output_type": "stream",
     "text": [
      "Iteration: 3\n",
      "new point: [[-0.4626683   0.34883535  0.88353235  0.90249455]]\n",
      "new value: 0.8169733881950378\n",
      "best oberved value: 0.8346102237701416\n",
      "\n"
     ]
    },
    {
     "name": "stderr",
     "output_type": "stream",
     "text": [
      "/Users/qianxie/Library/Python/3.9/lib/python/site-packages/botorch/models/utils/assorted.py:173: InputDataWarning: Input data is not contained to the unit cube. Please consider min-max scaling the input data.\n",
      "  warnings.warn(msg, InputDataWarning)\n"
     ]
    },
    {
     "name": "stdout",
     "output_type": "stream",
     "text": [
      "Iteration: 4\n",
      "new point: [[-0.31567907  0.12056707  1.          1.        ]]\n",
      "new value: 0.8584542274475098\n",
      "best oberved value: 0.8584542274475098\n",
      "\n"
     ]
    },
    {
     "name": "stderr",
     "output_type": "stream",
     "text": [
      "/Users/qianxie/Library/Python/3.9/lib/python/site-packages/botorch/models/utils/assorted.py:173: InputDataWarning: Input data is not contained to the unit cube. Please consider min-max scaling the input data.\n",
      "  warnings.warn(msg, InputDataWarning)\n"
     ]
    },
    {
     "name": "stdout",
     "output_type": "stream",
     "text": [
      "Iteration: 5\n",
      "new point: [[-0.31207052  0.1429924   1.          1.        ]]\n",
      "new value: 0.8583056330680847\n",
      "best oberved value: 0.8584542274475098\n",
      "\n"
     ]
    },
    {
     "name": "stderr",
     "output_type": "stream",
     "text": [
      "/Users/qianxie/Library/Python/3.9/lib/python/site-packages/botorch/models/utils/assorted.py:173: InputDataWarning: Input data is not contained to the unit cube. Please consider min-max scaling the input data.\n",
      "  warnings.warn(msg, InputDataWarning)\n"
     ]
    },
    {
     "name": "stdout",
     "output_type": "stream",
     "text": [
      "Iteration: 6\n",
      "new point: [[-0.31210786  0.14207703  1.          1.        ]]\n",
      "new value: 0.858307421207428\n",
      "best oberved value: 0.8584542274475098\n",
      "\n"
     ]
    },
    {
     "name": "stderr",
     "output_type": "stream",
     "text": [
      "/Users/qianxie/Library/Python/3.9/lib/python/site-packages/botorch/models/utils/assorted.py:173: InputDataWarning: Input data is not contained to the unit cube. Please consider min-max scaling the input data.\n",
      "  warnings.warn(msg, InputDataWarning)\n"
     ]
    },
    {
     "name": "stdout",
     "output_type": "stream",
     "text": [
      "Iteration: 7\n",
      "new point: [[-0.3121377   0.14178133  1.          1.        ]]\n",
      "new value: 0.8583089709281921\n",
      "best oberved value: 0.8584542274475098\n",
      "\n"
     ]
    },
    {
     "name": "stderr",
     "output_type": "stream",
     "text": [
      "/Users/qianxie/Library/Python/3.9/lib/python/site-packages/botorch/models/utils/assorted.py:173: InputDataWarning: Input data is not contained to the unit cube. Please consider min-max scaling the input data.\n",
      "  warnings.warn(msg, InputDataWarning)\n"
     ]
    },
    {
     "name": "stdout",
     "output_type": "stream",
     "text": [
      "Iteration: 8\n",
      "new point: [[-0.31215364  0.14162801  1.          1.        ]]\n",
      "new value: 0.858309805393219\n",
      "best oberved value: 0.8584542274475098\n",
      "\n"
     ]
    },
    {
     "name": "stderr",
     "output_type": "stream",
     "text": [
      "/Users/qianxie/Library/Python/3.9/lib/python/site-packages/botorch/models/utils/assorted.py:173: InputDataWarning: Input data is not contained to the unit cube. Please consider min-max scaling the input data.\n",
      "  warnings.warn(msg, InputDataWarning)\n"
     ]
    },
    {
     "name": "stdout",
     "output_type": "stream",
     "text": [
      "Iteration: 9\n",
      "new point: [[-0.31216386  0.1415303   1.          1.        ]]\n",
      "new value: 0.858310341835022\n",
      "best oberved value: 0.8584542274475098\n",
      "\n"
     ]
    },
    {
     "name": "stderr",
     "output_type": "stream",
     "text": [
      "/Users/qianxie/Library/Python/3.9/lib/python/site-packages/botorch/models/utils/assorted.py:173: InputDataWarning: Input data is not contained to the unit cube. Please consider min-max scaling the input data.\n",
      "  warnings.warn(msg, InputDataWarning)\n"
     ]
    },
    {
     "name": "stdout",
     "output_type": "stream",
     "text": [
      "Iteration: 10\n",
      "new point: [[-0.31217098  0.14146347  1.          1.        ]]\n",
      "new value: 0.8583106994628906\n",
      "best oberved value: 0.8584542274475098\n",
      "\n"
     ]
    },
    {
     "name": "stderr",
     "output_type": "stream",
     "text": [
      "/Users/qianxie/Library/Python/3.9/lib/python/site-packages/botorch/models/utils/assorted.py:173: InputDataWarning: Input data is not contained to the unit cube. Please consider min-max scaling the input data.\n",
      "  warnings.warn(msg, InputDataWarning)\n"
     ]
    },
    {
     "name": "stdout",
     "output_type": "stream",
     "text": [
      "Iteration: 11\n",
      "new point: [[-0.31217614  0.14141442  1.          1.        ]]\n",
      "new value: 0.858311116695404\n",
      "best oberved value: 0.8584542274475098\n",
      "\n"
     ]
    },
    {
     "name": "stderr",
     "output_type": "stream",
     "text": [
      "/Users/qianxie/Library/Python/3.9/lib/python/site-packages/botorch/models/utils/assorted.py:173: InputDataWarning: Input data is not contained to the unit cube. Please consider min-max scaling the input data.\n",
      "  warnings.warn(msg, InputDataWarning)\n"
     ]
    },
    {
     "name": "stdout",
     "output_type": "stream",
     "text": [
      "Iteration: 12\n",
      "new point: [[-0.31218055  0.1413788   1.          1.        ]]\n",
      "new value: 0.8583113551139832\n",
      "best oberved value: 0.8584542274475098\n",
      "\n"
     ]
    },
    {
     "name": "stderr",
     "output_type": "stream",
     "text": [
      "/Users/qianxie/Library/Python/3.9/lib/python/site-packages/botorch/models/utils/assorted.py:173: InputDataWarning: Input data is not contained to the unit cube. Please consider min-max scaling the input data.\n",
      "  warnings.warn(msg, InputDataWarning)\n"
     ]
    },
    {
     "name": "stdout",
     "output_type": "stream",
     "text": [
      "Iteration: 13\n",
      "new point: [[-0.31218463  0.14135438  1.          1.        ]]\n",
      "new value: 0.8583115935325623\n",
      "best oberved value: 0.8584542274475098\n",
      "\n"
     ]
    },
    {
     "name": "stderr",
     "output_type": "stream",
     "text": [
      "/Users/qianxie/Library/Python/3.9/lib/python/site-packages/botorch/models/utils/assorted.py:173: InputDataWarning: Input data is not contained to the unit cube. Please consider min-max scaling the input data.\n",
      "  warnings.warn(msg, InputDataWarning)\n"
     ]
    },
    {
     "name": "stdout",
     "output_type": "stream",
     "text": [
      "Iteration: 14\n",
      "new point: [[-0.31218806  0.14133379  1.          1.        ]]\n",
      "new value: 0.8583117723464966\n",
      "best oberved value: 0.8584542274475098\n",
      "\n"
     ]
    },
    {
     "name": "stderr",
     "output_type": "stream",
     "text": [
      "/Users/qianxie/Library/Python/3.9/lib/python/site-packages/botorch/models/utils/assorted.py:173: InputDataWarning: Input data is not contained to the unit cube. Please consider min-max scaling the input data.\n",
      "  warnings.warn(msg, InputDataWarning)\n"
     ]
    },
    {
     "name": "stdout",
     "output_type": "stream",
     "text": [
      "Iteration: 15\n",
      "new point: [[-0.31219167  0.14131817  1.          1.        ]]\n",
      "new value: 0.8583118915557861\n",
      "best oberved value: 0.8584542274475098\n",
      "\n"
     ]
    },
    {
     "name": "stderr",
     "output_type": "stream",
     "text": [
      "/Users/qianxie/Library/Python/3.9/lib/python/site-packages/botorch/models/utils/assorted.py:173: InputDataWarning: Input data is not contained to the unit cube. Please consider min-max scaling the input data.\n",
      "  warnings.warn(msg, InputDataWarning)\n"
     ]
    },
    {
     "name": "stdout",
     "output_type": "stream",
     "text": [
      "Iteration: 16\n",
      "new point: [[-0.3121956   0.14130986  1.          1.        ]]\n",
      "new value: 0.8583121299743652\n",
      "best oberved value: 0.8584542274475098\n",
      "\n"
     ]
    },
    {
     "name": "stderr",
     "output_type": "stream",
     "text": [
      "/Users/qianxie/Library/Python/3.9/lib/python/site-packages/botorch/models/utils/assorted.py:173: InputDataWarning: Input data is not contained to the unit cube. Please consider min-max scaling the input data.\n",
      "  warnings.warn(msg, InputDataWarning)\n"
     ]
    },
    {
     "name": "stdout",
     "output_type": "stream",
     "text": [
      "Iteration: 17\n",
      "new point: [[-0.3121312   0.14148666  1.          1.        ]]\n",
      "new value: 0.8583081364631653\n",
      "best oberved value: 0.8584542274475098\n",
      "\n"
     ]
    },
    {
     "name": "stderr",
     "output_type": "stream",
     "text": [
      "/Users/qianxie/Library/Python/3.9/lib/python/site-packages/botorch/models/utils/assorted.py:173: InputDataWarning: Input data is not contained to the unit cube. Please consider min-max scaling the input data.\n",
      "  warnings.warn(msg, InputDataWarning)\n"
     ]
    },
    {
     "name": "stdout",
     "output_type": "stream",
     "text": [
      "Iteration: 18\n",
      "new point: [[-0.31219953  0.14128487  1.          1.        ]]\n",
      "new value: 0.8583124876022339\n",
      "best oberved value: 0.8584542274475098\n",
      "\n"
     ]
    },
    {
     "name": "stderr",
     "output_type": "stream",
     "text": [
      "/Users/qianxie/Library/Python/3.9/lib/python/site-packages/botorch/models/utils/assorted.py:173: InputDataWarning: Input data is not contained to the unit cube. Please consider min-max scaling the input data.\n",
      "  warnings.warn(msg, InputDataWarning)\n"
     ]
    },
    {
     "name": "stdout",
     "output_type": "stream",
     "text": [
      "Iteration: 19\n",
      "new point: [[-0.31220293  0.14128298  1.          1.        ]]\n",
      "new value: 0.8583125472068787\n",
      "best oberved value: 0.8584542274475098\n",
      "\n"
     ]
    },
    {
     "name": "stderr",
     "output_type": "stream",
     "text": [
      "/Users/qianxie/Library/Python/3.9/lib/python/site-packages/botorch/models/utils/assorted.py:173: InputDataWarning: Input data is not contained to the unit cube. Please consider min-max scaling the input data.\n",
      "  warnings.warn(msg, InputDataWarning)\n"
     ]
    },
    {
     "name": "stdout",
     "output_type": "stream",
     "text": [
      "Iteration: 20\n",
      "new point: [[-0.31220347  0.14127345  1.          1.        ]]\n",
      "new value: 0.8583125472068787\n",
      "best oberved value: 0.8584542274475098\n",
      "\n"
     ]
    },
    {
     "name": "stderr",
     "output_type": "stream",
     "text": [
      "/Users/qianxie/Library/Python/3.9/lib/python/site-packages/botorch/models/utils/assorted.py:173: InputDataWarning: Input data is not contained to the unit cube. Please consider min-max scaling the input data.\n",
      "  warnings.warn(msg, InputDataWarning)\n"
     ]
    },
    {
     "name": "stdout",
     "output_type": "stream",
     "text": [
      "Iteration: 21\n",
      "new point: [[-0.3122064  0.1412609  1.         1.       ]]\n",
      "new value: 0.8583128452301025\n",
      "best oberved value: 0.8584542274475098\n",
      "\n"
     ]
    },
    {
     "name": "stderr",
     "output_type": "stream",
     "text": [
      "/Users/qianxie/Library/Python/3.9/lib/python/site-packages/botorch/models/utils/assorted.py:173: InputDataWarning: Input data is not contained to the unit cube. Please consider min-max scaling the input data.\n",
      "  warnings.warn(msg, InputDataWarning)\n"
     ]
    },
    {
     "name": "stdout",
     "output_type": "stream",
     "text": [
      "Iteration: 22\n",
      "new point: [[-0.31220847  0.14125428  1.          1.        ]]\n",
      "new value: 0.8583130240440369\n",
      "best oberved value: 0.8584542274475098\n",
      "\n"
     ]
    },
    {
     "name": "stderr",
     "output_type": "stream",
     "text": [
      "/Users/qianxie/Library/Python/3.9/lib/python/site-packages/botorch/models/utils/assorted.py:173: InputDataWarning: Input data is not contained to the unit cube. Please consider min-max scaling the input data.\n",
      "  warnings.warn(msg, InputDataWarning)\n"
     ]
    },
    {
     "name": "stdout",
     "output_type": "stream",
     "text": [
      "Iteration: 23\n",
      "new point: [[-0.31221023  0.1412479   1.          1.        ]]\n",
      "new value: 0.8583130240440369\n",
      "best oberved value: 0.8584542274475098\n",
      "\n"
     ]
    },
    {
     "name": "stderr",
     "output_type": "stream",
     "text": [
      "/Users/qianxie/Library/Python/3.9/lib/python/site-packages/botorch/models/utils/assorted.py:173: InputDataWarning: Input data is not contained to the unit cube. Please consider min-max scaling the input data.\n",
      "  warnings.warn(msg, InputDataWarning)\n"
     ]
    },
    {
     "name": "stdout",
     "output_type": "stream",
     "text": [
      "Iteration: 24\n",
      "new point: [[-0.31221223  0.14124207  1.          1.        ]]\n",
      "new value: 0.8583130836486816\n",
      "best oberved value: 0.8584542274475098\n",
      "\n"
     ]
    },
    {
     "name": "stderr",
     "output_type": "stream",
     "text": [
      "/Users/qianxie/Library/Python/3.9/lib/python/site-packages/botorch/models/utils/assorted.py:173: InputDataWarning: Input data is not contained to the unit cube. Please consider min-max scaling the input data.\n",
      "  warnings.warn(msg, InputDataWarning)\n"
     ]
    },
    {
     "name": "stdout",
     "output_type": "stream",
     "text": [
      "Iteration: 25\n",
      "new point: [[-0.31221455  0.14123729  1.          1.        ]]\n",
      "new value: 0.8583133816719055\n",
      "best oberved value: 0.8584542274475098\n",
      "\n"
     ]
    },
    {
     "name": "stderr",
     "output_type": "stream",
     "text": [
      "/Users/qianxie/Library/Python/3.9/lib/python/site-packages/botorch/models/utils/assorted.py:173: InputDataWarning: Input data is not contained to the unit cube. Please consider min-max scaling the input data.\n",
      "  warnings.warn(msg, InputDataWarning)\n"
     ]
    },
    {
     "name": "stdout",
     "output_type": "stream",
     "text": [
      "Iteration: 26\n",
      "new point: [[-0.31201845  0.1415151   1.          1.        ]]\n",
      "new value: 0.8583008050918579\n",
      "best oberved value: 0.8584542274475098\n",
      "\n"
     ]
    },
    {
     "name": "stderr",
     "output_type": "stream",
     "text": [
      "/Users/qianxie/Library/Python/3.9/lib/python/site-packages/botorch/models/utils/assorted.py:173: InputDataWarning: Input data is not contained to the unit cube. Please consider min-max scaling the input data.\n",
      "  warnings.warn(msg, InputDataWarning)\n"
     ]
    },
    {
     "name": "stdout",
     "output_type": "stream",
     "text": [
      "Iteration: 27\n",
      "new point: [[-0.31221774  0.14122888  1.          1.        ]]\n",
      "new value: 0.8583136200904846\n",
      "best oberved value: 0.8584542274475098\n",
      "\n"
     ]
    },
    {
     "name": "stderr",
     "output_type": "stream",
     "text": [
      "/Users/qianxie/Library/Python/3.9/lib/python/site-packages/botorch/models/utils/assorted.py:173: InputDataWarning: Input data is not contained to the unit cube. Please consider min-max scaling the input data.\n",
      "  warnings.warn(msg, InputDataWarning)\n"
     ]
    },
    {
     "name": "stdout",
     "output_type": "stream",
     "text": [
      "Iteration: 28\n",
      "new point: [[-0.31222025  0.14122802  1.          1.        ]]\n",
      "new value: 0.8583136796951294\n",
      "best oberved value: 0.8584542274475098\n",
      "\n"
     ]
    },
    {
     "name": "stderr",
     "output_type": "stream",
     "text": [
      "/Users/qianxie/Library/Python/3.9/lib/python/site-packages/botorch/models/utils/assorted.py:173: InputDataWarning: Input data is not contained to the unit cube. Please consider min-max scaling the input data.\n",
      "  warnings.warn(msg, InputDataWarning)\n"
     ]
    },
    {
     "name": "stdout",
     "output_type": "stream",
     "text": [
      "Iteration: 29\n",
      "new point: [[-0.31222302  0.14122982  1.          1.        ]]\n",
      "new value: 0.8583138585090637\n",
      "best oberved value: 0.8584542274475098\n",
      "\n"
     ]
    },
    {
     "name": "stderr",
     "output_type": "stream",
     "text": [
      "/Users/qianxie/Library/Python/3.9/lib/python/site-packages/botorch/models/utils/assorted.py:173: InputDataWarning: Input data is not contained to the unit cube. Please consider min-max scaling the input data.\n",
      "  warnings.warn(msg, InputDataWarning)\n"
     ]
    },
    {
     "name": "stdout",
     "output_type": "stream",
     "text": [
      "Iteration: 30\n",
      "new point: [[-0.31222615  0.1412355   1.          1.        ]]\n",
      "new value: 0.8583140969276428\n",
      "best oberved value: 0.8584542274475098\n",
      "\n"
     ]
    },
    {
     "name": "stderr",
     "output_type": "stream",
     "text": [
      "/Users/qianxie/Library/Python/3.9/lib/python/site-packages/botorch/models/utils/assorted.py:173: InputDataWarning: Input data is not contained to the unit cube. Please consider min-max scaling the input data.\n",
      "  warnings.warn(msg, InputDataWarning)\n"
     ]
    },
    {
     "name": "stdout",
     "output_type": "stream",
     "text": [
      "Iteration: 31\n",
      "new point: [[-0.31222832  0.14123078  1.          1.        ]]\n",
      "new value: 0.8583142161369324\n",
      "best oberved value: 0.8584542274475098\n",
      "\n"
     ]
    },
    {
     "name": "stderr",
     "output_type": "stream",
     "text": [
      "/Users/qianxie/Library/Python/3.9/lib/python/site-packages/botorch/models/utils/assorted.py:173: InputDataWarning: Input data is not contained to the unit cube. Please consider min-max scaling the input data.\n",
      "  warnings.warn(msg, InputDataWarning)\n"
     ]
    },
    {
     "name": "stdout",
     "output_type": "stream",
     "text": [
      "Iteration: 32\n",
      "new point: [[-0.3122311   0.14123243  1.          1.        ]]\n",
      "new value: 0.8583143949508667\n",
      "best oberved value: 0.8584542274475098\n",
      "\n"
     ]
    },
    {
     "name": "stderr",
     "output_type": "stream",
     "text": [
      "/Users/qianxie/Library/Python/3.9/lib/python/site-packages/botorch/models/utils/assorted.py:173: InputDataWarning: Input data is not contained to the unit cube. Please consider min-max scaling the input data.\n",
      "  warnings.warn(msg, InputDataWarning)\n"
     ]
    },
    {
     "name": "stdout",
     "output_type": "stream",
     "text": [
      "Iteration: 33\n",
      "new point: [[-0.31223378  0.14123434  1.          1.        ]]\n",
      "new value: 0.858314573764801\n",
      "best oberved value: 0.8584542274475098\n",
      "\n"
     ]
    },
    {
     "name": "stderr",
     "output_type": "stream",
     "text": [
      "/Users/qianxie/Library/Python/3.9/lib/python/site-packages/botorch/models/utils/assorted.py:173: InputDataWarning: Input data is not contained to the unit cube. Please consider min-max scaling the input data.\n",
      "  warnings.warn(msg, InputDataWarning)\n"
     ]
    },
    {
     "name": "stdout",
     "output_type": "stream",
     "text": [
      "Iteration: 34\n",
      "new point: [[-0.31223622  0.14123827  1.          1.        ]]\n",
      "new value: 0.8583147525787354\n",
      "best oberved value: 0.8584542274475098\n",
      "\n"
     ]
    },
    {
     "name": "stderr",
     "output_type": "stream",
     "text": [
      "/Users/qianxie/Library/Python/3.9/lib/python/site-packages/botorch/models/utils/assorted.py:173: InputDataWarning: Input data is not contained to the unit cube. Please consider min-max scaling the input data.\n",
      "  warnings.warn(msg, InputDataWarning)\n"
     ]
    },
    {
     "name": "stdout",
     "output_type": "stream",
     "text": [
      "Iteration: 35\n",
      "new point: [[-0.31223765  0.14122647  1.          1.        ]]\n",
      "new value: 0.8583148121833801\n",
      "best oberved value: 0.8584542274475098\n",
      "\n"
     ]
    },
    {
     "name": "stderr",
     "output_type": "stream",
     "text": [
      "/Users/qianxie/Library/Python/3.9/lib/python/site-packages/botorch/models/utils/assorted.py:173: InputDataWarning: Input data is not contained to the unit cube. Please consider min-max scaling the input data.\n",
      "  warnings.warn(msg, InputDataWarning)\n"
     ]
    },
    {
     "name": "stdout",
     "output_type": "stream",
     "text": [
      "Iteration: 36\n",
      "new point: [[-0.31224     0.14122742  1.          1.        ]]\n",
      "new value: 0.8583149909973145\n",
      "best oberved value: 0.8584542274475098\n",
      "\n"
     ]
    },
    {
     "name": "stderr",
     "output_type": "stream",
     "text": [
      "/Users/qianxie/Library/Python/3.9/lib/python/site-packages/botorch/models/utils/assorted.py:173: InputDataWarning: Input data is not contained to the unit cube. Please consider min-max scaling the input data.\n",
      "  warnings.warn(msg, InputDataWarning)\n"
     ]
    },
    {
     "name": "stdout",
     "output_type": "stream",
     "text": [
      "Iteration: 37\n",
      "new point: [[-0.3122423   0.14122842  1.          1.        ]]\n",
      "new value: 0.858315110206604\n",
      "best oberved value: 0.8584542274475098\n",
      "\n"
     ]
    },
    {
     "name": "stderr",
     "output_type": "stream",
     "text": [
      "/Users/qianxie/Library/Python/3.9/lib/python/site-packages/botorch/models/utils/assorted.py:173: InputDataWarning: Input data is not contained to the unit cube. Please consider min-max scaling the input data.\n",
      "  warnings.warn(msg, InputDataWarning)\n"
     ]
    },
    {
     "name": "stdout",
     "output_type": "stream",
     "text": [
      "Iteration: 38\n",
      "new point: [[-0.3122446   0.14122899  1.          1.        ]]\n",
      "new value: 0.8583152890205383\n",
      "best oberved value: 0.8584542274475098\n",
      "\n"
     ]
    },
    {
     "name": "stderr",
     "output_type": "stream",
     "text": [
      "/Users/qianxie/Library/Python/3.9/lib/python/site-packages/botorch/models/utils/assorted.py:173: InputDataWarning: Input data is not contained to the unit cube. Please consider min-max scaling the input data.\n",
      "  warnings.warn(msg, InputDataWarning)\n"
     ]
    },
    {
     "name": "stdout",
     "output_type": "stream",
     "text": [
      "Iteration: 39\n",
      "new point: [[-0.31224695  0.14122877  1.          1.        ]]\n",
      "new value: 0.8583154082298279\n",
      "best oberved value: 0.8584542274475098\n",
      "\n"
     ]
    }
   ],
   "source": [
    "cost=0.02\n",
    "maximize=True\n",
    "test_Gittins(seed=seed, maximize=maximize, cost=cost, num_iterations=num_iterations, GI_best_dict=GI_best_dict)"
   ]
  },
  {
   "cell_type": "code",
   "execution_count": 92,
   "id": "f775c65c",
   "metadata": {},
   "outputs": [
    {
     "name": "stdout",
     "output_type": "stream",
     "text": [
      "Iteration: 0\n",
      "new point: [[0.00395057 0.41246608 1.         0.76330775]]\n",
      "new value: 0.7485406398773193\n",
      "best oberved value: 0.7485406398773193\n",
      "\n",
      "Iteration: 1\n",
      "new point: [[-0.32963684  0.29818013  0.8685009   0.752685  ]]\n",
      "new value: 0.8107768893241882\n",
      "best oberved value: 0.8107768893241882\n",
      "\n"
     ]
    },
    {
     "name": "stderr",
     "output_type": "stream",
     "text": [
      "/Users/qianxie/Library/Python/3.9/lib/python/site-packages/botorch/models/utils/assorted.py:173: InputDataWarning: Input data is not contained to the unit cube. Please consider min-max scaling the input data.\n",
      "  warnings.warn(msg, InputDataWarning)\n"
     ]
    },
    {
     "name": "stdout",
     "output_type": "stream",
     "text": [
      "Iteration: 2\n",
      "new point: [[-0.43279722  0.6408218   0.9830476   1.        ]]\n",
      "new value: 0.8270180821418762\n",
      "best oberved value: 0.8270180821418762\n",
      "\n"
     ]
    },
    {
     "name": "stderr",
     "output_type": "stream",
     "text": [
      "/Users/qianxie/Library/Python/3.9/lib/python/site-packages/botorch/models/utils/assorted.py:173: InputDataWarning: Input data is not contained to the unit cube. Please consider min-max scaling the input data.\n",
      "  warnings.warn(msg, InputDataWarning)\n"
     ]
    },
    {
     "name": "stdout",
     "output_type": "stream",
     "text": [
      "Iteration: 3\n",
      "new point: [[-0.64342433  0.65353686  1.          0.57776797]]\n",
      "new value: 0.7867502570152283\n",
      "best oberved value: 0.8270180821418762\n",
      "\n"
     ]
    },
    {
     "name": "stderr",
     "output_type": "stream",
     "text": [
      "/Users/qianxie/Library/Python/3.9/lib/python/site-packages/botorch/models/utils/assorted.py:173: InputDataWarning: Input data is not contained to the unit cube. Please consider min-max scaling the input data.\n",
      "  warnings.warn(msg, InputDataWarning)\n"
     ]
    },
    {
     "name": "stdout",
     "output_type": "stream",
     "text": [
      "Iteration: 4\n",
      "new point: [[-0.72168463  0.18818624  1.          1.        ]]\n",
      "new value: 0.7698155045509338\n",
      "best oberved value: 0.8270180821418762\n",
      "\n"
     ]
    },
    {
     "name": "stderr",
     "output_type": "stream",
     "text": [
      "/Users/qianxie/Library/Python/3.9/lib/python/site-packages/botorch/models/utils/assorted.py:173: InputDataWarning: Input data is not contained to the unit cube. Please consider min-max scaling the input data.\n",
      "  warnings.warn(msg, InputDataWarning)\n"
     ]
    },
    {
     "name": "stdout",
     "output_type": "stream",
     "text": [
      "Iteration: 5\n",
      "new point: [[-0.62917054  0.60973364  0.5860524   0.9633988 ]]\n",
      "new value: 0.7095049619674683\n",
      "best oberved value: 0.8270180821418762\n",
      "\n"
     ]
    },
    {
     "name": "stderr",
     "output_type": "stream",
     "text": [
      "/Users/qianxie/Library/Python/3.9/lib/python/site-packages/botorch/models/utils/assorted.py:173: InputDataWarning: Input data is not contained to the unit cube. Please consider min-max scaling the input data.\n",
      "  warnings.warn(msg, InputDataWarning)\n"
     ]
    },
    {
     "name": "stdout",
     "output_type": "stream",
     "text": [
      "Iteration: 6\n",
      "new point: [[-0.3391459   0.29219583  1.          1.        ]]\n",
      "new value: 0.856436014175415\n",
      "best oberved value: 0.856436014175415\n",
      "\n"
     ]
    },
    {
     "name": "stderr",
     "output_type": "stream",
     "text": [
      "/Users/qianxie/Library/Python/3.9/lib/python/site-packages/botorch/models/utils/assorted.py:173: InputDataWarning: Input data is not contained to the unit cube. Please consider min-max scaling the input data.\n",
      "  warnings.warn(msg, InputDataWarning)\n"
     ]
    },
    {
     "name": "stdout",
     "output_type": "stream",
     "text": [
      "Iteration: 7\n",
      "new point: [[-0.2843596  -0.14133382  1.          1.        ]]\n",
      "new value: 0.8392602801322937\n",
      "best oberved value: 0.856436014175415\n",
      "\n"
     ]
    },
    {
     "name": "stderr",
     "output_type": "stream",
     "text": [
      "/Users/qianxie/Library/Python/3.9/lib/python/site-packages/botorch/models/utils/assorted.py:173: InputDataWarning: Input data is not contained to the unit cube. Please consider min-max scaling the input data.\n",
      "  warnings.warn(msg, InputDataWarning)\n"
     ]
    },
    {
     "name": "stdout",
     "output_type": "stream",
     "text": [
      "Iteration: 8\n",
      "new point: [[-0.39476156  0.13771012  1.          0.90014404]]\n",
      "new value: 0.8576379418373108\n",
      "best oberved value: 0.8576379418373108\n",
      "\n"
     ]
    },
    {
     "name": "stderr",
     "output_type": "stream",
     "text": [
      "/Users/qianxie/Library/Python/3.9/lib/python/site-packages/botorch/models/utils/assorted.py:173: InputDataWarning: Input data is not contained to the unit cube. Please consider min-max scaling the input data.\n",
      "  warnings.warn(msg, InputDataWarning)\n"
     ]
    },
    {
     "name": "stdout",
     "output_type": "stream",
     "text": [
      "Iteration: 9\n",
      "new point: [[-0.3589842   0.15200938  1.          1.        ]]\n",
      "new value: 0.860181450843811\n",
      "best oberved value: 0.860181450843811\n",
      "\n"
     ]
    },
    {
     "name": "stderr",
     "output_type": "stream",
     "text": [
      "/Users/qianxie/Library/Python/3.9/lib/python/site-packages/botorch/models/utils/assorted.py:173: InputDataWarning: Input data is not contained to the unit cube. Please consider min-max scaling the input data.\n",
      "  warnings.warn(msg, InputDataWarning)\n"
     ]
    },
    {
     "name": "stdout",
     "output_type": "stream",
     "text": [
      "Iteration: 10\n",
      "new point: [[-0.3527902   0.16693962  1.          1.        ]]\n",
      "new value: 0.8599199056625366\n",
      "best oberved value: 0.860181450843811\n",
      "\n"
     ]
    },
    {
     "name": "stderr",
     "output_type": "stream",
     "text": [
      "/Users/qianxie/Library/Python/3.9/lib/python/site-packages/botorch/models/utils/assorted.py:173: InputDataWarning: Input data is not contained to the unit cube. Please consider min-max scaling the input data.\n",
      "  warnings.warn(msg, InputDataWarning)\n"
     ]
    },
    {
     "name": "stdout",
     "output_type": "stream",
     "text": [
      "Iteration: 11\n",
      "new point: [[-0.35445505  0.1708935   1.          1.        ]]\n",
      "new value: 0.8599032163619995\n",
      "best oberved value: 0.860181450843811\n",
      "\n"
     ]
    },
    {
     "name": "stderr",
     "output_type": "stream",
     "text": [
      "/Users/qianxie/Library/Python/3.9/lib/python/site-packages/botorch/models/utils/assorted.py:173: InputDataWarning: Input data is not contained to the unit cube. Please consider min-max scaling the input data.\n",
      "  warnings.warn(msg, InputDataWarning)\n"
     ]
    },
    {
     "name": "stdout",
     "output_type": "stream",
     "text": [
      "Iteration: 12\n",
      "new point: [[-0.35599428  0.17638619  1.          0.9832502 ]]\n",
      "new value: 0.859424889087677\n",
      "best oberved value: 0.860181450843811\n",
      "\n"
     ]
    },
    {
     "name": "stderr",
     "output_type": "stream",
     "text": [
      "/Users/qianxie/Library/Python/3.9/lib/python/site-packages/botorch/models/utils/assorted.py:173: InputDataWarning: Input data is not contained to the unit cube. Please consider min-max scaling the input data.\n",
      "  warnings.warn(msg, InputDataWarning)\n"
     ]
    },
    {
     "name": "stdout",
     "output_type": "stream",
     "text": [
      "Iteration: 13\n",
      "new point: [[-0.35660452  0.1761821   1.          0.9839682 ]]\n",
      "new value: 0.8594569563865662\n",
      "best oberved value: 0.860181450843811\n",
      "\n"
     ]
    },
    {
     "name": "stderr",
     "output_type": "stream",
     "text": [
      "/Users/qianxie/Library/Python/3.9/lib/python/site-packages/botorch/models/utils/assorted.py:173: InputDataWarning: Input data is not contained to the unit cube. Please consider min-max scaling the input data.\n",
      "  warnings.warn(msg, InputDataWarning)\n"
     ]
    },
    {
     "name": "stdout",
     "output_type": "stream",
     "text": [
      "Iteration: 14\n",
      "new point: [[-0.35681322  0.17615458  1.          0.98400503]]\n",
      "new value: 0.8594619631767273\n",
      "best oberved value: 0.860181450843811\n",
      "\n"
     ]
    },
    {
     "name": "stderr",
     "output_type": "stream",
     "text": [
      "/Users/qianxie/Library/Python/3.9/lib/python/site-packages/botorch/models/utils/assorted.py:173: InputDataWarning: Input data is not contained to the unit cube. Please consider min-max scaling the input data.\n",
      "  warnings.warn(msg, InputDataWarning)\n"
     ]
    },
    {
     "name": "stdout",
     "output_type": "stream",
     "text": [
      "Iteration: 15\n",
      "new point: [[-0.35690886  0.17615096  1.          0.98399293]]\n",
      "new value: 0.8594633340835571\n",
      "best oberved value: 0.860181450843811\n",
      "\n"
     ]
    },
    {
     "name": "stderr",
     "output_type": "stream",
     "text": [
      "/Users/qianxie/Library/Python/3.9/lib/python/site-packages/botorch/models/utils/assorted.py:173: InputDataWarning: Input data is not contained to the unit cube. Please consider min-max scaling the input data.\n",
      "  warnings.warn(msg, InputDataWarning)\n"
     ]
    },
    {
     "name": "stdout",
     "output_type": "stream",
     "text": [
      "Iteration: 16\n",
      "new point: [[-0.3569578   0.17613707  1.          0.98398536]]\n",
      "new value: 0.8594641089439392\n",
      "best oberved value: 0.860181450843811\n",
      "\n"
     ]
    },
    {
     "name": "stderr",
     "output_type": "stream",
     "text": [
      "/Users/qianxie/Library/Python/3.9/lib/python/site-packages/botorch/models/utils/assorted.py:173: InputDataWarning: Input data is not contained to the unit cube. Please consider min-max scaling the input data.\n",
      "  warnings.warn(msg, InputDataWarning)\n"
     ]
    },
    {
     "name": "stdout",
     "output_type": "stream",
     "text": [
      "Iteration: 17\n",
      "new point: [[-0.3569894   0.17613582  1.          0.98397785]]\n",
      "new value: 0.8594644665718079\n",
      "best oberved value: 0.860181450843811\n",
      "\n"
     ]
    },
    {
     "name": "stderr",
     "output_type": "stream",
     "text": [
      "/Users/qianxie/Library/Python/3.9/lib/python/site-packages/botorch/models/utils/assorted.py:173: InputDataWarning: Input data is not contained to the unit cube. Please consider min-max scaling the input data.\n",
      "  warnings.warn(msg, InputDataWarning)\n"
     ]
    },
    {
     "name": "stdout",
     "output_type": "stream",
     "text": [
      "Iteration: 18\n",
      "new point: [[-0.35700774  0.17612822  1.          0.98397344]]\n",
      "new value: 0.8594648241996765\n",
      "best oberved value: 0.860181450843811\n",
      "\n"
     ]
    },
    {
     "name": "stderr",
     "output_type": "stream",
     "text": [
      "/Users/qianxie/Library/Python/3.9/lib/python/site-packages/botorch/models/utils/assorted.py:173: InputDataWarning: Input data is not contained to the unit cube. Please consider min-max scaling the input data.\n",
      "  warnings.warn(msg, InputDataWarning)\n"
     ]
    },
    {
     "name": "stdout",
     "output_type": "stream",
     "text": [
      "Iteration: 19\n",
      "new point: [[-0.35701913  0.17612314  1.          0.9839673 ]]\n",
      "new value: 0.8594648241996765\n",
      "best oberved value: 0.860181450843811\n",
      "\n"
     ]
    },
    {
     "name": "stderr",
     "output_type": "stream",
     "text": [
      "/Users/qianxie/Library/Python/3.9/lib/python/site-packages/botorch/models/utils/assorted.py:173: InputDataWarning: Input data is not contained to the unit cube. Please consider min-max scaling the input data.\n",
      "  warnings.warn(msg, InputDataWarning)\n"
     ]
    },
    {
     "name": "stdout",
     "output_type": "stream",
     "text": [
      "Iteration: 20\n",
      "new point: [[-0.3570297   0.1761191   1.          0.98396426]]\n",
      "new value: 0.8594649434089661\n",
      "best oberved value: 0.860181450843811\n",
      "\n"
     ]
    },
    {
     "name": "stderr",
     "output_type": "stream",
     "text": [
      "/Users/qianxie/Library/Python/3.9/lib/python/site-packages/botorch/models/utils/assorted.py:173: InputDataWarning: Input data is not contained to the unit cube. Please consider min-max scaling the input data.\n",
      "  warnings.warn(msg, InputDataWarning)\n"
     ]
    },
    {
     "name": "stdout",
     "output_type": "stream",
     "text": [
      "Iteration: 21\n",
      "new point: [[-0.3570367   0.17611703  1.          0.98396224]]\n",
      "new value: 0.8594650626182556\n",
      "best oberved value: 0.860181450843811\n",
      "\n"
     ]
    },
    {
     "name": "stderr",
     "output_type": "stream",
     "text": [
      "/Users/qianxie/Library/Python/3.9/lib/python/site-packages/botorch/models/utils/assorted.py:173: InputDataWarning: Input data is not contained to the unit cube. Please consider min-max scaling the input data.\n",
      "  warnings.warn(msg, InputDataWarning)\n"
     ]
    },
    {
     "name": "stdout",
     "output_type": "stream",
     "text": [
      "Iteration: 22\n",
      "new point: [[-0.35704115  0.1761218   1.          0.98396105]]\n",
      "new value: 0.8594651222229004\n",
      "best oberved value: 0.860181450843811\n",
      "\n"
     ]
    },
    {
     "name": "stderr",
     "output_type": "stream",
     "text": [
      "/Users/qianxie/Library/Python/3.9/lib/python/site-packages/botorch/models/utils/assorted.py:173: InputDataWarning: Input data is not contained to the unit cube. Please consider min-max scaling the input data.\n",
      "  warnings.warn(msg, InputDataWarning)\n"
     ]
    },
    {
     "name": "stdout",
     "output_type": "stream",
     "text": [
      "Iteration: 23\n",
      "new point: [[-0.35704702  0.17612034  1.          0.9839594 ]]\n",
      "new value: 0.8594651222229004\n",
      "best oberved value: 0.860181450843811\n",
      "\n"
     ]
    },
    {
     "name": "stderr",
     "output_type": "stream",
     "text": [
      "/Users/qianxie/Library/Python/3.9/lib/python/site-packages/botorch/models/utils/assorted.py:173: InputDataWarning: Input data is not contained to the unit cube. Please consider min-max scaling the input data.\n",
      "  warnings.warn(msg, InputDataWarning)\n"
     ]
    },
    {
     "name": "stdout",
     "output_type": "stream",
     "text": [
      "Iteration: 24\n",
      "new point: [[-0.35704947  0.17611727  1.          0.9839582 ]]\n",
      "new value: 0.8594651818275452\n",
      "best oberved value: 0.860181450843811\n",
      "\n"
     ]
    },
    {
     "name": "stderr",
     "output_type": "stream",
     "text": [
      "/Users/qianxie/Library/Python/3.9/lib/python/site-packages/botorch/models/utils/assorted.py:173: InputDataWarning: Input data is not contained to the unit cube. Please consider min-max scaling the input data.\n",
      "  warnings.warn(msg, InputDataWarning)\n"
     ]
    },
    {
     "name": "stdout",
     "output_type": "stream",
     "text": [
      "Iteration: 25\n",
      "new point: [[-0.35705268  0.17611794  1.          0.98395914]]\n",
      "new value: 0.8594652414321899\n",
      "best oberved value: 0.860181450843811\n",
      "\n"
     ]
    },
    {
     "name": "stderr",
     "output_type": "stream",
     "text": [
      "/Users/qianxie/Library/Python/3.9/lib/python/site-packages/botorch/models/utils/assorted.py:173: InputDataWarning: Input data is not contained to the unit cube. Please consider min-max scaling the input data.\n",
      "  warnings.warn(msg, InputDataWarning)\n"
     ]
    },
    {
     "name": "stdout",
     "output_type": "stream",
     "text": [
      "Iteration: 26\n",
      "new point: [[-0.35705554  0.17612213  1.          0.98395973]]\n",
      "new value: 0.8594653010368347\n",
      "best oberved value: 0.860181450843811\n",
      "\n"
     ]
    },
    {
     "name": "stderr",
     "output_type": "stream",
     "text": [
      "/Users/qianxie/Library/Python/3.9/lib/python/site-packages/botorch/models/utils/assorted.py:173: InputDataWarning: Input data is not contained to the unit cube. Please consider min-max scaling the input data.\n",
      "  warnings.warn(msg, InputDataWarning)\n"
     ]
    },
    {
     "name": "stdout",
     "output_type": "stream",
     "text": [
      "Iteration: 27\n",
      "new point: [[-0.35686418  0.17657526  1.          0.9841362 ]]\n",
      "new value: 0.8594609498977661\n",
      "best oberved value: 0.860181450843811\n",
      "\n"
     ]
    },
    {
     "name": "stderr",
     "output_type": "stream",
     "text": [
      "/Users/qianxie/Library/Python/3.9/lib/python/site-packages/botorch/models/utils/assorted.py:173: InputDataWarning: Input data is not contained to the unit cube. Please consider min-max scaling the input data.\n",
      "  warnings.warn(msg, InputDataWarning)\n"
     ]
    },
    {
     "name": "stdout",
     "output_type": "stream",
     "text": [
      "Iteration: 28\n",
      "new point: [[-0.35706356  0.1761217   1.          0.98395383]]\n",
      "new value: 0.8594653010368347\n",
      "best oberved value: 0.860181450843811\n",
      "\n"
     ]
    },
    {
     "name": "stderr",
     "output_type": "stream",
     "text": [
      "/Users/qianxie/Library/Python/3.9/lib/python/site-packages/botorch/models/utils/assorted.py:173: InputDataWarning: Input data is not contained to the unit cube. Please consider min-max scaling the input data.\n",
      "  warnings.warn(msg, InputDataWarning)\n"
     ]
    },
    {
     "name": "stdout",
     "output_type": "stream",
     "text": [
      "Iteration: 29\n",
      "new point: [[-0.35726404  0.17518862  1.          0.98345846]]\n",
      "new value: 0.8594673275947571\n",
      "best oberved value: 0.860181450843811\n",
      "\n"
     ]
    },
    {
     "name": "stderr",
     "output_type": "stream",
     "text": [
      "/Users/qianxie/Library/Python/3.9/lib/python/site-packages/botorch/models/utils/assorted.py:173: InputDataWarning: Input data is not contained to the unit cube. Please consider min-max scaling the input data.\n",
      "  warnings.warn(msg, InputDataWarning)\n"
     ]
    },
    {
     "name": "stdout",
     "output_type": "stream",
     "text": [
      "Iteration: 30\n",
      "new point: [[-0.35706496  0.17613247  1.          0.98396164]]\n",
      "new value: 0.8594653606414795\n",
      "best oberved value: 0.860181450843811\n",
      "\n"
     ]
    },
    {
     "name": "stderr",
     "output_type": "stream",
     "text": [
      "/Users/qianxie/Library/Python/3.9/lib/python/site-packages/botorch/models/utils/assorted.py:173: InputDataWarning: Input data is not contained to the unit cube. Please consider min-max scaling the input data.\n",
      "  warnings.warn(msg, InputDataWarning)\n"
     ]
    },
    {
     "name": "stdout",
     "output_type": "stream",
     "text": [
      "Iteration: 31\n",
      "new point: [[-0.35706675  0.17613415  1.          0.9839605 ]]\n",
      "new value: 0.859465479850769\n",
      "best oberved value: 0.860181450843811\n",
      "\n"
     ]
    },
    {
     "name": "stderr",
     "output_type": "stream",
     "text": [
      "/Users/qianxie/Library/Python/3.9/lib/python/site-packages/botorch/models/utils/assorted.py:173: InputDataWarning: Input data is not contained to the unit cube. Please consider min-max scaling the input data.\n",
      "  warnings.warn(msg, InputDataWarning)\n"
     ]
    },
    {
     "name": "stdout",
     "output_type": "stream",
     "text": [
      "Iteration: 32\n",
      "new point: [[-0.35707018  0.17614019  1.          0.9839595 ]]\n",
      "new value: 0.8594653010368347\n",
      "best oberved value: 0.860181450843811\n",
      "\n"
     ]
    },
    {
     "name": "stderr",
     "output_type": "stream",
     "text": [
      "/Users/qianxie/Library/Python/3.9/lib/python/site-packages/botorch/models/utils/assorted.py:173: InputDataWarning: Input data is not contained to the unit cube. Please consider min-max scaling the input data.\n",
      "  warnings.warn(msg, InputDataWarning)\n"
     ]
    },
    {
     "name": "stdout",
     "output_type": "stream",
     "text": [
      "Iteration: 33\n",
      "new point: [[-0.35707152  0.17614587  1.          0.98395354]]\n",
      "new value: 0.8594651222229004\n",
      "best oberved value: 0.860181450843811\n",
      "\n"
     ]
    },
    {
     "name": "stderr",
     "output_type": "stream",
     "text": [
      "/Users/qianxie/Library/Python/3.9/lib/python/site-packages/botorch/models/utils/assorted.py:173: InputDataWarning: Input data is not contained to the unit cube. Please consider min-max scaling the input data.\n",
      "  warnings.warn(msg, InputDataWarning)\n"
     ]
    },
    {
     "name": "stdout",
     "output_type": "stream",
     "text": [
      "Iteration: 34\n",
      "new point: [[-0.3570754   0.17613828  1.          0.9839558 ]]\n",
      "new value: 0.8594653606414795\n",
      "best oberved value: 0.860181450843811\n",
      "\n"
     ]
    },
    {
     "name": "stderr",
     "output_type": "stream",
     "text": [
      "/Users/qianxie/Library/Python/3.9/lib/python/site-packages/botorch/models/utils/assorted.py:173: InputDataWarning: Input data is not contained to the unit cube. Please consider min-max scaling the input data.\n",
      "  warnings.warn(msg, InputDataWarning)\n"
     ]
    },
    {
     "name": "stdout",
     "output_type": "stream",
     "text": [
      "Iteration: 35\n",
      "new point: [[-0.35707593  0.17614445  1.          0.9839531 ]]\n",
      "new value: 0.8594653010368347\n",
      "best oberved value: 0.860181450843811\n",
      "\n"
     ]
    },
    {
     "name": "stderr",
     "output_type": "stream",
     "text": [
      "/Users/qianxie/Library/Python/3.9/lib/python/site-packages/botorch/models/utils/assorted.py:173: InputDataWarning: Input data is not contained to the unit cube. Please consider min-max scaling the input data.\n",
      "  warnings.warn(msg, InputDataWarning)\n"
     ]
    },
    {
     "name": "stdout",
     "output_type": "stream",
     "text": [
      "Iteration: 36\n",
      "new point: [[-0.35707766  0.17614274  1.          0.9839543 ]]\n",
      "new value: 0.8594652414321899\n",
      "best oberved value: 0.860181450843811\n",
      "\n"
     ]
    },
    {
     "name": "stderr",
     "output_type": "stream",
     "text": [
      "/Users/qianxie/Library/Python/3.9/lib/python/site-packages/botorch/models/utils/assorted.py:173: InputDataWarning: Input data is not contained to the unit cube. Please consider min-max scaling the input data.\n",
      "  warnings.warn(msg, InputDataWarning)\n"
     ]
    },
    {
     "name": "stdout",
     "output_type": "stream",
     "text": [
      "Iteration: 37\n",
      "new point: [[-0.3570784   0.17614833  1.          0.9839489 ]]\n",
      "new value: 0.8594650626182556\n",
      "best oberved value: 0.860181450843811\n",
      "\n"
     ]
    },
    {
     "name": "stderr",
     "output_type": "stream",
     "text": [
      "/Users/qianxie/Library/Python/3.9/lib/python/site-packages/botorch/models/utils/assorted.py:173: InputDataWarning: Input data is not contained to the unit cube. Please consider min-max scaling the input data.\n",
      "  warnings.warn(msg, InputDataWarning)\n"
     ]
    },
    {
     "name": "stdout",
     "output_type": "stream",
     "text": [
      "Iteration: 38\n",
      "new point: [[-0.35708183  0.17615394  1.          0.98395044]]\n",
      "new value: 0.8594650626182556\n",
      "best oberved value: 0.860181450843811\n",
      "\n"
     ]
    },
    {
     "name": "stderr",
     "output_type": "stream",
     "text": [
      "/Users/qianxie/Library/Python/3.9/lib/python/site-packages/botorch/models/utils/assorted.py:173: InputDataWarning: Input data is not contained to the unit cube. Please consider min-max scaling the input data.\n",
      "  warnings.warn(msg, InputDataWarning)\n"
     ]
    },
    {
     "name": "stdout",
     "output_type": "stream",
     "text": [
      "Iteration: 39\n",
      "new point: [[-0.3570836   0.17615435  1.          0.98394936]]\n",
      "new value: 0.8594650626182556\n",
      "best oberved value: 0.860181450843811\n",
      "\n"
     ]
    }
   ],
   "source": [
    "cost=0.005\n",
    "maximize=True\n",
    "test_Gittins(seed=seed, maximize=maximize, cost=cost, num_iterations=num_iterations, GI_best_dict=GI_best_dict)"
   ]
  },
  {
   "cell_type": "code",
   "execution_count": 94,
   "id": "f26d15e4",
   "metadata": {},
   "outputs": [
    {
     "name": "stdout",
     "output_type": "stream",
     "text": [
      "Iteration: 0\n",
      "new point: [[-0.03449478  0.40077388  1.          0.81269383]]\n",
      "new value: 0.7692595720291138\n",
      "best oberved value: 0.7692595720291138\n",
      "\n"
     ]
    },
    {
     "name": "stderr",
     "output_type": "stream",
     "text": [
      "/Users/qianxie/Library/Python/3.9/lib/python/site-packages/botorch/models/utils/assorted.py:173: InputDataWarning: Input data is not contained to the unit cube. Please consider min-max scaling the input data.\n",
      "  warnings.warn(msg, InputDataWarning)\n"
     ]
    },
    {
     "name": "stdout",
     "output_type": "stream",
     "text": [
      "Iteration: 1\n",
      "new point: [[-0.40565738  0.28297803  0.83847237  0.7691653 ]]\n",
      "new value: 0.8059282302856445\n",
      "best oberved value: 0.8059282302856445\n",
      "\n"
     ]
    },
    {
     "name": "stderr",
     "output_type": "stream",
     "text": [
      "/Users/qianxie/Library/Python/3.9/lib/python/site-packages/botorch/models/utils/assorted.py:173: InputDataWarning: Input data is not contained to the unit cube. Please consider min-max scaling the input data.\n",
      "  warnings.warn(msg, InputDataWarning)\n"
     ]
    },
    {
     "name": "stdout",
     "output_type": "stream",
     "text": [
      "Iteration: 2\n",
      "new point: [[-0.4755977  0.7486727  1.         1.       ]]\n",
      "new value: 0.8157542943954468\n",
      "best oberved value: 0.8157542943954468\n",
      "\n"
     ]
    },
    {
     "name": "stderr",
     "output_type": "stream",
     "text": [
      "/Users/qianxie/Library/Python/3.9/lib/python/site-packages/botorch/models/utils/assorted.py:173: InputDataWarning: Input data is not contained to the unit cube. Please consider min-max scaling the input data.\n",
      "  warnings.warn(msg, InputDataWarning)\n"
     ]
    },
    {
     "name": "stdout",
     "output_type": "stream",
     "text": [
      "Iteration: 3\n",
      "new point: [[-0.6731566   0.73277795  1.          0.47652623]]\n",
      "new value: 0.7691899538040161\n",
      "best oberved value: 0.8157542943954468\n",
      "\n"
     ]
    },
    {
     "name": "stderr",
     "output_type": "stream",
     "text": [
      "/Users/qianxie/Library/Python/3.9/lib/python/site-packages/botorch/models/utils/assorted.py:173: InputDataWarning: Input data is not contained to the unit cube. Please consider min-max scaling the input data.\n",
      "  warnings.warn(msg, InputDataWarning)\n"
     ]
    },
    {
     "name": "stdout",
     "output_type": "stream",
     "text": [
      "Iteration: 4\n",
      "new point: [[-0.9019625  0.266787   1.         1.       ]]\n",
      "new value: 0.6882740259170532\n",
      "best oberved value: 0.8157542943954468\n",
      "\n"
     ]
    },
    {
     "name": "stderr",
     "output_type": "stream",
     "text": [
      "/Users/qianxie/Library/Python/3.9/lib/python/site-packages/botorch/models/utils/assorted.py:173: InputDataWarning: Input data is not contained to the unit cube. Please consider min-max scaling the input data.\n",
      "  warnings.warn(msg, InputDataWarning)\n"
     ]
    },
    {
     "name": "stdout",
     "output_type": "stream",
     "text": [
      "Iteration: 5\n",
      "new point: [[-0.5960719  0.807732   0.5352516  0.9207657]]\n",
      "new value: 0.7004676461219788\n",
      "best oberved value: 0.8157542943954468\n",
      "\n"
     ]
    },
    {
     "name": "stderr",
     "output_type": "stream",
     "text": [
      "/Users/qianxie/Library/Python/3.9/lib/python/site-packages/botorch/models/utils/assorted.py:173: InputDataWarning: Input data is not contained to the unit cube. Please consider min-max scaling the input data.\n",
      "  warnings.warn(msg, InputDataWarning)\n"
     ]
    },
    {
     "name": "stdout",
     "output_type": "stream",
     "text": [
      "Iteration: 6\n",
      "new point: [[-0.1442588  1.         1.         1.       ]]\n",
      "new value: 0.7317652702331543\n",
      "best oberved value: 0.8157542943954468\n",
      "\n"
     ]
    },
    {
     "name": "stderr",
     "output_type": "stream",
     "text": [
      "/Users/qianxie/Library/Python/3.9/lib/python/site-packages/botorch/models/utils/assorted.py:173: InputDataWarning: Input data is not contained to the unit cube. Please consider min-max scaling the input data.\n",
      "  warnings.warn(msg, InputDataWarning)\n"
     ]
    },
    {
     "name": "stdout",
     "output_type": "stream",
     "text": [
      "Iteration: 7\n",
      "new point: [[-0.38095504  0.5842595   1.          0.6953007 ]]\n",
      "new value: 0.8276835680007935\n",
      "best oberved value: 0.8276835680007935\n",
      "\n"
     ]
    },
    {
     "name": "stderr",
     "output_type": "stream",
     "text": [
      "/Users/qianxie/Library/Python/3.9/lib/python/site-packages/botorch/models/utils/assorted.py:173: InputDataWarning: Input data is not contained to the unit cube. Please consider min-max scaling the input data.\n",
      "  warnings.warn(msg, InputDataWarning)\n"
     ]
    },
    {
     "name": "stdout",
     "output_type": "stream",
     "text": [
      "Iteration: 8\n",
      "new point: [[-0.35996005  0.36359408  1.          1.        ]]\n",
      "new value: 0.8534396886825562\n",
      "best oberved value: 0.8534396886825562\n",
      "\n"
     ]
    },
    {
     "name": "stderr",
     "output_type": "stream",
     "text": [
      "/Users/qianxie/Library/Python/3.9/lib/python/site-packages/botorch/models/utils/assorted.py:173: InputDataWarning: Input data is not contained to the unit cube. Please consider min-max scaling the input data.\n",
      "  warnings.warn(msg, InputDataWarning)\n"
     ]
    },
    {
     "name": "stdout",
     "output_type": "stream",
     "text": [
      "Iteration: 9\n",
      "new point: [[-0.3062116  -0.17200454  1.          1.        ]]\n",
      "new value: 0.83938068151474\n",
      "best oberved value: 0.8534396886825562\n",
      "\n"
     ]
    },
    {
     "name": "stderr",
     "output_type": "stream",
     "text": [
      "/Users/qianxie/Library/Python/3.9/lib/python/site-packages/botorch/models/utils/assorted.py:173: InputDataWarning: Input data is not contained to the unit cube. Please consider min-max scaling the input data.\n",
      "  warnings.warn(msg, InputDataWarning)\n"
     ]
    },
    {
     "name": "stdout",
     "output_type": "stream",
     "text": [
      "Iteration: 10\n",
      "new point: [[-0.42794603  0.07980046  1.          0.8291919 ]]\n",
      "new value: 0.8543466925621033\n",
      "best oberved value: 0.8543466925621033\n",
      "\n"
     ]
    },
    {
     "name": "stderr",
     "output_type": "stream",
     "text": [
      "/Users/qianxie/Library/Python/3.9/lib/python/site-packages/botorch/models/utils/assorted.py:173: InputDataWarning: Input data is not contained to the unit cube. Please consider min-max scaling the input data.\n",
      "  warnings.warn(msg, InputDataWarning)\n"
     ]
    },
    {
     "name": "stdout",
     "output_type": "stream",
     "text": [
      "Iteration: 11\n",
      "new point: [[-0.436701    0.11871749  1.          1.        ]]\n",
      "new value: 0.8585152626037598\n",
      "best oberved value: 0.8585152626037598\n",
      "\n"
     ]
    },
    {
     "name": "stderr",
     "output_type": "stream",
     "text": [
      "/Users/qianxie/Library/Python/3.9/lib/python/site-packages/botorch/models/utils/assorted.py:173: InputDataWarning: Input data is not contained to the unit cube. Please consider min-max scaling the input data.\n",
      "  warnings.warn(msg, InputDataWarning)\n"
     ]
    },
    {
     "name": "stdout",
     "output_type": "stream",
     "text": [
      "Iteration: 12\n",
      "new point: [[-0.3330617   0.14913917  1.          0.9499042 ]]\n",
      "new value: 0.8577107191085815\n",
      "best oberved value: 0.8585152626037598\n",
      "\n"
     ]
    },
    {
     "name": "stderr",
     "output_type": "stream",
     "text": [
      "/Users/qianxie/Library/Python/3.9/lib/python/site-packages/botorch/models/utils/assorted.py:173: InputDataWarning: Input data is not contained to the unit cube. Please consider min-max scaling the input data.\n",
      "  warnings.warn(msg, InputDataWarning)\n"
     ]
    },
    {
     "name": "stdout",
     "output_type": "stream",
     "text": [
      "Iteration: 13\n",
      "new point: [[-0.4122964   0.23807669  1.          0.9181864 ]]\n",
      "new value: 0.8563241958618164\n",
      "best oberved value: 0.8585152626037598\n",
      "\n"
     ]
    },
    {
     "name": "stderr",
     "output_type": "stream",
     "text": [
      "/Users/qianxie/Library/Python/3.9/lib/python/site-packages/botorch/models/utils/assorted.py:173: InputDataWarning: Input data is not contained to the unit cube. Please consider min-max scaling the input data.\n",
      "  warnings.warn(msg, InputDataWarning)\n"
     ]
    },
    {
     "name": "stdout",
     "output_type": "stream",
     "text": [
      "Iteration: 14\n",
      "new point: [[-0.37071306  0.13696156  1.          1.        ]]\n",
      "new value: 0.8604236841201782\n",
      "best oberved value: 0.8604236841201782\n",
      "\n"
     ]
    },
    {
     "name": "stderr",
     "output_type": "stream",
     "text": [
      "/Users/qianxie/Library/Python/3.9/lib/python/site-packages/botorch/models/utils/assorted.py:173: InputDataWarning: Input data is not contained to the unit cube. Please consider min-max scaling the input data.\n",
      "  warnings.warn(msg, InputDataWarning)\n"
     ]
    },
    {
     "name": "stdout",
     "output_type": "stream",
     "text": [
      "Iteration: 15\n",
      "new point: [[-0.37640336  0.14287624  1.          1.        ]]\n",
      "new value: 0.8603805899620056\n",
      "best oberved value: 0.8604236841201782\n",
      "\n"
     ]
    },
    {
     "name": "stderr",
     "output_type": "stream",
     "text": [
      "/Users/qianxie/Library/Python/3.9/lib/python/site-packages/botorch/models/utils/assorted.py:173: InputDataWarning: Input data is not contained to the unit cube. Please consider min-max scaling the input data.\n",
      "  warnings.warn(msg, InputDataWarning)\n"
     ]
    },
    {
     "name": "stdout",
     "output_type": "stream",
     "text": [
      "Iteration: 16\n",
      "new point: [[-0.37437752  0.1603909   1.          0.9416887 ]]\n",
      "new value: 0.85870760679245\n",
      "best oberved value: 0.8604236841201782\n",
      "\n"
     ]
    },
    {
     "name": "stderr",
     "output_type": "stream",
     "text": [
      "/Users/qianxie/Library/Python/3.9/lib/python/site-packages/botorch/models/utils/assorted.py:173: InputDataWarning: Input data is not contained to the unit cube. Please consider min-max scaling the input data.\n",
      "  warnings.warn(msg, InputDataWarning)\n"
     ]
    },
    {
     "name": "stdout",
     "output_type": "stream",
     "text": [
      "Iteration: 17\n",
      "new point: [[-0.3853085   0.14536518  1.          1.        ]]\n",
      "new value: 0.8602851033210754\n",
      "best oberved value: 0.8604236841201782\n",
      "\n"
     ]
    },
    {
     "name": "stderr",
     "output_type": "stream",
     "text": [
      "/Users/qianxie/Library/Python/3.9/lib/python/site-packages/botorch/models/utils/assorted.py:173: InputDataWarning: Input data is not contained to the unit cube. Please consider min-max scaling the input data.\n",
      "  warnings.warn(msg, InputDataWarning)\n"
     ]
    },
    {
     "name": "stdout",
     "output_type": "stream",
     "text": [
      "Iteration: 18\n",
      "new point: [[-0.3822445   0.14915861  1.          1.        ]]\n",
      "new value: 0.860275149345398\n",
      "best oberved value: 0.8604236841201782\n",
      "\n"
     ]
    },
    {
     "name": "stderr",
     "output_type": "stream",
     "text": [
      "/Users/qianxie/Library/Python/3.9/lib/python/site-packages/botorch/models/utils/assorted.py:173: InputDataWarning: Input data is not contained to the unit cube. Please consider min-max scaling the input data.\n",
      "  warnings.warn(msg, InputDataWarning)\n"
     ]
    },
    {
     "name": "stdout",
     "output_type": "stream",
     "text": [
      "Iteration: 19\n",
      "new point: [[-0.38122004  0.15107791  1.          1.        ]]\n",
      "new value: 0.8602616786956787\n",
      "best oberved value: 0.8604236841201782\n",
      "\n"
     ]
    },
    {
     "name": "stderr",
     "output_type": "stream",
     "text": [
      "/Users/qianxie/Library/Python/3.9/lib/python/site-packages/botorch/models/utils/assorted.py:173: InputDataWarning: Input data is not contained to the unit cube. Please consider min-max scaling the input data.\n",
      "  warnings.warn(msg, InputDataWarning)\n"
     ]
    },
    {
     "name": "stdout",
     "output_type": "stream",
     "text": [
      "Iteration: 20\n",
      "new point: [[-0.3803762   0.16865434  1.          0.9392437 ]]\n",
      "new value: 0.858607292175293\n",
      "best oberved value: 0.8604236841201782\n",
      "\n"
     ]
    },
    {
     "name": "stderr",
     "output_type": "stream",
     "text": [
      "/Users/qianxie/Library/Python/3.9/lib/python/site-packages/botorch/models/utils/assorted.py:173: InputDataWarning: Input data is not contained to the unit cube. Please consider min-max scaling the input data.\n",
      "  warnings.warn(msg, InputDataWarning)\n"
     ]
    },
    {
     "name": "stdout",
     "output_type": "stream",
     "text": [
      "Iteration: 21\n",
      "new point: [[-0.38439333  0.14891365  1.          1.        ]]\n",
      "new value: 0.8602536916732788\n",
      "best oberved value: 0.8604236841201782\n",
      "\n"
     ]
    },
    {
     "name": "stderr",
     "output_type": "stream",
     "text": [
      "/Users/qianxie/Library/Python/3.9/lib/python/site-packages/botorch/models/utils/assorted.py:173: InputDataWarning: Input data is not contained to the unit cube. Please consider min-max scaling the input data.\n",
      "  warnings.warn(msg, InputDataWarning)\n"
     ]
    },
    {
     "name": "stdout",
     "output_type": "stream",
     "text": [
      "Iteration: 22\n",
      "new point: [[-0.4058634   0.1860337   1.          0.97658885]]\n",
      "new value: 0.8586143851280212\n",
      "best oberved value: 0.8604236841201782\n",
      "\n"
     ]
    },
    {
     "name": "stderr",
     "output_type": "stream",
     "text": [
      "/Users/qianxie/Library/Python/3.9/lib/python/site-packages/botorch/models/utils/assorted.py:173: InputDataWarning: Input data is not contained to the unit cube. Please consider min-max scaling the input data.\n",
      "  warnings.warn(msg, InputDataWarning)\n"
     ]
    },
    {
     "name": "stdout",
     "output_type": "stream",
     "text": [
      "Iteration: 23\n",
      "new point: [[-0.36859536  0.14621575  1.          1.        ]]\n",
      "new value: 0.860335648059845\n",
      "best oberved value: 0.8604236841201782\n",
      "\n"
     ]
    },
    {
     "name": "stderr",
     "output_type": "stream",
     "text": [
      "/Users/qianxie/Library/Python/3.9/lib/python/site-packages/botorch/models/utils/assorted.py:173: InputDataWarning: Input data is not contained to the unit cube. Please consider min-max scaling the input data.\n",
      "  warnings.warn(msg, InputDataWarning)\n"
     ]
    },
    {
     "name": "stdout",
     "output_type": "stream",
     "text": [
      "Iteration: 24\n",
      "new point: [[-0.3760651   0.15606701  1.          0.9503062 ]]\n",
      "new value: 0.858976423740387\n",
      "best oberved value: 0.8604236841201782\n",
      "\n"
     ]
    },
    {
     "name": "stderr",
     "output_type": "stream",
     "text": [
      "/Users/qianxie/Library/Python/3.9/lib/python/site-packages/botorch/models/utils/assorted.py:173: InputDataWarning: Input data is not contained to the unit cube. Please consider min-max scaling the input data.\n",
      "  warnings.warn(msg, InputDataWarning)\n"
     ]
    },
    {
     "name": "stdout",
     "output_type": "stream",
     "text": [
      "Iteration: 25\n",
      "new point: [[-0.37695462  0.14545147  1.          1.        ]]\n",
      "new value: 0.8603529930114746\n",
      "best oberved value: 0.8604236841201782\n",
      "\n"
     ]
    },
    {
     "name": "stderr",
     "output_type": "stream",
     "text": [
      "/Users/qianxie/Library/Python/3.9/lib/python/site-packages/botorch/models/utils/assorted.py:173: InputDataWarning: Input data is not contained to the unit cube. Please consider min-max scaling the input data.\n",
      "  warnings.warn(msg, InputDataWarning)\n"
     ]
    },
    {
     "name": "stdout",
     "output_type": "stream",
     "text": [
      "Iteration: 26\n",
      "new point: [[-0.37778568  0.1466472   1.          1.        ]]\n",
      "new value: 0.8603368997573853\n",
      "best oberved value: 0.8604236841201782\n",
      "\n"
     ]
    },
    {
     "name": "stderr",
     "output_type": "stream",
     "text": [
      "/Users/qianxie/Library/Python/3.9/lib/python/site-packages/botorch/models/utils/assorted.py:173: InputDataWarning: Input data is not contained to the unit cube. Please consider min-max scaling the input data.\n",
      "  warnings.warn(msg, InputDataWarning)\n"
     ]
    },
    {
     "name": "stdout",
     "output_type": "stream",
     "text": [
      "Iteration: 27\n",
      "new point: [[-0.38081807  0.1567306   1.          0.9626903 ]]\n",
      "new value: 0.8592967391014099\n",
      "best oberved value: 0.8604236841201782\n",
      "\n"
     ]
    },
    {
     "name": "stderr",
     "output_type": "stream",
     "text": [
      "/Users/qianxie/Library/Python/3.9/lib/python/site-packages/botorch/models/utils/assorted.py:173: InputDataWarning: Input data is not contained to the unit cube. Please consider min-max scaling the input data.\n",
      "  warnings.warn(msg, InputDataWarning)\n"
     ]
    },
    {
     "name": "stdout",
     "output_type": "stream",
     "text": [
      "Iteration: 28\n",
      "new point: [[-0.37923744  0.14744703  1.          1.        ]]\n",
      "new value: 0.8603200912475586\n",
      "best oberved value: 0.8604236841201782\n",
      "\n"
     ]
    },
    {
     "name": "stderr",
     "output_type": "stream",
     "text": [
      "/Users/qianxie/Library/Python/3.9/lib/python/site-packages/botorch/models/utils/assorted.py:173: InputDataWarning: Input data is not contained to the unit cube. Please consider min-max scaling the input data.\n",
      "  warnings.warn(msg, InputDataWarning)\n"
     ]
    },
    {
     "name": "stdout",
     "output_type": "stream",
     "text": [
      "Iteration: 29\n",
      "new point: [[-0.3792947   0.14842486  1.          1.        ]]\n",
      "new value: 0.8603084683418274\n",
      "best oberved value: 0.8604236841201782\n",
      "\n"
     ]
    },
    {
     "name": "stderr",
     "output_type": "stream",
     "text": [
      "/Users/qianxie/Library/Python/3.9/lib/python/site-packages/botorch/models/utils/assorted.py:173: InputDataWarning: Input data is not contained to the unit cube. Please consider min-max scaling the input data.\n",
      "  warnings.warn(msg, InputDataWarning)\n"
     ]
    },
    {
     "name": "stdout",
     "output_type": "stream",
     "text": [
      "Iteration: 30\n",
      "new point: [[-0.3819063   0.15683098  1.          0.9676962 ]]\n",
      "new value: 0.8594155311584473\n",
      "best oberved value: 0.8604236841201782\n",
      "\n"
     ]
    },
    {
     "name": "stderr",
     "output_type": "stream",
     "text": [
      "/Users/qianxie/Library/Python/3.9/lib/python/site-packages/botorch/models/utils/assorted.py:173: InputDataWarning: Input data is not contained to the unit cube. Please consider min-max scaling the input data.\n",
      "  warnings.warn(msg, InputDataWarning)\n"
     ]
    },
    {
     "name": "stdout",
     "output_type": "stream",
     "text": [
      "Iteration: 31\n",
      "new point: [[-0.3795883  0.1490398  1.         1.       ]]\n",
      "new value: 0.8602994680404663\n",
      "best oberved value: 0.8604236841201782\n",
      "\n"
     ]
    },
    {
     "name": "stderr",
     "output_type": "stream",
     "text": [
      "/Users/qianxie/Library/Python/3.9/lib/python/site-packages/botorch/models/utils/assorted.py:173: InputDataWarning: Input data is not contained to the unit cube. Please consider min-max scaling the input data.\n",
      "  warnings.warn(msg, InputDataWarning)\n"
     ]
    },
    {
     "name": "stdout",
     "output_type": "stream",
     "text": [
      "Iteration: 32\n",
      "new point: [[-0.38208243  0.15583242  1.          0.9734583 ]]\n",
      "new value: 0.8595651984214783\n",
      "best oberved value: 0.8604236841201782\n",
      "\n"
     ]
    },
    {
     "name": "stderr",
     "output_type": "stream",
     "text": [
      "/Users/qianxie/Library/Python/3.9/lib/python/site-packages/botorch/models/utils/assorted.py:173: InputDataWarning: Input data is not contained to the unit cube. Please consider min-max scaling the input data.\n",
      "  warnings.warn(msg, InputDataWarning)\n"
     ]
    },
    {
     "name": "stdout",
     "output_type": "stream",
     "text": [
      "Iteration: 33\n",
      "new point: [[-0.3795614   0.14968482  1.          1.        ]]\n",
      "new value: 0.8602920770645142\n",
      "best oberved value: 0.8604236841201782\n",
      "\n"
     ]
    },
    {
     "name": "stderr",
     "output_type": "stream",
     "text": [
      "/Users/qianxie/Library/Python/3.9/lib/python/site-packages/botorch/models/utils/assorted.py:173: InputDataWarning: Input data is not contained to the unit cube. Please consider min-max scaling the input data.\n",
      "  warnings.warn(msg, InputDataWarning)\n"
     ]
    },
    {
     "name": "stdout",
     "output_type": "stream",
     "text": [
      "Iteration: 34\n",
      "new point: [[-0.38204107  0.15560067  1.          0.9756023 ]]\n",
      "new value: 0.8596197962760925\n",
      "best oberved value: 0.8604236841201782\n",
      "\n"
     ]
    },
    {
     "name": "stderr",
     "output_type": "stream",
     "text": [
      "/Users/qianxie/Library/Python/3.9/lib/python/site-packages/botorch/models/utils/assorted.py:173: InputDataWarning: Input data is not contained to the unit cube. Please consider min-max scaling the input data.\n",
      "  warnings.warn(msg, InputDataWarning)\n"
     ]
    },
    {
     "name": "stdout",
     "output_type": "stream",
     "text": [
      "Iteration: 35\n",
      "new point: [[-0.37952182  0.15015908  1.          1.        ]]\n",
      "new value: 0.8602868318557739\n",
      "best oberved value: 0.8604236841201782\n",
      "\n"
     ]
    },
    {
     "name": "stderr",
     "output_type": "stream",
     "text": [
      "/Users/qianxie/Library/Python/3.9/lib/python/site-packages/botorch/models/utils/assorted.py:173: InputDataWarning: Input data is not contained to the unit cube. Please consider min-max scaling the input data.\n",
      "  warnings.warn(msg, InputDataWarning)\n"
     ]
    },
    {
     "name": "stdout",
     "output_type": "stream",
     "text": [
      "Iteration: 36\n",
      "new point: [[-0.38198757  0.15558371  1.          0.97707546]]\n",
      "new value: 0.8596560955047607\n",
      "best oberved value: 0.8604236841201782\n",
      "\n"
     ]
    },
    {
     "name": "stderr",
     "output_type": "stream",
     "text": [
      "/Users/qianxie/Library/Python/3.9/lib/python/site-packages/botorch/models/utils/assorted.py:173: InputDataWarning: Input data is not contained to the unit cube. Please consider min-max scaling the input data.\n",
      "  warnings.warn(msg, InputDataWarning)\n"
     ]
    },
    {
     "name": "stdout",
     "output_type": "stream",
     "text": [
      "Iteration: 37\n",
      "new point: [[-0.3818028  0.154967   1.         0.9796891]]\n",
      "new value: 0.8597270846366882\n",
      "best oberved value: 0.8604236841201782\n",
      "\n"
     ]
    },
    {
     "name": "stderr",
     "output_type": "stream",
     "text": [
      "/Users/qianxie/Library/Python/3.9/lib/python/site-packages/botorch/models/utils/assorted.py:173: InputDataWarning: Input data is not contained to the unit cube. Please consider min-max scaling the input data.\n",
      "  warnings.warn(msg, InputDataWarning)\n"
     ]
    },
    {
     "name": "stdout",
     "output_type": "stream",
     "text": [
      "Iteration: 38\n",
      "new point: [[-0.37942088  0.15057187  1.          1.        ]]\n",
      "new value: 0.8602825403213501\n",
      "best oberved value: 0.8604236841201782\n",
      "\n"
     ]
    },
    {
     "name": "stderr",
     "output_type": "stream",
     "text": [
      "/Users/qianxie/Library/Python/3.9/lib/python/site-packages/botorch/models/utils/assorted.py:173: InputDataWarning: Input data is not contained to the unit cube. Please consider min-max scaling the input data.\n",
      "  warnings.warn(msg, InputDataWarning)\n"
     ]
    },
    {
     "name": "stdout",
     "output_type": "stream",
     "text": [
      "Iteration: 39\n",
      "new point: [[-0.38179824  0.15519215  1.          0.9793808 ]]\n",
      "new value: 0.8597171902656555\n",
      "best oberved value: 0.8604236841201782\n",
      "\n"
     ]
    }
   ],
   "source": [
    "cost=0.002\n",
    "maximize=True\n",
    "test_Gittins(seed=seed, maximize=maximize, cost=cost, num_iterations=num_iterations, GI_best_dict=GI_best_dict)"
   ]
  },
  {
   "cell_type": "code",
   "execution_count": 96,
   "id": "93770748",
   "metadata": {},
   "outputs": [
    {
     "name": "stdout",
     "output_type": "stream",
     "text": [
      "Iteration: 0\n",
      "new point: [[-0.0579816   0.39341703  1.          0.8420945 ]]\n",
      "new value: 0.7817168235778809\n",
      "best oberved value: 0.7817168235778809\n",
      "\n"
     ]
    },
    {
     "name": "stderr",
     "output_type": "stream",
     "text": [
      "/Users/qianxie/Library/Python/3.9/lib/python/site-packages/botorch/models/utils/assorted.py:173: InputDataWarning: Input data is not contained to the unit cube. Please consider min-max scaling the input data.\n",
      "  warnings.warn(msg, InputDataWarning)\n"
     ]
    },
    {
     "name": "stdout",
     "output_type": "stream",
     "text": [
      "Iteration: 1\n",
      "new point: [[-0.4522837   0.27413598  0.8214559   0.7778433 ]]\n",
      "new value: 0.8005082607269287\n",
      "best oberved value: 0.8005082607269287\n",
      "\n"
     ]
    },
    {
     "name": "stderr",
     "output_type": "stream",
     "text": [
      "/Users/qianxie/Library/Python/3.9/lib/python/site-packages/botorch/models/utils/assorted.py:173: InputDataWarning: Input data is not contained to the unit cube. Please consider min-max scaling the input data.\n",
      "  warnings.warn(msg, InputDataWarning)\n"
     ]
    },
    {
     "name": "stdout",
     "output_type": "stream",
     "text": [
      "Iteration: 2\n",
      "new point: [[-0.4915937   0.81306475  1.          1.        ]]\n",
      "new value: 0.806412398815155\n",
      "best oberved value: 0.806412398815155\n",
      "\n"
     ]
    },
    {
     "name": "stderr",
     "output_type": "stream",
     "text": [
      "/Users/qianxie/Library/Python/3.9/lib/python/site-packages/botorch/models/utils/assorted.py:173: InputDataWarning: Input data is not contained to the unit cube. Please consider min-max scaling the input data.\n",
      "  warnings.warn(msg, InputDataWarning)\n"
     ]
    },
    {
     "name": "stdout",
     "output_type": "stream",
     "text": [
      "Iteration: 3\n",
      "new point: [[-0.69205344  0.7667307   1.          0.41919246]]\n",
      "new value: 0.7588918805122375\n",
      "best oberved value: 0.806412398815155\n",
      "\n"
     ]
    },
    {
     "name": "stderr",
     "output_type": "stream",
     "text": [
      "/Users/qianxie/Library/Python/3.9/lib/python/site-packages/botorch/models/utils/assorted.py:173: InputDataWarning: Input data is not contained to the unit cube. Please consider min-max scaling the input data.\n",
      "  warnings.warn(msg, InputDataWarning)\n"
     ]
    },
    {
     "name": "stdout",
     "output_type": "stream",
     "text": [
      "Iteration: 4\n",
      "new point: [[-0.7812877  0.8019106  0.4607442  0.9466325]]\n",
      "new value: 0.6505393981933594\n",
      "best oberved value: 0.806412398815155\n",
      "\n"
     ]
    },
    {
     "name": "stderr",
     "output_type": "stream",
     "text": [
      "/Users/qianxie/Library/Python/3.9/lib/python/site-packages/botorch/models/utils/assorted.py:173: InputDataWarning: Input data is not contained to the unit cube. Please consider min-max scaling the input data.\n",
      "  warnings.warn(msg, InputDataWarning)\n"
     ]
    },
    {
     "name": "stdout",
     "output_type": "stream",
     "text": [
      "Iteration: 5\n",
      "new point: [[-0.89503205  0.19846308  1.          1.        ]]\n",
      "new value: 0.6943988800048828\n",
      "best oberved value: 0.806412398815155\n",
      "\n"
     ]
    },
    {
     "name": "stderr",
     "output_type": "stream",
     "text": [
      "/Users/qianxie/Library/Python/3.9/lib/python/site-packages/botorch/models/utils/assorted.py:173: InputDataWarning: Input data is not contained to the unit cube. Please consider min-max scaling the input data.\n",
      "  warnings.warn(msg, InputDataWarning)\n"
     ]
    },
    {
     "name": "stdout",
     "output_type": "stream",
     "text": [
      "Iteration: 6\n",
      "new point: [[-0.2758295 -0.2963308  1.         1.       ]]\n",
      "new value: 0.8132977485656738\n",
      "best oberved value: 0.8132977485656738\n",
      "\n"
     ]
    },
    {
     "name": "stderr",
     "output_type": "stream",
     "text": [
      "/Users/qianxie/Library/Python/3.9/lib/python/site-packages/botorch/models/utils/assorted.py:173: InputDataWarning: Input data is not contained to the unit cube. Please consider min-max scaling the input data.\n",
      "  warnings.warn(msg, InputDataWarning)\n"
     ]
    },
    {
     "name": "stdout",
     "output_type": "stream",
     "text": [
      "Iteration: 7\n",
      "new point: [[-0.581364   -0.75304717  1.          0.52055526]]\n",
      "new value: 0.7345870733261108\n",
      "best oberved value: 0.8132977485656738\n",
      "\n"
     ]
    },
    {
     "name": "stderr",
     "output_type": "stream",
     "text": [
      "/Users/qianxie/Library/Python/3.9/lib/python/site-packages/botorch/models/utils/assorted.py:173: InputDataWarning: Input data is not contained to the unit cube. Please consider min-max scaling the input data.\n",
      "  warnings.warn(msg, InputDataWarning)\n"
     ]
    },
    {
     "name": "stdout",
     "output_type": "stream",
     "text": [
      "Iteration: 8\n",
      "new point: [[-0.46929225 -0.80983275  0.5188182   1.        ]]\n",
      "new value: 0.6138972640037537\n",
      "best oberved value: 0.8132977485656738\n",
      "\n"
     ]
    },
    {
     "name": "stderr",
     "output_type": "stream",
     "text": [
      "/Users/qianxie/Library/Python/3.9/lib/python/site-packages/botorch/models/utils/assorted.py:173: InputDataWarning: Input data is not contained to the unit cube. Please consider min-max scaling the input data.\n",
      "  warnings.warn(msg, InputDataWarning)\n"
     ]
    },
    {
     "name": "stdout",
     "output_type": "stream",
     "text": [
      "Iteration: 9\n",
      "new point: [[-0.37059352  0.24073888  1.          1.        ]]\n",
      "new value: 0.8584890961647034\n",
      "best oberved value: 0.8584890961647034\n",
      "\n"
     ]
    },
    {
     "name": "stderr",
     "output_type": "stream",
     "text": [
      "/Users/qianxie/Library/Python/3.9/lib/python/site-packages/botorch/models/utils/assorted.py:173: InputDataWarning: Input data is not contained to the unit cube. Please consider min-max scaling the input data.\n",
      "  warnings.warn(msg, InputDataWarning)\n"
     ]
    },
    {
     "name": "stdout",
     "output_type": "stream",
     "text": [
      "Iteration: 10\n",
      "new point: [[-0.40509185  0.07017934  1.          0.69373643]]\n",
      "new value: 0.8480720520019531\n",
      "best oberved value: 0.8584890961647034\n",
      "\n"
     ]
    },
    {
     "name": "stderr",
     "output_type": "stream",
     "text": [
      "/Users/qianxie/Library/Python/3.9/lib/python/site-packages/botorch/models/utils/assorted.py:173: InputDataWarning: Input data is not contained to the unit cube. Please consider min-max scaling the input data.\n",
      "  warnings.warn(msg, InputDataWarning)\n"
     ]
    },
    {
     "name": "stdout",
     "output_type": "stream",
     "text": [
      "Iteration: 11\n",
      "new point: [[-0.37810636  0.4775923   1.          0.7549651 ]]\n",
      "new value: 0.8411335945129395\n",
      "best oberved value: 0.8584890961647034\n",
      "\n"
     ]
    },
    {
     "name": "stderr",
     "output_type": "stream",
     "text": [
      "/Users/qianxie/Library/Python/3.9/lib/python/site-packages/botorch/models/utils/assorted.py:173: InputDataWarning: Input data is not contained to the unit cube. Please consider min-max scaling the input data.\n",
      "  warnings.warn(msg, InputDataWarning)\n"
     ]
    },
    {
     "name": "stdout",
     "output_type": "stream",
     "text": [
      "Iteration: 12\n",
      "new point: [[-0.47249568  0.04068279  1.          0.92296964]]\n",
      "new value: 0.8544551134109497\n",
      "best oberved value: 0.8584890961647034\n",
      "\n"
     ]
    },
    {
     "name": "stderr",
     "output_type": "stream",
     "text": [
      "/Users/qianxie/Library/Python/3.9/lib/python/site-packages/botorch/models/utils/assorted.py:173: InputDataWarning: Input data is not contained to the unit cube. Please consider min-max scaling the input data.\n",
      "  warnings.warn(msg, InputDataWarning)\n"
     ]
    },
    {
     "name": "stdout",
     "output_type": "stream",
     "text": [
      "Iteration: 13\n",
      "new point: [[-0.35087496  0.13658977  1.          0.8847517 ]]\n",
      "new value: 0.856113076210022\n",
      "best oberved value: 0.8584890961647034\n",
      "\n"
     ]
    },
    {
     "name": "stderr",
     "output_type": "stream",
     "text": [
      "/Users/qianxie/Library/Python/3.9/lib/python/site-packages/botorch/models/utils/assorted.py:173: InputDataWarning: Input data is not contained to the unit cube. Please consider min-max scaling the input data.\n",
      "  warnings.warn(msg, InputDataWarning)\n"
     ]
    },
    {
     "name": "stdout",
     "output_type": "stream",
     "text": [
      "Iteration: 14\n",
      "new point: [[-0.45592594  0.26497874  1.          0.8768367 ]]\n",
      "new value: 0.8520909547805786\n",
      "best oberved value: 0.8584890961647034\n",
      "\n"
     ]
    },
    {
     "name": "stderr",
     "output_type": "stream",
     "text": [
      "/Users/qianxie/Library/Python/3.9/lib/python/site-packages/botorch/models/utils/assorted.py:173: InputDataWarning: Input data is not contained to the unit cube. Please consider min-max scaling the input data.\n",
      "  warnings.warn(msg, InputDataWarning)\n"
     ]
    },
    {
     "name": "stdout",
     "output_type": "stream",
     "text": [
      "Iteration: 15\n",
      "new point: [[-0.36191     0.17478526  1.          1.        ]]\n",
      "new value: 0.8599483370780945\n",
      "best oberved value: 0.8599483370780945\n",
      "\n"
     ]
    },
    {
     "name": "stderr",
     "output_type": "stream",
     "text": [
      "/Users/qianxie/Library/Python/3.9/lib/python/site-packages/botorch/models/utils/assorted.py:173: InputDataWarning: Input data is not contained to the unit cube. Please consider min-max scaling the input data.\n",
      "  warnings.warn(msg, InputDataWarning)\n"
     ]
    },
    {
     "name": "stdout",
     "output_type": "stream",
     "text": [
      "Iteration: 16\n",
      "new point: [[-0.37761897  0.1325211   1.          0.90152866]]\n",
      "new value: 0.8575567007064819\n",
      "best oberved value: 0.8599483370780945\n",
      "\n"
     ]
    },
    {
     "name": "stderr",
     "output_type": "stream",
     "text": [
      "/Users/qianxie/Library/Python/3.9/lib/python/site-packages/botorch/models/utils/assorted.py:173: InputDataWarning: Input data is not contained to the unit cube. Please consider min-max scaling the input data.\n",
      "  warnings.warn(msg, InputDataWarning)\n"
     ]
    },
    {
     "name": "stdout",
     "output_type": "stream",
     "text": [
      "Iteration: 17\n",
      "new point: [[-0.34120026  0.33181798  1.          1.        ]]\n",
      "new value: 0.854751706123352\n",
      "best oberved value: 0.8599483370780945\n",
      "\n"
     ]
    },
    {
     "name": "stderr",
     "output_type": "stream",
     "text": [
      "/Users/qianxie/Library/Python/3.9/lib/python/site-packages/botorch/models/utils/assorted.py:173: InputDataWarning: Input data is not contained to the unit cube. Please consider min-max scaling the input data.\n",
      "  warnings.warn(msg, InputDataWarning)\n"
     ]
    },
    {
     "name": "stdout",
     "output_type": "stream",
     "text": [
      "Iteration: 18\n",
      "new point: [[-0.39963737  0.12040659  1.          1.        ]]\n",
      "new value: 0.8602756261825562\n",
      "best oberved value: 0.8602756261825562\n",
      "\n"
     ]
    },
    {
     "name": "stderr",
     "output_type": "stream",
     "text": [
      "/Users/qianxie/Library/Python/3.9/lib/python/site-packages/botorch/models/utils/assorted.py:173: InputDataWarning: Input data is not contained to the unit cube. Please consider min-max scaling the input data.\n",
      "  warnings.warn(msg, InputDataWarning)\n"
     ]
    },
    {
     "name": "stdout",
     "output_type": "stream",
     "text": [
      "Iteration: 19\n",
      "new point: [[-0.8181088  -0.04146829  1.         -0.37942785]]\n",
      "new value: 0.8549695014953613\n",
      "best oberved value: 0.8602756261825562\n",
      "\n"
     ]
    },
    {
     "name": "stderr",
     "output_type": "stream",
     "text": [
      "/Users/qianxie/Library/Python/3.9/lib/python/site-packages/botorch/models/utils/assorted.py:173: InputDataWarning: Input data is not contained to the unit cube. Please consider min-max scaling the input data.\n",
      "  warnings.warn(msg, InputDataWarning)\n"
     ]
    },
    {
     "name": "stdout",
     "output_type": "stream",
     "text": [
      "Iteration: 20\n",
      "new point: [[-1.         0.4654504  1.        -1.       ]]\n",
      "new value: 0.6853456497192383\n",
      "best oberved value: 0.8602756261825562\n",
      "\n"
     ]
    },
    {
     "name": "stderr",
     "output_type": "stream",
     "text": [
      "/Users/qianxie/Library/Python/3.9/lib/python/site-packages/botorch/models/utils/assorted.py:173: InputDataWarning: Input data is not contained to the unit cube. Please consider min-max scaling the input data.\n",
      "  warnings.warn(msg, InputDataWarning)\n"
     ]
    },
    {
     "name": "stdout",
     "output_type": "stream",
     "text": [
      "Iteration: 21\n",
      "new point: [[-0.9903403 -0.8657671  1.        -0.6053879]]\n",
      "new value: 0.5788416266441345\n",
      "best oberved value: 0.8602756261825562\n",
      "\n"
     ]
    },
    {
     "name": "stderr",
     "output_type": "stream",
     "text": [
      "/Users/qianxie/Library/Python/3.9/lib/python/site-packages/botorch/models/utils/assorted.py:173: InputDataWarning: Input data is not contained to the unit cube. Please consider min-max scaling the input data.\n",
      "  warnings.warn(msg, InputDataWarning)\n"
     ]
    },
    {
     "name": "stdout",
     "output_type": "stream",
     "text": [
      "Iteration: 22\n",
      "new point: [[-0.74443436  0.17209162  0.6489874  -0.28049123]]\n",
      "new value: 0.8487480878829956\n",
      "best oberved value: 0.8602756261825562\n",
      "\n"
     ]
    },
    {
     "name": "stderr",
     "output_type": "stream",
     "text": [
      "/Users/qianxie/Library/Python/3.9/lib/python/site-packages/botorch/models/utils/assorted.py:173: InputDataWarning: Input data is not contained to the unit cube. Please consider min-max scaling the input data.\n",
      "  warnings.warn(msg, InputDataWarning)\n"
     ]
    },
    {
     "name": "stdout",
     "output_type": "stream",
     "text": [
      "Iteration: 23\n",
      "new point: [[-0.56714     0.32132837  1.         -0.34126785]]\n",
      "new value: 0.9473687410354614\n",
      "best oberved value: 0.9473687410354614\n",
      "\n"
     ]
    },
    {
     "name": "stderr",
     "output_type": "stream",
     "text": [
      "/Users/qianxie/Library/Python/3.9/lib/python/site-packages/botorch/models/utils/assorted.py:173: InputDataWarning: Input data is not contained to the unit cube. Please consider min-max scaling the input data.\n",
      "  warnings.warn(msg, InputDataWarning)\n"
     ]
    },
    {
     "name": "stdout",
     "output_type": "stream",
     "text": [
      "Iteration: 24\n",
      "new point: [[-0.5409152  0.8619202  1.        -0.512648 ]]\n",
      "new value: 0.8737488985061646\n",
      "best oberved value: 0.9473687410354614\n",
      "\n"
     ]
    },
    {
     "name": "stderr",
     "output_type": "stream",
     "text": [
      "/Users/qianxie/Library/Python/3.9/lib/python/site-packages/botorch/models/utils/assorted.py:173: InputDataWarning: Input data is not contained to the unit cube. Please consider min-max scaling the input data.\n",
      "  warnings.warn(msg, InputDataWarning)\n"
     ]
    },
    {
     "name": "stdout",
     "output_type": "stream",
     "text": [
      "Iteration: 25\n",
      "new point: [[-0.46328905  0.15775159  1.         -0.6699293 ]]\n",
      "new value: 0.8523853421211243\n",
      "best oberved value: 0.9473687410354614\n",
      "\n"
     ]
    },
    {
     "name": "stderr",
     "output_type": "stream",
     "text": [
      "/Users/qianxie/Library/Python/3.9/lib/python/site-packages/botorch/models/utils/assorted.py:173: InputDataWarning: Input data is not contained to the unit cube. Please consider min-max scaling the input data.\n",
      "  warnings.warn(msg, InputDataWarning)\n"
     ]
    },
    {
     "name": "stdout",
     "output_type": "stream",
     "text": [
      "Iteration: 26\n",
      "new point: [[-0.5693428   0.17814723  1.         -0.11845243]]\n",
      "new value: 0.9300435185432434\n",
      "best oberved value: 0.9473687410354614\n",
      "\n"
     ]
    },
    {
     "name": "stderr",
     "output_type": "stream",
     "text": [
      "/Users/qianxie/Library/Python/3.9/lib/python/site-packages/botorch/models/utils/assorted.py:173: InputDataWarning: Input data is not contained to the unit cube. Please consider min-max scaling the input data.\n",
      "  warnings.warn(msg, InputDataWarning)\n"
     ]
    },
    {
     "name": "stdout",
     "output_type": "stream",
     "text": [
      "Iteration: 27\n",
      "new point: [[-0.6724641   0.445753    1.         -0.28343573]]\n",
      "new value: 0.9404746890068054\n",
      "best oberved value: 0.9473687410354614\n",
      "\n"
     ]
    },
    {
     "name": "stderr",
     "output_type": "stream",
     "text": [
      "/Users/qianxie/Library/Python/3.9/lib/python/site-packages/botorch/models/utils/assorted.py:173: InputDataWarning: Input data is not contained to the unit cube. Please consider min-max scaling the input data.\n",
      "  warnings.warn(msg, InputDataWarning)\n"
     ]
    },
    {
     "name": "stdout",
     "output_type": "stream",
     "text": [
      "Iteration: 28\n",
      "new point: [[-0.5467841   0.44541284  1.         -0.2443366 ]]\n",
      "new value: 0.9350415468215942\n",
      "best oberved value: 0.9473687410354614\n",
      "\n"
     ]
    },
    {
     "name": "stderr",
     "output_type": "stream",
     "text": [
      "/Users/qianxie/Library/Python/3.9/lib/python/site-packages/botorch/models/utils/assorted.py:173: InputDataWarning: Input data is not contained to the unit cube. Please consider min-max scaling the input data.\n",
      "  warnings.warn(msg, InputDataWarning)\n"
     ]
    },
    {
     "name": "stdout",
     "output_type": "stream",
     "text": [
      "Iteration: 29\n",
      "new point: [[-0.6223013   0.30616057  1.         -0.3336916 ]]\n",
      "new value: 0.9504745602607727\n",
      "best oberved value: 0.9504745602607727\n",
      "\n"
     ]
    },
    {
     "name": "stderr",
     "output_type": "stream",
     "text": [
      "/Users/qianxie/Library/Python/3.9/lib/python/site-packages/botorch/models/utils/assorted.py:173: InputDataWarning: Input data is not contained to the unit cube. Please consider min-max scaling the input data.\n",
      "  warnings.warn(msg, InputDataWarning)\n"
     ]
    },
    {
     "name": "stdout",
     "output_type": "stream",
     "text": [
      "Iteration: 30\n",
      "new point: [[-0.60603964  0.35126883  0.9120089  -0.3403618 ]]\n",
      "new value: 0.9414796829223633\n",
      "best oberved value: 0.9504745602607727\n",
      "\n"
     ]
    },
    {
     "name": "stderr",
     "output_type": "stream",
     "text": [
      "/Users/qianxie/Library/Python/3.9/lib/python/site-packages/botorch/models/utils/assorted.py:173: InputDataWarning: Input data is not contained to the unit cube. Please consider min-max scaling the input data.\n",
      "  warnings.warn(msg, InputDataWarning)\n"
     ]
    },
    {
     "name": "stdout",
     "output_type": "stream",
     "text": [
      "Iteration: 31\n",
      "new point: [[-0.6204046   0.30379808  1.         -0.3155338 ]]\n",
      "new value: 0.9516568183898926\n",
      "best oberved value: 0.9516568183898926\n",
      "\n"
     ]
    },
    {
     "name": "stderr",
     "output_type": "stream",
     "text": [
      "/Users/qianxie/Library/Python/3.9/lib/python/site-packages/botorch/models/utils/assorted.py:173: InputDataWarning: Input data is not contained to the unit cube. Please consider min-max scaling the input data.\n",
      "  warnings.warn(msg, InputDataWarning)\n"
     ]
    },
    {
     "name": "stdout",
     "output_type": "stream",
     "text": [
      "Iteration: 32\n",
      "new point: [[-0.61979604  0.3074066   1.         -0.31484923]]\n",
      "new value: 0.9516940712928772\n",
      "best oberved value: 0.9516940712928772\n",
      "\n"
     ]
    },
    {
     "name": "stderr",
     "output_type": "stream",
     "text": [
      "/Users/qianxie/Library/Python/3.9/lib/python/site-packages/botorch/models/utils/assorted.py:173: InputDataWarning: Input data is not contained to the unit cube. Please consider min-max scaling the input data.\n",
      "  warnings.warn(msg, InputDataWarning)\n"
     ]
    },
    {
     "name": "stdout",
     "output_type": "stream",
     "text": [
      "Iteration: 33\n",
      "new point: [[-0.61931616  0.31008506  1.         -0.3142699 ]]\n",
      "new value: 0.9517187476158142\n",
      "best oberved value: 0.9517187476158142\n",
      "\n"
     ]
    },
    {
     "name": "stderr",
     "output_type": "stream",
     "text": [
      "/Users/qianxie/Library/Python/3.9/lib/python/site-packages/botorch/models/utils/assorted.py:173: InputDataWarning: Input data is not contained to the unit cube. Please consider min-max scaling the input data.\n",
      "  warnings.warn(msg, InputDataWarning)\n"
     ]
    },
    {
     "name": "stdout",
     "output_type": "stream",
     "text": [
      "Iteration: 34\n",
      "new point: [[-0.61892194  0.31211534  1.         -0.31377319]]\n",
      "new value: 0.9517366886138916\n",
      "best oberved value: 0.9517366886138916\n",
      "\n"
     ]
    },
    {
     "name": "stderr",
     "output_type": "stream",
     "text": [
      "/Users/qianxie/Library/Python/3.9/lib/python/site-packages/botorch/models/utils/assorted.py:173: InputDataWarning: Input data is not contained to the unit cube. Please consider min-max scaling the input data.\n",
      "  warnings.warn(msg, InputDataWarning)\n"
     ]
    },
    {
     "name": "stdout",
     "output_type": "stream",
     "text": [
      "Iteration: 35\n",
      "new point: [[-0.6185888   0.31364575  1.         -0.3133    ]]\n",
      "new value: 0.9517538547515869\n",
      "best oberved value: 0.9517538547515869\n",
      "\n"
     ]
    },
    {
     "name": "stderr",
     "output_type": "stream",
     "text": [
      "/Users/qianxie/Library/Python/3.9/lib/python/site-packages/botorch/models/utils/assorted.py:173: InputDataWarning: Input data is not contained to the unit cube. Please consider min-max scaling the input data.\n",
      "  warnings.warn(msg, InputDataWarning)\n"
     ]
    },
    {
     "name": "stdout",
     "output_type": "stream",
     "text": [
      "Iteration: 36\n",
      "new point: [[-0.6207478  0.3383851  1.        -0.3417363]]\n",
      "new value: 0.949491560459137\n",
      "best oberved value: 0.9517538547515869\n",
      "\n"
     ]
    },
    {
     "name": "stderr",
     "output_type": "stream",
     "text": [
      "/Users/qianxie/Library/Python/3.9/lib/python/site-packages/botorch/models/utils/assorted.py:173: InputDataWarning: Input data is not contained to the unit cube. Please consider min-max scaling the input data.\n",
      "  warnings.warn(msg, InputDataWarning)\n"
     ]
    },
    {
     "name": "stdout",
     "output_type": "stream",
     "text": [
      "Iteration: 37\n",
      "new point: [[-0.61831635  0.298368    1.         -0.2901709 ]]\n",
      "new value: 0.9529348611831665\n",
      "best oberved value: 0.9529348611831665\n",
      "\n"
     ]
    },
    {
     "name": "stderr",
     "output_type": "stream",
     "text": [
      "/Users/qianxie/Library/Python/3.9/lib/python/site-packages/botorch/models/utils/assorted.py:173: InputDataWarning: Input data is not contained to the unit cube. Please consider min-max scaling the input data.\n",
      "  warnings.warn(msg, InputDataWarning)\n"
     ]
    },
    {
     "name": "stdout",
     "output_type": "stream",
     "text": [
      "Iteration: 38\n",
      "new point: [[-0.6182771   0.2984986   1.         -0.29043448]]\n",
      "new value: 0.9529258608818054\n",
      "best oberved value: 0.9529348611831665\n",
      "\n"
     ]
    },
    {
     "name": "stderr",
     "output_type": "stream",
     "text": [
      "/Users/qianxie/Library/Python/3.9/lib/python/site-packages/botorch/models/utils/assorted.py:173: InputDataWarning: Input data is not contained to the unit cube. Please consider min-max scaling the input data.\n",
      "  warnings.warn(msg, InputDataWarning)\n"
     ]
    },
    {
     "name": "stdout",
     "output_type": "stream",
     "text": [
      "Iteration: 39\n",
      "new point: [[-0.61817855  0.29880047  1.         -0.29090947]]\n",
      "new value: 0.9529100060462952\n",
      "best oberved value: 0.9529348611831665\n",
      "\n"
     ]
    }
   ],
   "source": [
    "cost=0.001\n",
    "maximize=True\n",
    "test_Gittins(seed=seed, maximize=maximize, cost=cost, num_iterations=num_iterations, GI_best_dict=GI_best_dict)"
   ]
  },
  {
   "cell_type": "code",
   "execution_count": 97,
   "id": "ce725770",
   "metadata": {},
   "outputs": [
    {
     "data": {
      "text/plain": [
       "Text(0.5, 1.0, 'Performance of EI policy vs Gittins policy')"
      ]
     },
     "execution_count": 97,
     "metadata": {},
     "output_type": "execute_result"
    },
    {
     "data": {
      "image/png": "[encoded data removed]",
      "text/plain": [
       "<Figure size 640x480 with 1 Axes>"
      ]
     },
     "metadata": {},
     "output_type": "display_data"
    }
   ],
   "source": [
    "# Plotting EI\n",
    "plt.plot(EI_best, '.-', label='EI')\n",
    "\n",
    "# Plotting Gittins\n",
    "for cost in sorted(GI_best_dict.keys(), reverse=True):\n",
    "    label = \"Gittins (lambda={})\".format(cost)\n",
    "    plt.plot(GI_best_dict[cost], '.-', label=label)\n",
    "\n",
    "# Adding legend\n",
    "plt.legend()\n",
    "\n",
    "plt.xlabel('Iteration')\n",
    "plt.ylabel('Best value found')\n",
    "plt.title(\"Performance of EI policy vs Gittins policy\")"
   ]
  },
  {
   "cell_type": "code",
   "execution_count": 98,
   "id": "0eddd36a",
   "metadata": {},
   "outputs": [
    {
     "name": "stdout",
     "output_type": "stream",
     "text": [
      "Iteration: 0\n",
      "new point: [[0.02732422 0.41910017 1.         0.7322325 ]]\n",
      "new value: 0.7361763119697571\n",
      "best oberved value: 0.7361763119697571\n",
      "\n",
      "Iteration: 1\n",
      "new point: [[-0.28643322  0.306738    0.8863635   0.74330986]]\n",
      "new value: 0.8107500672340393\n",
      "best oberved value: 0.8107500672340393\n",
      "\n"
     ]
    },
    {
     "name": "stderr",
     "output_type": "stream",
     "text": [
      "/Users/qianxie/Library/Python/3.9/lib/python/site-packages/botorch/models/utils/assorted.py:173: InputDataWarning: Input data is not contained to the unit cube. Please consider min-max scaling the input data.\n",
      "  warnings.warn(msg, InputDataWarning)\n",
      "/Users/qianxie/Library/Python/3.9/lib/python/site-packages/botorch/models/utils/assorted.py:173: InputDataWarning: Input data is not contained to the unit cube. Please consider min-max scaling the input data.\n",
      "  warnings.warn(msg, InputDataWarning)\n"
     ]
    },
    {
     "name": "stdout",
     "output_type": "stream",
     "text": [
      "Iteration: 2\n",
      "new point: [[-0.39492965  0.5940162   0.94500774  1.        ]]\n",
      "new value: 0.8231903910636902\n",
      "best oberved value: 0.8231903910636902\n",
      "\n",
      "Iteration: 3\n",
      "new point: [[-0.61872065  0.5826272   1.          0.6266795 ]]\n",
      "new value: 0.8006774187088013\n",
      "best oberved value: 0.8231903910636902\n",
      "\n"
     ]
    },
    {
     "name": "stderr",
     "output_type": "stream",
     "text": [
      "/Users/qianxie/Library/Python/3.9/lib/python/site-packages/botorch/models/utils/assorted.py:173: InputDataWarning: Input data is not contained to the unit cube. Please consider min-max scaling the input data.\n",
      "  warnings.warn(msg, InputDataWarning)\n",
      "/Users/qianxie/Library/Python/3.9/lib/python/site-packages/botorch/models/utils/assorted.py:173: InputDataWarning: Input data is not contained to the unit cube. Please consider min-max scaling the input data.\n",
      "  warnings.warn(msg, InputDataWarning)\n"
     ]
    },
    {
     "name": "stdout",
     "output_type": "stream",
     "text": [
      "Iteration: 4\n",
      "new point: [[-0.6452025  0.147748   1.         1.       ]]\n",
      "new value: 0.807350754737854\n",
      "best oberved value: 0.8231903910636902\n",
      "\n",
      "Iteration: 5\n",
      "new point: [[-0.6780789   0.41878504  0.5930828   0.92014   ]]\n",
      "new value: 0.7081360816955566\n",
      "best oberved value: 0.8231903910636902\n",
      "\n"
     ]
    },
    {
     "name": "stderr",
     "output_type": "stream",
     "text": [
      "/Users/qianxie/Library/Python/3.9/lib/python/site-packages/botorch/models/utils/assorted.py:173: InputDataWarning: Input data is not contained to the unit cube. Please consider min-max scaling the input data.\n",
      "  warnings.warn(msg, InputDataWarning)\n",
      "/Users/qianxie/Library/Python/3.9/lib/python/site-packages/botorch/models/utils/assorted.py:173: InputDataWarning: Input data is not contained to the unit cube. Please consider min-max scaling the input data.\n",
      "  warnings.warn(msg, InputDataWarning)\n"
     ]
    },
    {
     "name": "stdout",
     "output_type": "stream",
     "text": [
      "Iteration: 6\n",
      "new point: [[-0.2876322   0.06765164  1.          1.        ]]\n",
      "new value: 0.8551081418991089\n",
      "best oberved value: 0.8551081418991089\n",
      "\n",
      "Iteration: 7\n",
      "new point: [[-0.36955267 -0.46722504  1.          1.        ]]\n",
      "new value: 0.8019105195999146\n",
      "best oberved value: 0.8551081418991089\n",
      "\n",
      "Iteration: 8\n",
      "new point: [[-0.4823286  -0.09662573  1.          0.6746964 ]]\n",
      "new value: 0.836407482624054\n",
      "best oberved value: 0.8551081418991089\n",
      "\n"
     ]
    },
    {
     "name": "stderr",
     "output_type": "stream",
     "text": [
      "/Users/qianxie/Library/Python/3.9/lib/python/site-packages/botorch/models/utils/assorted.py:173: InputDataWarning: Input data is not contained to the unit cube. Please consider min-max scaling the input data.\n",
      "  warnings.warn(msg, InputDataWarning)\n",
      "/Users/qianxie/Library/Python/3.9/lib/python/site-packages/botorch/models/utils/assorted.py:173: InputDataWarning: Input data is not contained to the unit cube. Please consider min-max scaling the input data.\n",
      "  warnings.warn(msg, InputDataWarning)\n"
     ]
    },
    {
     "name": "stdout",
     "output_type": "stream",
     "text": [
      "Iteration: 9\n",
      "new point: [[-0.41600183  0.19062531  1.          0.8719975 ]]\n",
      "new value: 0.8562904000282288\n",
      "best oberved value: 0.8562904000282288\n",
      "\n",
      "Iteration: 10\n",
      "new point: [[-0.40656686  0.02306018  1.          1.        ]]\n",
      "new value: 0.8600863218307495\n",
      "best oberved value: 0.8600863218307495\n",
      "\n",
      "Iteration: 11\n",
      "new point: [[-0.33817926 -0.03765669  1.          0.85520625]]\n",
      "new value: 0.8455727100372314\n",
      "best oberved value: 0.8600863218307495\n",
      "\n"
     ]
    },
    {
     "name": "stderr",
     "output_type": "stream",
     "text": [
      "/Users/qianxie/Library/Python/3.9/lib/python/site-packages/botorch/models/utils/assorted.py:173: InputDataWarning: Input data is not contained to the unit cube. Please consider min-max scaling the input data.\n",
      "  warnings.warn(msg, InputDataWarning)\n",
      "/Users/qianxie/Library/Python/3.9/lib/python/site-packages/botorch/models/utils/assorted.py:173: InputDataWarning: Input data is not contained to the unit cube. Please consider min-max scaling the input data.\n",
      "  warnings.warn(msg, InputDataWarning)\n",
      "/Users/qianxie/Library/Python/3.9/lib/python/site-packages/botorch/models/utils/assorted.py:173: InputDataWarning: Input data is not contained to the unit cube. Please consider min-max scaling the input data.\n",
      "  warnings.warn(msg, InputDataWarning)\n"
     ]
    },
    {
     "name": "stdout",
     "output_type": "stream",
     "text": [
      "Iteration: 12\n",
      "new point: [[-0.33952612  0.25636727  1.          1.        ]]\n",
      "new value: 0.857713520526886\n",
      "best oberved value: 0.8600863218307495\n",
      "\n",
      "Iteration: 13\n",
      "new point: [[-0.396265    0.15381458  1.          1.        ]]\n",
      "new value: 0.8599474430084229\n",
      "best oberved value: 0.8600863218307495\n",
      "\n",
      "Iteration: 14\n",
      "new point: [[-0.38640139  0.13866869  1.          1.        ]]\n",
      "new value: 0.8603460788726807\n",
      "best oberved value: 0.8603460788726807\n",
      "\n"
     ]
    },
    {
     "name": "stderr",
     "output_type": "stream",
     "text": [
      "/Users/qianxie/Library/Python/3.9/lib/python/site-packages/botorch/models/utils/assorted.py:173: InputDataWarning: Input data is not contained to the unit cube. Please consider min-max scaling the input data.\n",
      "  warnings.warn(msg, InputDataWarning)\n",
      "/Users/qianxie/Library/Python/3.9/lib/python/site-packages/botorch/models/utils/assorted.py:173: InputDataWarning: Input data is not contained to the unit cube. Please consider min-max scaling the input data.\n",
      "  warnings.warn(msg, InputDataWarning)\n",
      "/Users/qianxie/Library/Python/3.9/lib/python/site-packages/botorch/models/utils/assorted.py:173: InputDataWarning: Input data is not contained to the unit cube. Please consider min-max scaling the input data.\n",
      "  warnings.warn(msg, InputDataWarning)\n"
     ]
    },
    {
     "name": "stdout",
     "output_type": "stream",
     "text": [
      "Iteration: 15\n",
      "new point: [[-0.3039545   0.23990056  1.          1.        ]]\n",
      "new value: 0.856541097164154\n",
      "best oberved value: 0.8603460788726807\n",
      "\n",
      "Iteration: 16\n",
      "new point: [[-0.39350775  0.06001681  1.          1.        ]]\n",
      "new value: 0.8604865670204163\n",
      "best oberved value: 0.8604865670204163\n",
      "\n",
      "Iteration: 17\n",
      "new point: [[-0.39536607  0.20499086  1.          1.        ]]\n",
      "new value: 0.8589374423027039\n",
      "best oberved value: 0.8604865670204163\n",
      "\n"
     ]
    },
    {
     "name": "stderr",
     "output_type": "stream",
     "text": [
      "/Users/qianxie/Library/Python/3.9/lib/python/site-packages/botorch/models/utils/assorted.py:173: InputDataWarning: Input data is not contained to the unit cube. Please consider min-max scaling the input data.\n",
      "  warnings.warn(msg, InputDataWarning)\n",
      "/Users/qianxie/Library/Python/3.9/lib/python/site-packages/botorch/models/utils/assorted.py:173: InputDataWarning: Input data is not contained to the unit cube. Please consider min-max scaling the input data.\n",
      "  warnings.warn(msg, InputDataWarning)\n",
      "/Users/qianxie/Library/Python/3.9/lib/python/site-packages/botorch/models/utils/assorted.py:173: InputDataWarning: Input data is not contained to the unit cube. Please consider min-max scaling the input data.\n",
      "  warnings.warn(msg, InputDataWarning)\n"
     ]
    },
    {
     "name": "stdout",
     "output_type": "stream",
     "text": [
      "Iteration: 18\n",
      "new point: [[-0.41177958  0.18586884  1.          0.8794949 ]]\n",
      "new value: 0.8566274046897888\n",
      "best oberved value: 0.8604865670204163\n",
      "\n",
      "Iteration: 19\n",
      "new point: [[-0.78370446 -0.09977434  1.          0.18377155]]\n",
      "new value: 0.7824586629867554\n",
      "best oberved value: 0.8604865670204163\n",
      "\n",
      "Iteration: 20\n",
      "new point: [[-0.36996368  0.04783456  0.8880145   1.        ]]\n",
      "new value: 0.823692262172699\n",
      "best oberved value: 0.8604865670204163\n",
      "\n"
     ]
    },
    {
     "name": "stderr",
     "output_type": "stream",
     "text": [
      "/Users/qianxie/Library/Python/3.9/lib/python/site-packages/botorch/models/utils/assorted.py:173: InputDataWarning: Input data is not contained to the unit cube. Please consider min-max scaling the input data.\n",
      "  warnings.warn(msg, InputDataWarning)\n",
      "/Users/qianxie/Library/Python/3.9/lib/python/site-packages/botorch/models/utils/assorted.py:173: InputDataWarning: Input data is not contained to the unit cube. Please consider min-max scaling the input data.\n",
      "  warnings.warn(msg, InputDataWarning)\n",
      "/Users/qianxie/Library/Python/3.9/lib/python/site-packages/botorch/models/utils/assorted.py:173: InputDataWarning: Input data is not contained to the unit cube. Please consider min-max scaling the input data.\n",
      "  warnings.warn(msg, InputDataWarning)\n"
     ]
    },
    {
     "name": "stdout",
     "output_type": "stream",
     "text": [
      "Iteration: 21\n",
      "new point: [[-0.33240807  0.21804255  1.          1.        ]]\n",
      "new value: 0.8585087060928345\n",
      "best oberved value: 0.8604865670204163\n",
      "\n"
     ]
    },
    {
     "name": "stderr",
     "output_type": "stream",
     "text": [
      "/Users/qianxie/Library/Python/3.9/lib/python/site-packages/botorch/models/utils/assorted.py:173: InputDataWarning: Input data is not contained to the unit cube. Please consider min-max scaling the input data.\n",
      "  warnings.warn(msg, InputDataWarning)\n"
     ]
    },
    {
     "name": "stdout",
     "output_type": "stream",
     "text": [
      "Iteration: 22\n",
      "new point: [[-0.37506506  0.21483016  1.          1.        ]]\n",
      "new value: 0.8591454029083252\n",
      "best oberved value: 0.8604865670204163\n",
      "\n",
      "Iteration: 23\n",
      "new point: [[-0.80804735 -0.8739583   1.          0.45742908]]\n",
      "new value: 0.6988344788551331\n",
      "best oberved value: 0.8604865670204163\n",
      "\n"
     ]
    },
    {
     "name": "stderr",
     "output_type": "stream",
     "text": [
      "/Users/qianxie/Library/Python/3.9/lib/python/site-packages/botorch/models/utils/assorted.py:173: InputDataWarning: Input data is not contained to the unit cube. Please consider min-max scaling the input data.\n",
      "  warnings.warn(msg, InputDataWarning)\n",
      "/Users/qianxie/Library/Python/3.9/lib/python/site-packages/botorch/models/utils/assorted.py:173: InputDataWarning: Input data is not contained to the unit cube. Please consider min-max scaling the input data.\n",
      "  warnings.warn(msg, InputDataWarning)\n"
     ]
    },
    {
     "name": "stdout",
     "output_type": "stream",
     "text": [
      "Iteration: 24\n",
      "new point: [[-0.34086388  0.1112242   1.          1.        ]]\n",
      "new value: 0.8597534894943237\n",
      "best oberved value: 0.8604865670204163\n",
      "\n",
      "Iteration: 25\n",
      "new point: [[-0.3832991   0.19227056  1.          0.8958938 ]]\n",
      "new value: 0.8573222160339355\n",
      "best oberved value: 0.8604865670204163\n",
      "\n"
     ]
    },
    {
     "name": "stderr",
     "output_type": "stream",
     "text": [
      "/Users/qianxie/Library/Python/3.9/lib/python/site-packages/botorch/models/utils/assorted.py:173: InputDataWarning: Input data is not contained to the unit cube. Please consider min-max scaling the input data.\n",
      "  warnings.warn(msg, InputDataWarning)\n",
      "/Users/qianxie/Library/Python/3.9/lib/python/site-packages/botorch/models/utils/assorted.py:173: InputDataWarning: Input data is not contained to the unit cube. Please consider min-max scaling the input data.\n",
      "  warnings.warn(msg, InputDataWarning)\n"
     ]
    },
    {
     "name": "stdout",
     "output_type": "stream",
     "text": [
      "Iteration: 26\n",
      "new point: [[-0.3725159   0.09695422  1.          1.        ]]\n",
      "new value: 0.8605509996414185\n",
      "best oberved value: 0.8605509996414185\n",
      "\n",
      "Iteration: 27\n",
      "new point: [[-0.3226196   0.16256265  1.          1.        ]]\n",
      "new value: 0.8588697910308838\n",
      "best oberved value: 0.8605509996414185\n",
      "\n"
     ]
    },
    {
     "name": "stderr",
     "output_type": "stream",
     "text": [
      "/Users/qianxie/Library/Python/3.9/lib/python/site-packages/botorch/models/utils/assorted.py:173: InputDataWarning: Input data is not contained to the unit cube. Please consider min-max scaling the input data.\n",
      "  warnings.warn(msg, InputDataWarning)\n",
      "/Users/qianxie/Library/Python/3.9/lib/python/site-packages/botorch/models/utils/assorted.py:173: InputDataWarning: Input data is not contained to the unit cube. Please consider min-max scaling the input data.\n",
      "  warnings.warn(msg, InputDataWarning)\n"
     ]
    },
    {
     "name": "stdout",
     "output_type": "stream",
     "text": [
      "Iteration: 28\n",
      "new point: [[-0.3877173   0.21408758  1.          1.        ]]\n",
      "new value: 0.8589349389076233\n",
      "best oberved value: 0.8605509996414185\n",
      "\n",
      "Iteration: 29\n",
      "new point: [[-0.38309675  0.079125    1.          1.        ]]\n",
      "new value: 0.8605784177780151\n",
      "best oberved value: 0.8605784177780151\n",
      "\n"
     ]
    },
    {
     "name": "stderr",
     "output_type": "stream",
     "text": [
      "/Users/qianxie/Library/Python/3.9/lib/python/site-packages/botorch/models/utils/assorted.py:173: InputDataWarning: Input data is not contained to the unit cube. Please consider min-max scaling the input data.\n",
      "  warnings.warn(msg, InputDataWarning)\n",
      "/Users/qianxie/Library/Python/3.9/lib/python/site-packages/botorch/models/utils/assorted.py:173: InputDataWarning: Input data is not contained to the unit cube. Please consider min-max scaling the input data.\n",
      "  warnings.warn(msg, InputDataWarning)\n"
     ]
    },
    {
     "name": "stdout",
     "output_type": "stream",
     "text": [
      "Iteration: 30\n",
      "new point: [[-0.37970844  0.08711915  1.          1.        ]]\n",
      "new value: 0.860588788986206\n",
      "best oberved value: 0.860588788986206\n",
      "\n",
      "Iteration: 31\n",
      "new point: [[-0.38370633  0.15387301  1.          0.90758604]]\n",
      "new value: 0.8578495383262634\n",
      "best oberved value: 0.860588788986206\n",
      "\n"
     ]
    },
    {
     "name": "stderr",
     "output_type": "stream",
     "text": [
      "/Users/qianxie/Library/Python/3.9/lib/python/site-packages/botorch/models/utils/assorted.py:173: InputDataWarning: Input data is not contained to the unit cube. Please consider min-max scaling the input data.\n",
      "  warnings.warn(msg, InputDataWarning)\n",
      "/Users/qianxie/Library/Python/3.9/lib/python/site-packages/botorch/models/utils/assorted.py:173: InputDataWarning: Input data is not contained to the unit cube. Please consider min-max scaling the input data.\n",
      "  warnings.warn(msg, InputDataWarning)\n"
     ]
    },
    {
     "name": "stdout",
     "output_type": "stream",
     "text": [
      "Iteration: 32\n",
      "new point: [[-0.32248732  0.14082694  1.          1.        ]]\n",
      "new value: 0.8589335083961487\n",
      "best oberved value: 0.860588788986206\n",
      "\n",
      "Iteration: 33\n",
      "new point: [[-0.38406745  0.21859886  1.          1.        ]]\n",
      "new value: 0.858904242515564\n",
      "best oberved value: 0.860588788986206\n",
      "\n"
     ]
    },
    {
     "name": "stderr",
     "output_type": "stream",
     "text": [
      "/Users/qianxie/Library/Python/3.9/lib/python/site-packages/botorch/models/utils/assorted.py:173: InputDataWarning: Input data is not contained to the unit cube. Please consider min-max scaling the input data.\n",
      "  warnings.warn(msg, InputDataWarning)\n",
      "/Users/qianxie/Library/Python/3.9/lib/python/site-packages/botorch/models/utils/assorted.py:173: InputDataWarning: Input data is not contained to the unit cube. Please consider min-max scaling the input data.\n",
      "  warnings.warn(msg, InputDataWarning)\n"
     ]
    },
    {
     "name": "stdout",
     "output_type": "stream",
     "text": [
      "Iteration: 34\n",
      "new point: [[-0.3858994   0.07535841  1.          1.        ]]\n",
      "new value: 0.8605705499649048\n",
      "best oberved value: 0.860588788986206\n",
      "\n",
      "Iteration: 35\n",
      "new point: [[-0.38292184  0.08218763  1.          1.        ]]\n",
      "new value: 0.8605884909629822\n",
      "best oberved value: 0.860588788986206\n",
      "\n"
     ]
    },
    {
     "name": "stderr",
     "output_type": "stream",
     "text": [
      "/Users/qianxie/Library/Python/3.9/lib/python/site-packages/botorch/models/utils/assorted.py:173: InputDataWarning: Input data is not contained to the unit cube. Please consider min-max scaling the input data.\n",
      "  warnings.warn(msg, InputDataWarning)\n",
      "/Users/qianxie/Library/Python/3.9/lib/python/site-packages/botorch/models/utils/assorted.py:173: InputDataWarning: Input data is not contained to the unit cube. Please consider min-max scaling the input data.\n",
      "  warnings.warn(msg, InputDataWarning)\n"
     ]
    },
    {
     "name": "stdout",
     "output_type": "stream",
     "text": [
      "Iteration: 36\n",
      "new point: [[-0.3303076   0.19777776  1.          1.        ]]\n",
      "new value: 0.8588173985481262\n",
      "best oberved value: 0.860588788986206\n",
      "\n",
      "Iteration: 37\n",
      "new point: [[-0.3903876   0.19758789  1.          1.        ]]\n",
      "new value: 0.8592660427093506\n",
      "best oberved value: 0.860588788986206\n",
      "\n"
     ]
    },
    {
     "name": "stderr",
     "output_type": "stream",
     "text": [
      "/Users/qianxie/Library/Python/3.9/lib/python/site-packages/botorch/models/utils/assorted.py:173: InputDataWarning: Input data is not contained to the unit cube. Please consider min-max scaling the input data.\n",
      "  warnings.warn(msg, InputDataWarning)\n",
      "/Users/qianxie/Library/Python/3.9/lib/python/site-packages/botorch/models/utils/assorted.py:173: InputDataWarning: Input data is not contained to the unit cube. Please consider min-max scaling the input data.\n",
      "  warnings.warn(msg, InputDataWarning)\n"
     ]
    },
    {
     "name": "stdout",
     "output_type": "stream",
     "text": [
      "Iteration: 38\n",
      "new point: [[-0.3373442   0.09124518  1.          1.        ]]\n",
      "new value: 0.8594303727149963\n",
      "best oberved value: 0.860588788986206\n",
      "\n",
      "Iteration: 39\n",
      "new point: [[-0.39083767  0.07790335  1.          1.        ]]\n",
      "new value: 0.8605695962905884\n",
      "best oberved value: 0.860588788986206\n",
      "\n"
     ]
    },
    {
     "name": "stderr",
     "output_type": "stream",
     "text": [
      "/Users/qianxie/Library/Python/3.9/lib/python/site-packages/botorch/models/utils/assorted.py:173: InputDataWarning: Input data is not contained to the unit cube. Please consider min-max scaling the input data.\n",
      "  warnings.warn(msg, InputDataWarning)\n"
     ]
    }
   ],
   "source": [
    "from botorch.acquisition import UpperConfidenceBound\n",
    "\n",
    "seed = 42\n",
    "\n",
    "maximize = True \n",
    "\n",
    "num_iterations = 40\n",
    "\n",
    "torch.manual_seed(seed)\n",
    "\n",
    "x = torch.rand(10, 4, device=device, dtype=dtype).requires_grad_(True)\n",
    "y = objective(x).unsqueeze(-1)  # add output dimension\n",
    "\n",
    "if maximize:\n",
    "    best_f = y.max().item() \n",
    "else:\n",
    "    best_f = y.min().item() \n",
    "    \n",
    "UCB_best = [best_f] # This will store the best value\n",
    "\n",
    "for i in range(num_iterations):\n",
    "    \n",
    "    # Fit the model\n",
    "#     with torch.no_grad():  # Temporarily set all the requires_grad flags to false\n",
    "    model = fit_gp_model(x.detach(), y.detach(), Yvar=None)\n",
    "            \n",
    "    # Optimize UCB\n",
    "    BoTorch_UCB = UpperConfidenceBound(model=model, beta=2.7, maximize=maximize)\n",
    "    new_point, new_point_UCB = optimize_acqf(\n",
    "        acq_function=BoTorch_UCB,\n",
    "        bounds=torch.tensor([[-1., -1., -1., -1.],[1., 1., 1., 1.]]),\n",
    "        q=1,\n",
    "        num_restarts=40,\n",
    "        raw_samples=400,\n",
    "        options={},\n",
    "    )\n",
    "    \n",
    "    new_value = objective(new_point)\n",
    "    \n",
    "    print(\"Iteration:\", i)\n",
    "    print(\"new point:\", new_point.detach().numpy())\n",
    "    print(\"new value:\", new_value.item())\n",
    "    \n",
    "    #cross_validation(x,y,nu=0.5)\n",
    "\n",
    "    \n",
    "    # Add the new data\n",
    "    x = torch.cat((x,new_point))\n",
    "    y = torch.cat((y,new_value.unsqueeze(-1)))\n",
    "    \n",
    "    if maximize:\n",
    "        best_f = max(best_f, new_value.item())\n",
    "    else:\n",
    "        best_f = min(best_f, new_value.item())\n",
    "        \n",
    "    UCB_best.append(best_f)\n",
    "    print(\"best oberved value:\", best_f)\n",
    "    print()"
   ]
  },
  {
   "cell_type": "code",
   "execution_count": 99,
   "id": "629f25be",
   "metadata": {},
   "outputs": [
    {
     "data": {
      "text/plain": [
       "Text(0.5, 1.0, 'Performance of EI vs Gittins vs UCB')"
      ]
     },
     "execution_count": 99,
     "metadata": {},
     "output_type": "execute_result"
    },
    {
     "data": {
      "image/png": "[encoded data removed]",
      "text/plain": [
       "<Figure size 640x480 with 1 Axes>"
      ]
     },
     "metadata": {},
     "output_type": "display_data"
    }
   ],
   "source": [
    "# Plotting EI\n",
    "plt.plot(EI_best, '.-', label='EI')\n",
    "\n",
    "# Plotting Gittins\n",
    "for cost in sorted(GI_best_dict.keys(), reverse=True):\n",
    "    label = \"Gittins (lambda={})\".format(cost)\n",
    "    plt.plot(GI_best_dict[cost], '.-', label=label)\n",
    "    \n",
    "# Plotting UCB\n",
    "plt.plot(UCB_best, '.-', label='UCB')\n",
    "\n",
    "# Adding legend\n",
    "plt.legend()\n",
    "\n",
    "plt.xlabel('Iteration')\n",
    "plt.ylabel('Best value found')\n",
    "plt.title(\"Performance of EI vs Gittins vs UCB\")"
   ]
  },
  {
   "cell_type": "code",
   "execution_count": 100,
   "id": "54ba4282",
   "metadata": {},
   "outputs": [
    {
     "name": "stdout",
     "output_type": "stream",
     "text": [
      "Iteration: 0\n",
      "new point: [[0.0392906  0.42102888 1.         0.7129568 ]]\n",
      "new value: 0.7297431230545044\n",
      "best oberved value: 0.7297431230545044\n",
      "\n",
      "Iteration: 1\n",
      "new point: [[-0.25541088  0.31382185  0.90019864  0.7362143 ]]\n",
      "new value: 0.8093884587287903\n",
      "best oberved value: 0.8093884587287903\n",
      "\n"
     ]
    },
    {
     "name": "stderr",
     "output_type": "stream",
     "text": [
      "/Users/qianxie/Library/Python/3.9/lib/python/site-packages/botorch/models/utils/assorted.py:173: InputDataWarning: Input data is not contained to the unit cube. Please consider min-max scaling the input data.\n",
      "  warnings.warn(msg, InputDataWarning)\n"
     ]
    },
    {
     "name": "stdout",
     "output_type": "stream",
     "text": [
      "Iteration: 2\n",
      "new point: [[-0.35579345  0.53837365  0.92075914  1.        ]]\n",
      "new value: 0.8202759027481079\n",
      "best oberved value: 0.8202759027481079\n",
      "\n"
     ]
    },
    {
     "name": "stderr",
     "output_type": "stream",
     "text": [
      "/Users/qianxie/Library/Python/3.9/lib/python/site-packages/botorch/models/utils/assorted.py:173: InputDataWarning: Input data is not contained to the unit cube. Please consider min-max scaling the input data.\n",
      "  warnings.warn(msg, InputDataWarning)\n"
     ]
    },
    {
     "name": "stdout",
     "output_type": "stream",
     "text": [
      "Iteration: 3\n",
      "new point: [[-0.45663863  0.12199193  1.          1.        ]]\n",
      "new value: 0.856736958026886\n",
      "best oberved value: 0.856736958026886\n",
      "\n"
     ]
    },
    {
     "name": "stderr",
     "output_type": "stream",
     "text": [
      "/Users/qianxie/Library/Python/3.9/lib/python/site-packages/botorch/models/utils/assorted.py:173: InputDataWarning: Input data is not contained to the unit cube. Please consider min-max scaling the input data.\n",
      "  warnings.warn(msg, InputDataWarning)\n"
     ]
    },
    {
     "name": "stdout",
     "output_type": "stream",
     "text": [
      "Iteration: 4\n",
      "new point: [[-0.7167457  0.3005253  1.         0.7895936]]\n",
      "new value: 0.7712770700454712\n",
      "best oberved value: 0.856736958026886\n",
      "\n"
     ]
    },
    {
     "name": "stderr",
     "output_type": "stream",
     "text": [
      "/Users/qianxie/Library/Python/3.9/lib/python/site-packages/botorch/models/utils/assorted.py:173: InputDataWarning: Input data is not contained to the unit cube. Please consider min-max scaling the input data.\n",
      "  warnings.warn(msg, InputDataWarning)\n"
     ]
    },
    {
     "name": "stdout",
     "output_type": "stream",
     "text": [
      "Iteration: 5\n",
      "new point: [[-0.46718392  0.07344183  0.70636517  1.        ]]\n",
      "new value: 0.7671700716018677\n",
      "best oberved value: 0.856736958026886\n",
      "\n"
     ]
    },
    {
     "name": "stderr",
     "output_type": "stream",
     "text": [
      "/Users/qianxie/Library/Python/3.9/lib/python/site-packages/botorch/models/utils/assorted.py:173: InputDataWarning: Input data is not contained to the unit cube. Please consider min-max scaling the input data.\n",
      "  warnings.warn(msg, InputDataWarning)\n"
     ]
    },
    {
     "name": "stdout",
     "output_type": "stream",
     "text": [
      "Iteration: 6\n",
      "new point: [[-0.2860778   0.18520677  1.          1.        ]]\n",
      "new value: 0.8561781644821167\n",
      "best oberved value: 0.856736958026886\n",
      "\n"
     ]
    },
    {
     "name": "stderr",
     "output_type": "stream",
     "text": [
      "/Users/qianxie/Library/Python/3.9/lib/python/site-packages/botorch/models/utils/assorted.py:173: InputDataWarning: Input data is not contained to the unit cube. Please consider min-max scaling the input data.\n",
      "  warnings.warn(msg, InputDataWarning)\n"
     ]
    },
    {
     "name": "stdout",
     "output_type": "stream",
     "text": [
      "Iteration: 7\n",
      "new point: [[-0.38602084  0.24595714  1.          1.        ]]\n",
      "new value: 0.8580703735351562\n",
      "best oberved value: 0.8580703735351562\n",
      "\n"
     ]
    },
    {
     "name": "stderr",
     "output_type": "stream",
     "text": [
      "/Users/qianxie/Library/Python/3.9/lib/python/site-packages/botorch/models/utils/assorted.py:173: InputDataWarning: Input data is not contained to the unit cube. Please consider min-max scaling the input data.\n",
      "  warnings.warn(msg, InputDataWarning)\n"
     ]
    },
    {
     "name": "stdout",
     "output_type": "stream",
     "text": [
      "Iteration: 8\n",
      "new point: [[-0.33554226 -0.26877806  1.          1.        ]]\n",
      "new value: 0.8312540650367737\n",
      "best oberved value: 0.8580703735351562\n",
      "\n"
     ]
    },
    {
     "name": "stderr",
     "output_type": "stream",
     "text": [
      "/Users/qianxie/Library/Python/3.9/lib/python/site-packages/botorch/models/utils/assorted.py:173: InputDataWarning: Input data is not contained to the unit cube. Please consider min-max scaling the input data.\n",
      "  warnings.warn(msg, InputDataWarning)\n"
     ]
    },
    {
     "name": "stdout",
     "output_type": "stream",
     "text": [
      "Iteration: 9\n",
      "new point: [[-0.37544215  0.06463725  1.          0.8836568 ]]\n",
      "new value: 0.8556450009346008\n",
      "best oberved value: 0.8580703735351562\n",
      "\n"
     ]
    },
    {
     "name": "stderr",
     "output_type": "stream",
     "text": [
      "/Users/qianxie/Library/Python/3.9/lib/python/site-packages/botorch/models/utils/assorted.py:173: InputDataWarning: Input data is not contained to the unit cube. Please consider min-max scaling the input data.\n",
      "  warnings.warn(msg, InputDataWarning)\n"
     ]
    },
    {
     "name": "stdout",
     "output_type": "stream",
     "text": [
      "Iteration: 10\n",
      "new point: [[-0.35972    0.1018495  1.         1.       ]]\n",
      "new value: 0.8603375554084778\n",
      "best oberved value: 0.8603375554084778\n",
      "\n"
     ]
    },
    {
     "name": "stderr",
     "output_type": "stream",
     "text": [
      "/Users/qianxie/Library/Python/3.9/lib/python/site-packages/botorch/models/utils/assorted.py:173: InputDataWarning: Input data is not contained to the unit cube. Please consider min-max scaling the input data.\n",
      "  warnings.warn(msg, InputDataWarning)\n"
     ]
    },
    {
     "name": "stdout",
     "output_type": "stream",
     "text": [
      "Iteration: 11\n",
      "new point: [[-0.35832942  0.09896343  1.          1.        ]]\n",
      "new value: 0.8602911233901978\n",
      "best oberved value: 0.8603375554084778\n",
      "\n"
     ]
    },
    {
     "name": "stderr",
     "output_type": "stream",
     "text": [
      "/Users/qianxie/Library/Python/3.9/lib/python/site-packages/botorch/models/utils/assorted.py:173: InputDataWarning: Input data is not contained to the unit cube. Please consider min-max scaling the input data.\n",
      "  warnings.warn(msg, InputDataWarning)\n"
     ]
    },
    {
     "name": "stdout",
     "output_type": "stream",
     "text": [
      "Iteration: 12\n",
      "new point: [[-0.36303788  0.11568613  1.          1.        ]]\n",
      "new value: 0.8604249358177185\n",
      "best oberved value: 0.8604249358177185\n",
      "\n"
     ]
    },
    {
     "name": "stderr",
     "output_type": "stream",
     "text": [
      "/Users/qianxie/Library/Python/3.9/lib/python/site-packages/botorch/models/utils/assorted.py:173: InputDataWarning: Input data is not contained to the unit cube. Please consider min-max scaling the input data.\n",
      "  warnings.warn(msg, InputDataWarning)\n"
     ]
    },
    {
     "name": "stdout",
     "output_type": "stream",
     "text": [
      "Iteration: 13\n",
      "new point: [[-0.85234004 -0.8875259   1.          1.        ]]\n",
      "new value: 0.710878312587738\n",
      "best oberved value: 0.8604249358177185\n",
      "\n"
     ]
    },
    {
     "name": "stderr",
     "output_type": "stream",
     "text": [
      "/Users/qianxie/Library/Python/3.9/lib/python/site-packages/botorch/models/utils/assorted.py:173: InputDataWarning: Input data is not contained to the unit cube. Please consider min-max scaling the input data.\n",
      "  warnings.warn(msg, InputDataWarning)\n"
     ]
    },
    {
     "name": "stdout",
     "output_type": "stream",
     "text": [
      "Iteration: 14\n",
      "new point: [[-0.5918514  -0.54575896  1.          0.38459298]]\n",
      "new value: 0.7502997517585754\n",
      "best oberved value: 0.8604249358177185\n",
      "\n"
     ]
    },
    {
     "name": "stderr",
     "output_type": "stream",
     "text": [
      "/Users/qianxie/Library/Python/3.9/lib/python/site-packages/botorch/models/utils/assorted.py:173: InputDataWarning: Input data is not contained to the unit cube. Please consider min-max scaling the input data.\n",
      "  warnings.warn(msg, InputDataWarning)\n"
     ]
    },
    {
     "name": "stdout",
     "output_type": "stream",
     "text": [
      "Iteration: 15\n",
      "new point: [[-0.36537412  0.13313557  1.          1.        ]]\n",
      "new value: 0.8604036569595337\n",
      "best oberved value: 0.8604249358177185\n",
      "\n"
     ]
    },
    {
     "name": "stderr",
     "output_type": "stream",
     "text": [
      "/Users/qianxie/Library/Python/3.9/lib/python/site-packages/botorch/models/utils/assorted.py:173: InputDataWarning: Input data is not contained to the unit cube. Please consider min-max scaling the input data.\n",
      "  warnings.warn(msg, InputDataWarning)\n"
     ]
    },
    {
     "name": "stdout",
     "output_type": "stream",
     "text": [
      "Iteration: 16\n",
      "new point: [[-0.3664644   0.13287412  1.          1.        ]]\n",
      "new value: 0.8604173064231873\n",
      "best oberved value: 0.8604249358177185\n",
      "\n"
     ]
    },
    {
     "name": "stderr",
     "output_type": "stream",
     "text": [
      "/Users/qianxie/Library/Python/3.9/lib/python/site-packages/botorch/models/utils/assorted.py:173: InputDataWarning: Input data is not contained to the unit cube. Please consider min-max scaling the input data.\n",
      "  warnings.warn(msg, InputDataWarning)\n"
     ]
    },
    {
     "name": "stdout",
     "output_type": "stream",
     "text": [
      "Iteration: 17\n",
      "new point: [[-0.41458544  0.04130588  1.          1.        ]]\n",
      "new value: 0.8601061701774597\n",
      "best oberved value: 0.8604249358177185\n",
      "\n"
     ]
    },
    {
     "name": "stderr",
     "output_type": "stream",
     "text": [
      "/Users/qianxie/Library/Python/3.9/lib/python/site-packages/botorch/models/utils/assorted.py:173: InputDataWarning: Input data is not contained to the unit cube. Please consider min-max scaling the input data.\n",
      "  warnings.warn(msg, InputDataWarning)\n"
     ]
    },
    {
     "name": "stdout",
     "output_type": "stream",
     "text": [
      "Iteration: 18\n",
      "new point: [[-0.3650422   0.13773787  1.          1.        ]]\n",
      "new value: 0.8603721261024475\n",
      "best oberved value: 0.8604249358177185\n",
      "\n"
     ]
    },
    {
     "name": "stderr",
     "output_type": "stream",
     "text": [
      "/Users/qianxie/Library/Python/3.9/lib/python/site-packages/botorch/models/utils/assorted.py:173: InputDataWarning: Input data is not contained to the unit cube. Please consider min-max scaling the input data.\n",
      "  warnings.warn(msg, InputDataWarning)\n"
     ]
    },
    {
     "name": "stdout",
     "output_type": "stream",
     "text": [
      "Iteration: 19\n",
      "new point: [[-0.999169   -0.4878472   0.29377297 -0.01665832]]\n",
      "new value: 0.5763811469078064\n",
      "best oberved value: 0.8604249358177185\n",
      "\n"
     ]
    },
    {
     "name": "stderr",
     "output_type": "stream",
     "text": [
      "/Users/qianxie/Library/Python/3.9/lib/python/site-packages/botorch/models/utils/assorted.py:173: InputDataWarning: Input data is not contained to the unit cube. Please consider min-max scaling the input data.\n",
      "  warnings.warn(msg, InputDataWarning)\n"
     ]
    },
    {
     "name": "stdout",
     "output_type": "stream",
     "text": [
      "Iteration: 20\n",
      "new point: [[-0.5387724 -0.1320612  1.         1.       ]]\n",
      "new value: 0.8491336703300476\n",
      "best oberved value: 0.8604249358177185\n",
      "\n"
     ]
    },
    {
     "name": "stderr",
     "output_type": "stream",
     "text": [
      "/Users/qianxie/Library/Python/3.9/lib/python/site-packages/botorch/models/utils/assorted.py:173: InputDataWarning: Input data is not contained to the unit cube. Please consider min-max scaling the input data.\n",
      "  warnings.warn(msg, InputDataWarning)\n"
     ]
    },
    {
     "name": "stdout",
     "output_type": "stream",
     "text": [
      "Iteration: 21\n",
      "new point: [[-0.41900405  0.03254968  1.          1.        ]]\n",
      "new value: 0.8599522709846497\n",
      "best oberved value: 0.8604249358177185\n",
      "\n"
     ]
    },
    {
     "name": "stderr",
     "output_type": "stream",
     "text": [
      "/Users/qianxie/Library/Python/3.9/lib/python/site-packages/botorch/models/utils/assorted.py:173: InputDataWarning: Input data is not contained to the unit cube. Please consider min-max scaling the input data.\n",
      "  warnings.warn(msg, InputDataWarning)\n"
     ]
    },
    {
     "name": "stdout",
     "output_type": "stream",
     "text": [
      "Iteration: 22\n",
      "new point: [[-0.44886443 -0.05345636  1.          0.8287394 ]]\n",
      "new value: 0.8491519093513489\n",
      "best oberved value: 0.8604249358177185\n",
      "\n"
     ]
    },
    {
     "name": "stderr",
     "output_type": "stream",
     "text": [
      "/Users/qianxie/Library/Python/3.9/lib/python/site-packages/botorch/models/utils/assorted.py:173: InputDataWarning: Input data is not contained to the unit cube. Please consider min-max scaling the input data.\n",
      "  warnings.warn(msg, InputDataWarning)\n"
     ]
    },
    {
     "name": "stdout",
     "output_type": "stream",
     "text": [
      "Iteration: 23\n",
      "new point: [[-0.41360566  0.05546869  1.          1.        ]]\n",
      "new value: 0.860173225402832\n",
      "best oberved value: 0.8604249358177185\n",
      "\n"
     ]
    },
    {
     "name": "stderr",
     "output_type": "stream",
     "text": [
      "/Users/qianxie/Library/Python/3.9/lib/python/site-packages/botorch/models/utils/assorted.py:173: InputDataWarning: Input data is not contained to the unit cube. Please consider min-max scaling the input data.\n",
      "  warnings.warn(msg, InputDataWarning)\n"
     ]
    },
    {
     "name": "stdout",
     "output_type": "stream",
     "text": [
      "Iteration: 24\n",
      "new point: [[-0.41015652  0.06800718  1.          1.        ]]\n",
      "new value: 0.8602688312530518\n",
      "best oberved value: 0.8604249358177185\n",
      "\n"
     ]
    },
    {
     "name": "stderr",
     "output_type": "stream",
     "text": [
      "/Users/qianxie/Library/Python/3.9/lib/python/site-packages/botorch/models/utils/assorted.py:173: InputDataWarning: Input data is not contained to the unit cube. Please consider min-max scaling the input data.\n",
      "  warnings.warn(msg, InputDataWarning)\n"
     ]
    },
    {
     "name": "stdout",
     "output_type": "stream",
     "text": [
      "Iteration: 25\n",
      "new point: [[-0.4105271   0.14724883  1.          1.        ]]\n",
      "new value: 0.859545886516571\n",
      "best oberved value: 0.8604249358177185\n",
      "\n"
     ]
    },
    {
     "name": "stderr",
     "output_type": "stream",
     "text": [
      "/Users/qianxie/Library/Python/3.9/lib/python/site-packages/botorch/models/utils/assorted.py:173: InputDataWarning: Input data is not contained to the unit cube. Please consider min-max scaling the input data.\n",
      "  warnings.warn(msg, InputDataWarning)\n"
     ]
    },
    {
     "name": "stdout",
     "output_type": "stream",
     "text": [
      "Iteration: 26\n",
      "new point: [[-0.810091   1.        -0.2615128  1.       ]]\n",
      "new value: 0.6374589800834656\n",
      "best oberved value: 0.8604249358177185\n",
      "\n"
     ]
    },
    {
     "name": "stderr",
     "output_type": "stream",
     "text": [
      "/Users/qianxie/Library/Python/3.9/lib/python/site-packages/botorch/models/utils/assorted.py:173: InputDataWarning: Input data is not contained to the unit cube. Please consider min-max scaling the input data.\n",
      "  warnings.warn(msg, InputDataWarning)\n"
     ]
    },
    {
     "name": "stdout",
     "output_type": "stream",
     "text": [
      "Iteration: 27\n",
      "new point: [[-0.75344175  1.         -0.8278815  -0.29334742]]\n",
      "new value: 0.6048697829246521\n",
      "best oberved value: 0.8604249358177185\n",
      "\n"
     ]
    },
    {
     "name": "stderr",
     "output_type": "stream",
     "text": [
      "/Users/qianxie/Library/Python/3.9/lib/python/site-packages/botorch/models/utils/assorted.py:173: InputDataWarning: Input data is not contained to the unit cube. Please consider min-max scaling the input data.\n",
      "  warnings.warn(msg, InputDataWarning)\n"
     ]
    },
    {
     "name": "stdout",
     "output_type": "stream",
     "text": [
      "Iteration: 28\n",
      "new point: [[-0.87359947 -0.4837346  -1.          1.        ]]\n",
      "new value: 0.8032492995262146\n",
      "best oberved value: 0.8604249358177185\n",
      "\n"
     ]
    },
    {
     "name": "stderr",
     "output_type": "stream",
     "text": [
      "/Users/qianxie/Library/Python/3.9/lib/python/site-packages/botorch/models/utils/assorted.py:173: InputDataWarning: Input data is not contained to the unit cube. Please consider min-max scaling the input data.\n",
      "  warnings.warn(msg, InputDataWarning)\n"
     ]
    },
    {
     "name": "stdout",
     "output_type": "stream",
     "text": [
      "Iteration: 29\n",
      "new point: [[-1.         -1.         -1.          0.20616397]]\n",
      "new value: 0.5178568363189697\n",
      "best oberved value: 0.8604249358177185\n",
      "\n"
     ]
    },
    {
     "name": "stderr",
     "output_type": "stream",
     "text": [
      "/Users/qianxie/Library/Python/3.9/lib/python/site-packages/botorch/models/utils/assorted.py:173: InputDataWarning: Input data is not contained to the unit cube. Please consider min-max scaling the input data.\n",
      "  warnings.warn(msg, InputDataWarning)\n"
     ]
    },
    {
     "name": "stdout",
     "output_type": "stream",
     "text": [
      "Iteration: 30\n",
      "new point: [[-0.37412375  0.17135814 -1.          1.        ]]\n",
      "new value: 0.5880565643310547\n",
      "best oberved value: 0.8604249358177185\n",
      "\n"
     ]
    },
    {
     "name": "stderr",
     "output_type": "stream",
     "text": [
      "/Users/qianxie/Library/Python/3.9/lib/python/site-packages/botorch/models/utils/assorted.py:173: InputDataWarning: Input data is not contained to the unit cube. Please consider min-max scaling the input data.\n",
      "  warnings.warn(msg, InputDataWarning)\n"
     ]
    },
    {
     "name": "stdout",
     "output_type": "stream",
     "text": [
      "Iteration: 31\n",
      "new point: [[-1.        -0.6449827 -0.4640822  1.       ]]\n",
      "new value: 0.8134136199951172\n",
      "best oberved value: 0.8604249358177185\n",
      "\n"
     ]
    },
    {
     "name": "stderr",
     "output_type": "stream",
     "text": [
      "/Users/qianxie/Library/Python/3.9/lib/python/site-packages/botorch/models/utils/assorted.py:173: InputDataWarning: Input data is not contained to the unit cube. Please consider min-max scaling the input data.\n",
      "  warnings.warn(msg, InputDataWarning)\n"
     ]
    },
    {
     "name": "stdout",
     "output_type": "stream",
     "text": [
      "Iteration: 32\n",
      "new point: [[-0.5953372  -1.         -0.60696864  1.        ]]\n",
      "new value: 0.638619601726532\n",
      "best oberved value: 0.8604249358177185\n",
      "\n"
     ]
    },
    {
     "name": "stderr",
     "output_type": "stream",
     "text": [
      "/Users/qianxie/Library/Python/3.9/lib/python/site-packages/botorch/models/utils/assorted.py:173: InputDataWarning: Input data is not contained to the unit cube. Please consider min-max scaling the input data.\n",
      "  warnings.warn(msg, InputDataWarning)\n"
     ]
    },
    {
     "name": "stdout",
     "output_type": "stream",
     "text": [
      "Iteration: 33\n",
      "new point: [[-1.          0.06732497 -0.74199426  1.        ]]\n",
      "new value: 0.772650420665741\n",
      "best oberved value: 0.8604249358177185\n",
      "\n"
     ]
    },
    {
     "name": "stderr",
     "output_type": "stream",
     "text": [
      "/Users/qianxie/Library/Python/3.9/lib/python/site-packages/botorch/models/utils/assorted.py:173: InputDataWarning: Input data is not contained to the unit cube. Please consider min-max scaling the input data.\n",
      "  warnings.warn(msg, InputDataWarning)\n"
     ]
    },
    {
     "name": "stdout",
     "output_type": "stream",
     "text": [
      "Iteration: 34\n",
      "new point: [[-0.784      1.         1.        -0.4701436]]\n",
      "new value: 0.8190597891807556\n",
      "best oberved value: 0.8604249358177185\n",
      "\n"
     ]
    },
    {
     "name": "stderr",
     "output_type": "stream",
     "text": [
      "/Users/qianxie/Library/Python/3.9/lib/python/site-packages/botorch/models/utils/assorted.py:173: InputDataWarning: Input data is not contained to the unit cube. Please consider min-max scaling the input data.\n",
      "  warnings.warn(msg, InputDataWarning)\n"
     ]
    },
    {
     "name": "stdout",
     "output_type": "stream",
     "text": [
      "Iteration: 35\n",
      "new point: [[-1.          0.49794802  1.         -1.        ]]\n",
      "new value: 0.6868309378623962\n",
      "best oberved value: 0.8604249358177185\n",
      "\n"
     ]
    },
    {
     "name": "stderr",
     "output_type": "stream",
     "text": [
      "/Users/qianxie/Library/Python/3.9/lib/python/site-packages/botorch/models/utils/assorted.py:173: InputDataWarning: Input data is not contained to the unit cube. Please consider min-max scaling the input data.\n",
      "  warnings.warn(msg, InputDataWarning)\n"
     ]
    },
    {
     "name": "stdout",
     "output_type": "stream",
     "text": [
      "Iteration: 36\n",
      "new point: [[-0.29935214  1.          1.         -0.9119054 ]]\n",
      "new value: 0.8794679045677185\n",
      "best oberved value: 0.8794679045677185\n",
      "\n"
     ]
    },
    {
     "name": "stderr",
     "output_type": "stream",
     "text": [
      "/Users/qianxie/Library/Python/3.9/lib/python/site-packages/botorch/models/utils/assorted.py:173: InputDataWarning: Input data is not contained to the unit cube. Please consider min-max scaling the input data.\n",
      "  warnings.warn(msg, InputDataWarning)\n"
     ]
    },
    {
     "name": "stdout",
     "output_type": "stream",
     "text": [
      "Iteration: 37\n",
      "new point: [[-0.41759908  1.          0.3614347  -1.        ]]\n",
      "new value: 0.6513438820838928\n",
      "best oberved value: 0.8794679045677185\n",
      "\n"
     ]
    },
    {
     "name": "stderr",
     "output_type": "stream",
     "text": [
      "/Users/qianxie/Library/Python/3.9/lib/python/site-packages/botorch/models/utils/assorted.py:173: InputDataWarning: Input data is not contained to the unit cube. Please consider min-max scaling the input data.\n",
      "  warnings.warn(msg, InputDataWarning)\n"
     ]
    },
    {
     "name": "stdout",
     "output_type": "stream",
     "text": [
      "Iteration: 38\n",
      "new point: [[-0.2962818   1.          1.         -0.42761308]]\n",
      "new value: 0.8488830924034119\n",
      "best oberved value: 0.8794679045677185\n",
      "\n"
     ]
    },
    {
     "name": "stderr",
     "output_type": "stream",
     "text": [
      "/Users/qianxie/Library/Python/3.9/lib/python/site-packages/botorch/models/utils/assorted.py:173: InputDataWarning: Input data is not contained to the unit cube. Please consider min-max scaling the input data.\n",
      "  warnings.warn(msg, InputDataWarning)\n"
     ]
    },
    {
     "name": "stdout",
     "output_type": "stream",
     "text": [
      "Iteration: 39\n",
      "new point: [[ 0.19425115  1.          1.         -1.        ]]\n",
      "new value: 0.8417366743087769\n",
      "best oberved value: 0.8794679045677185\n",
      "\n"
     ]
    }
   ],
   "source": [
    "torch.manual_seed(seed)\n",
    "\n",
    "lmbda = 0.01\n",
    "\n",
    "x = torch.rand(10, 4, device=device, dtype=dtype).requires_grad_(True)\n",
    "y = objective(x).unsqueeze(-1)  # add output dimension\n",
    "\n",
    "if maximize:\n",
    "    best_f = y.max().item() \n",
    "else:\n",
    "    best_f = y.min().item() \n",
    "\n",
    "GI_best = [best_f] # This will store the best value\n",
    "stopping_time = []  # This will store the stopping times\n",
    "\n",
    "for i in range(num_iterations):\n",
    "\n",
    "    # Fit the model\n",
    "#     with torch.no_grad():  # Temporarily set all the requires_grad flags to false\n",
    "    model = fit_gp_model(x.detach(), y.detach(), Yvar=None)\n",
    "\n",
    "    # Optimize GI\n",
    "    GI = GittinsIndex(model=model, cost=lmbda, maximize=maximize)\n",
    "    if maximize:\n",
    "        new_point, new_point_GI = optimize_acqf(\n",
    "            acq_function=GI,\n",
    "            bounds=torch.tensor([[-1., -1., -1., -1.],[1., 1., 1., 1.]]),\n",
    "            q=1,\n",
    "            num_restarts=40,\n",
    "            raw_samples=400,\n",
    "            options={'method': 'L-BFGS-B'},\n",
    "        )\n",
    "    else:\n",
    "        neg_GI = lambda X: -GI(X)\n",
    "        new_point, new_point_neg_GI = optimize_acqf(\n",
    "            acq_function=neg_GI,\n",
    "            bounds=torch.tensor([[-1., -1., -1., -1.],[1., 1., 1., 1.]]),\n",
    "            q=1,\n",
    "            num_restarts=40,\n",
    "            raw_samples=400,\n",
    "            options={'method': 'L-BFGS-B'},\n",
    "        )\n",
    "        new_point_GI = -new_point_neg_GI\n",
    "\n",
    "    new_value = objective(new_point)\n",
    "\n",
    "    print(\"Iteration:\", i)\n",
    "    print(\"new point:\", new_point.detach().numpy())\n",
    "    print(\"new value:\", new_value.item())\n",
    "\n",
    "    #cross_validation(x,y,nu=0.5)\n",
    "\n",
    "\n",
    "    # Add the new data\n",
    "    x = torch.cat((x,new_point))\n",
    "    y = torch.cat((y,new_value.unsqueeze(-1)))\n",
    "\n",
    "    if maximize:\n",
    "        if new_point_GI.item() < best_f:\n",
    "            stopping_time.append(i)\n",
    "            lmbda = lmbda / 2\n",
    "        best_f = max(best_f, new_value.item())\n",
    "    else:\n",
    "        if new_point_GI.item() > best_f:\n",
    "            stopping_time.append(i)\n",
    "            lmbda = lmbda / 2\n",
    "        best_f = min(best_f, new_value.item())\n",
    "\n",
    "    GI_best.append(best_f)\n",
    "    print(\"best oberved value:\", best_f)\n",
    "    print()"
   ]
  },
  {
   "cell_type": "code",
   "execution_count": 101,
   "id": "187da39f",
   "metadata": {},
   "outputs": [
    {
     "data": {
      "text/plain": [
       "Text(0.5, 1.0, 'Performance of EI vs Gittins vs UCB')"
      ]
     },
     "execution_count": 101,
     "metadata": {},
     "output_type": "execute_result"
    },
    {
     "data": {
      "image/png": "[encoded data removed]",
      "text/plain": [
       "<Figure size 640x480 with 1 Axes>"
      ]
     },
     "metadata": {},
     "output_type": "display_data"
    }
   ],
   "source": [
    "import numpy as np\n",
    "\n",
    "# Plotting EI\n",
    "plt.plot(EI_best, '.-', label='EI')\n",
    "\n",
    "# Plotting Gittins\n",
    "for cost in sorted(GI_best_dict.keys(), reverse=True):\n",
    "    label = \"Gittins (lambda={})\".format(cost)\n",
    "    plt.plot(GI_best_dict[cost], '.-', label=label)\n",
    "    \n",
    "# Plotting GI\n",
    "plt.plot(GI_best, '.-', label='Gittins (adaptive schedule)')\n",
    "plt.scatter(stopping_time, np.array(GI_best)[stopping_time], c='pink', marker='*', s=50)\n",
    "    \n",
    "# Plotting UCB\n",
    "plt.plot(UCB_best, '.-', label='UCB')\n",
    "\n",
    "# Adding legend\n",
    "plt.legend()\n",
    "\n",
    "plt.xlabel('Iteration')\n",
    "plt.ylabel('Best value found')\n",
    "plt.title(\"Performance of EI vs Gittins vs UCB\")"
   ]
  },
  {
   "cell_type": "code",
   "execution_count": 102,
   "id": "90848092",
   "metadata": {},
   "outputs": [
    {
     "data": {
      "text/plain": [
       "0.0003125"
      ]
     },
     "execution_count": 102,
     "metadata": {},
     "output_type": "execute_result"
    }
   ],
   "source": [
    "lmbda"
   ]
  },
  {
   "cell_type": "code",
   "execution_count": 103,
   "id": "d5aecb8a",
   "metadata": {},
   "outputs": [
    {
     "data": {
      "text/plain": [
       "[7, 10, 12, 19, 26]"
      ]
     },
     "execution_count": 103,
     "metadata": {},
     "output_type": "execute_result"
    }
   ],
   "source": [
    "stopping_time"
   ]
  },
  {
   "cell_type": "code",
   "execution_count": 104,
   "id": "4a217724",
   "metadata": {},
   "outputs": [
    {
     "name": "stdout",
     "output_type": "stream",
     "text": [
      "Iteration: 0\n",
      "new point: [[0.07990743 0.4299673  1.         0.6566356 ]]\n",
      "new value: 0.7099400162696838\n",
      "best oberved value: 0.7099400162696838\n",
      "\n",
      "Iteration: 1\n",
      "new point: [[-0.15591066  0.33664924  0.94585365  0.7190615 ]]\n",
      "new value: 0.7952448129653931\n",
      "best oberved value: 0.7952448129653931\n",
      "\n"
     ]
    },
    {
     "name": "stderr",
     "output_type": "stream",
     "text": [
      "/Users/qianxie/Library/Python/3.9/lib/python/site-packages/botorch/models/utils/assorted.py:173: InputDataWarning: Input data is not contained to the unit cube. Please consider min-max scaling the input data.\n",
      "  warnings.warn(msg, InputDataWarning)\n"
     ]
    },
    {
     "name": "stdout",
     "output_type": "stream",
     "text": [
      "Iteration: 2\n",
      "new point: [[-0.29475206  0.5028789   0.96662766  1.        ]]\n",
      "new value: 0.8308466076850891\n",
      "best oberved value: 0.8308466076850891\n",
      "\n"
     ]
    },
    {
     "name": "stderr",
     "output_type": "stream",
     "text": [
      "/Users/qianxie/Library/Python/3.9/lib/python/site-packages/botorch/models/utils/assorted.py:173: InputDataWarning: Input data is not contained to the unit cube. Please consider min-max scaling the input data.\n",
      "  warnings.warn(msg, InputDataWarning)\n"
     ]
    },
    {
     "name": "stdout",
     "output_type": "stream",
     "text": [
      "Iteration: 3\n",
      "new point: [[-0.45270687  0.1251525   1.          1.        ]]\n",
      "new value: 0.8570526242256165\n",
      "best oberved value: 0.8570526242256165\n",
      "\n"
     ]
    },
    {
     "name": "stderr",
     "output_type": "stream",
     "text": [
      "/Users/qianxie/Library/Python/3.9/lib/python/site-packages/botorch/models/utils/assorted.py:173: InputDataWarning: Input data is not contained to the unit cube. Please consider min-max scaling the input data.\n",
      "  warnings.warn(msg, InputDataWarning)\n"
     ]
    },
    {
     "name": "stdout",
     "output_type": "stream",
     "text": [
      "Iteration: 4\n",
      "new point: [[-0.6528289   0.32748812  0.79464054  0.82629085]]\n",
      "new value: 0.7610570192337036\n",
      "best oberved value: 0.8570526242256165\n",
      "\n"
     ]
    },
    {
     "name": "stderr",
     "output_type": "stream",
     "text": [
      "/Users/qianxie/Library/Python/3.9/lib/python/site-packages/botorch/models/utils/assorted.py:173: InputDataWarning: Input data is not contained to the unit cube. Please consider min-max scaling the input data.\n",
      "  warnings.warn(msg, InputDataWarning)\n"
     ]
    },
    {
     "name": "stdout",
     "output_type": "stream",
     "text": [
      "Iteration: 5\n",
      "new point: [[-0.22712572  0.03398533  1.          1.        ]]\n",
      "new value: 0.845367968082428\n",
      "best oberved value: 0.8570526242256165\n",
      "\n"
     ]
    },
    {
     "name": "stderr",
     "output_type": "stream",
     "text": [
      "/Users/qianxie/Library/Python/3.9/lib/python/site-packages/botorch/models/utils/assorted.py:173: InputDataWarning: Input data is not contained to the unit cube. Please consider min-max scaling the input data.\n",
      "  warnings.warn(msg, InputDataWarning)\n"
     ]
    },
    {
     "name": "stdout",
     "output_type": "stream",
     "text": [
      "Iteration: 6\n",
      "new point: [[-0.33818516  0.21156149  1.          1.        ]]\n",
      "new value: 0.8588398694992065\n",
      "best oberved value: 0.8588398694992065\n",
      "\n"
     ]
    },
    {
     "name": "stderr",
     "output_type": "stream",
     "text": [
      "/Users/qianxie/Library/Python/3.9/lib/python/site-packages/botorch/models/utils/assorted.py:173: InputDataWarning: Input data is not contained to the unit cube. Please consider min-max scaling the input data.\n",
      "  warnings.warn(msg, InputDataWarning)\n"
     ]
    },
    {
     "name": "stdout",
     "output_type": "stream",
     "text": [
      "Iteration: 7\n",
      "new point: [[-0.52867043 -0.48050258  1.          1.        ]]\n",
      "new value: 0.8234816193580627\n",
      "best oberved value: 0.8588398694992065\n",
      "\n"
     ]
    },
    {
     "name": "stderr",
     "output_type": "stream",
     "text": [
      "/Users/qianxie/Library/Python/3.9/lib/python/site-packages/botorch/models/utils/assorted.py:173: InputDataWarning: Input data is not contained to the unit cube. Please consider min-max scaling the input data.\n",
      "  warnings.warn(msg, InputDataWarning)\n"
     ]
    },
    {
     "name": "stdout",
     "output_type": "stream",
     "text": [
      "Iteration: 8\n",
      "new point: [[-0.38440174 -0.09019911  0.76104224  1.        ]]\n",
      "new value: 0.7761874794960022\n",
      "best oberved value: 0.8588398694992065\n",
      "\n"
     ]
    },
    {
     "name": "stderr",
     "output_type": "stream",
     "text": [
      "/Users/qianxie/Library/Python/3.9/lib/python/site-packages/botorch/models/utils/assorted.py:173: InputDataWarning: Input data is not contained to the unit cube. Please consider min-max scaling the input data.\n",
      "  warnings.warn(msg, InputDataWarning)\n"
     ]
    },
    {
     "name": "stdout",
     "output_type": "stream",
     "text": [
      "Iteration: 9\n",
      "new point: [[-0.4629236  -0.12261819  1.          0.7315372 ]]\n",
      "new value: 0.8379576206207275\n",
      "best oberved value: 0.8588398694992065\n",
      "\n"
     ]
    },
    {
     "name": "stderr",
     "output_type": "stream",
     "text": [
      "/Users/qianxie/Library/Python/3.9/lib/python/site-packages/botorch/models/utils/assorted.py:173: InputDataWarning: Input data is not contained to the unit cube. Please consider min-max scaling the input data.\n",
      "  warnings.warn(msg, InputDataWarning)\n"
     ]
    },
    {
     "name": "stdout",
     "output_type": "stream",
     "text": [
      "Iteration: 10\n",
      "new point: [[-0.38462368  0.07133728  1.          0.92683387]]\n",
      "new value: 0.8578483462333679\n",
      "best oberved value: 0.8588398694992065\n",
      "\n"
     ]
    },
    {
     "name": "stderr",
     "output_type": "stream",
     "text": [
      "/Users/qianxie/Library/Python/3.9/lib/python/site-packages/botorch/models/utils/assorted.py:173: InputDataWarning: Input data is not contained to the unit cube. Please consider min-max scaling the input data.\n",
      "  warnings.warn(msg, InputDataWarning)\n"
     ]
    },
    {
     "name": "stdout",
     "output_type": "stream",
     "text": [
      "Iteration: 11\n",
      "new point: [[-1.         -0.69045854  1.          0.5698446 ]]\n",
      "new value: 0.6728169918060303\n",
      "best oberved value: 0.8588398694992065\n",
      "\n"
     ]
    },
    {
     "name": "stderr",
     "output_type": "stream",
     "text": [
      "/Users/qianxie/Library/Python/3.9/lib/python/site-packages/botorch/models/utils/assorted.py:173: InputDataWarning: Input data is not contained to the unit cube. Please consider min-max scaling the input data.\n",
      "  warnings.warn(msg, InputDataWarning)\n"
     ]
    },
    {
     "name": "stdout",
     "output_type": "stream",
     "text": [
      "Iteration: 12\n",
      "new point: [[-0.41050786 -0.05760335  1.          1.        ]]\n",
      "new value: 0.8582876920700073\n",
      "best oberved value: 0.8588398694992065\n",
      "\n"
     ]
    },
    {
     "name": "stderr",
     "output_type": "stream",
     "text": [
      "/Users/qianxie/Library/Python/3.9/lib/python/site-packages/botorch/models/utils/assorted.py:173: InputDataWarning: Input data is not contained to the unit cube. Please consider min-max scaling the input data.\n",
      "  warnings.warn(msg, InputDataWarning)\n"
     ]
    },
    {
     "name": "stdout",
     "output_type": "stream",
     "text": [
      "Iteration: 13\n",
      "new point: [[-0.38534257  0.07626281  1.          1.        ]]\n",
      "new value: 0.860573410987854\n",
      "best oberved value: 0.860573410987854\n",
      "\n"
     ]
    },
    {
     "name": "stderr",
     "output_type": "stream",
     "text": [
      "/Users/qianxie/Library/Python/3.9/lib/python/site-packages/botorch/models/utils/assorted.py:173: InputDataWarning: Input data is not contained to the unit cube. Please consider min-max scaling the input data.\n",
      "  warnings.warn(msg, InputDataWarning)\n"
     ]
    },
    {
     "name": "stdout",
     "output_type": "stream",
     "text": [
      "Iteration: 14\n",
      "new point: [[-0.38569278  0.12785523  1.          0.92118233]]\n",
      "new value: 0.8582370281219482\n",
      "best oberved value: 0.860573410987854\n",
      "\n"
     ]
    },
    {
     "name": "stderr",
     "output_type": "stream",
     "text": [
      "/Users/qianxie/Library/Python/3.9/lib/python/site-packages/botorch/models/utils/assorted.py:173: InputDataWarning: Input data is not contained to the unit cube. Please consider min-max scaling the input data.\n",
      "  warnings.warn(msg, InputDataWarning)\n"
     ]
    },
    {
     "name": "stdout",
     "output_type": "stream",
     "text": [
      "Iteration: 15\n",
      "new point: [[-0.6877323  1.         1.         1.       ]]\n",
      "new value: 0.7291615605354309\n",
      "best oberved value: 0.860573410987854\n",
      "\n"
     ]
    },
    {
     "name": "stderr",
     "output_type": "stream",
     "text": [
      "/Users/qianxie/Library/Python/3.9/lib/python/site-packages/botorch/models/utils/assorted.py:173: InputDataWarning: Input data is not contained to the unit cube. Please consider min-max scaling the input data.\n",
      "  warnings.warn(msg, InputDataWarning)\n"
     ]
    },
    {
     "name": "stdout",
     "output_type": "stream",
     "text": [
      "Iteration: 16\n",
      "new point: [[-0.18350598 -1.          1.          1.        ]]\n",
      "new value: 0.6764867305755615\n",
      "best oberved value: 0.860573410987854\n",
      "\n"
     ]
    },
    {
     "name": "stderr",
     "output_type": "stream",
     "text": [
      "/Users/qianxie/Library/Python/3.9/lib/python/site-packages/botorch/models/utils/assorted.py:173: InputDataWarning: Input data is not contained to the unit cube. Please consider min-max scaling the input data.\n",
      "  warnings.warn(msg, InputDataWarning)\n"
     ]
    },
    {
     "name": "stdout",
     "output_type": "stream",
     "text": [
      "Iteration: 17\n",
      "new point: [[-0.60564166 -0.04119173  1.          1.        ]]\n",
      "new value: 0.8321935534477234\n",
      "best oberved value: 0.860573410987854\n",
      "\n"
     ]
    },
    {
     "name": "stderr",
     "output_type": "stream",
     "text": [
      "/Users/qianxie/Library/Python/3.9/lib/python/site-packages/botorch/models/utils/assorted.py:173: InputDataWarning: Input data is not contained to the unit cube. Please consider min-max scaling the input data.\n",
      "  warnings.warn(msg, InputDataWarning)\n"
     ]
    },
    {
     "name": "stdout",
     "output_type": "stream",
     "text": [
      "Iteration: 18\n",
      "new point: [[-0.38011262  0.02606539  1.          1.        ]]\n",
      "new value: 0.8599487543106079\n",
      "best oberved value: 0.860573410987854\n",
      "\n"
     ]
    },
    {
     "name": "stderr",
     "output_type": "stream",
     "text": [
      "/Users/qianxie/Library/Python/3.9/lib/python/site-packages/botorch/models/utils/assorted.py:173: InputDataWarning: Input data is not contained to the unit cube. Please consider min-max scaling the input data.\n",
      "  warnings.warn(msg, InputDataWarning)\n"
     ]
    },
    {
     "name": "stdout",
     "output_type": "stream",
     "text": [
      "Iteration: 19\n",
      "new point: [[-0.3738017   0.08760679  1.          1.        ]]\n",
      "new value: 0.8605388402938843\n",
      "best oberved value: 0.860573410987854\n",
      "\n"
     ]
    },
    {
     "name": "stderr",
     "output_type": "stream",
     "text": [
      "/Users/qianxie/Library/Python/3.9/lib/python/site-packages/botorch/models/utils/assorted.py:173: InputDataWarning: Input data is not contained to the unit cube. Please consider min-max scaling the input data.\n",
      "  warnings.warn(msg, InputDataWarning)\n"
     ]
    },
    {
     "name": "stdout",
     "output_type": "stream",
     "text": [
      "Iteration: 20\n",
      "new point: [[-0.37966514  0.06108205  1.          0.9332207 ]]\n",
      "new value: 0.8578054904937744\n",
      "best oberved value: 0.860573410987854\n",
      "\n"
     ]
    },
    {
     "name": "stderr",
     "output_type": "stream",
     "text": [
      "/Users/qianxie/Library/Python/3.9/lib/python/site-packages/botorch/models/utils/assorted.py:173: InputDataWarning: Input data is not contained to the unit cube. Please consider min-max scaling the input data.\n",
      "  warnings.warn(msg, InputDataWarning)\n"
     ]
    },
    {
     "name": "stdout",
     "output_type": "stream",
     "text": [
      "Iteration: 21\n",
      "new point: [[-0.3730934   0.10351551  1.          1.        ]]\n",
      "new value: 0.8605631589889526\n",
      "best oberved value: 0.860573410987854\n",
      "\n"
     ]
    },
    {
     "name": "stderr",
     "output_type": "stream",
     "text": [
      "/Users/qianxie/Library/Python/3.9/lib/python/site-packages/botorch/models/utils/assorted.py:173: InputDataWarning: Input data is not contained to the unit cube. Please consider min-max scaling the input data.\n",
      "  warnings.warn(msg, InputDataWarning)\n"
     ]
    },
    {
     "name": "stdout",
     "output_type": "stream",
     "text": [
      "Iteration: 22\n",
      "new point: [[-0.38421237  0.01957501  1.          1.        ]]\n",
      "new value: 0.8599075078964233\n",
      "best oberved value: 0.860573410987854\n",
      "\n"
     ]
    },
    {
     "name": "stderr",
     "output_type": "stream",
     "text": [
      "/Users/qianxie/Library/Python/3.9/lib/python/site-packages/botorch/models/utils/assorted.py:173: InputDataWarning: Input data is not contained to the unit cube. Please consider min-max scaling the input data.\n",
      "  warnings.warn(msg, InputDataWarning)\n"
     ]
    },
    {
     "name": "stdout",
     "output_type": "stream",
     "text": [
      "Iteration: 23\n",
      "new point: [[-0.7736408   0.74347293  1.         -0.02410857]]\n",
      "new value: 0.781487762928009\n",
      "best oberved value: 0.860573410987854\n",
      "\n"
     ]
    },
    {
     "name": "stderr",
     "output_type": "stream",
     "text": [
      "/Users/qianxie/Library/Python/3.9/lib/python/site-packages/botorch/models/utils/assorted.py:173: InputDataWarning: Input data is not contained to the unit cube. Please consider min-max scaling the input data.\n",
      "  warnings.warn(msg, InputDataWarning)\n"
     ]
    },
    {
     "name": "stdout",
     "output_type": "stream",
     "text": [
      "Iteration: 24\n",
      "new point: [[-1.          0.993843    0.48520628 -0.6527779 ]]\n",
      "new value: 0.7109365463256836\n",
      "best oberved value: 0.860573410987854\n",
      "\n"
     ]
    },
    {
     "name": "stderr",
     "output_type": "stream",
     "text": [
      "/Users/qianxie/Library/Python/3.9/lib/python/site-packages/botorch/models/utils/assorted.py:173: InputDataWarning: Input data is not contained to the unit cube. Please consider min-max scaling the input data.\n",
      "  warnings.warn(msg, InputDataWarning)\n"
     ]
    },
    {
     "name": "stdout",
     "output_type": "stream",
     "text": [
      "Iteration: 25\n",
      "new point: [[-1.          0.07928824  1.         -0.9725767 ]]\n",
      "new value: 0.650999903678894\n",
      "best oberved value: 0.860573410987854\n",
      "\n"
     ]
    },
    {
     "name": "stderr",
     "output_type": "stream",
     "text": [
      "/Users/qianxie/Library/Python/3.9/lib/python/site-packages/botorch/models/utils/assorted.py:173: InputDataWarning: Input data is not contained to the unit cube. Please consider min-max scaling the input data.\n",
      "  warnings.warn(msg, InputDataWarning)\n"
     ]
    },
    {
     "name": "stdout",
     "output_type": "stream",
     "text": [
      "Iteration: 26\n",
      "new point: [[-1.          0.3570006  -0.26324186 -0.06150673]]\n",
      "new value: 0.6755754351615906\n",
      "best oberved value: 0.860573410987854\n",
      "\n"
     ]
    },
    {
     "name": "stderr",
     "output_type": "stream",
     "text": [
      "/Users/qianxie/Library/Python/3.9/lib/python/site-packages/botorch/models/utils/assorted.py:173: InputDataWarning: Input data is not contained to the unit cube. Please consider min-max scaling the input data.\n",
      "  warnings.warn(msg, InputDataWarning)\n"
     ]
    },
    {
     "name": "stdout",
     "output_type": "stream",
     "text": [
      "Iteration: 27\n",
      "new point: [[-0.7425204  1.        -0.6862834 -1.       ]]\n",
      "new value: 0.49074500799179077\n",
      "best oberved value: 0.860573410987854\n",
      "\n"
     ]
    },
    {
     "name": "stderr",
     "output_type": "stream",
     "text": [
      "/Users/qianxie/Library/Python/3.9/lib/python/site-packages/botorch/models/utils/assorted.py:173: InputDataWarning: Input data is not contained to the unit cube. Please consider min-max scaling the input data.\n",
      "  warnings.warn(msg, InputDataWarning)\n"
     ]
    },
    {
     "name": "stdout",
     "output_type": "stream",
     "text": [
      "Iteration: 28\n",
      "new point: [[-0.8623259   0.1144461   0.4876891  -0.12341969]]\n",
      "new value: 0.778458297252655\n",
      "best oberved value: 0.860573410987854\n",
      "\n"
     ]
    },
    {
     "name": "stderr",
     "output_type": "stream",
     "text": [
      "/Users/qianxie/Library/Python/3.9/lib/python/site-packages/botorch/models/utils/assorted.py:173: InputDataWarning: Input data is not contained to the unit cube. Please consider min-max scaling the input data.\n",
      "  warnings.warn(msg, InputDataWarning)\n"
     ]
    },
    {
     "name": "stdout",
     "output_type": "stream",
     "text": [
      "Iteration: 29\n",
      "new point: [[-1.          1.          0.44874337  0.17101036]]\n",
      "new value: 0.7036382555961609\n",
      "best oberved value: 0.860573410987854\n",
      "\n"
     ]
    },
    {
     "name": "stderr",
     "output_type": "stream",
     "text": [
      "/Users/qianxie/Library/Python/3.9/lib/python/site-packages/botorch/models/utils/assorted.py:173: InputDataWarning: Input data is not contained to the unit cube. Please consider min-max scaling the input data.\n",
      "  warnings.warn(msg, InputDataWarning)\n"
     ]
    },
    {
     "name": "stdout",
     "output_type": "stream",
     "text": [
      "Iteration: 30\n",
      "new point: [[-1.         -0.91429013  0.09527131 -0.5144107 ]]\n",
      "new value: 0.46964678168296814\n",
      "best oberved value: 0.860573410987854\n",
      "\n"
     ]
    },
    {
     "name": "stderr",
     "output_type": "stream",
     "text": [
      "/Users/qianxie/Library/Python/3.9/lib/python/site-packages/botorch/models/utils/assorted.py:173: InputDataWarning: Input data is not contained to the unit cube. Please consider min-max scaling the input data.\n",
      "  warnings.warn(msg, InputDataWarning)\n"
     ]
    },
    {
     "name": "stdout",
     "output_type": "stream",
     "text": [
      "Iteration: 31\n",
      "new point: [[-0.67856354  0.09296829  1.          0.11080706]]\n",
      "new value: 0.8239631056785583\n",
      "best oberved value: 0.860573410987854\n",
      "\n"
     ]
    },
    {
     "name": "stderr",
     "output_type": "stream",
     "text": [
      "/Users/qianxie/Library/Python/3.9/lib/python/site-packages/botorch/models/utils/assorted.py:173: InputDataWarning: Input data is not contained to the unit cube. Please consider min-max scaling the input data.\n",
      "  warnings.warn(msg, InputDataWarning)\n"
     ]
    },
    {
     "name": "stdout",
     "output_type": "stream",
     "text": [
      "Iteration: 32\n",
      "new point: [[-1.         0.2581092  1.         0.0402424]]\n",
      "new value: 0.8201952576637268\n",
      "best oberved value: 0.860573410987854\n",
      "\n"
     ]
    },
    {
     "name": "stderr",
     "output_type": "stream",
     "text": [
      "/Users/qianxie/Library/Python/3.9/lib/python/site-packages/botorch/models/utils/assorted.py:173: InputDataWarning: Input data is not contained to the unit cube. Please consider min-max scaling the input data.\n",
      "  warnings.warn(msg, InputDataWarning)\n"
     ]
    },
    {
     "name": "stdout",
     "output_type": "stream",
     "text": [
      "Iteration: 33\n",
      "new point: [[-0.63091683  0.33835682  1.          0.44860956]]\n",
      "new value: 0.8131601214408875\n",
      "best oberved value: 0.860573410987854\n",
      "\n"
     ]
    },
    {
     "name": "stderr",
     "output_type": "stream",
     "text": [
      "/Users/qianxie/Library/Python/3.9/lib/python/site-packages/botorch/models/utils/assorted.py:173: InputDataWarning: Input data is not contained to the unit cube. Please consider min-max scaling the input data.\n",
      "  warnings.warn(msg, InputDataWarning)\n"
     ]
    },
    {
     "name": "stdout",
     "output_type": "stream",
     "text": [
      "Iteration: 34\n",
      "new point: [[-0.349656    0.17427504  1.          1.        ]]\n",
      "new value: 0.8597645163536072\n",
      "best oberved value: 0.860573410987854\n",
      "\n"
     ]
    },
    {
     "name": "stderr",
     "output_type": "stream",
     "text": [
      "/Users/qianxie/Library/Python/3.9/lib/python/site-packages/botorch/models/utils/assorted.py:173: InputDataWarning: Input data is not contained to the unit cube. Please consider min-max scaling the input data.\n",
      "  warnings.warn(msg, InputDataWarning)\n"
     ]
    },
    {
     "name": "stdout",
     "output_type": "stream",
     "text": [
      "Iteration: 35\n",
      "new point: [[-0.38079375 -0.02669615  1.          1.        ]]\n",
      "new value: 0.8585565090179443\n",
      "best oberved value: 0.860573410987854\n",
      "\n"
     ]
    },
    {
     "name": "stderr",
     "output_type": "stream",
     "text": [
      "/Users/qianxie/Library/Python/3.9/lib/python/site-packages/botorch/models/utils/assorted.py:173: InputDataWarning: Input data is not contained to the unit cube. Please consider min-max scaling the input data.\n",
      "  warnings.warn(msg, InputDataWarning)\n"
     ]
    },
    {
     "name": "stdout",
     "output_type": "stream",
     "text": [
      "Iteration: 36\n",
      "new point: [[-0.35399666  0.15915056  1.          1.        ]]\n",
      "new value: 0.860027015209198\n",
      "best oberved value: 0.860573410987854\n",
      "\n"
     ]
    },
    {
     "name": "stderr",
     "output_type": "stream",
     "text": [
      "/Users/qianxie/Library/Python/3.9/lib/python/site-packages/botorch/models/utils/assorted.py:173: InputDataWarning: Input data is not contained to the unit cube. Please consider min-max scaling the input data.\n",
      "  warnings.warn(msg, InputDataWarning)\n"
     ]
    },
    {
     "name": "stdout",
     "output_type": "stream",
     "text": [
      "Iteration: 37\n",
      "new point: [[-0.3571888  0.1466717  1.         1.       ]]\n",
      "new value: 0.860194742679596\n",
      "best oberved value: 0.860573410987854\n",
      "\n"
     ]
    },
    {
     "name": "stderr",
     "output_type": "stream",
     "text": [
      "/Users/qianxie/Library/Python/3.9/lib/python/site-packages/botorch/models/utils/assorted.py:173: InputDataWarning: Input data is not contained to the unit cube. Please consider min-max scaling the input data.\n",
      "  warnings.warn(msg, InputDataWarning)\n"
     ]
    },
    {
     "name": "stdout",
     "output_type": "stream",
     "text": [
      "Iteration: 38\n",
      "new point: [[-0.3600631   0.13424805  1.          1.        ]]\n",
      "new value: 0.8603212237358093\n",
      "best oberved value: 0.860573410987854\n",
      "\n"
     ]
    },
    {
     "name": "stderr",
     "output_type": "stream",
     "text": [
      "/Users/qianxie/Library/Python/3.9/lib/python/site-packages/botorch/models/utils/assorted.py:173: InputDataWarning: Input data is not contained to the unit cube. Please consider min-max scaling the input data.\n",
      "  warnings.warn(msg, InputDataWarning)\n"
     ]
    },
    {
     "name": "stdout",
     "output_type": "stream",
     "text": [
      "Iteration: 39\n",
      "new point: [[-0.36304212  0.12005881  1.          1.        ]]\n",
      "new value: 0.8604190945625305\n",
      "best oberved value: 0.860573410987854\n",
      "\n"
     ]
    }
   ],
   "source": [
    "torch.manual_seed(seed)\n",
    "\n",
    "lmbda = 0.02\n",
    "\n",
    "x = torch.rand(10, 4, device=device, dtype=dtype).requires_grad_(True)\n",
    "y = objective(x).unsqueeze(-1)  # add output dimension\n",
    "\n",
    "if maximize:\n",
    "    best_f = y.max().item() \n",
    "else:\n",
    "    best_f = y.min().item() \n",
    "\n",
    "GI_best = [best_f] # This will store the best value\n",
    "stopping_time = []  # This will store the stopping times\n",
    "\n",
    "for i in range(num_iterations):\n",
    "\n",
    "    # Fit the model\n",
    "#     with torch.no_grad():  # Temporarily set all the requires_grad flags to false\n",
    "    model = fit_gp_model(x.detach(), y.detach(), Yvar=None)\n",
    "\n",
    "    # Optimize GI\n",
    "    GI = GittinsIndex(model=model, cost=lmbda, maximize=maximize)\n",
    "    if maximize:\n",
    "        new_point, new_point_GI = optimize_acqf(\n",
    "            acq_function=GI,\n",
    "            bounds=torch.tensor([[-1., -1., -1., -1.],[1., 1., 1., 1.]]),\n",
    "            q=1,\n",
    "            num_restarts=40,\n",
    "            raw_samples=400,\n",
    "            options={},\n",
    "        )\n",
    "    else:\n",
    "        neg_GI = lambda X: -GI(X)\n",
    "        new_point, new_point_neg_GI = optimize_acqf(\n",
    "            acq_function=neg_GI,\n",
    "            bounds=torch.tensor([[-1., -1., -1., -1.],[1., 1., 1., 1.]]),\n",
    "            q=1,\n",
    "            num_restarts=40,\n",
    "            raw_samples=400,\n",
    "            options={},\n",
    "        )\n",
    "        new_point_GI = -new_point_neg_GI\n",
    "\n",
    "    new_value = objective(new_point)\n",
    "\n",
    "    print(\"Iteration:\", i)\n",
    "    print(\"new point:\", new_point.detach().numpy())\n",
    "    print(\"new value:\", new_value.item())\n",
    "\n",
    "    #cross_validation(x,y,nu=0.5)\n",
    "\n",
    "\n",
    "    # Add the new data\n",
    "    x = torch.cat((x,new_point))\n",
    "    y = torch.cat((y,new_value.unsqueeze(-1)))\n",
    "\n",
    "    if maximize:\n",
    "        if new_point_GI.item() < best_f:\n",
    "            stopping_time.append(i)\n",
    "            lmbda = lmbda / 2\n",
    "        best_f = max(best_f, new_value.item())\n",
    "    else:\n",
    "        if new_point_GI.item() > best_f:\n",
    "            stopping_time.append(i)\n",
    "            lmbda = lmbda / 2\n",
    "        best_f = min(best_f, new_value.item())\n",
    "\n",
    "    GI_best.append(best_f)\n",
    "    print(\"best oberved value:\", best_f)\n",
    "    print()"
   ]
  },
  {
   "cell_type": "code",
   "execution_count": 105,
   "id": "a318822e",
   "metadata": {},
   "outputs": [
    {
     "data": {
      "text/plain": [
       "Text(0.5, 1.0, 'Performance of EI vs Gittins vs UCB')"
      ]
     },
     "execution_count": 105,
     "metadata": {},
     "output_type": "execute_result"
    },
    {
     "data": {
      "image/png": "[encoded data removed]",
      "text/plain": [
       "<Figure size 640x480 with 1 Axes>"
      ]
     },
     "metadata": {},
     "output_type": "display_data"
    }
   ],
   "source": [
    "import numpy as np\n",
    "\n",
    "# Plotting EI\n",
    "plt.plot(EI_best, '.-', label='EI')\n",
    "\n",
    "# Plotting Gittins\n",
    "for cost in sorted(GI_best_dict.keys(), reverse=True):\n",
    "    label = \"Gittins (lambda={})\".format(cost)\n",
    "    plt.plot(GI_best_dict[cost], '.-', label=label)\n",
    "    \n",
    "# Plotting GI\n",
    "plt.plot(GI_best, '.-', label='Gittins (adaptive schedule)')\n",
    "plt.scatter(stopping_time, np.array(GI_best)[stopping_time], c='pink', marker='*', s=50)\n",
    "    \n",
    "# Plotting UCB\n",
    "plt.plot(UCB_best, '.-', label='UCB')\n",
    "\n",
    "# Adding legend\n",
    "plt.legend()\n",
    "\n",
    "plt.xlabel('Iteration')\n",
    "plt.ylabel('Best value found')\n",
    "plt.title(\"Performance of EI vs Gittins vs UCB\")"
   ]
  }
 ],
 "metadata": {
  "kernelspec": {
   "display_name": "Python 3 (ipykernel)",
   "language": "python",
   "name": "python3"
  },
  "language_info": {
   "codemirror_mode": {
    "name": "ipython",
    "version": 3
   },
   "file_extension": ".py",
   "mimetype": "text/x-python",
   "name": "python",
   "nbconvert_exporter": "python",
   "pygments_lexer": "ipython3",
   "version": "3.9.6"
  }
 },
 "nbformat": 4,
 "nbformat_minor": 5
}
