{
 "cells": [
  {
   "cell_type": "code",
   "execution_count": 2,
   "id": "ad54654f",
   "metadata": {},
   "outputs": [],
   "source": [
    "import jax.numpy as jnp\n",
    "from jax.scipy.stats import norm\n",
    "from jax.scipy.optimize import minimize\n",
    "import gpjax as gpx"
   ]
  },
  {
   "cell_type": "markdown",
   "id": "c6bca088",
   "metadata": {},
   "source": [
    "## Method 1: Quadratic expected loss + BFGS"
   ]
  },
  {
   "cell_type": "code",
   "execution_count": 93,
   "id": "6c2c9c18",
   "metadata": {},
   "outputs": [],
   "source": [
    "def Expected_loss(mean, std, alt, cost):\n",
    "    '''\n",
    "    This function calculates (E[(g-V)^+]-c)^2 for given values g, c and a normal random variable V~N(mu, sigma^2)\n",
    "    In Pandora Box problem, g is the outside value or the termination cost, V is the box value, c is the inspection cost\n",
    "    In Bayesian optimization, g is the best value observed so far, V can be drawn from the predictive distribution, c is the query cost\n",
    "    '''\n",
    "    z = (alt-mean) / std\n",
    "    return jnp.squeeze(((alt-mean) * norm.cdf(z) + std * norm.pdf(z) - cost) ** 2)"
   ]
  },
  {
   "cell_type": "code",
   "execution_count": 40,
   "id": "099d57fb",
   "metadata": {},
   "outputs": [],
   "source": [
    "def EI(mean, std, best):\n",
    "    '''\n",
    "    EI policy finds c^* that minimizes (E[(g-V)^+]-c)^2 given best observed value g and the distribution of normal random variable V\n",
    "    '''\n",
    "    size = jnp.size(mean)\n",
    "    \n",
    "    c0 = jnp.array([0.0])\n",
    "    ei = jnp.zeros(size)\n",
    "    \n",
    "    for i in jnp.arange(size):\n",
    "        ei = ei.at[i].set(minimize(lambda c: Expected_loss(mean=mean[i], std=std[i], alt=best[i], cost=c), c0, method=\"BFGS\").x.item())\n",
    "        \n",
    "    return ei"
   ]
  },
  {
   "cell_type": "code",
   "execution_count": 94,
   "id": "01af8ea4",
   "metadata": {},
   "outputs": [],
   "source": [
    "def Gittins(mean, std, cost):\n",
    "    '''\n",
    "    Gittins policy finds g^* that minimizes (E[(g-V)^+]-c)^2 given inspection/query cost c and the distribution of normal random variable V\n",
    "    '''\n",
    "    size = jnp.size(mean)\n",
    "    \n",
    "    g0 = jnp.array([0.0])\n",
    "    gi = jnp.zeros(size)\n",
    "    \n",
    "    for i in jnp.arange(size):\n",
    "        gi = gi.at[i].set(minimize(lambda g: Expected_loss(mean=mean[i], std=std[i], alt=g, cost=cost[i]), g0, method=\"BFGS\").x.item())\n",
    "    \n",
    "    return gi"
   ]
  },
  {
   "cell_type": "code",
   "execution_count": 5,
   "id": "6a1c15d2",
   "metadata": {},
   "outputs": [
    {
     "name": "stdout",
     "output_type": "stream",
     "text": [
      "The solution for Gittins Index g* is: [0.89947134 0.89947134]\n",
      "The expected improvement is: [1.0833155 1.0833155]\n"
     ]
    }
   ],
   "source": [
    "mu=jnp.zeros(2)\n",
    "sigma=jnp.ones(2)\n",
    "c=jnp.ones(2)\n",
    "g=jnp.ones(2)\n",
    "\n",
    "\n",
    "# Find the expected improvement and Gittins index by optimizing the objective function\n",
    "gi = Gittins(mean=mu, std=sigma, cost=c)\n",
    "ei = EI(mean=mu,std=sigma,best=g)\n",
    "\n",
    "# Print the result\n",
    "print(\"The solution for Gittins Index g* is:\", gi)\n",
    "print(\"The expected improvement is:\", ei)"
   ]
  },
  {
   "cell_type": "code",
   "execution_count": 95,
   "id": "1a4bfecd",
   "metadata": {},
   "outputs": [
    {
     "name": "stdout",
     "output_type": "stream",
     "text": [
      "The solution for Gittins Index g* is: [-2.5976803]\n",
      "The expected loss of Gittin Index g* is: 2.2536209e-07\n"
     ]
    }
   ],
   "source": [
    "mu=jnp.array([0])\n",
    "sigma=jnp.array([1.0])\n",
    "c=jnp.array([0.001])\n",
    "\n",
    "\n",
    "# Find the expected improvement and Gittins index by optimizing the objective function\n",
    "gi = Gittins(mean=mu, std=sigma, cost=c)\n",
    "# ei = EI(mean=mu,std=sigma,best=g)\n",
    "\n",
    "# Print the result\n",
    "print(\"The solution for Gittins Index g* is:\", gi)\n",
    "print(\"The expected loss of Gittin Index g* is:\", Expected_loss(mean=mu, std=sigma, alt=gi, cost=c))\n",
    "# print(\"The expected improvement is:\", ei)"
   ]
  },
  {
   "cell_type": "markdown",
   "id": "b72691d9",
   "metadata": {},
   "source": [
    "## Method 2: Abs expected loss + Bisection"
   ]
  },
  {
   "cell_type": "code",
   "execution_count": 87,
   "id": "3233c0d2",
   "metadata": {},
   "outputs": [],
   "source": [
    "def ExpectedLoss(mean, std, alt, cost):\n",
    "    '''\n",
    "    This function calculates E[(g-V)^+]-c for given values g, c and a normal random variable V~N(mu, sigma^2)\n",
    "    Input: mean and standard deviation the normal random variable V, alternative g, cost c\n",
    "    '''\n",
    "    \n",
    "    z = (alt - mean) / std\n",
    "    \n",
    "    EI = (alt - mean) * jnp.where(std == 0, 0.0, jnp.nan_to_num(norm.cdf(z))) + std * jnp.nan_to_num(norm.pdf(z)) \n",
    "    \n",
    "    exp_loss = EI - cost\n",
    "    \n",
    "    return exp_loss"
   ]
  },
  {
   "cell_type": "code",
   "execution_count": 88,
   "id": "3e229d86",
   "metadata": {},
   "outputs": [],
   "source": [
    "# Define the acquisition function of the Gittins policy\n",
    "def Gittins_acq(mean, std, cost):\n",
    "    '''\n",
    "    Gittins index minimizes the difference between the expected improvement and the query cost \n",
    "    Favor points where there is a smaller Gittins index compared to the current best observed value\n",
    "    Return the point with minimum Gittins index\n",
    "    '''\n",
    "\n",
    "    size = jnp.size(mean)\n",
    "    \n",
    "    l = bound[:,0]*jnp.ones(size)\n",
    "    h = bound[:,1]*jnp.ones(size)\n",
    "    m = (h+l)/2\n",
    "    \n",
    "    # Bisection method\n",
    "    while jnp.nanmax(jnp.abs(ExpectedLoss(mean, std, m, cost))) >= eps:\n",
    "        sgn_l = jnp.sign(ExpectedLoss(mean, std, l, cost))\n",
    "        sgn_m = jnp.sign(ExpectedLoss(mean, std, m, cost))\n",
    "        sgn_h = jnp.sign(ExpectedLoss(mean, std, h, cost))\n",
    "        l = jnp.where(sgn_m == 0, m, l)\n",
    "        h = jnp.where(sgn_m == 0, m, h)\n",
    "        l = jnp.where(sgn_l == sgn_m, m, l)\n",
    "        h = jnp.where(sgn_h == sgn_m, m, h)\n",
    "        m = (h+l)/2\n",
    "        \n",
    "    return m"
   ]
  },
  {
   "cell_type": "code",
   "execution_count": 92,
   "id": "4e93e11f",
   "metadata": {},
   "outputs": [
    {
     "name": "stdout",
     "output_type": "stream",
     "text": [
      "The solution for Gittins Index g* is: [-2.7148438]\n",
      "The expected loss of Gittin Index g* is: [9.7734155e-06]\n"
     ]
    }
   ],
   "source": [
    "mu=jnp.array([0])\n",
    "sigma=jnp.array([1.0])\n",
    "c=jnp.array([0.001])\n",
    "bound = jnp.array([[-10, 10]])\n",
    "eps = 0.00001\n",
    "\n",
    "# Find the expected improvement and Gittins index by optimizing the objective function\n",
    "gi = Gittins_acq(mean=mu, std=sigma, cost=c)\n",
    "\n",
    "# Print the result\n",
    "print(\"The solution for Gittins Index g* is:\", gi)\n",
    "print(\"The expected loss of Gittin Index g* is:\", ExpectedLoss(mean=mu, std=sigma, alt=gi, cost=c))"
   ]
  }
 ],
 "metadata": {
  "kernelspec": {
   "display_name": "Python 3 (ipykernel)",
   "language": "python",
   "name": "python3"
  },
  "language_info": {
   "codemirror_mode": {
    "name": "ipython",
    "version": 3
   },
   "file_extension": ".py",
   "mimetype": "text/x-python",
   "name": "python",
   "nbconvert_exporter": "python",
   "pygments_lexer": "ipython3",
   "version": "3.9.6"
  }
 },
 "nbformat": 4,
 "nbformat_minor": 5
}
