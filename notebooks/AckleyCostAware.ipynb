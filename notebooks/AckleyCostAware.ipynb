{
 "cells": [
  {
   "cell_type": "code",
   "execution_count": 1,
   "id": "6758485f-e1c3-459b-a6fc-ea6c8d083278",
   "metadata": {},
   "outputs": [],
   "source": [
    "import torch\n",
    "# Set default tensor type to float64\n",
    "torch.set_default_dtype(torch.float64)\n",
    "\n",
    "from botorch.test_functions import Ackley\n",
    "\n",
    "# Test the 5D Ackley function\n",
    "dim = 5\n",
    "ackley_function = Ackley(dim=dim)\n",
    "\n",
    "# Define the objective function\n",
    "def objective_function(X):\n",
    "    return ackley_function(2*X-1)"
   ]
  },
  {
   "cell_type": "code",
   "execution_count": 14,
   "id": "22941c46-607c-4e2b-8a7a-33508ab11e1c",
   "metadata": {},
   "outputs": [
    {
     "data": {
      "text/plain": [
       "tensor([3.6027, 3.7801, 4.4003, 3.9919, 3.7410, 3.4719, 3.9597, 3.6775, 2.5159,\n",
       "        3.4237, 3.7666, 4.5081])"
      ]
     },
     "execution_count": 14,
     "metadata": {},
     "output_type": "execute_result"
    }
   ],
   "source": [
    "objective_function(init_x)"
   ]
  },
  {
   "cell_type": "code",
   "execution_count": 2,
   "id": "b6e81d2b-bfe2-48d4-bdb0-1689a1c223fb",
   "metadata": {},
   "outputs": [],
   "source": [
    "a = torch.rand(1)\n",
    "a = 0.75 * a + 0.75\n",
    "\n",
    "b = torch.rand(1)\n",
    "b = 2.0 * b + 1.0\n",
    "\n",
    "c = torch.rand(1)\n",
    "c = 2 * 3.14 * c"
   ]
  },
  {
   "cell_type": "code",
   "execution_count": 3,
   "id": "2976c36d-93b0-4fd0-87e5-1dea0899e802",
   "metadata": {},
   "outputs": [
    {
     "data": {
      "text/plain": [
       "tensor([0.8040])"
      ]
     },
     "execution_count": 3,
     "metadata": {},
     "output_type": "execute_result"
    }
   ],
   "source": [
    "a"
   ]
  },
  {
   "cell_type": "code",
   "execution_count": 4,
   "id": "e9113217-50ac-4423-bb2c-0a8a0949db36",
   "metadata": {},
   "outputs": [
    {
     "data": {
      "text/plain": [
       "tensor([2.8660])"
      ]
     },
     "execution_count": 4,
     "metadata": {},
     "output_type": "execute_result"
    }
   ],
   "source": [
    "b"
   ]
  },
  {
   "cell_type": "code",
   "execution_count": 5,
   "id": "ac0c5f5d-e4e7-45d7-96cf-c063ef8e2246",
   "metadata": {},
   "outputs": [
    {
     "data": {
      "text/plain": [
       "tensor([2.3003])"
      ]
     },
     "execution_count": 5,
     "metadata": {},
     "output_type": "execute_result"
    }
   ],
   "source": [
    "c"
   ]
  },
  {
   "cell_type": "code",
   "execution_count": 12,
   "id": "3b711a7c-1c13-4363-8430-fa179b068671",
   "metadata": {},
   "outputs": [],
   "source": [
    "pi = 3.14"
   ]
  },
  {
   "cell_type": "code",
   "execution_count": 6,
   "id": "a217a4cd-56bc-4d46-892f-87d433983018",
   "metadata": {},
   "outputs": [],
   "source": [
    "def cost_function(X):\n",
    "    X_unnorm = (2.0 * X) - 1.0\n",
    "    ln_cost_X = a * torch.cos(b * (2 * pi) * (X_unnorm + c)).mean(dim=-1)\n",
    "    cost_X = torch.exp(ln_cost_X)\n",
    "    return cost_X"
   ]
  },
  {
   "cell_type": "code",
   "execution_count": 15,
   "id": "44cf8df5-7525-42cc-9ad9-a344506f2f61",
   "metadata": {},
   "outputs": [
    {
     "data": {
      "text/plain": [
       "tensor([0.7738, 1.4625, 1.0699, 0.8604, 1.3715, 1.0754, 0.8887, 1.0347, 0.9509,\n",
       "        0.9423, 1.2163, 1.5071])"
      ]
     },
     "execution_count": 15,
     "metadata": {},
     "output_type": "execute_result"
    }
   ],
   "source": [
    "cost_function(init_x)"
   ]
  },
  {
   "cell_type": "code",
   "execution_count": 7,
   "id": "47f5ff11-f47c-4a8a-93cf-ff47c7936848",
   "metadata": {},
   "outputs": [],
   "source": [
    "bounds = torch.stack([torch.zeros(dim), torch.ones(dim)])\n",
    "seed = 42\n",
    "maximize = False\n",
    "budget = 5"
   ]
  },
  {
   "cell_type": "code",
   "execution_count": 8,
   "id": "871f85cc-12d5-40bf-87aa-7179deb93856",
   "metadata": {},
   "outputs": [],
   "source": [
    "from pandora_bayesopt.bayesianoptimizer import BayesianOptimizer\n",
    "from botorch.utils.sampling import draw_sobol_samples\n",
    "from botorch.acquisition import ExpectedImprovement\n",
    "from pandora_bayesopt.acquisition.gittins import GittinsIndex"
   ]
  },
  {
   "cell_type": "code",
   "execution_count": 9,
   "id": "37e6ad04-1916-4ce6-86f0-67ec3e618fa3",
   "metadata": {},
   "outputs": [],
   "source": [
    "global_optimum_value = 0"
   ]
  },
  {
   "cell_type": "code",
   "execution_count": 21,
   "id": "6d40fcfa-9481-4c6d-a529-753a8ef4f184",
   "metadata": {},
   "outputs": [
    {
     "name": "stdout",
     "output_type": "stream",
     "text": [
      "Iteration 0, New point: [0.45568794 0.36701297 0.54450917 0.49514284 0.24891346], New value: 2.357226878804362\n",
      "Best observed value: 2.357226878804362\n",
      "Current acquisition value: tensor(0.0443)\n",
      "Cumulative cost: 0.7219854639319656\n",
      "\n",
      "Iteration 1, New point: [0.42869095 0.41683717 0.57183523 0.50536514 0.31623972], New value: 1.9967739556480244\n",
      "Best observed value: 1.9967739556480244\n",
      "Current acquisition value: tensor(0.0364)\n",
      "Cumulative cost: 1.5628341252055695\n",
      "\n",
      "Iteration 2, New point: [0.44720008 0.43180234 0.6061904  0.45504654 0.35403349], New value: 1.8668276134808868\n",
      "Best observed value: 1.8668276134808868\n",
      "Current acquisition value: tensor(0.0521)\n",
      "Cumulative cost: 2.378818230501923\n",
      "\n",
      "Iteration 3, New point: [0.42672213 0.51664283 0.63349761 0.44375008 0.34081903], New value: 2.0782009501122585\n",
      "Best observed value: 1.8668276134808868\n",
      "Current acquisition value: tensor(0.0341)\n",
      "Cumulative cost: 3.3204555522142147\n",
      "\n",
      "Iteration 4, New point: [0.42259311 0.36996022 0.64881386 0.48035475 0.37372296], New value: 2.3245371673630157\n",
      "Best observed value: 1.8668276134808868\n",
      "Current acquisition value: tensor(0.0376)\n",
      "Cumulative cost: 4.45251157672285\n",
      "\n",
      "Iteration 5, New point: [0.49660541 0.45686655 0.55834851 0.45296566 0.3689761 ], New value: 1.316640420061582\n",
      "Best observed value: 1.316640420061582\n",
      "Current acquisition value: tensor(0.0691)\n",
      "Cumulative cost: 5.020005167527513\n",
      "\n"
     ]
    }
   ],
   "source": [
    "torch.manual_seed(seed)\n",
    "init_x = draw_sobol_samples(bounds=bounds, n=1, q=2*(dim+1)).squeeze(0)\n",
    "\n",
    "# Example usage with EI\n",
    "EI_optimizer = BayesianOptimizer(objective=objective_function, dim=dim, maximize=maximize, cost=cost_function, initial_points=init_x, input_standardize=True)\n",
    "EI_optimizer.run_until_budget(budget=budget, acquisition_function_class=ExpectedImprovement)\n",
    "EI_best_history = EI_optimizer.get_best_history()\n",
    "EI_regret_history = EI_optimizer.get_regret_history(global_optimum_value)\n",
    "EI_cost_history = EI_optimizer.get_cost_history()"
   ]
  },
  {
   "cell_type": "code",
   "execution_count": 13,
   "id": "a2d3aa18-8a2f-445a-8eb7-1963a13400e9",
   "metadata": {},
   "outputs": [
    {
     "name": "stdout",
     "output_type": "stream",
     "text": [
      "17.770118188374482\n",
      "Iteration 0, New point: [0.96680011 0.08722208 0.         1.         0.79957692], New value: 4.292819089952438\n",
      "Best observed value: 2.5158544475683127\n",
      "Current acquisition value: tensor(0.2926)\n",
      "Cumulative cost: 0.8003162406665582\n",
      "\n",
      "18.153528781479935\n"
     ]
    },
    {
     "name": "stderr",
     "output_type": "stream",
     "text": [
      "/Users/qianxie/Desktop/Curriculum/Graduate/Research/PandoraBayesOPT/pandorabayesopt_env/lib/python3.9/site-packages/botorch/models/gpytorch.py:99: BotorchTensorDimensionWarning: Non-strict enforcement of botorch tensor conventions. The following error would have been raised with strict enforcement: Expected X and Y to have the same number of dimensions (got X with dimension 3 and Y with dimension 4).\n",
      "  warnings.warn(\n",
      "/Users/qianxie/Desktop/Curriculum/Graduate/Research/PandoraBayesOPT/pandorabayesopt_env/lib/python3.9/site-packages/botorch/models/gpytorch.py:99: BotorchTensorDimensionWarning: Non-strict enforcement of botorch tensor conventions. The following error would have been raised with strict enforcement: Expected X and Y to have the same number of dimensions (got X with dimension 4 and Y with dimension 5).\n",
      "  warnings.warn(\n",
      "/Users/qianxie/Desktop/Curriculum/Graduate/Research/PandoraBayesOPT/pandorabayesopt_env/lib/python3.9/site-packages/botorch/models/gpytorch.py:99: BotorchTensorDimensionWarning: Non-strict enforcement of botorch tensor conventions. The following error would have been raised with strict enforcement: Expected X and Y to have the same number of dimensions (got X with dimension 5 and Y with dimension 6).\n",
      "  warnings.warn(\n"
     ]
    },
    {
     "name": "stdout",
     "output_type": "stream",
     "text": [
      "Iteration 1, New point: [0.95682271 1.         0.         0.08190926 0.0553775 ], New value: 3.824477438372338\n",
      "Best observed value: 2.5158544475683127\n",
      "Current acquisition value: tensor(0.2976)\n",
      "Cumulative cost: 1.8776282162753017\n",
      "\n",
      "18.153528781479935\n"
     ]
    },
    {
     "name": "stderr",
     "output_type": "stream",
     "text": [
      "/Users/qianxie/Desktop/Curriculum/Graduate/Research/PandoraBayesOPT/pandorabayesopt_env/lib/python3.9/site-packages/botorch/models/gpytorch.py:99: BotorchTensorDimensionWarning: Non-strict enforcement of botorch tensor conventions. The following error would have been raised with strict enforcement: Expected X and Y to have the same number of dimensions (got X with dimension 3 and Y with dimension 4).\n",
      "  warnings.warn(\n",
      "/Users/qianxie/Desktop/Curriculum/Graduate/Research/PandoraBayesOPT/pandorabayesopt_env/lib/python3.9/site-packages/botorch/models/gpytorch.py:99: BotorchTensorDimensionWarning: Non-strict enforcement of botorch tensor conventions. The following error would have been raised with strict enforcement: Expected X and Y to have the same number of dimensions (got X with dimension 4 and Y with dimension 5).\n",
      "  warnings.warn(\n",
      "/Users/qianxie/Desktop/Curriculum/Graduate/Research/PandoraBayesOPT/pandorabayesopt_env/lib/python3.9/site-packages/botorch/models/gpytorch.py:99: BotorchTensorDimensionWarning: Non-strict enforcement of botorch tensor conventions. The following error would have been raised with strict enforcement: Expected X and Y to have the same number of dimensions (got X with dimension 5 and Y with dimension 6).\n",
      "  warnings.warn(\n"
     ]
    },
    {
     "name": "stdout",
     "output_type": "stream",
     "text": [
      "Iteration 2, New point: [0.59283661 0.84247536 0.04949655 0.05919432 0.1535272 ], New value: 4.121686867478726\n",
      "Best observed value: 2.5158544475683127\n",
      "Current acquisition value: tensor(0.2879)\n",
      "Cumulative cost: 3.0336934295830504\n",
      "\n",
      "18.153528781479935\n"
     ]
    },
    {
     "name": "stderr",
     "output_type": "stream",
     "text": [
      "/Users/qianxie/Desktop/Curriculum/Graduate/Research/PandoraBayesOPT/pandorabayesopt_env/lib/python3.9/site-packages/botorch/models/gpytorch.py:99: BotorchTensorDimensionWarning: Non-strict enforcement of botorch tensor conventions. The following error would have been raised with strict enforcement: Expected X and Y to have the same number of dimensions (got X with dimension 3 and Y with dimension 4).\n",
      "  warnings.warn(\n",
      "/Users/qianxie/Desktop/Curriculum/Graduate/Research/PandoraBayesOPT/pandorabayesopt_env/lib/python3.9/site-packages/botorch/models/gpytorch.py:99: BotorchTensorDimensionWarning: Non-strict enforcement of botorch tensor conventions. The following error would have been raised with strict enforcement: Expected X and Y to have the same number of dimensions (got X with dimension 4 and Y with dimension 5).\n",
      "  warnings.warn(\n",
      "/Users/qianxie/Desktop/Curriculum/Graduate/Research/PandoraBayesOPT/pandorabayesopt_env/lib/python3.9/site-packages/botorch/models/gpytorch.py:99: BotorchTensorDimensionWarning: Non-strict enforcement of botorch tensor conventions. The following error would have been raised with strict enforcement: Expected X and Y to have the same number of dimensions (got X with dimension 5 and Y with dimension 6).\n",
      "  warnings.warn(\n"
     ]
    },
    {
     "name": "stdout",
     "output_type": "stream",
     "text": [
      "Iteration 3, New point: [0.77529865 0.29786511 0.         0.9598132  0.82744507], New value: 4.559378719206233\n",
      "Best observed value: 2.5158544475683127\n",
      "Current acquisition value: tensor(0.1274)\n",
      "Cumulative cost: 3.835060543391994\n",
      "\n",
      "18.153528781479935\n"
     ]
    },
    {
     "name": "stderr",
     "output_type": "stream",
     "text": [
      "/Users/qianxie/Desktop/Curriculum/Graduate/Research/PandoraBayesOPT/pandorabayesopt_env/lib/python3.9/site-packages/botorch/models/gpytorch.py:99: BotorchTensorDimensionWarning: Non-strict enforcement of botorch tensor conventions. The following error would have been raised with strict enforcement: Expected X and Y to have the same number of dimensions (got X with dimension 3 and Y with dimension 4).\n",
      "  warnings.warn(\n",
      "/Users/qianxie/Desktop/Curriculum/Graduate/Research/PandoraBayesOPT/pandorabayesopt_env/lib/python3.9/site-packages/botorch/models/gpytorch.py:99: BotorchTensorDimensionWarning: Non-strict enforcement of botorch tensor conventions. The following error would have been raised with strict enforcement: Expected X and Y to have the same number of dimensions (got X with dimension 4 and Y with dimension 5).\n",
      "  warnings.warn(\n",
      "/Users/qianxie/Desktop/Curriculum/Graduate/Research/PandoraBayesOPT/pandorabayesopt_env/lib/python3.9/site-packages/botorch/models/gpytorch.py:99: BotorchTensorDimensionWarning: Non-strict enforcement of botorch tensor conventions. The following error would have been raised with strict enforcement: Expected X and Y to have the same number of dimensions (got X with dimension 5 and Y with dimension 6).\n",
      "  warnings.warn(\n"
     ]
    },
    {
     "name": "stdout",
     "output_type": "stream",
     "text": [
      "Iteration 4, New point: [0.70468431 0.14059543 0.         1.         0.78555634], New value: 4.580883529375299\n",
      "Best observed value: 2.5158544475683127\n",
      "Current acquisition value: tensor(0.0613)\n",
      "Cumulative cost: 4.575600936406993\n",
      "\n",
      "18.153528781479935\n"
     ]
    },
    {
     "name": "stderr",
     "output_type": "stream",
     "text": [
      "/Users/qianxie/Desktop/Curriculum/Graduate/Research/PandoraBayesOPT/pandorabayesopt_env/lib/python3.9/site-packages/botorch/models/gpytorch.py:99: BotorchTensorDimensionWarning: Non-strict enforcement of botorch tensor conventions. The following error would have been raised with strict enforcement: Expected X and Y to have the same number of dimensions (got X with dimension 3 and Y with dimension 4).\n",
      "  warnings.warn(\n",
      "/Users/qianxie/Desktop/Curriculum/Graduate/Research/PandoraBayesOPT/pandorabayesopt_env/lib/python3.9/site-packages/botorch/models/gpytorch.py:99: BotorchTensorDimensionWarning: Non-strict enforcement of botorch tensor conventions. The following error would have been raised with strict enforcement: Expected X and Y to have the same number of dimensions (got X with dimension 4 and Y with dimension 5).\n",
      "  warnings.warn(\n",
      "/Users/qianxie/Desktop/Curriculum/Graduate/Research/PandoraBayesOPT/pandorabayesopt_env/lib/python3.9/site-packages/botorch/models/gpytorch.py:99: BotorchTensorDimensionWarning: Non-strict enforcement of botorch tensor conventions. The following error would have been raised with strict enforcement: Expected X and Y to have the same number of dimensions (got X with dimension 5 and Y with dimension 6).\n",
      "  warnings.warn(\n"
     ]
    },
    {
     "name": "stdout",
     "output_type": "stream",
     "text": [
      "Iteration 5, New point: [0.51761433 0.84148609 0.12629523 0.30540274 0.50408762], New value: 3.39917854158065\n",
      "Best observed value: 2.5158544475683127\n",
      "Current acquisition value: tensor(8.0445e-46)\n",
      "Cumulative cost: 5.099545252697611\n",
      "\n"
     ]
    }
   ],
   "source": [
    "from pandora_bayesopt.acquisition.budgeted_multi_step_ei import BudgetedMultiStepLookaheadEI\n",
    "torch.manual_seed(seed)\n",
    "init_x = draw_sobol_samples(bounds=bounds, n=1, q=2*(dim+1)).squeeze(0)\n",
    "\n",
    "# Example usage with BMSEI\n",
    "BMSEI_optimizer = BayesianOptimizer(objective=objective_function, dim=dim, maximize=maximize, cost=cost_function, initial_points=init_x, input_standardize=True)\n",
    "BMSEI_optimizer.run_until_budget(budget=budget, acquisition_function_class=BudgetedMultiStepLookaheadEI)\n",
    "BMSEI_best_history = BMSEI_optimizer.get_best_history()\n",
    "BMSEI_regret_history = BMSEI_optimizer.get_regret_history(global_optimum_value)\n",
    "BMSEI_cost_history = BMSEI_optimizer.get_cost_history()"
   ]
  }
 ],
 "metadata": {
  "kernelspec": {
   "display_name": "Python 3 (ipykernel)",
   "language": "python",
   "name": "python3"
  },
  "language_info": {
   "codemirror_mode": {
    "name": "ipython",
    "version": 3
   },
   "file_extension": ".py",
   "mimetype": "text/x-python",
   "name": "python",
   "nbconvert_exporter": "python",
   "pygments_lexer": "ipython3",
   "version": "3.9.18"
  }
 },
 "nbformat": 4,
 "nbformat_minor": 5
}
