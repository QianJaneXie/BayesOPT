{
 "cells": [
  {
   "cell_type": "code",
   "execution_count": 11,
   "id": "202b7a42-e544-4177-9d57-b91f283a4d1f",
   "metadata": {},
   "outputs": [],
   "source": [
    "import pickle\n",
    "import torch\n",
    "# Set default tensor type to float64\n",
    "torch.set_default_dtype(torch.float64)"
   ]
  },
  {
   "cell_type": "code",
   "execution_count": 14,
   "id": "4e47e089-7a7a-4889-89f1-258bc2103f3a",
   "metadata": {},
   "outputs": [
    {
     "ename": "ModuleNotFoundError",
     "evalue": "No module named 'sklearn.ensemble.forest'",
     "output_type": "error",
     "traceback": [
      "\u001b[0;31m---------------------------------------------------------------------------\u001b[0m",
      "\u001b[0;31mModuleNotFoundError\u001b[0m                       Traceback (most recent call last)",
      "Cell \u001b[0;32mIn[14], line 3\u001b[0m\n\u001b[1;32m      1\u001b[0m \u001b[38;5;28;01mfrom\u001b[39;00m \u001b[38;5;21;01msklearn\u001b[39;00m\u001b[38;5;21;01m.\u001b[39;00m\u001b[38;5;21;01mensemble\u001b[39;00m \u001b[38;5;28;01mimport\u001b[39;00m RandomForestClassifier\n\u001b[1;32m      2\u001b[0m \u001b[38;5;28;01mwith\u001b[39;00m \u001b[38;5;28mopen\u001b[39m(\u001b[38;5;124m'\u001b[39m\u001b[38;5;124mdata/cnn/rf_surrogate_cnn.pkl\u001b[39m\u001b[38;5;124m'\u001b[39m, \u001b[38;5;124m'\u001b[39m\u001b[38;5;124mrb\u001b[39m\u001b[38;5;124m'\u001b[39m) \u001b[38;5;28;01mas\u001b[39;00m obj_pickle_file:\n\u001b[0;32m----> 3\u001b[0m         objective_surrogate \u001b[38;5;241m=\u001b[39m \u001b[43mpickle\u001b[49m\u001b[38;5;241;43m.\u001b[39;49m\u001b[43mload\u001b[49m\u001b[43m(\u001b[49m\u001b[43mobj_pickle_file\u001b[49m\u001b[43m)\u001b[49m\n\u001b[1;32m      5\u001b[0m \u001b[38;5;28;01mwith\u001b[39;00m \u001b[38;5;28mopen\u001b[39m(\u001b[38;5;124m'\u001b[39m\u001b[38;5;124mdata/cnn/rf_cost_surrogate_cnn.pkl\u001b[39m\u001b[38;5;124m'\u001b[39m, \u001b[38;5;124m'\u001b[39m\u001b[38;5;124mrb\u001b[39m\u001b[38;5;124m'\u001b[39m) \u001b[38;5;28;01mas\u001b[39;00m cost_pickle_file:\n\u001b[1;32m      6\u001b[0m     cost_surrogate \u001b[38;5;241m=\u001b[39m pickle\u001b[38;5;241m.\u001b[39mload(cost_pickle_file)\n",
      "\u001b[0;31mModuleNotFoundError\u001b[0m: No module named 'sklearn.ensemble.forest'"
     ]
    }
   ],
   "source": [
    "from sklearn.ensemble import RandomForestClassifier\n",
    "with open('data/cnn/rf_surrogate_cnn.pkl', 'rb') as obj_pickle_file:\n",
    "        objective_surrogate = pickle.load(obj_pickle_file)\n",
    "\n",
    "with open('data/cnn/rf_cost_surrogate_cnn.pkl', 'rb') as cost_pickle_file:\n",
    "    cost_surrogate = pickle.load(cost_pickle_file)"
   ]
  },
  {
   "cell_type": "code",
   "execution_count": 15,
   "id": "cab6576d-5970-47d5-8e74-84b23ccd782b",
   "metadata": {},
   "outputs": [
    {
     "ename": "ModuleNotFoundError",
     "evalue": "No module named 'face_detector'",
     "output_type": "error",
     "traceback": [
      "\u001b[0;31m---------------------------------------------------------------------------\u001b[0m",
      "\u001b[0;31mModuleNotFoundError\u001b[0m                       Traceback (most recent call last)",
      "Cell \u001b[0;32mIn[15], line 1\u001b[0m\n\u001b[0;32m----> 1\u001b[0m \u001b[38;5;28;01mimport\u001b[39;00m \u001b[38;5;21;01mface_detector\u001b[39;00m\n\u001b[1;32m      2\u001b[0m \u001b[38;5;28mprint\u001b[39m(face_detector\u001b[38;5;241m.\u001b[39mdata\u001b[38;5;241m/\u001b[39mcnn\u001b[38;5;241m/\u001b[39mrf_surrogate_cnn\u001b[38;5;241m.\u001b[39mpkl)\n",
      "\u001b[0;31mModuleNotFoundError\u001b[0m: No module named 'face_detector'"
     ]
    }
   ],
   "source": [
    "import face_detector\n",
    "print(face_detector.data/cnn/rf_surrogate_cnn.pkl)"
   ]
  },
  {
   "cell_type": "code",
   "execution_count": null,
   "id": "792f6ba5-8f0b-4890-aea7-e52aea25f0c8",
   "metadata": {},
   "outputs": [],
   "source": []
  }
 ],
 "metadata": {
  "kernelspec": {
   "display_name": "Python 3 (ipykernel)",
   "language": "python",
   "name": "python3"
  },
  "language_info": {
   "codemirror_mode": {
    "name": "ipython",
    "version": 3
   },
   "file_extension": ".py",
   "mimetype": "text/x-python",
   "name": "python",
   "nbconvert_exporter": "python",
   "pygments_lexer": "ipython3",
   "version": "3.11.7"
  }
 },
 "nbformat": 4,
 "nbformat_minor": 5
}
