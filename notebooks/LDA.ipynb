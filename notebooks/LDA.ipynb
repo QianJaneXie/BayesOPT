{
 "cells": [
  {
   "cell_type": "code",
   "execution_count": 1,
   "id": "d2e2860d-f53c-4d3e-af09-2c51fe01a0d5",
   "metadata": {},
   "outputs": [],
   "source": [
    "%load_ext autoreload\n",
    "%autoreload 2"
   ]
  },
  {
   "cell_type": "code",
   "execution_count": 2,
   "id": "202b7a42-e544-4177-9d57-b91f283a4d1f",
   "metadata": {},
   "outputs": [],
   "source": [
    "import scipy.io\n",
    "import torch\n",
    "# Set default tensor type to float64\n",
    "torch.set_default_dtype(torch.float64)"
   ]
  },
  {
   "cell_type": "code",
   "execution_count": 3,
   "id": "4e47e089-7a7a-4889-89f1-258bc2103f3a",
   "metadata": {},
   "outputs": [],
   "source": [
    "data = scipy.io.loadmat(\"data/lda/lda_on_grid.mat\")\n",
    "data = data[\"lda_on_grid\"]\n",
    "X = torch.tensor(data[:, :3])\n",
    "X[:, 0] = 2.0 * X[:, 0] - 1.0\n",
    "X[:, 1] = torch.log2(X[:, 1]) / 10.0\n",
    "X[:, 2] = torch.log2(X[:, 2]) / 14.0\n",
    "objective_X = -torch.tensor(data[:, 3]).unsqueeze(-1)\n",
    "cost_X = torch.tensor(data[:, 4]).unsqueeze(-1) / 3600.0"
   ]
  },
  {
   "cell_type": "code",
   "execution_count": 4,
   "id": "8c737fea-61eb-4d83-8d6c-928ae15c25b5",
   "metadata": {},
   "outputs": [],
   "source": [
    "dim = 3\n",
    "maximize = True"
   ]
  },
  {
   "cell_type": "code",
   "execution_count": 5,
   "id": "951f341c-62f0-4cca-903f-407df2434938",
   "metadata": {},
   "outputs": [],
   "source": [
    "from pandora_bayesopt.utils import fit_gp_model\n",
    "objective_model = fit_gp_model(X, objective_X, input_standardize=True)"
   ]
  },
  {
   "cell_type": "code",
   "execution_count": 6,
   "id": "960f61c5-afa5-42f4-9540-abb0ad967242",
   "metadata": {},
   "outputs": [],
   "source": [
    "objective_model_state_dict = torch.load('data/lda/lda_objective_model_state.pth')"
   ]
  },
  {
   "cell_type": "code",
   "execution_count": 7,
   "id": "a3f4b10a-8d69-4518-b55a-52964d34873e",
   "metadata": {},
   "outputs": [
    {
     "data": {
      "text/plain": [
       "OrderedDict([('likelihood.noise_covar.raw_noise', tensor([0.7281])),\n",
       "             ('likelihood.noise_covar.raw_noise_constraint.lower_bound',\n",
       "              tensor(1.0000e-04)),\n",
       "             ('likelihood.noise_covar.raw_noise_constraint.upper_bound',\n",
       "              tensor(0.0010)),\n",
       "             ('mean_module.constant', tensor([-4.1485])),\n",
       "             ('covar_module.raw_outputscale', tensor(13.8918)),\n",
       "             ('covar_module.base_kernel.raw_lengthscale',\n",
       "              tensor([[ 1.1911,  2.4436, -0.0256]])),\n",
       "             ('covar_module.base_kernel.lengthscale_prior.concentration',\n",
       "              tensor(3.)),\n",
       "             ('covar_module.base_kernel.lengthscale_prior.rate', tensor(6.)),\n",
       "             ('covar_module.base_kernel.raw_lengthscale_constraint.lower_bound',\n",
       "              tensor(0.)),\n",
       "             ('covar_module.base_kernel.raw_lengthscale_constraint.upper_bound',\n",
       "              tensor(inf)),\n",
       "             ('covar_module.outputscale_prior.concentration', tensor(2.)),\n",
       "             ('covar_module.outputscale_prior.rate', tensor(0.1500)),\n",
       "             ('covar_module.raw_outputscale_constraint.lower_bound',\n",
       "              tensor(0.)),\n",
       "             ('covar_module.raw_outputscale_constraint.upper_bound',\n",
       "              tensor(inf)),\n",
       "             ('outcome_transform.means', tensor([[-1819.6275]])),\n",
       "             ('outcome_transform.stdvs', tensor([[722.5451]])),\n",
       "             ('outcome_transform._stdvs_sq', tensor([[522071.4725]]))])"
      ]
     },
     "execution_count": 7,
     "metadata": {},
     "output_type": "execute_result"
    }
   ],
   "source": [
    "objective_model_state_dict"
   ]
  },
  {
   "cell_type": "code",
   "execution_count": 8,
   "id": "ea94a65d-3519-4c29-a434-2e2aa2ea8b2f",
   "metadata": {},
   "outputs": [],
   "source": [
    "# Assuming objective_model_state_dict is your current state dictionary\n",
    "# and objective_model is your SingleTaskGP model\n",
    "\n",
    "# Set the outcome transform as trained if you're sure it was trained\n",
    "# Wrap the boolean value in a torch.Tensor\n",
    "objective_model_state_dict['outcome_transform._is_trained'] = torch.tensor(True)"
   ]
  },
  {
   "cell_type": "code",
   "execution_count": 9,
   "id": "cbb1e12c-fbb6-416a-bba6-640613356f1b",
   "metadata": {},
   "outputs": [],
   "source": [
    "# Assuming objective_model_state_dict is your current state dictionary\n",
    "# and objective_model is your SingleTaskGP model\n",
    "\n",
    "# List of keys to remove\n",
    "keys_to_remove = [\n",
    "    \"likelihood.noise_covar.raw_noise\",\n",
    "    \"likelihood.noise_covar.raw_noise_constraint.lower_bound\",\n",
    "    \"likelihood.noise_covar.raw_noise_constraint.upper_bound\"\n",
    "]\n",
    "\n",
    "# Remove the keys\n",
    "for key in keys_to_remove:\n",
    "    if key in objective_model_state_dict:\n",
    "        del objective_model_state_dict[key]"
   ]
  },
  {
   "cell_type": "code",
   "execution_count": 10,
   "id": "baf60fe9-6ddc-47de-b6d1-ca059976c75c",
   "metadata": {},
   "outputs": [
    {
     "name": "stderr",
     "output_type": "stream",
     "text": [
      "/Users/qianxie/Desktop/Curriculum/Graduate/Research/PandoraBayesOPT/pandorabayesopt_env/lib/python3.11/site-packages/gpytorch/means/constant_mean.py:20: OldVersionWarning: You have loaded a GP model with a ConstantMean  from a previous version of GPyTorch. The mean module parameter `constant` has been renamed to `raw_constant`. Additionally, the shape of `raw_constant` is now *batch_shape, whereas the shape of `constant` was *batch_shape x 1. We have updated the name/shape of the parameter in your state dict, but we recommend that you re-save your model.\n",
      "  warnings.warn(\n"
     ]
    },
    {
     "data": {
      "text/plain": [
       "<All keys matched successfully>"
      ]
     },
     "execution_count": 10,
     "metadata": {},
     "output_type": "execute_result"
    }
   ],
   "source": [
    "objective_model.load_state_dict(objective_model_state_dict)"
   ]
  },
  {
   "cell_type": "code",
   "execution_count": 11,
   "id": "1ae7eec3-53b6-4708-863e-7df4edaa40fe",
   "metadata": {},
   "outputs": [],
   "source": [
    "def objective_function(X):\n",
    "    if X.ndim == 1:\n",
    "        X = X.unsqueeze(0)\n",
    "    posterior_X = objective_model.posterior(X)\n",
    "    objective_X = posterior_X.mean.detach()\n",
    "    return 0.001*objective_X"
   ]
  },
  {
   "cell_type": "code",
   "execution_count": 12,
   "id": "8df2e7ce-4281-4abc-bfe4-5720bbd97b7f",
   "metadata": {},
   "outputs": [
    {
     "data": {
      "text/plain": [
       "SingleTaskGP(\n",
       "  (likelihood): FixedNoiseGaussianLikelihood(\n",
       "    (noise_covar): FixedGaussianNoise()\n",
       "  )\n",
       "  (mean_module): ConstantMean()\n",
       "  (covar_module): ScaleKernel(\n",
       "    (base_kernel): MaternKernel(\n",
       "      (lengthscale_prior): GammaPrior()\n",
       "      (raw_lengthscale_constraint): Positive()\n",
       "    )\n",
       "    (outputscale_prior): GammaPrior()\n",
       "    (raw_outputscale_constraint): Positive()\n",
       "  )\n",
       "  (outcome_transform): Standardize()\n",
       ")"
      ]
     },
     "execution_count": 12,
     "metadata": {},
     "output_type": "execute_result"
    }
   ],
   "source": [
    "objective_model.eval()"
   ]
  },
  {
   "cell_type": "code",
   "execution_count": 13,
   "id": "a2dc5f8a-90cd-4ffe-aac5-be98af9b47c2",
   "metadata": {},
   "outputs": [
    {
     "name": "stdout",
     "output_type": "stream",
     "text": [
      "global_optimum [0.15740116 0.53894863 0.96188552] -1.260419158428836\n",
      "\n"
     ]
    }
   ],
   "source": [
    "from pandora_bayesopt.utils import find_global_optimum_scipy\n",
    "global_optimum_point, global_optimum_value = find_global_optimum_scipy(objective=objective_function, dim=dim, maximize=maximize)\n",
    "print(\"global_optimum\", global_optimum_point, global_optimum_value)\n",
    "print()"
   ]
  },
  {
   "cell_type": "code",
   "execution_count": 14,
   "id": "7234855f-ebb6-4015-8f74-3eefbc0c02e2",
   "metadata": {},
   "outputs": [],
   "source": [
    "log_cost_X = torch.log(cost_X)\n",
    "log_cost_model = fit_gp_model(X, log_cost_X, input_standardize=True)"
   ]
  },
  {
   "cell_type": "code",
   "execution_count": 15,
   "id": "85496f0d-b5f7-4109-9b51-6309f225afb5",
   "metadata": {},
   "outputs": [
    {
     "name": "stderr",
     "output_type": "stream",
     "text": [
      "/Users/qianxie/Desktop/Curriculum/Graduate/Research/PandoraBayesOPT/pandorabayesopt_env/lib/python3.11/site-packages/gpytorch/means/constant_mean.py:20: OldVersionWarning: You have loaded a GP model with a ConstantMean  from a previous version of GPyTorch. The mean module parameter `constant` has been renamed to `raw_constant`. Additionally, the shape of `raw_constant` is now *batch_shape, whereas the shape of `constant` was *batch_shape x 1. We have updated the name/shape of the parameter in your state dict, but we recommend that you re-save your model.\n",
      "  warnings.warn(\n"
     ]
    },
    {
     "data": {
      "text/plain": [
       "<All keys matched successfully>"
      ]
     },
     "execution_count": 15,
     "metadata": {},
     "output_type": "execute_result"
    }
   ],
   "source": [
    "log_cost_model_state_dict = torch.load('data/lda/lda_log_cost_model_state.pth')\n",
    "log_cost_model_state_dict['outcome_transform._is_trained'] = torch.tensor(True)\n",
    "for key in keys_to_remove:\n",
    "    if key in log_cost_model_state_dict:\n",
    "        del log_cost_model_state_dict[key]\n",
    "log_cost_model.load_state_dict(log_cost_model_state_dict)"
   ]
  },
  {
   "cell_type": "code",
   "execution_count": 16,
   "id": "9ebf18f9-bfe3-4a97-b74f-93d4234b8227",
   "metadata": {},
   "outputs": [],
   "source": [
    "def cost_function(X):\n",
    "    posterior_X = log_cost_model.posterior(X)\n",
    "    cost_X = torch.exp(posterior_X.mean)\n",
    "    return cost_X"
   ]
  },
  {
   "cell_type": "code",
   "execution_count": 17,
   "id": "ffd96fff-b023-48c4-a74c-5968ace6f74b",
   "metadata": {},
   "outputs": [],
   "source": [
    "bounds = torch.stack([torch.zeros(dim), torch.ones(dim)])\n",
    "budget = 50\n",
    "seed = 42"
   ]
  },
  {
   "cell_type": "code",
   "execution_count": 18,
   "id": "e9d6bbd8-f0b6-4818-a634-9336476af65c",
   "metadata": {},
   "outputs": [],
   "source": [
    "from botorch.acquisition import ExpectedImprovement\n",
    "from pandora_bayesopt.acquisition.gittins import GittinsIndex\n",
    "from pandora_bayesopt.acquisition.ei_puc import ExpectedImprovementWithCost\n",
    "from pandora_bayesopt.bayesianoptimizer import BayesianOptimizer\n",
    "from botorch.utils.sampling import draw_sobol_samples"
   ]
  },
  {
   "cell_type": "code",
   "execution_count": 19,
   "id": "c6924af8-1622-4a3e-bbfa-7e65f8837103",
   "metadata": {},
   "outputs": [
    {
     "name": "stdout",
     "output_type": "stream",
     "text": [
      "Iteration 0, New point: [0.46207998 0.42763951 0.75728055], New value: -1.3001606003601691\n",
      "Best observed value: -1.3001606003601691\n",
      "Current acquisition value: tensor(0.1449)\n",
      "Cumulative cost: 3.3852890869434953\n",
      "\n",
      "Iteration 1, New point: [0.35701163 0.89689406 0.8197522 ], New value: -1.3289668830739483\n",
      "Best observed value: -1.3001606003601691\n",
      "Current acquisition value: tensor(0.1086)\n",
      "Cumulative cost: 9.437366646695935\n",
      "\n",
      "Iteration 2, New point: [0.76523178 0.9657478  0.38260981], New value: -1.514271174539011\n",
      "Best observed value: -1.3001606003601691\n",
      "Current acquisition value: tensor(0.1032)\n",
      "Cumulative cost: 15.344241444692809\n",
      "\n",
      "Iteration 3, New point: [0.88692453 0.48556423 0.74491144], New value: -1.3136372741140867\n",
      "Best observed value: -1.3001606003601691\n",
      "Current acquisition value: tensor(0.0965)\n",
      "Cumulative cost: 19.631218736921316\n",
      "\n",
      "Iteration 4, New point: [0.33292512 0.66903354 0.64005378], New value: -1.321415354538613\n",
      "Best observed value: -1.3001606003601691\n",
      "Current acquisition value: tensor(0.0747)\n",
      "Cumulative cost: 23.109469169017714\n",
      "\n",
      "Iteration 5, New point: [0.51754952 0.09775583 0.95231451], New value: -1.276005403599621\n",
      "Best observed value: -1.276005403599621\n",
      "Current acquisition value: tensor(0.0678)\n",
      "Cumulative cost: 28.02418485389383\n",
      "\n",
      "Iteration 6, New point: [0.         0.40111188 0.92586972], New value: -1.273861364539177\n",
      "Best observed value: -1.273861364539177\n",
      "Current acquisition value: tensor(0.0639)\n",
      "Cumulative cost: 31.28261320115913\n",
      "\n",
      "Iteration 7, New point: [0.         0.         0.83071548], New value: -1.347661764338806\n",
      "Best observed value: -1.273861364539177\n",
      "Current acquisition value: tensor(0.0622)\n",
      "Cumulative cost: 33.703998945184935\n",
      "\n",
      "Iteration 8, New point: [0.34652434 0.36680555 0.89798125], New value: -1.2728490226506537\n",
      "Best observed value: -1.2728490226506537\n",
      "Current acquisition value: tensor(0.0523)\n",
      "Cumulative cost: 37.84083329896494\n",
      "\n",
      "Iteration 9, New point: [0. 0. 1.], New value: -1.2721021300081508\n",
      "Best observed value: -1.2721021300081508\n",
      "Current acquisition value: tensor(0.0471)\n",
      "Cumulative cost: 41.66323259714072\n",
      "\n",
      "Iteration 10, New point: [0.24189251 0.40686797 1.        ], New value: -1.2664694167154618\n",
      "Best observed value: -1.2664694167154618\n",
      "Current acquisition value: tensor(0.0438)\n",
      "Cumulative cost: 47.071827840084666\n",
      "\n",
      "Iteration 11, New point: [1.         0.         0.56233777], New value: -1.610218628917607\n",
      "Best observed value: -1.2664694167154618\n",
      "Current acquisition value: tensor(0.0378)\n",
      "Cumulative cost: 53.13002024116284\n",
      "\n"
     ]
    }
   ],
   "source": [
    "torch.manual_seed(seed)\n",
    "init_x = draw_sobol_samples(bounds=bounds, n=1, q=2*(dim+1)).squeeze(0)\n",
    "\n",
    "# Example usage with EI\n",
    "EI_optimizer = BayesianOptimizer(objective=objective_function, dim=dim, maximize=maximize, cost=cost_function, initial_points=init_x, input_standardize=True)\n",
    "EI_optimizer.run_until_budget(budget=budget, acquisition_function_class=ExpectedImprovement)\n",
    "EI_best_history = EI_optimizer.get_best_history()\n",
    "EI_regret_history = EI_optimizer.get_regret_history(global_optimum_value)\n",
    "EI_cost_history = EI_optimizer.get_cost_history()"
   ]
  },
  {
   "cell_type": "code",
   "execution_count": 20,
   "id": "f8749e7c-8f4a-418a-82e7-df22d5911acd",
   "metadata": {},
   "outputs": [
    {
     "name": "stdout",
     "output_type": "stream",
     "text": [
      "Iteration 0, New point: [0.00919708 0.44715574 0.76750683], New value: -1.3212512747874339\n",
      "Best observed value: -1.3212512747874339\n",
      "Current acquisition value: tensor(0.0530)\n",
      "Cumulative cost: 2.3186291506861214\n",
      "\n",
      "Iteration 1, New point: [0.25809611 0.14320421 0.69532912], New value: -1.4076740834848591\n",
      "Best observed value: -1.3212512747874339\n",
      "Current acquisition value: tensor(0.0452)\n",
      "Cumulative cost: 4.798472303976901\n",
      "\n",
      "Iteration 2, New point: [0.28811084 0.92334259 0.44537208], New value: -1.4170173611904087\n",
      "Best observed value: -1.3212512747874339\n",
      "Current acquisition value: tensor(0.0355)\n",
      "Cumulative cost: 7.270864538107427\n",
      "\n",
      "Iteration 3, New point: [0.29346135 0.68914575 0.75684671], New value: -1.2944696014015744\n",
      "Best observed value: -1.2944696014015744\n",
      "Current acquisition value: tensor(0.0319)\n",
      "Cumulative cost: 10.616836882489336\n",
      "\n",
      "Iteration 4, New point: [0.00213566 0.07268092 0.90004993], New value: -1.2987534908216292\n",
      "Best observed value: -1.2944696014015744\n",
      "Current acquisition value: tensor(0.0223)\n",
      "Cumulative cost: 13.302849877208544\n",
      "\n",
      "Iteration 5, New point: [0.         0.78959268 0.86540017], New value: -1.2738166494379328\n",
      "Best observed value: -1.2738166494379328\n",
      "Current acquisition value: tensor(0.0233)\n",
      "Cumulative cost: 16.451357799412666\n",
      "\n",
      "Iteration 6, New point: [0.41761726 0.02361536 0.88792572], New value: -1.2965977395956516\n",
      "Best observed value: -1.2738166494379328\n",
      "Current acquisition value: tensor(0.0185)\n",
      "Cumulative cost: 19.91992726026897\n",
      "\n",
      "Iteration 7, New point: [0.11161456 0.39721344 0.91537808], New value: -1.2713857733561151\n",
      "Best observed value: -1.2713857733561151\n",
      "Current acquisition value: tensor(0.0163)\n",
      "Cumulative cost: 23.244930941087045\n",
      "\n",
      "Iteration 8, New point: [0.87724052 1.         0.36219038], New value: -1.5866288061556515\n",
      "Best observed value: -1.2713857733561151\n",
      "Current acquisition value: tensor(0.0158)\n",
      "Cumulative cost: 29.319302873778895\n",
      "\n",
      "Iteration 9, New point: [0.69298613 0.41935769 0.78370172], New value: -1.2974480010875573\n",
      "Best observed value: -1.2713857733561151\n",
      "Current acquisition value: tensor(0.0113)\n",
      "Cumulative cost: 33.50996247838118\n",
      "\n",
      "Iteration 10, New point: [0.         0.14385902 1.        ], New value: -1.2704062247977714\n",
      "Best observed value: -1.2704062247977714\n",
      "Current acquisition value: tensor(0.0090)\n",
      "Cumulative cost: 37.29210033633136\n",
      "\n",
      "Iteration 11, New point: [0.37180575 0.18939932 1.        ], New value: -1.2744616261734327\n",
      "Best observed value: -1.2704062247977714\n",
      "Current acquisition value: tensor(0.0085)\n",
      "Cumulative cost: 42.174580071552846\n",
      "\n",
      "Iteration 12, New point: [0.12974905 1.         0.76068214], New value: -1.304636434424628\n",
      "Best observed value: -1.2704062247977714\n",
      "Current acquisition value: tensor(0.0070)\n",
      "Cumulative cost: 45.906786935668165\n",
      "\n",
      "Iteration 13, New point: [0.76123936 0.         1.        ], New value: -1.2866120792874727\n",
      "Best observed value: -1.2704062247977714\n",
      "Current acquisition value: tensor(0.0068)\n",
      "Cumulative cost: 52.221567327419386\n",
      "\n"
     ]
    }
   ],
   "source": [
    "torch.manual_seed(seed)\n",
    "init_x = draw_sobol_samples(bounds=bounds, n=1, q=2*(dim+1)).squeeze(0)\n",
    "\n",
    "# Example usage with EIpu\n",
    "EIpu_optimizer = BayesianOptimizer(objective=objective_function, dim=dim, maximize=maximize, cost=cost_function, initial_points=init_x, input_standardize=True)\n",
    "EIpu_optimizer.run_until_budget(budget=budget, acquisition_function_class=ExpectedImprovementWithCost)\n",
    "EIpu_best_history = EIpu_optimizer.get_best_history()\n",
    "EIpu_regret_history = EIpu_optimizer.get_regret_history(global_optimum_value)\n",
    "EIpu_cost_history = EIpu_optimizer.get_cost_history()"
   ]
  },
  {
   "cell_type": "code",
   "execution_count": 21,
   "id": "ea168c31-c8ed-4499-99f7-a442aec61497",
   "metadata": {},
   "outputs": [
    {
     "name": "stdout",
     "output_type": "stream",
     "text": [
      "Iteration 0, New point: [0.00978448 0.79799588 0.58058514], New value: -1.3885089736353458\n",
      "Best observed value: -1.323391271035382\n",
      "Current acquisition value: tensor(-1.5191)\n",
      "Cumulative cost: 1.8655014892745778\n",
      "Gittins lmbda: 0.1\n",
      "\n",
      "Iteration 1, New point: [0.02171271 0.43535999 0.78878455], New value: -1.3116253883850837\n",
      "Best observed value: -1.3116253883850837\n",
      "Current acquisition value: tensor(-1.3347)\n",
      "Cumulative cost: 4.214634564300715\n",
      "Gittins lmbda: 0.05\n",
      "\n",
      "Iteration 2, New point: [0.29001176 0.13176091 0.69946911], New value: -1.4030161460806836\n",
      "Best observed value: -1.3116253883850837\n",
      "Current acquisition value: tensor(-1.2014)\n",
      "Cumulative cost: 6.778657659447771\n",
      "Gittins lmbda: 0.025\n",
      "\n",
      "Iteration 3, New point: [0.31735589 0.67856102 0.76522741], New value: -1.2932243338303293\n",
      "Best observed value: -1.2932243338303293\n",
      "Current acquisition value: tensor(-1.2710)\n",
      "Cumulative cost: 10.212683778022921\n",
      "Gittins lmbda: 0.025\n",
      "\n",
      "Iteration 4, New point: [0.         0.80232602 0.85119025], New value: -1.2761530287639307\n",
      "Best observed value: -1.2761530287639307\n",
      "Current acquisition value: tensor(-1.3106)\n",
      "Cumulative cost: 13.281190838833837\n",
      "Gittins lmbda: 0.025\n",
      "\n",
      "Iteration 5, New point: [0.00212463 0.05223023 0.94402601], New value: -1.2821050748454477\n",
      "Best observed value: -1.2761530287639307\n",
      "Current acquisition value: tensor(-1.2026)\n",
      "Cumulative cost: 16.39503994886622\n",
      "Gittins lmbda: 0.0125\n",
      "\n",
      "Iteration 6, New point: [0.42883125 0.00272067 0.9019664 ], New value: -1.293036677630283\n",
      "Best observed value: -1.2761530287639307\n",
      "Current acquisition value: tensor(-1.2101)\n",
      "Cumulative cost: 20.05567616020647\n",
      "Gittins lmbda: 0.0125\n",
      "\n",
      "Iteration 7, New point: [0.83326141 1.         0.37168515], New value: -1.5622412664978498\n",
      "Best observed value: -1.2761530287639307\n",
      "Current acquisition value: tensor(-1.2240)\n",
      "Cumulative cost: 25.963309485018662\n",
      "Gittins lmbda: 0.0125\n",
      "\n",
      "Iteration 8, New point: [0.13142756 0.39124008 0.94891942], New value: -1.2657332863147688\n",
      "Best observed value: -1.2657332863147688\n",
      "Current acquisition value: tensor(-1.2266)\n",
      "Cumulative cost: 29.83448272393453\n",
      "Gittins lmbda: 0.0125\n",
      "\n",
      "Iteration 9, New point: [0.77610352 0.44459686 0.76075883], New value: -1.304537865509264\n",
      "Best observed value: -1.2657332863147688\n",
      "Current acquisition value: tensor(-1.2856)\n",
      "Cumulative cost: 34.012197610270896\n",
      "Gittins lmbda: 0.0125\n",
      "\n",
      "Iteration 10, New point: [0.34466653 0.11345801 1.        ], New value: -1.2753892863601068\n",
      "Best observed value: -1.2657332863147688\n",
      "Current acquisition value: tensor(-1.2484)\n",
      "Cumulative cost: 38.74536932117938\n",
      "Gittins lmbda: 0.00625\n",
      "\n",
      "Iteration 11, New point: [0.32635174 1.         0.49253655], New value: -1.3849085217190218\n",
      "Best observed value: -1.2657332863147688\n",
      "Current acquisition value: tensor(-1.2504)\n",
      "Cumulative cost: 41.76375937535641\n",
      "Gittins lmbda: 0.00625\n",
      "\n",
      "Iteration 12, New point: [0.52572665 0.32970262 0.87439381], New value: -1.2777328985412306\n",
      "Best observed value: -1.2657332863147688\n",
      "Current acquisition value: tensor(-1.2629)\n",
      "Cumulative cost: 45.99843461432826\n",
      "Gittins lmbda: 0.00625\n",
      "\n",
      "Iteration 13, New point: [0.         0.28177268 1.        ], New value: -1.268738019519294\n",
      "Best observed value: -1.2657332863147688\n",
      "Current acquisition value: tensor(-1.2720)\n",
      "Cumulative cost: 50.04527012988222\n",
      "Gittins lmbda: 0.00625\n",
      "\n"
     ]
    }
   ],
   "source": [
    "torch.manual_seed(seed)\n",
    "\n",
    "init_x = draw_sobol_samples(bounds=bounds, n=1, q=2*(dim+1)).squeeze(0)\n",
    "\n",
    "# Example usage with GittinsIndex\n",
    "GIstep_halving_optimizer = BayesianOptimizer(objective=objective_function, dim=dim, maximize=maximize, cost=cost_function, initial_points=init_x, input_standardize=True)\n",
    "GIstep_halving_optimizer.run_until_budget(budget=budget, acquisition_function_class=GittinsIndex, step_halving=True)\n",
    "GIstep_halving_best_history = GIstep_halving_optimizer.get_best_history()\n",
    "GIstep_halving_regret_history = GIstep_halving_optimizer.get_regret_history(global_optimum_value)\n",
    "GIstep_halving_cost_history = GIstep_halving_optimizer.get_cost_history()"
   ]
  },
  {
   "cell_type": "code",
   "execution_count": 22,
   "id": "3540c949-fd2f-4f10-9a5e-e69fb1ade264",
   "metadata": {},
   "outputs": [
    {
     "name": "stdout",
     "output_type": "stream",
     "text": [
      "current lambda: 0.026490620987478636\n",
      "Iteration 0, New point: [0.02038288 0.40508445 0.7946281 ], New value: -1.3131485018049132\n",
      "Best observed value: -1.3131485018049132\n",
      "Current acquisition value: tensor(-1.1207)\n",
      "Cumulative cost: 2.345928266373729\n",
      "Gittins lmbda: 0.026490620987478636\n",
      "\n",
      "current lambda: 0.026490620987478636\n",
      "Iteration 1, New point: [0.15739015 0.00244856 0.62895762], New value: -1.5547306276308896\n",
      "Best observed value: -1.3131485018049132\n",
      "Current acquisition value: tensor(-1.1708)\n",
      "Cumulative cost: 4.6583788920606555\n",
      "Gittins lmbda: 0.026490620987478636\n",
      "\n",
      "current lambda: 0.026490620987478636\n",
      "Iteration 2, New point: [0.41879996 0.43612238 0.7673813 ], New value: -1.2985674962163165\n",
      "Best observed value: -1.2985674962163165\n",
      "Current acquisition value: tensor(-1.2398)\n",
      "Cumulative cost: 7.919894944602256\n",
      "Gittins lmbda: 0.026490620987478636\n",
      "\n",
      "current lambda: 0.026490620987478636\n",
      "Iteration 3, New point: [0.         0.79899075 0.84042789], New value: -1.2775495467206321\n",
      "Best observed value: -1.2775495467206321\n",
      "Current acquisition value: tensor(-1.2730)\n",
      "Cumulative cost: 10.93426636088032\n",
      "Gittins lmbda: 0.026490620987478636\n",
      "\n",
      "current lambda: 0.026490620987478636\n",
      "Iteration 4, New point: [0.33113837 0.97678054 0.43515341], New value: -1.4134048520397258\n",
      "Best observed value: -1.2775495467206321\n",
      "Current acquisition value: tensor(-1.3074)\n",
      "Cumulative cost: 13.560125214309434\n",
      "Gittins lmbda: 0.026490620987478636\n",
      "\n",
      "current lambda: 0.00883118483730549\n",
      "Iteration 5, New point: [0.38237907 0.         0.90695417], New value: -1.2921278973798718\n",
      "Best observed value: -1.2775495467206321\n",
      "Current acquisition value: tensor(-1.1595)\n",
      "Cumulative cost: 17.167225217907507\n",
      "Gittins lmbda: 0.00883118483730549\n",
      "\n",
      "current lambda: 0.00883118483730549\n",
      "Iteration 6, New point: [0.         0.25692307 0.99558968], New value: -1.2690125588963326\n",
      "Best observed value: -1.2690125588963326\n",
      "Current acquisition value: tensor(-1.1791)\n",
      "Cumulative cost: 21.08158340053223\n",
      "Gittins lmbda: 0.00883118483730549\n",
      "\n",
      "current lambda: 0.00883118483730549\n",
      "Iteration 7, New point: [1.         0.84306273 0.40196636], New value: -1.5319333679602005\n",
      "Best observed value: -1.2690125588963326\n",
      "Current acquisition value: tensor(-1.2111)\n",
      "Cumulative cost: 27.323422247635246\n",
      "Gittins lmbda: 0.00883118483730549\n",
      "\n",
      "current lambda: 0.00883118483730549\n",
      "Iteration 8, New point: [0.23000619 0.45940808 0.92761529], New value: -1.264439700537056\n",
      "Best observed value: -1.264439700537056\n",
      "Current acquisition value: tensor(-1.2087)\n",
      "Cumulative cost: 31.57380980473584\n",
      "Gittins lmbda: 0.00883118483730549\n",
      "\n",
      "current lambda: 0.00883118483730549\n",
      "Iteration 9, New point: [0.30268597 0.84324435 0.74744986], New value: -1.3079671380809572\n",
      "Best observed value: -1.264439700537056\n",
      "Current acquisition value: tensor(-1.2400)\n",
      "Cumulative cost: 35.22562154068071\n",
      "Gittins lmbda: 0.00883118483730549\n",
      "\n",
      "current lambda: 0.00883118483730549\n",
      "Iteration 10, New point: [0.         0.         0.90175884], New value: -1.3029267008952612\n",
      "Best observed value: -1.264439700537056\n",
      "Current acquisition value: tensor(-1.2695)\n",
      "Cumulative cost: 37.98291521628699\n",
      "Gittins lmbda: 0.00883118483730549\n",
      "\n",
      "current lambda: 0.0035575801832024782\n",
      "Iteration 11, New point: [0.83106032 0.         1.        ], New value: -1.2898305896863196\n",
      "Best observed value: -1.264439700537056\n",
      "Current acquisition value: tensor(-1.2068)\n",
      "Cumulative cost: 44.54607950576144\n",
      "Gittins lmbda: 0.0035575801832024782\n",
      "\n",
      "current lambda: 0.0035575801832024782\n",
      "Iteration 12, New point: [0.         0.76328267 1.        ], New value: -1.2759470656824916\n",
      "Best observed value: -1.264439700537056\n",
      "Current acquisition value: tensor(-1.2276)\n",
      "Cumulative cost: 50.006664159155136\n",
      "Gittins lmbda: 0.0035575801832024782\n",
      "\n"
     ]
    }
   ],
   "source": [
    "torch.manual_seed(seed)\n",
    "\n",
    "init_x = draw_sobol_samples(bounds=bounds, n=1, q=2*(dim+1)).squeeze(0)\n",
    "\n",
    "# Example usage with GittinsIndex\n",
    "GIstep_EIpu_optimizer = BayesianOptimizer(objective=objective_function, dim=dim, maximize=maximize, cost=cost_function, initial_points=init_x, input_standardize=True)\n",
    "GIstep_EIpu_optimizer.run_until_budget(budget=budget, acquisition_function_class=GittinsIndex, step_EIpu=True)\n",
    "GIstep_EIpu_best_history = GIstep_EIpu_optimizer.get_best_history()\n",
    "GIstep_EIpu_regret_history = GIstep_EIpu_optimizer.get_regret_history(global_optimum_value)\n",
    "GIstep_EIpu_cost_history = GIstep_EIpu_optimizer.get_cost_history()"
   ]
  },
  {
   "cell_type": "code",
   "execution_count": 23,
   "id": "f742d276-b5ba-49c3-b57c-02b908a4c2e6",
   "metadata": {},
   "outputs": [
    {
     "name": "stdout",
     "output_type": "stream",
     "text": [
      "Iteration 0, New point: [0.20440775 0.14425439 0.72190245], New value: -1.3900921223413514\n",
      "Best observed value: -1.323391271035382\n",
      "Current acquisition value: tensor(-0.4175)\n",
      "Cumulative cost: 2.410379154908727\n",
      "\n",
      "Iteration 1, New point: [0.         0.73555452 0.88833833], New value: -1.2695617075891803\n",
      "Best observed value: -1.2695617075891803\n",
      "Current acquisition value: tensor(-0.6064)\n",
      "Cumulative cost: 5.764523710002015\n",
      "\n",
      "Iteration 2, New point: [0.         0.0525902  0.98231287], New value: -1.2730501020423557\n",
      "Best observed value: -1.2695617075891803\n",
      "Current acquisition value: tensor(-0.6532)\n",
      "Cumulative cost: 9.32215278330258\n",
      "\n",
      "Iteration 3, New point: [0.         0.38794626 0.45307994], New value: -1.8721305138559716\n",
      "Best observed value: -1.2695617075891803\n",
      "Current acquisition value: tensor(-0.7325)\n",
      "Cumulative cost: 11.283891823979097\n",
      "\n",
      "Iteration 4, New point: [0.53786049 0.         1.        ], New value: -1.2794281311909401\n",
      "Best observed value: -1.2695617075891803\n",
      "Current acquisition value: tensor(-0.7497)\n",
      "Cumulative cost: 16.778150373314126\n",
      "\n",
      "Iteration 5, New point: [1.         1.         0.38905651], New value: -1.6148482289383226\n",
      "Best observed value: -1.2695617075891803\n",
      "Current acquisition value: tensor(-0.8622)\n",
      "Cumulative cost: 23.619329036671406\n",
      "\n",
      "Iteration 6, New point: [0.36047213 0.44810176 0.85013217], New value: -1.2794627868570747\n",
      "Best observed value: -1.2695617075891803\n",
      "Current acquisition value: tensor(-0.8428)\n",
      "Cumulative cost: 27.226681080709085\n",
      "\n",
      "Iteration 7, New point: [0.7527955  0.         0.57411779], New value: -1.5785198795130178\n",
      "Best observed value: -1.2695617075891803\n",
      "Current acquisition value: tensor(-0.9325)\n",
      "Cumulative cost: 31.690132537217913\n",
      "\n",
      "Iteration 8, New point: [0.30356033 1.         0.78239257], New value: -1.3451461154833793\n",
      "Best observed value: -1.2695617075891803\n",
      "Current acquisition value: tensor(-0.9606)\n",
      "Cumulative cost: 37.63428191477095\n",
      "\n",
      "Iteration 9, New point: [0.36589746 1.         0.45109404], New value: -1.4038550966660681\n",
      "Best observed value: -1.2695617075891803\n",
      "Current acquisition value: tensor(-1.0003)\n",
      "Cumulative cost: 40.53725621963352\n",
      "\n",
      "Iteration 10, New point: [0.         0.41314894 1.        ], New value: -1.267836403702435\n",
      "Best observed value: -1.267836403702435\n",
      "Current acquisition value: tensor(-1.0510)\n",
      "Cumulative cost: 45.06616079361123\n",
      "\n",
      "Iteration 11, New point: [1. 0. 1.], New value: -1.3018600126081854\n",
      "Best observed value: -1.267836403702435\n",
      "Current acquisition value: tensor(-1.0826)\n",
      "Cumulative cost: 52.029811211850294\n",
      "\n"
     ]
    }
   ],
   "source": [
    "torch.manual_seed(seed)\n",
    "\n",
    "init_x = draw_sobol_samples(bounds=bounds, n=1, q=2*(dim+1)).squeeze(0)\n",
    "\n",
    "# Example usage with GittinsIndex\n",
    "GIlmbda_optimizer = BayesianOptimizer(objective=objective_function, dim=dim, maximize=maximize, cost=cost_function, initial_points=init_x, input_standardize=True)\n",
    "GIlmbda_optimizer.run_until_budget(budget=budget, acquisition_function_class=GittinsIndex, lmbda=0.001)\n",
    "GIlmbda_best_history = GIlmbda_optimizer.get_best_history()\n",
    "GIlmbda_regret_history = GIlmbda_optimizer.get_regret_history(global_optimum_value)\n",
    "GIlmbda_cost_history = GIlmbda_optimizer.get_cost_history()"
   ]
  },
  {
   "cell_type": "code",
   "execution_count": 29,
   "id": "ebe31aef-0633-4f24-87ac-16cdd4fd0a79",
   "metadata": {},
   "outputs": [
    {
     "data": {
      "text/plain": [
       "Text(0.5, 1.0, 'Performance of EI vs Gittins on LDA')"
      ]
     },
     "execution_count": 29,
     "metadata": {},
     "output_type": "execute_result"
    },
    {
     "data": {
      "image/png": "[encoded data removed]",
      "text/plain": [
       "<Figure size 640x480 with 1 Axes>"
      ]
     },
     "metadata": {},
     "output_type": "display_data"
    }
   ],
   "source": [
    "import matplotlib.pyplot as plt\n",
    "import numpy as np\n",
    "plt.plot(EI_cost_history, -1000*np.array(EI_best_history),'.-',label=\"EI\")\n",
    "plt.plot(EIpu_cost_history, -1000*np.array(EIpu_best_history),'.-',color='black',label=\"EIpu\")\n",
    "plt.plot(GIstep_halving_cost_history, -1000*np.array(GIstep_halving_best_history),'.-',label=\"GIstep_halving\")\n",
    "plt.plot(GIstep_EIpu_cost_history, -1000*np.array(GIstep_EIpu_best_history),'.-',label=\"GIstep_EIpu\")\n",
    "plt.plot(GIlmbda_cost_history, -1000*np.array(GIlmbda_best_history),'.-',label=\"GIlmbda\")\n",
    "plt.legend()\n",
    "plt.xlabel('Cumulative cost')\n",
    "plt.ylabel('Best value found')\n",
    "plt.title(\"Performance of EI vs Gittins on LDA\")"
   ]
  },
  {
   "cell_type": "code",
   "execution_count": 30,
   "id": "4a359f63-fde9-4fb7-830f-e7a4ded1ec3a",
   "metadata": {},
   "outputs": [
    {
     "data": {
      "text/plain": [
       "Text(0.5, 1.0, 'Performance of EI vs Gittins on LDA')"
      ]
     },
     "execution_count": 30,
     "metadata": {},
     "output_type": "execute_result"
    },
    {
     "data": {
      "image/png": "[encoded data removed]",
      "text/plain": [
       "<Figure size 640x480 with 1 Axes>"
      ]
     },
     "metadata": {},
     "output_type": "display_data"
    }
   ],
   "source": [
    "plt.plot(EI_cost_history, 3+np.log10(np.array(EI_regret_history)),'.-',label=\"EI\")\n",
    "plt.plot(EIpu_cost_history, 3+np.log10(np.array(EIpu_regret_history)),'.-',color='black',label=\"EIpu\")\n",
    "plt.plot(GIstep_halving_cost_history, 3+np.log10(np.array(GIstep_halving_regret_history)),'.-',label=\"GIstep_halving\")\n",
    "plt.plot(GIstep_EIpu_cost_history, 3+np.log10(np.array(GIstep_EIpu_regret_history)),'.-',label=\"GIstep_EIpu\")\n",
    "plt.plot(GIlmbda_cost_history, 3+np.log10(np.array(GIlmbda_regret_history)),'.-',label=\"GIlmbda\")\n",
    "plt.xlabel('Cumulative cost')\n",
    "plt.ylabel('lg(regret)')\n",
    "plt.title(\"Performance of EI vs Gittins on LDA\")"
   ]
  },
  {
   "cell_type": "code",
   "execution_count": 26,
   "id": "26f6e2ce-a7b2-458c-a08b-19dee1a2900e",
   "metadata": {},
   "outputs": [
    {
     "ename": "RuntimeError",
     "evalue": "prob_dist must be 1 or 2 dim",
     "output_type": "error",
     "traceback": [
      "\u001b[0;31m---------------------------------------------------------------------------\u001b[0m",
      "\u001b[0;31mRuntimeError\u001b[0m                              Traceback (most recent call last)",
      "Cell \u001b[0;32mIn[26], line 2\u001b[0m\n\u001b[1;32m      1\u001b[0m \u001b[38;5;28;01mfrom\u001b[39;00m \u001b[38;5;21;01mpandora_bayesopt\u001b[39;00m\u001b[38;5;21;01m.\u001b[39;00m\u001b[38;5;21;01mutils\u001b[39;00m \u001b[38;5;28;01mimport\u001b[39;00m find_global_optimum\n\u001b[0;32m----> 2\u001b[0m global_optimum_point, global_optimum_value \u001b[38;5;241m=\u001b[39m \u001b[43mfind_global_optimum\u001b[49m\u001b[43m(\u001b[49m\u001b[43mobjective\u001b[49m\u001b[38;5;241;43m=\u001b[39;49m\u001b[43mobjective_function\u001b[49m\u001b[43m,\u001b[49m\u001b[43m \u001b[49m\u001b[43mdim\u001b[49m\u001b[38;5;241;43m=\u001b[39;49m\u001b[43mdim\u001b[49m\u001b[43m,\u001b[49m\u001b[43m \u001b[49m\u001b[43mmaximize\u001b[49m\u001b[38;5;241;43m=\u001b[39;49m\u001b[43mmaximize\u001b[49m\u001b[43m)\u001b[49m\n\u001b[1;32m      3\u001b[0m \u001b[38;5;28mprint\u001b[39m(\u001b[38;5;124m\"\u001b[39m\u001b[38;5;124mglobal_optimum\u001b[39m\u001b[38;5;124m\"\u001b[39m, global_optimum_point, global_optimum_value)\n\u001b[1;32m      4\u001b[0m \u001b[38;5;28mprint\u001b[39m()\n",
      "File \u001b[0;32m~/Desktop/Curriculum/Graduate/Research/PandoraBayesOPT/pandora_bayesopt/utils.py:158\u001b[0m, in \u001b[0;36mfind_global_optimum\u001b[0;34m(objective, dim, maximize, raw_samples, method)\u001b[0m\n\u001b[1;32m    155\u001b[0m bounds \u001b[38;5;241m=\u001b[39m torch\u001b[38;5;241m.\u001b[39mstack([torch\u001b[38;5;241m.\u001b[39mzeros(dim), torch\u001b[38;5;241m.\u001b[39mones(dim)])\n\u001b[1;32m    157\u001b[0m \u001b[38;5;66;03m# Optimize the acquisition function\u001b[39;00m\n\u001b[0;32m--> 158\u001b[0m global_optimum_point, _ \u001b[38;5;241m=\u001b[39m \u001b[43moptimize_acqf\u001b[49m\u001b[43m(\u001b[49m\n\u001b[1;32m    159\u001b[0m \u001b[43m    \u001b[49m\u001b[43macq_function\u001b[49m\u001b[38;5;241;43m=\u001b[39;49m\u001b[43mobj_acqf\u001b[49m\u001b[43m,\u001b[49m\n\u001b[1;32m    160\u001b[0m \u001b[43m    \u001b[49m\u001b[43mbounds\u001b[49m\u001b[38;5;241;43m=\u001b[39;49m\u001b[43mbounds\u001b[49m\u001b[43m,\u001b[49m\n\u001b[1;32m    161\u001b[0m \u001b[43m    \u001b[49m\u001b[43mq\u001b[49m\u001b[38;5;241;43m=\u001b[39;49m\u001b[38;5;241;43m1\u001b[39;49m\u001b[43m,\u001b[49m\n\u001b[1;32m    162\u001b[0m \u001b[43m    \u001b[49m\u001b[43mnum_restarts\u001b[49m\u001b[38;5;241;43m=\u001b[39;49m\u001b[38;5;241;43m1\u001b[39;49m\u001b[43m,\u001b[49m\n\u001b[1;32m    163\u001b[0m \u001b[43m    \u001b[49m\u001b[43mraw_samples\u001b[49m\u001b[38;5;241;43m=\u001b[39;49m\u001b[38;5;241;43m1024\u001b[39;49m\u001b[38;5;241;43m*\u001b[39;49m\u001b[43mdim\u001b[49m\u001b[43m,\u001b[49m\n\u001b[1;32m    164\u001b[0m \u001b[43m    \u001b[49m\u001b[43moptions\u001b[49m\u001b[38;5;241;43m=\u001b[39;49m\u001b[43m{\u001b[49m\u001b[38;5;124;43m'\u001b[39;49m\u001b[38;5;124;43mmethod\u001b[39;49m\u001b[38;5;124;43m'\u001b[39;49m\u001b[43m:\u001b[49m\u001b[43m \u001b[49m\u001b[43mmethod\u001b[49m\u001b[43m}\u001b[49m\u001b[43m,\u001b[49m\n\u001b[1;32m    165\u001b[0m \u001b[43m\u001b[49m\u001b[43m)\u001b[49m\n\u001b[1;32m    167\u001b[0m \u001b[38;5;66;03m# Evaluate the objective function at the optimum point to get the true value\u001b[39;00m\n\u001b[1;32m    168\u001b[0m global_optimum_value \u001b[38;5;241m=\u001b[39m objective(global_optimum_point)\u001b[38;5;241m.\u001b[39mitem()\n",
      "File \u001b[0;32m~/Desktop/Curriculum/Graduate/Research/PandoraBayesOPT/pandorabayesopt_env/lib/python3.11/site-packages/botorch/optim/optimize.py:563\u001b[0m, in \u001b[0;36moptimize_acqf\u001b[0;34m(acq_function, bounds, q, num_restarts, raw_samples, options, inequality_constraints, equality_constraints, nonlinear_inequality_constraints, fixed_features, post_processing_func, batch_initial_conditions, return_best_only, gen_candidates, sequential, ic_generator, timeout_sec, return_full_tree, retry_on_optimization_warning, **ic_gen_kwargs)\u001b[0m\n\u001b[1;32m    540\u001b[0m     gen_candidates \u001b[38;5;241m=\u001b[39m gen_candidates_scipy\n\u001b[1;32m    541\u001b[0m opt_acqf_inputs \u001b[38;5;241m=\u001b[39m OptimizeAcqfInputs(\n\u001b[1;32m    542\u001b[0m     acq_function\u001b[38;5;241m=\u001b[39macq_function,\n\u001b[1;32m    543\u001b[0m     bounds\u001b[38;5;241m=\u001b[39mbounds,\n\u001b[0;32m   (...)\u001b[0m\n\u001b[1;32m    561\u001b[0m     ic_gen_kwargs\u001b[38;5;241m=\u001b[39mic_gen_kwargs,\n\u001b[1;32m    562\u001b[0m )\n\u001b[0;32m--> 563\u001b[0m \u001b[38;5;28;01mreturn\u001b[39;00m \u001b[43m_optimize_acqf\u001b[49m\u001b[43m(\u001b[49m\u001b[43mopt_acqf_inputs\u001b[49m\u001b[43m)\u001b[49m\n",
      "File \u001b[0;32m~/Desktop/Curriculum/Graduate/Research/PandoraBayesOPT/pandorabayesopt_env/lib/python3.11/site-packages/botorch/optim/optimize.py:584\u001b[0m, in \u001b[0;36m_optimize_acqf\u001b[0;34m(opt_inputs)\u001b[0m\n\u001b[1;32m    581\u001b[0m     \u001b[38;5;28;01mreturn\u001b[39;00m _optimize_acqf_sequential_q(opt_inputs\u001b[38;5;241m=\u001b[39mopt_inputs)\n\u001b[1;32m    583\u001b[0m \u001b[38;5;66;03m# Batch optimization (including the case q=1)\u001b[39;00m\n\u001b[0;32m--> 584\u001b[0m \u001b[38;5;28;01mreturn\u001b[39;00m \u001b[43m_optimize_acqf_batch\u001b[49m\u001b[43m(\u001b[49m\u001b[43mopt_inputs\u001b[49m\u001b[38;5;241;43m=\u001b[39;49m\u001b[43mopt_inputs\u001b[49m\u001b[43m)\u001b[49m\n",
      "File \u001b[0;32m~/Desktop/Curriculum/Graduate/Research/PandoraBayesOPT/pandorabayesopt_env/lib/python3.11/site-packages/botorch/optim/optimize.py:274\u001b[0m, in \u001b[0;36m_optimize_acqf_batch\u001b[0;34m(opt_inputs)\u001b[0m\n\u001b[1;32m    271\u001b[0m     batch_initial_conditions \u001b[38;5;241m=\u001b[39m opt_inputs\u001b[38;5;241m.\u001b[39mbatch_initial_conditions\n\u001b[1;32m    272\u001b[0m \u001b[38;5;28;01melse\u001b[39;00m:\n\u001b[1;32m    273\u001b[0m     \u001b[38;5;66;03m# pyre-ignore[28]: Unexpected keyword argument `acq_function` to anonymous call.\u001b[39;00m\n\u001b[0;32m--> 274\u001b[0m     batch_initial_conditions \u001b[38;5;241m=\u001b[39m \u001b[43mopt_inputs\u001b[49m\u001b[38;5;241;43m.\u001b[39;49m\u001b[43mget_ic_generator\u001b[49m\u001b[43m(\u001b[49m\u001b[43m)\u001b[49m\u001b[43m(\u001b[49m\n\u001b[1;32m    275\u001b[0m \u001b[43m        \u001b[49m\u001b[43macq_function\u001b[49m\u001b[38;5;241;43m=\u001b[39;49m\u001b[43mopt_inputs\u001b[49m\u001b[38;5;241;43m.\u001b[39;49m\u001b[43macq_function\u001b[49m\u001b[43m,\u001b[49m\n\u001b[1;32m    276\u001b[0m \u001b[43m        \u001b[49m\u001b[43mbounds\u001b[49m\u001b[38;5;241;43m=\u001b[39;49m\u001b[43mopt_inputs\u001b[49m\u001b[38;5;241;43m.\u001b[39;49m\u001b[43mbounds\u001b[49m\u001b[43m,\u001b[49m\n\u001b[1;32m    277\u001b[0m \u001b[43m        \u001b[49m\u001b[43mq\u001b[49m\u001b[38;5;241;43m=\u001b[39;49m\u001b[43mopt_inputs\u001b[49m\u001b[38;5;241;43m.\u001b[39;49m\u001b[43mq\u001b[49m\u001b[43m,\u001b[49m\n\u001b[1;32m    278\u001b[0m \u001b[43m        \u001b[49m\u001b[43mnum_restarts\u001b[49m\u001b[38;5;241;43m=\u001b[39;49m\u001b[43mopt_inputs\u001b[49m\u001b[38;5;241;43m.\u001b[39;49m\u001b[43mnum_restarts\u001b[49m\u001b[43m,\u001b[49m\n\u001b[1;32m    279\u001b[0m \u001b[43m        \u001b[49m\u001b[43mraw_samples\u001b[49m\u001b[38;5;241;43m=\u001b[39;49m\u001b[43mopt_inputs\u001b[49m\u001b[38;5;241;43m.\u001b[39;49m\u001b[43mraw_samples\u001b[49m\u001b[43m,\u001b[49m\n\u001b[1;32m    280\u001b[0m \u001b[43m        \u001b[49m\u001b[43mfixed_features\u001b[49m\u001b[38;5;241;43m=\u001b[39;49m\u001b[43mopt_inputs\u001b[49m\u001b[38;5;241;43m.\u001b[39;49m\u001b[43mfixed_features\u001b[49m\u001b[43m,\u001b[49m\n\u001b[1;32m    281\u001b[0m \u001b[43m        \u001b[49m\u001b[43moptions\u001b[49m\u001b[38;5;241;43m=\u001b[39;49m\u001b[43moptions\u001b[49m\u001b[43m,\u001b[49m\n\u001b[1;32m    282\u001b[0m \u001b[43m        \u001b[49m\u001b[43minequality_constraints\u001b[49m\u001b[38;5;241;43m=\u001b[39;49m\u001b[43mopt_inputs\u001b[49m\u001b[38;5;241;43m.\u001b[39;49m\u001b[43minequality_constraints\u001b[49m\u001b[43m,\u001b[49m\n\u001b[1;32m    283\u001b[0m \u001b[43m        \u001b[49m\u001b[43mequality_constraints\u001b[49m\u001b[38;5;241;43m=\u001b[39;49m\u001b[43mopt_inputs\u001b[49m\u001b[38;5;241;43m.\u001b[39;49m\u001b[43mequality_constraints\u001b[49m\u001b[43m,\u001b[49m\n\u001b[1;32m    284\u001b[0m \u001b[43m        \u001b[49m\u001b[38;5;241;43m*\u001b[39;49m\u001b[38;5;241;43m*\u001b[39;49m\u001b[43mopt_inputs\u001b[49m\u001b[38;5;241;43m.\u001b[39;49m\u001b[43mic_gen_kwargs\u001b[49m\u001b[43m,\u001b[49m\n\u001b[1;32m    285\u001b[0m \u001b[43m    \u001b[49m\u001b[43m)\u001b[49m\n\u001b[1;32m    287\u001b[0m batch_limit: \u001b[38;5;28mint\u001b[39m \u001b[38;5;241m=\u001b[39m options\u001b[38;5;241m.\u001b[39mget(\n\u001b[1;32m    288\u001b[0m     \u001b[38;5;124m\"\u001b[39m\u001b[38;5;124mbatch_limit\u001b[39m\u001b[38;5;124m\"\u001b[39m,\n\u001b[1;32m    289\u001b[0m     opt_inputs\u001b[38;5;241m.\u001b[39mnum_restarts\n\u001b[1;32m    290\u001b[0m     \u001b[38;5;28;01mif\u001b[39;00m \u001b[38;5;129;01mnot\u001b[39;00m opt_inputs\u001b[38;5;241m.\u001b[39mnonlinear_inequality_constraints\n\u001b[1;32m    291\u001b[0m     \u001b[38;5;28;01melse\u001b[39;00m \u001b[38;5;241m1\u001b[39m,\n\u001b[1;32m    292\u001b[0m )\n\u001b[1;32m    294\u001b[0m \u001b[38;5;28;01mdef\u001b[39;00m \u001b[38;5;21m_optimize_batch_candidates\u001b[39m() \u001b[38;5;241m-\u001b[39m\u001b[38;5;241m>\u001b[39m Tuple[Tensor, Tensor, List[\u001b[38;5;167;01mWarning\u001b[39;00m]]:\n",
      "File \u001b[0;32m~/Desktop/Curriculum/Graduate/Research/PandoraBayesOPT/pandorabayesopt_env/lib/python3.11/site-packages/botorch/optim/initializers.py:423\u001b[0m, in \u001b[0;36mgen_batch_initial_conditions\u001b[0;34m(acq_function, bounds, q, num_restarts, raw_samples, fixed_features, options, inequality_constraints, equality_constraints, generator, fixed_X_fantasies)\u001b[0m\n\u001b[1;32m    421\u001b[0m         start_idx \u001b[38;5;241m+\u001b[39m\u001b[38;5;241m=\u001b[39m batch_limit\n\u001b[1;32m    422\u001b[0m     Y_rnd \u001b[38;5;241m=\u001b[39m torch\u001b[38;5;241m.\u001b[39mcat(Y_rnd_list)\n\u001b[0;32m--> 423\u001b[0m batch_initial_conditions \u001b[38;5;241m=\u001b[39m \u001b[43minit_func\u001b[49m\u001b[43m(\u001b[49m\n\u001b[1;32m    424\u001b[0m \u001b[43m    \u001b[49m\u001b[43mX\u001b[49m\u001b[38;5;241;43m=\u001b[39;49m\u001b[43mX_rnd\u001b[49m\u001b[43m,\u001b[49m\u001b[43m \u001b[49m\u001b[43mY\u001b[49m\u001b[38;5;241;43m=\u001b[39;49m\u001b[43mY_rnd\u001b[49m\u001b[43m,\u001b[49m\u001b[43m \u001b[49m\u001b[43mn\u001b[49m\u001b[38;5;241;43m=\u001b[39;49m\u001b[43mnum_restarts\u001b[49m\u001b[43m,\u001b[49m\u001b[43m \u001b[49m\u001b[38;5;241;43m*\u001b[39;49m\u001b[38;5;241;43m*\u001b[39;49m\u001b[43minit_kwargs\u001b[49m\n\u001b[1;32m    425\u001b[0m \u001b[43m\u001b[49m\u001b[43m)\u001b[49m\u001b[38;5;241m.\u001b[39mto(device\u001b[38;5;241m=\u001b[39mdevice)\n\u001b[1;32m    426\u001b[0m \u001b[38;5;28;01mif\u001b[39;00m \u001b[38;5;129;01mnot\u001b[39;00m \u001b[38;5;28many\u001b[39m(\u001b[38;5;28missubclass\u001b[39m(w\u001b[38;5;241m.\u001b[39mcategory, BadInitialCandidatesWarning) \u001b[38;5;28;01mfor\u001b[39;00m w \u001b[38;5;129;01min\u001b[39;00m ws):\n\u001b[1;32m    427\u001b[0m     \u001b[38;5;28;01mreturn\u001b[39;00m batch_initial_conditions\n",
      "File \u001b[0;32m~/Desktop/Curriculum/Graduate/Research/PandoraBayesOPT/pandorabayesopt_env/lib/python3.11/site-packages/botorch/optim/initializers.py:951\u001b[0m, in \u001b[0;36minitialize_q_batch\u001b[0;34m(X, Y, n, eta)\u001b[0m\n\u001b[1;32m    949\u001b[0m     weights \u001b[38;5;241m=\u001b[39m torch\u001b[38;5;241m.\u001b[39mexp(etaZ)\n\u001b[1;32m    950\u001b[0m \u001b[38;5;28;01mif\u001b[39;00m batch_shape \u001b[38;5;241m==\u001b[39m torch\u001b[38;5;241m.\u001b[39mSize():\n\u001b[0;32m--> 951\u001b[0m     idcs \u001b[38;5;241m=\u001b[39m \u001b[43mtorch\u001b[49m\u001b[38;5;241;43m.\u001b[39;49m\u001b[43mmultinomial\u001b[49m\u001b[43m(\u001b[49m\u001b[43mweights\u001b[49m\u001b[43m,\u001b[49m\u001b[43m \u001b[49m\u001b[43mn\u001b[49m\u001b[43m)\u001b[49m\n\u001b[1;32m    952\u001b[0m \u001b[38;5;28;01melse\u001b[39;00m:\n\u001b[1;32m    953\u001b[0m     idcs \u001b[38;5;241m=\u001b[39m batched_multinomial(\n\u001b[1;32m    954\u001b[0m         weights\u001b[38;5;241m=\u001b[39mweights\u001b[38;5;241m.\u001b[39mpermute(\u001b[38;5;241m*\u001b[39m\u001b[38;5;28mrange\u001b[39m(\u001b[38;5;241m1\u001b[39m, \u001b[38;5;28mlen\u001b[39m(batch_shape) \u001b[38;5;241m+\u001b[39m \u001b[38;5;241m1\u001b[39m), \u001b[38;5;241m0\u001b[39m), num_samples\u001b[38;5;241m=\u001b[39mn\n\u001b[1;32m    955\u001b[0m     )\u001b[38;5;241m.\u001b[39mpermute(\u001b[38;5;241m-\u001b[39m\u001b[38;5;241m1\u001b[39m, \u001b[38;5;241m*\u001b[39m\u001b[38;5;28mrange\u001b[39m(\u001b[38;5;28mlen\u001b[39m(batch_shape)))\n",
      "\u001b[0;31mRuntimeError\u001b[0m: prob_dist must be 1 or 2 dim"
     ]
    }
   ],
   "source": [
    "from pandora_bayesopt.utils import find_global_optimum\n",
    "global_optimum_point, global_optimum_value = find_global_optimum(objective=objective_function, dim=dim, maximize=maximize)\n",
    "print(\"global_optimum\", global_optimum_point, global_optimum_value)\n",
    "print()"
   ]
  },
  {
   "cell_type": "code",
   "execution_count": 31,
   "id": "fcbbf83d-8b7f-4a31-8a81-1ce2d0c492d4",
   "metadata": {},
   "outputs": [
    {
     "ename": "TypeError",
     "evalue": "MCSampler.__init__() missing 1 required positional argument: 'sample_shape'",
     "output_type": "error",
     "traceback": [
      "\u001b[0;31m---------------------------------------------------------------------------\u001b[0m",
      "\u001b[0;31mTypeError\u001b[0m                                 Traceback (most recent call last)",
      "Cell \u001b[0;32mIn[31], line 9\u001b[0m\n\u001b[1;32m      7\u001b[0m \u001b[38;5;66;03m# Example usage with GittinsIndex\u001b[39;00m\n\u001b[1;32m      8\u001b[0m MSEI_optimizer \u001b[38;5;241m=\u001b[39m BayesianOptimizer(objective\u001b[38;5;241m=\u001b[39mobjective_function, dim\u001b[38;5;241m=\u001b[39mdim, maximize\u001b[38;5;241m=\u001b[39mmaximize, cost\u001b[38;5;241m=\u001b[39mcost_function, initial_points\u001b[38;5;241m=\u001b[39minit_x, input_standardize\u001b[38;5;241m=\u001b[39m\u001b[38;5;28;01mTrue\u001b[39;00m)\n\u001b[0;32m----> 9\u001b[0m \u001b[43mMSEI_optimizer\u001b[49m\u001b[38;5;241;43m.\u001b[39;49m\u001b[43mrun_until_budget\u001b[49m\u001b[43m(\u001b[49m\u001b[43mbudget\u001b[49m\u001b[38;5;241;43m=\u001b[39;49m\u001b[43mbudget\u001b[49m\u001b[43m,\u001b[49m\u001b[43m \u001b[49m\u001b[43macquisition_function_class\u001b[49m\u001b[38;5;241;43m=\u001b[39;49m\u001b[43mMultiStepLookaheadEI\u001b[49m\u001b[43m,\u001b[49m\u001b[43m \u001b[49m\u001b[43mbatch_size\u001b[49m\u001b[38;5;241;43m=\u001b[39;49m\u001b[38;5;241;43m1\u001b[39;49m\u001b[43m,\u001b[49m\u001b[43m \u001b[49m\u001b[43mlookahead_batch_sizes\u001b[49m\u001b[38;5;241;43m=\u001b[39;49m\u001b[43m[\u001b[49m\u001b[38;5;241;43m1\u001b[39;49m\u001b[43m,\u001b[49m\u001b[38;5;241;43m1\u001b[39;49m\u001b[43m,\u001b[49m\u001b[38;5;241;43m1\u001b[39;49m\u001b[43m]\u001b[49m\u001b[43m,\u001b[49m\u001b[43m \u001b[49m\u001b[43mnum_fantasies\u001b[49m\u001b[38;5;241;43m=\u001b[39;49m\u001b[43m[\u001b[49m\u001b[38;5;241;43m4\u001b[39;49m\u001b[43m,\u001b[49m\u001b[38;5;241;43m4\u001b[39;49m\u001b[43m,\u001b[49m\u001b[38;5;241;43m2\u001b[39;49m\u001b[43m]\u001b[49m\u001b[43m)\u001b[49m\n\u001b[1;32m     10\u001b[0m MSEI_best_history \u001b[38;5;241m=\u001b[39m MSEI_optimizer\u001b[38;5;241m.\u001b[39mget_best_history()\n\u001b[1;32m     11\u001b[0m MSEI_regret_history \u001b[38;5;241m=\u001b[39m MSEI_optimizer\u001b[38;5;241m.\u001b[39mget_regret_history(global_optimum_value)\n",
      "File \u001b[0;32m~/Desktop/Curriculum/Graduate/Research/PandoraBayesOPT/pandora_bayesopt/bayesianoptimizer.py:210\u001b[0m, in \u001b[0;36mBayesianOptimizer.run_until_budget\u001b[0;34m(self, budget, acquisition_function_class, **acqf_kwargs)\u001b[0m\n\u001b[1;32m    208\u001b[0m i \u001b[38;5;241m=\u001b[39m \u001b[38;5;241m0\u001b[39m\n\u001b[1;32m    209\u001b[0m \u001b[38;5;28;01mwhile\u001b[39;00m \u001b[38;5;28mself\u001b[39m\u001b[38;5;241m.\u001b[39mcumulative_cost \u001b[38;5;241m<\u001b[39m \u001b[38;5;28mself\u001b[39m\u001b[38;5;241m.\u001b[39mbudget:\n\u001b[0;32m--> 210\u001b[0m     \u001b[38;5;28;43mself\u001b[39;49m\u001b[38;5;241;43m.\u001b[39;49m\u001b[43miterate\u001b[49m\u001b[43m(\u001b[49m\u001b[43macquisition_function_class\u001b[49m\u001b[43m,\u001b[49m\u001b[43m \u001b[49m\u001b[38;5;241;43m*\u001b[39;49m\u001b[38;5;241;43m*\u001b[39;49m\u001b[43macqf_kwargs\u001b[49m\u001b[43m)\u001b[49m\n\u001b[1;32m    211\u001b[0m     \u001b[38;5;28mself\u001b[39m\u001b[38;5;241m.\u001b[39mprint_iteration_info(i)\n\u001b[1;32m    212\u001b[0m     i \u001b[38;5;241m+\u001b[39m\u001b[38;5;241m=\u001b[39m \u001b[38;5;241m1\u001b[39m\n",
      "File \u001b[0;32m~/Desktop/Curriculum/Graduate/Research/PandoraBayesOPT/pandora_bayesopt/bayesianoptimizer.py:136\u001b[0m, in \u001b[0;36mBayesianOptimizer.iterate\u001b[0;34m(self, acquisition_function_class, **acqf_kwargs)\u001b[0m\n\u001b[1;32m    133\u001b[0m \u001b[38;5;28;01melse\u001b[39;00m:\n\u001b[1;32m    134\u001b[0m     acqf_args\u001b[38;5;241m.\u001b[39mupdate(\u001b[38;5;241m*\u001b[39m\u001b[38;5;241m*\u001b[39macqf_kwargs)\n\u001b[0;32m--> 136\u001b[0m acq_function \u001b[38;5;241m=\u001b[39m \u001b[43macquisition_function_class\u001b[49m\u001b[43m(\u001b[49m\u001b[38;5;241;43m*\u001b[39;49m\u001b[38;5;241;43m*\u001b[39;49m\u001b[43macqf_args\u001b[49m\u001b[43m)\u001b[49m\n\u001b[1;32m    138\u001b[0m new_point, new_point_acq \u001b[38;5;241m=\u001b[39m optimize_acqf(\n\u001b[1;32m    139\u001b[0m     acq_function\u001b[38;5;241m=\u001b[39macq_function,\n\u001b[1;32m    140\u001b[0m     bounds\u001b[38;5;241m=\u001b[39m\u001b[38;5;28mself\u001b[39m\u001b[38;5;241m.\u001b[39mbounds,\n\u001b[0;32m   (...)\u001b[0m\n\u001b[1;32m    144\u001b[0m     options\u001b[38;5;241m=\u001b[39m{\u001b[38;5;124m'\u001b[39m\u001b[38;5;124mmethod\u001b[39m\u001b[38;5;124m'\u001b[39m: \u001b[38;5;124m'\u001b[39m\u001b[38;5;124mL-BFGS-B\u001b[39m\u001b[38;5;124m'\u001b[39m},\n\u001b[1;32m    145\u001b[0m )\n\u001b[1;32m    146\u001b[0m \u001b[38;5;28mself\u001b[39m\u001b[38;5;241m.\u001b[39mcurrent_acq \u001b[38;5;241m=\u001b[39m new_point_acq\n",
      "File \u001b[0;32m~/Desktop/Curriculum/Graduate/Research/PandoraBayesOPT/pandora_bayesopt/acquisition/multi_step_ei.py:66\u001b[0m, in \u001b[0;36mMultiStepLookaheadEI.__init__\u001b[0;34m(self, model, batch_size, lookahead_batch_sizes, num_fantasies, samplers, X_pending, collapse_fantasy_base_samples)\u001b[0m\n\u001b[1;32m     60\u001b[0m \u001b[38;5;66;03m# Set samplers\u001b[39;00m\n\u001b[1;32m     61\u001b[0m \u001b[38;5;28;01mif\u001b[39;00m samplers \u001b[38;5;129;01mis\u001b[39;00m \u001b[38;5;28;01mNone\u001b[39;00m:\n\u001b[1;32m     62\u001b[0m     \u001b[38;5;66;03m# The batch_range is not set here and left to sampler default of (0, -2),\u001b[39;00m\n\u001b[1;32m     63\u001b[0m     \u001b[38;5;66;03m# meaning that collapse_batch_dims will be applied on fantasy batch dimensions.\u001b[39;00m\n\u001b[1;32m     64\u001b[0m     \u001b[38;5;66;03m# If collapse_fantasy_base_samples is False, the batch_range is updated during\u001b[39;00m\n\u001b[1;32m     65\u001b[0m     \u001b[38;5;66;03m# the forward call.\u001b[39;00m\n\u001b[0;32m---> 66\u001b[0m     samplers: List[MCSampler] \u001b[38;5;241m=\u001b[39m \u001b[43m[\u001b[49m\n\u001b[1;32m     67\u001b[0m \u001b[43m        \u001b[49m\u001b[43mPosteriorMeanSampler\u001b[49m\u001b[43m(\u001b[49m\u001b[43mcollapse_batch_dims\u001b[49m\u001b[38;5;241;43m=\u001b[39;49m\u001b[38;5;28;43;01mTrue\u001b[39;49;00m\u001b[43m)\u001b[49m\n\u001b[1;32m     68\u001b[0m \u001b[43m        \u001b[49m\u001b[38;5;28;43;01mif\u001b[39;49;00m\u001b[43m \u001b[49m\u001b[43mnf\u001b[49m\u001b[43m \u001b[49m\u001b[38;5;241;43m==\u001b[39;49m\u001b[43m \u001b[49m\u001b[38;5;241;43m1\u001b[39;49m\n\u001b[1;32m     69\u001b[0m \u001b[43m        \u001b[49m\u001b[38;5;28;43;01melse\u001b[39;49;00m\u001b[43m \u001b[49m\u001b[43mSobolQMCNormalSampler\u001b[49m\u001b[43m(\u001b[49m\n\u001b[1;32m     70\u001b[0m \u001b[43m            \u001b[49m\u001b[43mnum_samples\u001b[49m\u001b[38;5;241;43m=\u001b[39;49m\u001b[43mnf\u001b[49m\u001b[43m,\u001b[49m\u001b[43m \u001b[49m\u001b[43mresample\u001b[49m\u001b[38;5;241;43m=\u001b[39;49m\u001b[38;5;28;43;01mFalse\u001b[39;49;00m\u001b[43m,\u001b[49m\u001b[43m \u001b[49m\u001b[43mcollapse_batch_dims\u001b[49m\u001b[38;5;241;43m=\u001b[39;49m\u001b[38;5;28;43;01mTrue\u001b[39;49;00m\n\u001b[1;32m     71\u001b[0m \u001b[43m        \u001b[49m\u001b[43m)\u001b[49m\n\u001b[1;32m     72\u001b[0m \u001b[43m        \u001b[49m\u001b[38;5;28;43;01mfor\u001b[39;49;00m\u001b[43m \u001b[49m\u001b[43mnf\u001b[49m\u001b[43m \u001b[49m\u001b[38;5;129;43;01min\u001b[39;49;00m\u001b[43m \u001b[49m\u001b[43mnum_fantasies\u001b[49m\n\u001b[1;32m     73\u001b[0m \u001b[43m    \u001b[49m\u001b[43m]\u001b[49m\n\u001b[1;32m     75\u001b[0m \u001b[38;5;28msuper\u001b[39m()\u001b[38;5;241m.\u001b[39m\u001b[38;5;21m__init__\u001b[39m(\n\u001b[1;32m     76\u001b[0m     model\u001b[38;5;241m=\u001b[39mmodel,\n\u001b[1;32m     77\u001b[0m     batch_sizes\u001b[38;5;241m=\u001b[39mlookahead_batch_sizes,\n\u001b[0;32m   (...)\u001b[0m\n\u001b[1;32m     83\u001b[0m     collapse_fantasy_base_samples\u001b[38;5;241m=\u001b[39mcollapse_fantasy_base_samples,\n\u001b[1;32m     84\u001b[0m )\n",
      "File \u001b[0;32m~/Desktop/Curriculum/Graduate/Research/PandoraBayesOPT/pandora_bayesopt/acquisition/multi_step_ei.py:69\u001b[0m, in \u001b[0;36m<listcomp>\u001b[0;34m(.0)\u001b[0m\n\u001b[1;32m     60\u001b[0m \u001b[38;5;66;03m# Set samplers\u001b[39;00m\n\u001b[1;32m     61\u001b[0m \u001b[38;5;28;01mif\u001b[39;00m samplers \u001b[38;5;129;01mis\u001b[39;00m \u001b[38;5;28;01mNone\u001b[39;00m:\n\u001b[1;32m     62\u001b[0m     \u001b[38;5;66;03m# The batch_range is not set here and left to sampler default of (0, -2),\u001b[39;00m\n\u001b[1;32m     63\u001b[0m     \u001b[38;5;66;03m# meaning that collapse_batch_dims will be applied on fantasy batch dimensions.\u001b[39;00m\n\u001b[1;32m     64\u001b[0m     \u001b[38;5;66;03m# If collapse_fantasy_base_samples is False, the batch_range is updated during\u001b[39;00m\n\u001b[1;32m     65\u001b[0m     \u001b[38;5;66;03m# the forward call.\u001b[39;00m\n\u001b[1;32m     66\u001b[0m     samplers: List[MCSampler] \u001b[38;5;241m=\u001b[39m [\n\u001b[1;32m     67\u001b[0m         PosteriorMeanSampler(collapse_batch_dims\u001b[38;5;241m=\u001b[39m\u001b[38;5;28;01mTrue\u001b[39;00m)\n\u001b[1;32m     68\u001b[0m         \u001b[38;5;28;01mif\u001b[39;00m nf \u001b[38;5;241m==\u001b[39m \u001b[38;5;241m1\u001b[39m\n\u001b[0;32m---> 69\u001b[0m         \u001b[38;5;28;01melse\u001b[39;00m \u001b[43mSobolQMCNormalSampler\u001b[49m\u001b[43m(\u001b[49m\n\u001b[1;32m     70\u001b[0m \u001b[43m            \u001b[49m\u001b[43mnum_samples\u001b[49m\u001b[38;5;241;43m=\u001b[39;49m\u001b[43mnf\u001b[49m\u001b[43m,\u001b[49m\u001b[43m \u001b[49m\u001b[43mresample\u001b[49m\u001b[38;5;241;43m=\u001b[39;49m\u001b[38;5;28;43;01mFalse\u001b[39;49;00m\u001b[43m,\u001b[49m\u001b[43m \u001b[49m\u001b[43mcollapse_batch_dims\u001b[49m\u001b[38;5;241;43m=\u001b[39;49m\u001b[38;5;28;43;01mTrue\u001b[39;49;00m\n\u001b[1;32m     71\u001b[0m \u001b[43m        \u001b[49m\u001b[43m)\u001b[49m\n\u001b[1;32m     72\u001b[0m         \u001b[38;5;28;01mfor\u001b[39;00m nf \u001b[38;5;129;01min\u001b[39;00m num_fantasies\n\u001b[1;32m     73\u001b[0m     ]\n\u001b[1;32m     75\u001b[0m \u001b[38;5;28msuper\u001b[39m()\u001b[38;5;241m.\u001b[39m\u001b[38;5;21m__init__\u001b[39m(\n\u001b[1;32m     76\u001b[0m     model\u001b[38;5;241m=\u001b[39mmodel,\n\u001b[1;32m     77\u001b[0m     batch_sizes\u001b[38;5;241m=\u001b[39mlookahead_batch_sizes,\n\u001b[0;32m   (...)\u001b[0m\n\u001b[1;32m     83\u001b[0m     collapse_fantasy_base_samples\u001b[38;5;241m=\u001b[39mcollapse_fantasy_base_samples,\n\u001b[1;32m     84\u001b[0m )\n",
      "\u001b[0;31mTypeError\u001b[0m: MCSampler.__init__() missing 1 required positional argument: 'sample_shape'"
     ]
    }
   ],
   "source": [
    "from pandora_bayesopt.acquisition.multi_step_ei import MultiStepLookaheadEI\n",
    "\n",
    "torch.manual_seed(seed)\n",
    "\n",
    "init_x = draw_sobol_samples(bounds=bounds, n=1, q=2*(dim+1)).squeeze(0)\n",
    "\n",
    "# Example usage with GittinsIndex\n",
    "MSEI_optimizer = BayesianOptimizer(objective=objective_function, dim=dim, maximize=maximize, cost=cost_function, initial_points=init_x, input_standardize=True)\n",
    "MSEI_optimizer.run_until_budget(budget=budget, acquisition_function_class=MultiStepLookaheadEI, batch_size=1, lookahead_batch_sizes=[1,1,1], num_fantasies=[4,4,2])\n",
    "MSEI_best_history = MSEI_optimizer.get_best_history()\n",
    "MSEI_regret_history = MSEI_optimizer.get_regret_history(global_optimum_value)\n",
    "MSEI_cost_history = MSEI_optimizer.get_cost_history()"
   ]
  },
  {
   "cell_type": "code",
   "execution_count": 32,
   "id": "0f8854bd-0fab-4a47-9c21-758b7ca417df",
   "metadata": {},
   "outputs": [
    {
     "ename": "RuntimeError",
     "evalue": "split_with_sizes expects split_sizes have only non-negative entries, but got split_sizes=[-51, 4, 16, 32]",
     "output_type": "error",
     "traceback": [
      "\u001b[0;31m---------------------------------------------------------------------------\u001b[0m",
      "\u001b[0;31mRuntimeError\u001b[0m                              Traceback (most recent call last)",
      "Cell \u001b[0;32mIn[32], line 9\u001b[0m\n\u001b[1;32m      7\u001b[0m \u001b[38;5;66;03m# Example usage with GittinsIndex\u001b[39;00m\n\u001b[1;32m      8\u001b[0m MSEI_optimizer \u001b[38;5;241m=\u001b[39m BayesianOptimizer(objective\u001b[38;5;241m=\u001b[39mobjective_function, dim\u001b[38;5;241m=\u001b[39mdim, maximize\u001b[38;5;241m=\u001b[39mmaximize, cost\u001b[38;5;241m=\u001b[39mcost_function, initial_points\u001b[38;5;241m=\u001b[39minit_x, input_standardize\u001b[38;5;241m=\u001b[39m\u001b[38;5;28;01mTrue\u001b[39;00m)\n\u001b[0;32m----> 9\u001b[0m \u001b[43mMSEI_optimizer\u001b[49m\u001b[38;5;241;43m.\u001b[39;49m\u001b[43mrun_until_budget\u001b[49m\u001b[43m(\u001b[49m\u001b[43mbudget\u001b[49m\u001b[38;5;241;43m=\u001b[39;49m\u001b[43mbudget\u001b[49m\u001b[43m,\u001b[49m\u001b[43m \u001b[49m\u001b[43macquisition_function_class\u001b[49m\u001b[38;5;241;43m=\u001b[39;49m\u001b[43mqMultiStepLookahead\u001b[49m\u001b[43m,\u001b[49m\u001b[43m \u001b[49m\u001b[43mbatch_sizes\u001b[49m\u001b[38;5;241;43m=\u001b[39;49m\u001b[43m[\u001b[49m\u001b[38;5;241;43m1\u001b[39;49m\u001b[43m,\u001b[49m\u001b[38;5;241;43m1\u001b[39;49m\u001b[43m,\u001b[49m\u001b[38;5;241;43m1\u001b[39;49m\u001b[43m]\u001b[49m\u001b[43m,\u001b[49m\u001b[43m \u001b[49m\u001b[43mnum_fantasies\u001b[49m\u001b[38;5;241;43m=\u001b[39;49m\u001b[43m[\u001b[49m\u001b[38;5;241;43m4\u001b[39;49m\u001b[43m,\u001b[49m\u001b[38;5;241;43m4\u001b[39;49m\u001b[43m,\u001b[49m\u001b[38;5;241;43m2\u001b[39;49m\u001b[43m]\u001b[49m\u001b[43m)\u001b[49m\n\u001b[1;32m     10\u001b[0m MSEI_best_history \u001b[38;5;241m=\u001b[39m MSEI_optimizer\u001b[38;5;241m.\u001b[39mget_best_history()\n\u001b[1;32m     11\u001b[0m MSEI_regret_history \u001b[38;5;241m=\u001b[39m MSEI_optimizer\u001b[38;5;241m.\u001b[39mget_regret_history(global_optimum_value)\n",
      "File \u001b[0;32m~/Desktop/Curriculum/Graduate/Research/PandoraBayesOPT/pandora_bayesopt/bayesianoptimizer.py:210\u001b[0m, in \u001b[0;36mBayesianOptimizer.run_until_budget\u001b[0;34m(self, budget, acquisition_function_class, **acqf_kwargs)\u001b[0m\n\u001b[1;32m    208\u001b[0m i \u001b[38;5;241m=\u001b[39m \u001b[38;5;241m0\u001b[39m\n\u001b[1;32m    209\u001b[0m \u001b[38;5;28;01mwhile\u001b[39;00m \u001b[38;5;28mself\u001b[39m\u001b[38;5;241m.\u001b[39mcumulative_cost \u001b[38;5;241m<\u001b[39m \u001b[38;5;28mself\u001b[39m\u001b[38;5;241m.\u001b[39mbudget:\n\u001b[0;32m--> 210\u001b[0m     \u001b[38;5;28;43mself\u001b[39;49m\u001b[38;5;241;43m.\u001b[39;49m\u001b[43miterate\u001b[49m\u001b[43m(\u001b[49m\u001b[43macquisition_function_class\u001b[49m\u001b[43m,\u001b[49m\u001b[43m \u001b[49m\u001b[38;5;241;43m*\u001b[39;49m\u001b[38;5;241;43m*\u001b[39;49m\u001b[43macqf_kwargs\u001b[49m\u001b[43m)\u001b[49m\n\u001b[1;32m    211\u001b[0m     \u001b[38;5;28mself\u001b[39m\u001b[38;5;241m.\u001b[39mprint_iteration_info(i)\n\u001b[1;32m    212\u001b[0m     i \u001b[38;5;241m+\u001b[39m\u001b[38;5;241m=\u001b[39m \u001b[38;5;241m1\u001b[39m\n",
      "File \u001b[0;32m~/Desktop/Curriculum/Graduate/Research/PandoraBayesOPT/pandora_bayesopt/bayesianoptimizer.py:138\u001b[0m, in \u001b[0;36mBayesianOptimizer.iterate\u001b[0;34m(self, acquisition_function_class, **acqf_kwargs)\u001b[0m\n\u001b[1;32m    134\u001b[0m     acqf_args\u001b[38;5;241m.\u001b[39mupdate(\u001b[38;5;241m*\u001b[39m\u001b[38;5;241m*\u001b[39macqf_kwargs)\n\u001b[1;32m    136\u001b[0m acq_function \u001b[38;5;241m=\u001b[39m acquisition_function_class(\u001b[38;5;241m*\u001b[39m\u001b[38;5;241m*\u001b[39macqf_args)\n\u001b[0;32m--> 138\u001b[0m new_point, new_point_acq \u001b[38;5;241m=\u001b[39m \u001b[43moptimize_acqf\u001b[49m\u001b[43m(\u001b[49m\n\u001b[1;32m    139\u001b[0m \u001b[43m    \u001b[49m\u001b[43macq_function\u001b[49m\u001b[38;5;241;43m=\u001b[39;49m\u001b[43macq_function\u001b[49m\u001b[43m,\u001b[49m\n\u001b[1;32m    140\u001b[0m \u001b[43m    \u001b[49m\u001b[43mbounds\u001b[49m\u001b[38;5;241;43m=\u001b[39;49m\u001b[38;5;28;43mself\u001b[39;49m\u001b[38;5;241;43m.\u001b[39;49m\u001b[43mbounds\u001b[49m\u001b[43m,\u001b[49m\n\u001b[1;32m    141\u001b[0m \u001b[43m    \u001b[49m\u001b[43mq\u001b[49m\u001b[38;5;241;43m=\u001b[39;49m\u001b[38;5;241;43m1\u001b[39;49m\u001b[43m,\u001b[49m\n\u001b[1;32m    142\u001b[0m \u001b[43m    \u001b[49m\u001b[43mnum_restarts\u001b[49m\u001b[38;5;241;43m=\u001b[39;49m\u001b[38;5;241;43m20\u001b[39;49m\u001b[38;5;241;43m*\u001b[39;49m\u001b[38;5;28;43mself\u001b[39;49m\u001b[38;5;241;43m.\u001b[39;49m\u001b[43mdim\u001b[49m\u001b[43m,\u001b[49m\n\u001b[1;32m    143\u001b[0m \u001b[43m    \u001b[49m\u001b[43mraw_samples\u001b[49m\u001b[38;5;241;43m=\u001b[39;49m\u001b[38;5;241;43m1024\u001b[39;49m\u001b[38;5;241;43m*\u001b[39;49m\u001b[38;5;28;43mself\u001b[39;49m\u001b[38;5;241;43m.\u001b[39;49m\u001b[43mdim\u001b[49m\u001b[43m,\u001b[49m\n\u001b[1;32m    144\u001b[0m \u001b[43m    \u001b[49m\u001b[43moptions\u001b[49m\u001b[38;5;241;43m=\u001b[39;49m\u001b[43m{\u001b[49m\u001b[38;5;124;43m'\u001b[39;49m\u001b[38;5;124;43mmethod\u001b[39;49m\u001b[38;5;124;43m'\u001b[39;49m\u001b[43m:\u001b[49m\u001b[43m \u001b[49m\u001b[38;5;124;43m'\u001b[39;49m\u001b[38;5;124;43mL-BFGS-B\u001b[39;49m\u001b[38;5;124;43m'\u001b[39;49m\u001b[43m}\u001b[49m\u001b[43m,\u001b[49m\n\u001b[1;32m    145\u001b[0m \u001b[43m\u001b[49m\u001b[43m)\u001b[49m\n\u001b[1;32m    146\u001b[0m \u001b[38;5;28mself\u001b[39m\u001b[38;5;241m.\u001b[39mcurrent_acq \u001b[38;5;241m=\u001b[39m new_point_acq\n\u001b[1;32m    147\u001b[0m new_value \u001b[38;5;241m=\u001b[39m \u001b[38;5;28mself\u001b[39m\u001b[38;5;241m.\u001b[39mobjective(new_point)\n",
      "File \u001b[0;32m~/Desktop/Curriculum/Graduate/Research/PandoraBayesOPT/pandorabayesopt_env/lib/python3.11/site-packages/botorch/optim/optimize.py:563\u001b[0m, in \u001b[0;36moptimize_acqf\u001b[0;34m(acq_function, bounds, q, num_restarts, raw_samples, options, inequality_constraints, equality_constraints, nonlinear_inequality_constraints, fixed_features, post_processing_func, batch_initial_conditions, return_best_only, gen_candidates, sequential, ic_generator, timeout_sec, return_full_tree, retry_on_optimization_warning, **ic_gen_kwargs)\u001b[0m\n\u001b[1;32m    540\u001b[0m     gen_candidates \u001b[38;5;241m=\u001b[39m gen_candidates_scipy\n\u001b[1;32m    541\u001b[0m opt_acqf_inputs \u001b[38;5;241m=\u001b[39m OptimizeAcqfInputs(\n\u001b[1;32m    542\u001b[0m     acq_function\u001b[38;5;241m=\u001b[39macq_function,\n\u001b[1;32m    543\u001b[0m     bounds\u001b[38;5;241m=\u001b[39mbounds,\n\u001b[0;32m   (...)\u001b[0m\n\u001b[1;32m    561\u001b[0m     ic_gen_kwargs\u001b[38;5;241m=\u001b[39mic_gen_kwargs,\n\u001b[1;32m    562\u001b[0m )\n\u001b[0;32m--> 563\u001b[0m \u001b[38;5;28;01mreturn\u001b[39;00m \u001b[43m_optimize_acqf\u001b[49m\u001b[43m(\u001b[49m\u001b[43mopt_acqf_inputs\u001b[49m\u001b[43m)\u001b[49m\n",
      "File \u001b[0;32m~/Desktop/Curriculum/Graduate/Research/PandoraBayesOPT/pandorabayesopt_env/lib/python3.11/site-packages/botorch/optim/optimize.py:584\u001b[0m, in \u001b[0;36m_optimize_acqf\u001b[0;34m(opt_inputs)\u001b[0m\n\u001b[1;32m    581\u001b[0m     \u001b[38;5;28;01mreturn\u001b[39;00m _optimize_acqf_sequential_q(opt_inputs\u001b[38;5;241m=\u001b[39mopt_inputs)\n\u001b[1;32m    583\u001b[0m \u001b[38;5;66;03m# Batch optimization (including the case q=1)\u001b[39;00m\n\u001b[0;32m--> 584\u001b[0m \u001b[38;5;28;01mreturn\u001b[39;00m \u001b[43m_optimize_acqf_batch\u001b[49m\u001b[43m(\u001b[49m\u001b[43mopt_inputs\u001b[49m\u001b[38;5;241;43m=\u001b[39;49m\u001b[43mopt_inputs\u001b[49m\u001b[43m)\u001b[49m\n",
      "File \u001b[0;32m~/Desktop/Curriculum/Graduate/Research/PandoraBayesOPT/pandorabayesopt_env/lib/python3.11/site-packages/botorch/optim/optimize.py:274\u001b[0m, in \u001b[0;36m_optimize_acqf_batch\u001b[0;34m(opt_inputs)\u001b[0m\n\u001b[1;32m    271\u001b[0m     batch_initial_conditions \u001b[38;5;241m=\u001b[39m opt_inputs\u001b[38;5;241m.\u001b[39mbatch_initial_conditions\n\u001b[1;32m    272\u001b[0m \u001b[38;5;28;01melse\u001b[39;00m:\n\u001b[1;32m    273\u001b[0m     \u001b[38;5;66;03m# pyre-ignore[28]: Unexpected keyword argument `acq_function` to anonymous call.\u001b[39;00m\n\u001b[0;32m--> 274\u001b[0m     batch_initial_conditions \u001b[38;5;241m=\u001b[39m \u001b[43mopt_inputs\u001b[49m\u001b[38;5;241;43m.\u001b[39;49m\u001b[43mget_ic_generator\u001b[49m\u001b[43m(\u001b[49m\u001b[43m)\u001b[49m\u001b[43m(\u001b[49m\n\u001b[1;32m    275\u001b[0m \u001b[43m        \u001b[49m\u001b[43macq_function\u001b[49m\u001b[38;5;241;43m=\u001b[39;49m\u001b[43mopt_inputs\u001b[49m\u001b[38;5;241;43m.\u001b[39;49m\u001b[43macq_function\u001b[49m\u001b[43m,\u001b[49m\n\u001b[1;32m    276\u001b[0m \u001b[43m        \u001b[49m\u001b[43mbounds\u001b[49m\u001b[38;5;241;43m=\u001b[39;49m\u001b[43mopt_inputs\u001b[49m\u001b[38;5;241;43m.\u001b[39;49m\u001b[43mbounds\u001b[49m\u001b[43m,\u001b[49m\n\u001b[1;32m    277\u001b[0m \u001b[43m        \u001b[49m\u001b[43mq\u001b[49m\u001b[38;5;241;43m=\u001b[39;49m\u001b[43mopt_inputs\u001b[49m\u001b[38;5;241;43m.\u001b[39;49m\u001b[43mq\u001b[49m\u001b[43m,\u001b[49m\n\u001b[1;32m    278\u001b[0m \u001b[43m        \u001b[49m\u001b[43mnum_restarts\u001b[49m\u001b[38;5;241;43m=\u001b[39;49m\u001b[43mopt_inputs\u001b[49m\u001b[38;5;241;43m.\u001b[39;49m\u001b[43mnum_restarts\u001b[49m\u001b[43m,\u001b[49m\n\u001b[1;32m    279\u001b[0m \u001b[43m        \u001b[49m\u001b[43mraw_samples\u001b[49m\u001b[38;5;241;43m=\u001b[39;49m\u001b[43mopt_inputs\u001b[49m\u001b[38;5;241;43m.\u001b[39;49m\u001b[43mraw_samples\u001b[49m\u001b[43m,\u001b[49m\n\u001b[1;32m    280\u001b[0m \u001b[43m        \u001b[49m\u001b[43mfixed_features\u001b[49m\u001b[38;5;241;43m=\u001b[39;49m\u001b[43mopt_inputs\u001b[49m\u001b[38;5;241;43m.\u001b[39;49m\u001b[43mfixed_features\u001b[49m\u001b[43m,\u001b[49m\n\u001b[1;32m    281\u001b[0m \u001b[43m        \u001b[49m\u001b[43moptions\u001b[49m\u001b[38;5;241;43m=\u001b[39;49m\u001b[43moptions\u001b[49m\u001b[43m,\u001b[49m\n\u001b[1;32m    282\u001b[0m \u001b[43m        \u001b[49m\u001b[43minequality_constraints\u001b[49m\u001b[38;5;241;43m=\u001b[39;49m\u001b[43mopt_inputs\u001b[49m\u001b[38;5;241;43m.\u001b[39;49m\u001b[43minequality_constraints\u001b[49m\u001b[43m,\u001b[49m\n\u001b[1;32m    283\u001b[0m \u001b[43m        \u001b[49m\u001b[43mequality_constraints\u001b[49m\u001b[38;5;241;43m=\u001b[39;49m\u001b[43mopt_inputs\u001b[49m\u001b[38;5;241;43m.\u001b[39;49m\u001b[43mequality_constraints\u001b[49m\u001b[43m,\u001b[49m\n\u001b[1;32m    284\u001b[0m \u001b[43m        \u001b[49m\u001b[38;5;241;43m*\u001b[39;49m\u001b[38;5;241;43m*\u001b[39;49m\u001b[43mopt_inputs\u001b[49m\u001b[38;5;241;43m.\u001b[39;49m\u001b[43mic_gen_kwargs\u001b[49m\u001b[43m,\u001b[49m\n\u001b[1;32m    285\u001b[0m \u001b[43m    \u001b[49m\u001b[43m)\u001b[49m\n\u001b[1;32m    287\u001b[0m batch_limit: \u001b[38;5;28mint\u001b[39m \u001b[38;5;241m=\u001b[39m options\u001b[38;5;241m.\u001b[39mget(\n\u001b[1;32m    288\u001b[0m     \u001b[38;5;124m\"\u001b[39m\u001b[38;5;124mbatch_limit\u001b[39m\u001b[38;5;124m\"\u001b[39m,\n\u001b[1;32m    289\u001b[0m     opt_inputs\u001b[38;5;241m.\u001b[39mnum_restarts\n\u001b[1;32m    290\u001b[0m     \u001b[38;5;28;01mif\u001b[39;00m \u001b[38;5;129;01mnot\u001b[39;00m opt_inputs\u001b[38;5;241m.\u001b[39mnonlinear_inequality_constraints\n\u001b[1;32m    291\u001b[0m     \u001b[38;5;28;01melse\u001b[39;00m \u001b[38;5;241m1\u001b[39m,\n\u001b[1;32m    292\u001b[0m )\n\u001b[1;32m    294\u001b[0m \u001b[38;5;28;01mdef\u001b[39;00m \u001b[38;5;21m_optimize_batch_candidates\u001b[39m() \u001b[38;5;241m-\u001b[39m\u001b[38;5;241m>\u001b[39m Tuple[Tensor, Tensor, List[\u001b[38;5;167;01mWarning\u001b[39;00m]]:\n",
      "File \u001b[0;32m~/Desktop/Curriculum/Graduate/Research/PandoraBayesOPT/pandorabayesopt_env/lib/python3.11/site-packages/botorch/optim/initializers.py:417\u001b[0m, in \u001b[0;36mgen_batch_initial_conditions\u001b[0;34m(acq_function, bounds, q, num_restarts, raw_samples, fixed_features, options, inequality_constraints, equality_constraints, generator, fixed_X_fantasies)\u001b[0m\n\u001b[1;32m    415\u001b[0m \u001b[38;5;28;01mwhile\u001b[39;00m start_idx \u001b[38;5;241m<\u001b[39m X_rnd\u001b[38;5;241m.\u001b[39mshape[\u001b[38;5;241m0\u001b[39m]:\n\u001b[1;32m    416\u001b[0m     end_idx \u001b[38;5;241m=\u001b[39m \u001b[38;5;28mmin\u001b[39m(start_idx \u001b[38;5;241m+\u001b[39m batch_limit, X_rnd\u001b[38;5;241m.\u001b[39mshape[\u001b[38;5;241m0\u001b[39m])\n\u001b[0;32m--> 417\u001b[0m     Y_rnd_curr \u001b[38;5;241m=\u001b[39m \u001b[43macq_function\u001b[49m\u001b[43m(\u001b[49m\n\u001b[1;32m    418\u001b[0m \u001b[43m        \u001b[49m\u001b[43mX_rnd\u001b[49m\u001b[43m[\u001b[49m\u001b[43mstart_idx\u001b[49m\u001b[43m:\u001b[49m\u001b[43mend_idx\u001b[49m\u001b[43m]\u001b[49m\u001b[38;5;241;43m.\u001b[39;49m\u001b[43mto\u001b[49m\u001b[43m(\u001b[49m\u001b[43mdevice\u001b[49m\u001b[38;5;241;43m=\u001b[39;49m\u001b[43mdevice\u001b[49m\u001b[43m)\u001b[49m\n\u001b[1;32m    419\u001b[0m \u001b[43m    \u001b[49m\u001b[43m)\u001b[49m\u001b[38;5;241m.\u001b[39mcpu()\n\u001b[1;32m    420\u001b[0m     Y_rnd_list\u001b[38;5;241m.\u001b[39mappend(Y_rnd_curr)\n\u001b[1;32m    421\u001b[0m     start_idx \u001b[38;5;241m+\u001b[39m\u001b[38;5;241m=\u001b[39m batch_limit\n",
      "File \u001b[0;32m~/Desktop/Curriculum/Graduate/Research/PandoraBayesOPT/pandorabayesopt_env/lib/python3.11/site-packages/torch/nn/modules/module.py:1518\u001b[0m, in \u001b[0;36mModule._wrapped_call_impl\u001b[0;34m(self, *args, **kwargs)\u001b[0m\n\u001b[1;32m   1516\u001b[0m     \u001b[38;5;28;01mreturn\u001b[39;00m \u001b[38;5;28mself\u001b[39m\u001b[38;5;241m.\u001b[39m_compiled_call_impl(\u001b[38;5;241m*\u001b[39margs, \u001b[38;5;241m*\u001b[39m\u001b[38;5;241m*\u001b[39mkwargs)  \u001b[38;5;66;03m# type: ignore[misc]\u001b[39;00m\n\u001b[1;32m   1517\u001b[0m \u001b[38;5;28;01melse\u001b[39;00m:\n\u001b[0;32m-> 1518\u001b[0m     \u001b[38;5;28;01mreturn\u001b[39;00m \u001b[38;5;28;43mself\u001b[39;49m\u001b[38;5;241;43m.\u001b[39;49m\u001b[43m_call_impl\u001b[49m\u001b[43m(\u001b[49m\u001b[38;5;241;43m*\u001b[39;49m\u001b[43margs\u001b[49m\u001b[43m,\u001b[49m\u001b[43m \u001b[49m\u001b[38;5;241;43m*\u001b[39;49m\u001b[38;5;241;43m*\u001b[39;49m\u001b[43mkwargs\u001b[49m\u001b[43m)\u001b[49m\n",
      "File \u001b[0;32m~/Desktop/Curriculum/Graduate/Research/PandoraBayesOPT/pandorabayesopt_env/lib/python3.11/site-packages/torch/nn/modules/module.py:1527\u001b[0m, in \u001b[0;36mModule._call_impl\u001b[0;34m(self, *args, **kwargs)\u001b[0m\n\u001b[1;32m   1522\u001b[0m \u001b[38;5;66;03m# If we don't have any hooks, we want to skip the rest of the logic in\u001b[39;00m\n\u001b[1;32m   1523\u001b[0m \u001b[38;5;66;03m# this function, and just call forward.\u001b[39;00m\n\u001b[1;32m   1524\u001b[0m \u001b[38;5;28;01mif\u001b[39;00m \u001b[38;5;129;01mnot\u001b[39;00m (\u001b[38;5;28mself\u001b[39m\u001b[38;5;241m.\u001b[39m_backward_hooks \u001b[38;5;129;01mor\u001b[39;00m \u001b[38;5;28mself\u001b[39m\u001b[38;5;241m.\u001b[39m_backward_pre_hooks \u001b[38;5;129;01mor\u001b[39;00m \u001b[38;5;28mself\u001b[39m\u001b[38;5;241m.\u001b[39m_forward_hooks \u001b[38;5;129;01mor\u001b[39;00m \u001b[38;5;28mself\u001b[39m\u001b[38;5;241m.\u001b[39m_forward_pre_hooks\n\u001b[1;32m   1525\u001b[0m         \u001b[38;5;129;01mor\u001b[39;00m _global_backward_pre_hooks \u001b[38;5;129;01mor\u001b[39;00m _global_backward_hooks\n\u001b[1;32m   1526\u001b[0m         \u001b[38;5;129;01mor\u001b[39;00m _global_forward_hooks \u001b[38;5;129;01mor\u001b[39;00m _global_forward_pre_hooks):\n\u001b[0;32m-> 1527\u001b[0m     \u001b[38;5;28;01mreturn\u001b[39;00m \u001b[43mforward_call\u001b[49m\u001b[43m(\u001b[49m\u001b[38;5;241;43m*\u001b[39;49m\u001b[43margs\u001b[49m\u001b[43m,\u001b[49m\u001b[43m \u001b[49m\u001b[38;5;241;43m*\u001b[39;49m\u001b[38;5;241;43m*\u001b[39;49m\u001b[43mkwargs\u001b[49m\u001b[43m)\u001b[49m\n\u001b[1;32m   1529\u001b[0m \u001b[38;5;28;01mtry\u001b[39;00m:\n\u001b[1;32m   1530\u001b[0m     result \u001b[38;5;241m=\u001b[39m \u001b[38;5;28;01mNone\u001b[39;00m\n",
      "File \u001b[0;32m~/Desktop/Curriculum/Graduate/Research/PandoraBayesOPT/pandorabayesopt_env/lib/python3.11/site-packages/botorch/utils/transforms.py:259\u001b[0m, in \u001b[0;36mt_batch_mode_transform.<locals>.decorator.<locals>.decorated\u001b[0;34m(acqf, X, *args, **kwargs)\u001b[0m\n\u001b[1;32m    257\u001b[0m \u001b[38;5;66;03m# add t-batch dim\u001b[39;00m\n\u001b[1;32m    258\u001b[0m X \u001b[38;5;241m=\u001b[39m X \u001b[38;5;28;01mif\u001b[39;00m X\u001b[38;5;241m.\u001b[39mdim() \u001b[38;5;241m>\u001b[39m \u001b[38;5;241m2\u001b[39m \u001b[38;5;28;01melse\u001b[39;00m X\u001b[38;5;241m.\u001b[39munsqueeze(\u001b[38;5;241m0\u001b[39m)\n\u001b[0;32m--> 259\u001b[0m output \u001b[38;5;241m=\u001b[39m \u001b[43mmethod\u001b[49m\u001b[43m(\u001b[49m\u001b[43macqf\u001b[49m\u001b[43m,\u001b[49m\u001b[43m \u001b[49m\u001b[43mX\u001b[49m\u001b[43m,\u001b[49m\u001b[43m \u001b[49m\u001b[38;5;241;43m*\u001b[39;49m\u001b[43margs\u001b[49m\u001b[43m,\u001b[49m\u001b[43m \u001b[49m\u001b[38;5;241;43m*\u001b[39;49m\u001b[38;5;241;43m*\u001b[39;49m\u001b[43mkwargs\u001b[49m\u001b[43m)\u001b[49m\n\u001b[1;32m    260\u001b[0m \u001b[38;5;28;01mif\u001b[39;00m \u001b[38;5;28mhasattr\u001b[39m(acqf, \u001b[38;5;124m\"\u001b[39m\u001b[38;5;124mmodel\u001b[39m\u001b[38;5;124m\"\u001b[39m) \u001b[38;5;129;01mand\u001b[39;00m is_ensemble(acqf\u001b[38;5;241m.\u001b[39mmodel):\n\u001b[1;32m    261\u001b[0m     \u001b[38;5;66;03m# IDEA: this could be wrapped into SampleReducingMCAcquisitionFunction\u001b[39;00m\n\u001b[1;32m    262\u001b[0m     output \u001b[38;5;241m=\u001b[39m (\n\u001b[1;32m    263\u001b[0m         output\u001b[38;5;241m.\u001b[39mmean(dim\u001b[38;5;241m=\u001b[39m\u001b[38;5;241m-\u001b[39m\u001b[38;5;241m1\u001b[39m) \u001b[38;5;28;01mif\u001b[39;00m \u001b[38;5;129;01mnot\u001b[39;00m acqf\u001b[38;5;241m.\u001b[39m_log \u001b[38;5;28;01melse\u001b[39;00m logmeanexp(output, dim\u001b[38;5;241m=\u001b[39m\u001b[38;5;241m-\u001b[39m\u001b[38;5;241m1\u001b[39m)\n\u001b[1;32m    264\u001b[0m     )\n",
      "File \u001b[0;32m~/Desktop/Curriculum/Graduate/Research/PandoraBayesOPT/pandorabayesopt_env/lib/python3.11/site-packages/botorch/acquisition/multi_step_lookahead.py:179\u001b[0m, in \u001b[0;36mqMultiStepLookahead.forward\u001b[0;34m(self, X)\u001b[0m\n\u001b[1;32m    166\u001b[0m \u001b[38;5;129m@t_batch_mode_transform\u001b[39m()\n\u001b[1;32m    167\u001b[0m \u001b[38;5;28;01mdef\u001b[39;00m \u001b[38;5;21mforward\u001b[39m(\u001b[38;5;28mself\u001b[39m, X: Tensor) \u001b[38;5;241m-\u001b[39m\u001b[38;5;241m>\u001b[39m Tensor:\n\u001b[1;32m    168\u001b[0m \u001b[38;5;250m    \u001b[39m\u001b[38;5;124mr\u001b[39m\u001b[38;5;124;03m\"\"\"Evaluate qMultiStepLookahead on the candidate set X.\u001b[39;00m\n\u001b[1;32m    169\u001b[0m \n\u001b[1;32m    170\u001b[0m \u001b[38;5;124;03m    Args:\u001b[39;00m\n\u001b[0;32m   (...)\u001b[0m\n\u001b[1;32m    177\u001b[0m \u001b[38;5;124;03m        The acquisition value for each batch as a tensor of shape `batch_shape`.\u001b[39;00m\n\u001b[1;32m    178\u001b[0m \u001b[38;5;124;03m    \"\"\"\u001b[39;00m\n\u001b[0;32m--> 179\u001b[0m     Xs \u001b[38;5;241m=\u001b[39m \u001b[38;5;28;43mself\u001b[39;49m\u001b[38;5;241;43m.\u001b[39;49m\u001b[43mget_multi_step_tree_input_representation\u001b[49m\u001b[43m(\u001b[49m\u001b[43mX\u001b[49m\u001b[43m)\u001b[49m\n\u001b[1;32m    181\u001b[0m     \u001b[38;5;66;03m# set batch_range on samplers if not collapsing on fantasy dims\u001b[39;00m\n\u001b[1;32m    182\u001b[0m     \u001b[38;5;28;01mif\u001b[39;00m \u001b[38;5;129;01mnot\u001b[39;00m \u001b[38;5;28mself\u001b[39m\u001b[38;5;241m.\u001b[39m_collapse_fantasy_base_samples:\n",
      "File \u001b[0;32m~/Desktop/Curriculum/Graduate/Research/PandoraBayesOPT/pandorabayesopt_env/lib/python3.11/site-packages/botorch/acquisition/multi_step_lookahead.py:269\u001b[0m, in \u001b[0;36mqMultiStepLookahead.get_multi_step_tree_input_representation\u001b[0;34m(self, X)\u001b[0m\n\u001b[1;32m    266\u001b[0m batch_shape, shapes, sizes \u001b[38;5;241m=\u001b[39m \u001b[38;5;28mself\u001b[39m\u001b[38;5;241m.\u001b[39mget_split_shapes(X\u001b[38;5;241m=\u001b[39mX)\n\u001b[1;32m    267\u001b[0m \u001b[38;5;66;03m# Each X_i in Xsplit has shape batch_shape x qtilde x d with\u001b[39;00m\n\u001b[1;32m    268\u001b[0m \u001b[38;5;66;03m# qtilde = f_i * ... * f_1 * q_i\u001b[39;00m\n\u001b[0;32m--> 269\u001b[0m Xsplit \u001b[38;5;241m=\u001b[39m \u001b[43mtorch\u001b[49m\u001b[38;5;241;43m.\u001b[39;49m\u001b[43msplit\u001b[49m\u001b[43m(\u001b[49m\u001b[43mX\u001b[49m\u001b[43m,\u001b[49m\u001b[43m \u001b[49m\u001b[43msizes\u001b[49m\u001b[43m,\u001b[49m\u001b[43m \u001b[49m\u001b[43mdim\u001b[49m\u001b[38;5;241;43m=\u001b[39;49m\u001b[38;5;241;43m-\u001b[39;49m\u001b[38;5;241;43m2\u001b[39;49m\u001b[43m)\u001b[49m\n\u001b[1;32m    270\u001b[0m \u001b[38;5;66;03m# now reshape (need to permute batch_shape and qtilde dimensions for i > 0)\u001b[39;00m\n\u001b[1;32m    271\u001b[0m perm \u001b[38;5;241m=\u001b[39m [\u001b[38;5;241m-\u001b[39m\u001b[38;5;241m2\u001b[39m] \u001b[38;5;241m+\u001b[39m \u001b[38;5;28mlist\u001b[39m(\u001b[38;5;28mrange\u001b[39m(\u001b[38;5;28mlen\u001b[39m(batch_shape))) \u001b[38;5;241m+\u001b[39m [\u001b[38;5;241m-\u001b[39m\u001b[38;5;241m1\u001b[39m]\n",
      "File \u001b[0;32m~/Desktop/Curriculum/Graduate/Research/PandoraBayesOPT/pandorabayesopt_env/lib/python3.11/site-packages/torch/functional.py:187\u001b[0m, in \u001b[0;36msplit\u001b[0;34m(tensor, split_size_or_sections, dim)\u001b[0m\n\u001b[1;32m    181\u001b[0m     \u001b[38;5;28;01mreturn\u001b[39;00m handle_torch_function(\n\u001b[1;32m    182\u001b[0m         split, (tensor,), tensor, split_size_or_sections, dim\u001b[38;5;241m=\u001b[39mdim)\n\u001b[1;32m    183\u001b[0m \u001b[38;5;66;03m# Overwriting reason:\u001b[39;00m\n\u001b[1;32m    184\u001b[0m \u001b[38;5;66;03m# This dispatches to two ATen functions depending on the type of\u001b[39;00m\n\u001b[1;32m    185\u001b[0m \u001b[38;5;66;03m# split_size_or_sections. The branching code is in _tensor.py, which we\u001b[39;00m\n\u001b[1;32m    186\u001b[0m \u001b[38;5;66;03m# call here.\u001b[39;00m\n\u001b[0;32m--> 187\u001b[0m \u001b[38;5;28;01mreturn\u001b[39;00m \u001b[43mtensor\u001b[49m\u001b[38;5;241;43m.\u001b[39;49m\u001b[43msplit\u001b[49m\u001b[43m(\u001b[49m\u001b[43msplit_size_or_sections\u001b[49m\u001b[43m,\u001b[49m\u001b[43m \u001b[49m\u001b[43mdim\u001b[49m\u001b[43m)\u001b[49m\n",
      "File \u001b[0;32m~/Desktop/Curriculum/Graduate/Research/PandoraBayesOPT/pandorabayesopt_env/lib/python3.11/site-packages/torch/_tensor.py:864\u001b[0m, in \u001b[0;36mTensor.split\u001b[0;34m(self, split_size, dim)\u001b[0m\n\u001b[1;32m    862\u001b[0m     \u001b[38;5;28;01mreturn\u001b[39;00m torch\u001b[38;5;241m.\u001b[39m_VF\u001b[38;5;241m.\u001b[39msplit(\u001b[38;5;28mself\u001b[39m, split_size, dim)  \u001b[38;5;66;03m# type: ignore[attr-defined]\u001b[39;00m\n\u001b[1;32m    863\u001b[0m \u001b[38;5;28;01melse\u001b[39;00m:\n\u001b[0;32m--> 864\u001b[0m     \u001b[38;5;28;01mreturn\u001b[39;00m \u001b[43mtorch\u001b[49m\u001b[38;5;241;43m.\u001b[39;49m\u001b[43m_VF\u001b[49m\u001b[38;5;241;43m.\u001b[39;49m\u001b[43msplit_with_sizes\u001b[49m\u001b[43m(\u001b[49m\u001b[38;5;28;43mself\u001b[39;49m\u001b[43m,\u001b[49m\u001b[43m \u001b[49m\u001b[43msplit_size\u001b[49m\u001b[43m,\u001b[49m\u001b[43m \u001b[49m\u001b[43mdim\u001b[49m\u001b[43m)\u001b[49m\n",
      "\u001b[0;31mRuntimeError\u001b[0m: split_with_sizes expects split_sizes have only non-negative entries, but got split_sizes=[-51, 4, 16, 32]"
     ]
    }
   ],
   "source": [
    "from botorch.acquisition.multi_step_lookahead import qMultiStepLookahead\n",
    "\n",
    "torch.manual_seed(seed)\n",
    "\n",
    "init_x = draw_sobol_samples(bounds=bounds, n=1, q=2*(dim+1)).squeeze(0)\n",
    "\n",
    "# Example usage with GittinsIndex\n",
    "MSEI_optimizer = BayesianOptimizer(objective=objective_function, dim=dim, maximize=maximize, cost=cost_function, initial_points=init_x, input_standardize=True)\n",
    "MSEI_optimizer.run_until_budget(budget=budget, acquisition_function_class=qMultiStepLookahead, batch_sizes=[1,1,1], num_fantasies=[4,4,2])\n",
    "MSEI_best_history = MSEI_optimizer.get_best_history()\n",
    "MSEI_regret_history = MSEI_optimizer.get_regret_history(global_optimum_value)\n",
    "MSEI_cost_history = MSEI_optimizer.get_cost_history()"
   ]
  },
  {
   "cell_type": "code",
   "execution_count": 33,
   "id": "15563259-752a-447e-8952-eaee5f63b449",
   "metadata": {},
   "outputs": [
    {
     "ename": "ImportError",
     "evalue": "cannot import name 'ScalarizedObjective' from 'botorch.acquisition.objective' (/Users/qianxie/Desktop/Curriculum/Graduate/Research/PandoraBayesOPT/pandorabayesopt_env/lib/python3.11/site-packages/botorch/acquisition/objective.py)",
     "output_type": "error",
     "traceback": [
      "\u001b[0;31m---------------------------------------------------------------------------\u001b[0m",
      "\u001b[0;31mImportError\u001b[0m                               Traceback (most recent call last)",
      "Cell \u001b[0;32mIn[33], line 1\u001b[0m\n\u001b[0;32m----> 1\u001b[0m \u001b[38;5;28;01mfrom\u001b[39;00m \u001b[38;5;21;01mpandora_bayesopt\u001b[39;00m\u001b[38;5;21;01m.\u001b[39;00m\u001b[38;5;21;01macquisition\u001b[39;00m\u001b[38;5;21;01m.\u001b[39;00m\u001b[38;5;21;01mbudgeted_multi_step_ei\u001b[39;00m \u001b[38;5;28;01mimport\u001b[39;00m BudgetedMultiStepLookaheadEI\n\u001b[1;32m      3\u001b[0m torch\u001b[38;5;241m.\u001b[39mmanual_seed(seed)\n\u001b[1;32m      5\u001b[0m init_x \u001b[38;5;241m=\u001b[39m draw_sobol_samples(bounds\u001b[38;5;241m=\u001b[39mbounds, n\u001b[38;5;241m=\u001b[39m\u001b[38;5;241m1\u001b[39m, q\u001b[38;5;241m=\u001b[39m\u001b[38;5;241m2\u001b[39m\u001b[38;5;241m*\u001b[39m(dim\u001b[38;5;241m+\u001b[39m\u001b[38;5;241m1\u001b[39m))\u001b[38;5;241m.\u001b[39msqueeze(\u001b[38;5;241m0\u001b[39m)\n",
      "File \u001b[0;32m~/Desktop/Curriculum/Graduate/Research/PandoraBayesOPT/pandora_bayesopt/acquisition/budgeted_multi_step_ei.py:9\u001b[0m\n\u001b[1;32m      7\u001b[0m \u001b[38;5;28;01mimport\u001b[39;00m \u001b[38;5;21;01mtorch\u001b[39;00m\n\u001b[1;32m      8\u001b[0m \u001b[38;5;28;01mfrom\u001b[39;00m \u001b[38;5;21;01mbotorch\u001b[39;00m\u001b[38;5;21;01m.\u001b[39;00m\u001b[38;5;21;01macquisition\u001b[39;00m\u001b[38;5;21;01m.\u001b[39;00m\u001b[38;5;21;01mmulti_step_lookahead\u001b[39;00m \u001b[38;5;28;01mimport\u001b[39;00m qMultiStepLookahead\n\u001b[0;32m----> 9\u001b[0m \u001b[38;5;28;01mfrom\u001b[39;00m \u001b[38;5;21;01mbotorch\u001b[39;00m\u001b[38;5;21;01m.\u001b[39;00m\u001b[38;5;21;01macquisition\u001b[39;00m\u001b[38;5;21;01m.\u001b[39;00m\u001b[38;5;21;01mobjective\u001b[39;00m \u001b[38;5;28;01mimport\u001b[39;00m LinearMCObjective, ScalarizedObjective\n\u001b[1;32m     10\u001b[0m \u001b[38;5;28;01mfrom\u001b[39;00m \u001b[38;5;21;01mbotorch\u001b[39;00m\u001b[38;5;21;01m.\u001b[39;00m\u001b[38;5;21;01mmodels\u001b[39;00m\u001b[38;5;21;01m.\u001b[39;00m\u001b[38;5;21;01mmodel\u001b[39;00m \u001b[38;5;28;01mimport\u001b[39;00m Model\n\u001b[1;32m     11\u001b[0m \u001b[38;5;28;01mfrom\u001b[39;00m \u001b[38;5;21;01mbotorch\u001b[39;00m\u001b[38;5;21;01m.\u001b[39;00m\u001b[38;5;21;01msampling\u001b[39;00m\u001b[38;5;21;01m.\u001b[39;00m\u001b[38;5;21;01msamplers\u001b[39;00m \u001b[38;5;28;01mimport\u001b[39;00m MCSampler, SobolQMCNormalSampler\n",
      "\u001b[0;31mImportError\u001b[0m: cannot import name 'ScalarizedObjective' from 'botorch.acquisition.objective' (/Users/qianxie/Desktop/Curriculum/Graduate/Research/PandoraBayesOPT/pandorabayesopt_env/lib/python3.11/site-packages/botorch/acquisition/objective.py)"
     ]
    }
   ],
   "source": [
    "from pandora_bayesopt.acquisition.budgeted_multi_step_ei import BudgetedMultiStepLookaheadEI\n",
    "\n",
    "torch.manual_seed(seed)\n",
    "\n",
    "init_x = draw_sobol_samples(bounds=bounds, n=1, q=2*(dim+1)).squeeze(0)\n",
    "\n",
    "# Example usage with GittinsIndex\n",
    "BMSEI_optimizer = BayesianOptimizer(objective=objective_function, dim=dim, maximize=maximize, cost=cost_function, initial_points=init_x, input_standardize=True)\n",
    "BMSEI_optimizer.run_until_budget(budget=budget, acquisition_function_class=BudgetedMultiStepLookaheadEI, batch_size=1, lookahead_batch_sizes=[1,1,1], num_fantasies=[4,4,2])\n",
    "BMSEI_best_history = BMSEI_optimizer.get_best_history()\n",
    "BMSEI_regret_history = BMSEI_optimizer.get_regret_history(global_optimum_value)\n",
    "BMSEI_cost_history = BMSEI_optimizer.get_cost_history()"
   ]
  }
 ],
 "metadata": {
  "kernelspec": {
   "display_name": "Python 3 (ipykernel)",
   "language": "python",
   "name": "python3"
  },
  "language_info": {
   "codemirror_mode": {
    "name": "ipython",
    "version": 3
   },
   "file_extension": ".py",
   "mimetype": "text/x-python",
   "name": "python",
   "nbconvert_exporter": "python",
   "pygments_lexer": "ipython3",
   "version": "3.11.7"
  }
 },
 "nbformat": 4,
 "nbformat_minor": 5
}
