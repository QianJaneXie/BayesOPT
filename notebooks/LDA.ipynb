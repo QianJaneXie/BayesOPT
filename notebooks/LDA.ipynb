{
 "cells": [
  {
   "cell_type": "code",
   "execution_count": 1,
   "id": "d2e2860d-f53c-4d3e-af09-2c51fe01a0d5",
   "metadata": {},
   "outputs": [],
   "source": [
    "%load_ext autoreload\n",
    "%autoreload 2"
   ]
  },
  {
   "cell_type": "code",
   "execution_count": 2,
   "id": "202b7a42-e544-4177-9d57-b91f283a4d1f",
   "metadata": {},
   "outputs": [],
   "source": [
    "import scipy.io\n",
    "import torch\n",
    "# Set default tensor type to float64\n",
    "torch.set_default_dtype(torch.float64)"
   ]
  },
  {
   "cell_type": "code",
   "execution_count": 3,
   "id": "4e47e089-7a7a-4889-89f1-258bc2103f3a",
   "metadata": {},
   "outputs": [],
   "source": [
    "data = scipy.io.loadmat(\"lda_on_grid.mat\")\n",
    "data = data[\"lda_on_grid\"]\n",
    "X = torch.tensor(data[:, :3])\n",
    "X[:, 0] = 2.0 * X[:, 0] - 1.0\n",
    "X[:, 1] = torch.log2(X[:, 1]) / 10.0\n",
    "X[:, 2] = torch.log2(X[:, 2]) / 14.0\n",
    "objective_X = -torch.tensor(data[:, 3]).unsqueeze(-1)\n",
    "cost_X = torch.tensor(data[:, 4]).unsqueeze(-1) / 3600.0"
   ]
  },
  {
   "cell_type": "code",
   "execution_count": 4,
   "id": "8c737fea-61eb-4d83-8d6c-928ae15c25b5",
   "metadata": {},
   "outputs": [],
   "source": [
    "dim = 3\n",
    "maximize = True"
   ]
  },
  {
   "cell_type": "code",
   "execution_count": 5,
   "id": "951f341c-62f0-4cca-903f-407df2434938",
   "metadata": {},
   "outputs": [],
   "source": [
    "from pandora_bayesopt.utils import fit_gp_model\n",
    "objective_model = fit_gp_model(X, objective_X, input_standardize=True)"
   ]
  },
  {
   "cell_type": "code",
   "execution_count": 6,
   "id": "960f61c5-afa5-42f4-9540-abb0ad967242",
   "metadata": {},
   "outputs": [],
   "source": [
    "objective_model_state_dict = torch.load('lda_objective_model_state.pth')"
   ]
  },
  {
   "cell_type": "code",
   "execution_count": 7,
   "id": "a3f4b10a-8d69-4518-b55a-52964d34873e",
   "metadata": {},
   "outputs": [
    {
     "data": {
      "text/plain": [
       "OrderedDict([('likelihood.noise_covar.raw_noise', tensor([0.7281])),\n",
       "             ('likelihood.noise_covar.raw_noise_constraint.lower_bound',\n",
       "              tensor(1.0000e-04)),\n",
       "             ('likelihood.noise_covar.raw_noise_constraint.upper_bound',\n",
       "              tensor(0.0010)),\n",
       "             ('mean_module.constant', tensor([-4.1485])),\n",
       "             ('covar_module.raw_outputscale', tensor(13.8918)),\n",
       "             ('covar_module.base_kernel.raw_lengthscale',\n",
       "              tensor([[ 1.1911,  2.4436, -0.0256]])),\n",
       "             ('covar_module.base_kernel.lengthscale_prior.concentration',\n",
       "              tensor(3.)),\n",
       "             ('covar_module.base_kernel.lengthscale_prior.rate', tensor(6.)),\n",
       "             ('covar_module.base_kernel.raw_lengthscale_constraint.lower_bound',\n",
       "              tensor(0.)),\n",
       "             ('covar_module.base_kernel.raw_lengthscale_constraint.upper_bound',\n",
       "              tensor(inf)),\n",
       "             ('covar_module.outputscale_prior.concentration', tensor(2.)),\n",
       "             ('covar_module.outputscale_prior.rate', tensor(0.1500)),\n",
       "             ('covar_module.raw_outputscale_constraint.lower_bound',\n",
       "              tensor(0.)),\n",
       "             ('covar_module.raw_outputscale_constraint.upper_bound',\n",
       "              tensor(inf)),\n",
       "             ('outcome_transform.means', tensor([[-1819.6275]])),\n",
       "             ('outcome_transform.stdvs', tensor([[722.5451]])),\n",
       "             ('outcome_transform._stdvs_sq', tensor([[522071.4725]]))])"
      ]
     },
     "execution_count": 7,
     "metadata": {},
     "output_type": "execute_result"
    }
   ],
   "source": [
    "objective_model_state_dict"
   ]
  },
  {
   "cell_type": "code",
   "execution_count": 8,
   "id": "ea94a65d-3519-4c29-a434-2e2aa2ea8b2f",
   "metadata": {},
   "outputs": [],
   "source": [
    "# Assuming objective_model_state_dict is your current state dictionary\n",
    "# and objective_model is your SingleTaskGP model\n",
    "\n",
    "# Set the outcome transform as trained if you're sure it was trained\n",
    "# Wrap the boolean value in a torch.Tensor\n",
    "objective_model_state_dict['outcome_transform._is_trained'] = torch.tensor(True)"
   ]
  },
  {
   "cell_type": "code",
   "execution_count": 9,
   "id": "cbb1e12c-fbb6-416a-bba6-640613356f1b",
   "metadata": {},
   "outputs": [],
   "source": [
    "# Assuming objective_model_state_dict is your current state dictionary\n",
    "# and objective_model is your SingleTaskGP model\n",
    "\n",
    "# List of keys to remove\n",
    "keys_to_remove = [\n",
    "    \"likelihood.noise_covar.raw_noise\",\n",
    "    \"likelihood.noise_covar.raw_noise_constraint.lower_bound\",\n",
    "    \"likelihood.noise_covar.raw_noise_constraint.upper_bound\"\n",
    "]\n",
    "\n",
    "# Remove the keys\n",
    "for key in keys_to_remove:\n",
    "    if key in objective_model_state_dict:\n",
    "        del objective_model_state_dict[key]"
   ]
  },
  {
   "cell_type": "code",
   "execution_count": 10,
   "id": "baf60fe9-6ddc-47de-b6d1-ca059976c75c",
   "metadata": {},
   "outputs": [
    {
     "name": "stderr",
     "output_type": "stream",
     "text": [
      "/Users/qianxie/Desktop/Curriculum/Graduate/Research/PandoraBayesOPT/pandorabayesopt_env/lib/python3.11/site-packages/gpytorch/means/constant_mean.py:20: OldVersionWarning: You have loaded a GP model with a ConstantMean  from a previous version of GPyTorch. The mean module parameter `constant` has been renamed to `raw_constant`. Additionally, the shape of `raw_constant` is now *batch_shape, whereas the shape of `constant` was *batch_shape x 1. We have updated the name/shape of the parameter in your state dict, but we recommend that you re-save your model.\n",
      "  warnings.warn(\n"
     ]
    },
    {
     "data": {
      "text/plain": [
       "<All keys matched successfully>"
      ]
     },
     "execution_count": 10,
     "metadata": {},
     "output_type": "execute_result"
    }
   ],
   "source": [
    "objective_model.load_state_dict(objective_model_state_dict)"
   ]
  },
  {
   "cell_type": "code",
   "execution_count": 11,
   "id": "1ae7eec3-53b6-4708-863e-7df4edaa40fe",
   "metadata": {},
   "outputs": [],
   "source": [
    "def objective_function(X):\n",
    "    if X.ndim == 1:\n",
    "        X = X.unsqueeze(0)\n",
    "    posterior_X = objective_model.posterior(X)\n",
    "    objective_X = posterior_X.mean.detach()\n",
    "    return 0.001*objective_X"
   ]
  },
  {
   "cell_type": "code",
   "execution_count": 12,
   "id": "8df2e7ce-4281-4abc-bfe4-5720bbd97b7f",
   "metadata": {},
   "outputs": [
    {
     "data": {
      "text/plain": [
       "SingleTaskGP(\n",
       "  (likelihood): FixedNoiseGaussianLikelihood(\n",
       "    (noise_covar): FixedGaussianNoise()\n",
       "  )\n",
       "  (mean_module): ConstantMean()\n",
       "  (covar_module): ScaleKernel(\n",
       "    (base_kernel): MaternKernel(\n",
       "      (lengthscale_prior): GammaPrior()\n",
       "      (raw_lengthscale_constraint): Positive()\n",
       "    )\n",
       "    (outputscale_prior): GammaPrior()\n",
       "    (raw_outputscale_constraint): Positive()\n",
       "  )\n",
       "  (outcome_transform): Standardize()\n",
       ")"
      ]
     },
     "execution_count": 12,
     "metadata": {},
     "output_type": "execute_result"
    }
   ],
   "source": [
    "objective_model.eval()"
   ]
  },
  {
   "cell_type": "code",
   "execution_count": 13,
   "id": "a2dc5f8a-90cd-4ffe-aac5-be98af9b47c2",
   "metadata": {},
   "outputs": [
    {
     "name": "stdout",
     "output_type": "stream",
     "text": [
      "global_optimum [0.15665491 0.53992819 0.96204661] -1.2604191488332817\n",
      "\n"
     ]
    }
   ],
   "source": [
    "from pandora_bayesopt.utils import find_global_optimum_scipy\n",
    "global_optimum_point, global_optimum_value = find_global_optimum_scipy(objective=objective_function, dim=dim, maximize=maximize)\n",
    "print(\"global_optimum\", global_optimum_point, global_optimum_value)\n",
    "print()"
   ]
  },
  {
   "cell_type": "code",
   "execution_count": 26,
   "id": "26f6e2ce-a7b2-458c-a08b-19dee1a2900e",
   "metadata": {},
   "outputs": [
    {
     "ename": "RuntimeError",
     "evalue": "prob_dist must be 1 or 2 dim",
     "output_type": "error",
     "traceback": [
      "\u001b[0;31m---------------------------------------------------------------------------\u001b[0m",
      "\u001b[0;31mRuntimeError\u001b[0m                              Traceback (most recent call last)",
      "Cell \u001b[0;32mIn[26], line 2\u001b[0m\n\u001b[1;32m      1\u001b[0m \u001b[38;5;28;01mfrom\u001b[39;00m \u001b[38;5;21;01mpandora_bayesopt\u001b[39;00m\u001b[38;5;21;01m.\u001b[39;00m\u001b[38;5;21;01mutils\u001b[39;00m \u001b[38;5;28;01mimport\u001b[39;00m find_global_optimum\n\u001b[0;32m----> 2\u001b[0m global_optimum_point, global_optimum_value \u001b[38;5;241m=\u001b[39m \u001b[43mfind_global_optimum\u001b[49m\u001b[43m(\u001b[49m\u001b[43mobjective\u001b[49m\u001b[38;5;241;43m=\u001b[39;49m\u001b[43mobjective_function\u001b[49m\u001b[43m,\u001b[49m\u001b[43m \u001b[49m\u001b[43mdim\u001b[49m\u001b[38;5;241;43m=\u001b[39;49m\u001b[43mdim\u001b[49m\u001b[43m,\u001b[49m\u001b[43m \u001b[49m\u001b[43mmaximize\u001b[49m\u001b[38;5;241;43m=\u001b[39;49m\u001b[43mmaximize\u001b[49m\u001b[43m)\u001b[49m\n\u001b[1;32m      3\u001b[0m \u001b[38;5;28mprint\u001b[39m(\u001b[38;5;124m\"\u001b[39m\u001b[38;5;124mglobal_optimum\u001b[39m\u001b[38;5;124m\"\u001b[39m, global_optimum_point, global_optimum_value)\n\u001b[1;32m      4\u001b[0m \u001b[38;5;28mprint\u001b[39m()\n",
      "File \u001b[0;32m~/Desktop/Curriculum/Graduate/Research/PandoraBayesOPT/pandora_bayesopt/utils.py:158\u001b[0m, in \u001b[0;36mfind_global_optimum\u001b[0;34m(objective, dim, maximize, raw_samples, method)\u001b[0m\n\u001b[1;32m    155\u001b[0m bounds \u001b[38;5;241m=\u001b[39m torch\u001b[38;5;241m.\u001b[39mstack([torch\u001b[38;5;241m.\u001b[39mzeros(dim), torch\u001b[38;5;241m.\u001b[39mones(dim)])\n\u001b[1;32m    157\u001b[0m \u001b[38;5;66;03m# Optimize the acquisition function\u001b[39;00m\n\u001b[0;32m--> 158\u001b[0m global_optimum_point, _ \u001b[38;5;241m=\u001b[39m \u001b[43moptimize_acqf\u001b[49m\u001b[43m(\u001b[49m\n\u001b[1;32m    159\u001b[0m \u001b[43m    \u001b[49m\u001b[43macq_function\u001b[49m\u001b[38;5;241;43m=\u001b[39;49m\u001b[43mobj_acqf\u001b[49m\u001b[43m,\u001b[49m\n\u001b[1;32m    160\u001b[0m \u001b[43m    \u001b[49m\u001b[43mbounds\u001b[49m\u001b[38;5;241;43m=\u001b[39;49m\u001b[43mbounds\u001b[49m\u001b[43m,\u001b[49m\n\u001b[1;32m    161\u001b[0m \u001b[43m    \u001b[49m\u001b[43mq\u001b[49m\u001b[38;5;241;43m=\u001b[39;49m\u001b[38;5;241;43m1\u001b[39;49m\u001b[43m,\u001b[49m\n\u001b[1;32m    162\u001b[0m \u001b[43m    \u001b[49m\u001b[43mnum_restarts\u001b[49m\u001b[38;5;241;43m=\u001b[39;49m\u001b[38;5;241;43m1\u001b[39;49m\u001b[43m,\u001b[49m\n\u001b[1;32m    163\u001b[0m \u001b[43m    \u001b[49m\u001b[43mraw_samples\u001b[49m\u001b[38;5;241;43m=\u001b[39;49m\u001b[38;5;241;43m1024\u001b[39;49m\u001b[38;5;241;43m*\u001b[39;49m\u001b[43mdim\u001b[49m\u001b[43m,\u001b[49m\n\u001b[1;32m    164\u001b[0m \u001b[43m    \u001b[49m\u001b[43moptions\u001b[49m\u001b[38;5;241;43m=\u001b[39;49m\u001b[43m{\u001b[49m\u001b[38;5;124;43m'\u001b[39;49m\u001b[38;5;124;43mmethod\u001b[39;49m\u001b[38;5;124;43m'\u001b[39;49m\u001b[43m:\u001b[49m\u001b[43m \u001b[49m\u001b[43mmethod\u001b[49m\u001b[43m}\u001b[49m\u001b[43m,\u001b[49m\n\u001b[1;32m    165\u001b[0m \u001b[43m\u001b[49m\u001b[43m)\u001b[49m\n\u001b[1;32m    167\u001b[0m \u001b[38;5;66;03m# Evaluate the objective function at the optimum point to get the true value\u001b[39;00m\n\u001b[1;32m    168\u001b[0m global_optimum_value \u001b[38;5;241m=\u001b[39m objective(global_optimum_point)\u001b[38;5;241m.\u001b[39mitem()\n",
      "File \u001b[0;32m~/Desktop/Curriculum/Graduate/Research/PandoraBayesOPT/pandorabayesopt_env/lib/python3.11/site-packages/botorch/optim/optimize.py:563\u001b[0m, in \u001b[0;36moptimize_acqf\u001b[0;34m(acq_function, bounds, q, num_restarts, raw_samples, options, inequality_constraints, equality_constraints, nonlinear_inequality_constraints, fixed_features, post_processing_func, batch_initial_conditions, return_best_only, gen_candidates, sequential, ic_generator, timeout_sec, return_full_tree, retry_on_optimization_warning, **ic_gen_kwargs)\u001b[0m\n\u001b[1;32m    540\u001b[0m     gen_candidates \u001b[38;5;241m=\u001b[39m gen_candidates_scipy\n\u001b[1;32m    541\u001b[0m opt_acqf_inputs \u001b[38;5;241m=\u001b[39m OptimizeAcqfInputs(\n\u001b[1;32m    542\u001b[0m     acq_function\u001b[38;5;241m=\u001b[39macq_function,\n\u001b[1;32m    543\u001b[0m     bounds\u001b[38;5;241m=\u001b[39mbounds,\n\u001b[0;32m   (...)\u001b[0m\n\u001b[1;32m    561\u001b[0m     ic_gen_kwargs\u001b[38;5;241m=\u001b[39mic_gen_kwargs,\n\u001b[1;32m    562\u001b[0m )\n\u001b[0;32m--> 563\u001b[0m \u001b[38;5;28;01mreturn\u001b[39;00m \u001b[43m_optimize_acqf\u001b[49m\u001b[43m(\u001b[49m\u001b[43mopt_acqf_inputs\u001b[49m\u001b[43m)\u001b[49m\n",
      "File \u001b[0;32m~/Desktop/Curriculum/Graduate/Research/PandoraBayesOPT/pandorabayesopt_env/lib/python3.11/site-packages/botorch/optim/optimize.py:584\u001b[0m, in \u001b[0;36m_optimize_acqf\u001b[0;34m(opt_inputs)\u001b[0m\n\u001b[1;32m    581\u001b[0m     \u001b[38;5;28;01mreturn\u001b[39;00m _optimize_acqf_sequential_q(opt_inputs\u001b[38;5;241m=\u001b[39mopt_inputs)\n\u001b[1;32m    583\u001b[0m \u001b[38;5;66;03m# Batch optimization (including the case q=1)\u001b[39;00m\n\u001b[0;32m--> 584\u001b[0m \u001b[38;5;28;01mreturn\u001b[39;00m \u001b[43m_optimize_acqf_batch\u001b[49m\u001b[43m(\u001b[49m\u001b[43mopt_inputs\u001b[49m\u001b[38;5;241;43m=\u001b[39;49m\u001b[43mopt_inputs\u001b[49m\u001b[43m)\u001b[49m\n",
      "File \u001b[0;32m~/Desktop/Curriculum/Graduate/Research/PandoraBayesOPT/pandorabayesopt_env/lib/python3.11/site-packages/botorch/optim/optimize.py:274\u001b[0m, in \u001b[0;36m_optimize_acqf_batch\u001b[0;34m(opt_inputs)\u001b[0m\n\u001b[1;32m    271\u001b[0m     batch_initial_conditions \u001b[38;5;241m=\u001b[39m opt_inputs\u001b[38;5;241m.\u001b[39mbatch_initial_conditions\n\u001b[1;32m    272\u001b[0m \u001b[38;5;28;01melse\u001b[39;00m:\n\u001b[1;32m    273\u001b[0m     \u001b[38;5;66;03m# pyre-ignore[28]: Unexpected keyword argument `acq_function` to anonymous call.\u001b[39;00m\n\u001b[0;32m--> 274\u001b[0m     batch_initial_conditions \u001b[38;5;241m=\u001b[39m \u001b[43mopt_inputs\u001b[49m\u001b[38;5;241;43m.\u001b[39;49m\u001b[43mget_ic_generator\u001b[49m\u001b[43m(\u001b[49m\u001b[43m)\u001b[49m\u001b[43m(\u001b[49m\n\u001b[1;32m    275\u001b[0m \u001b[43m        \u001b[49m\u001b[43macq_function\u001b[49m\u001b[38;5;241;43m=\u001b[39;49m\u001b[43mopt_inputs\u001b[49m\u001b[38;5;241;43m.\u001b[39;49m\u001b[43macq_function\u001b[49m\u001b[43m,\u001b[49m\n\u001b[1;32m    276\u001b[0m \u001b[43m        \u001b[49m\u001b[43mbounds\u001b[49m\u001b[38;5;241;43m=\u001b[39;49m\u001b[43mopt_inputs\u001b[49m\u001b[38;5;241;43m.\u001b[39;49m\u001b[43mbounds\u001b[49m\u001b[43m,\u001b[49m\n\u001b[1;32m    277\u001b[0m \u001b[43m        \u001b[49m\u001b[43mq\u001b[49m\u001b[38;5;241;43m=\u001b[39;49m\u001b[43mopt_inputs\u001b[49m\u001b[38;5;241;43m.\u001b[39;49m\u001b[43mq\u001b[49m\u001b[43m,\u001b[49m\n\u001b[1;32m    278\u001b[0m \u001b[43m        \u001b[49m\u001b[43mnum_restarts\u001b[49m\u001b[38;5;241;43m=\u001b[39;49m\u001b[43mopt_inputs\u001b[49m\u001b[38;5;241;43m.\u001b[39;49m\u001b[43mnum_restarts\u001b[49m\u001b[43m,\u001b[49m\n\u001b[1;32m    279\u001b[0m \u001b[43m        \u001b[49m\u001b[43mraw_samples\u001b[49m\u001b[38;5;241;43m=\u001b[39;49m\u001b[43mopt_inputs\u001b[49m\u001b[38;5;241;43m.\u001b[39;49m\u001b[43mraw_samples\u001b[49m\u001b[43m,\u001b[49m\n\u001b[1;32m    280\u001b[0m \u001b[43m        \u001b[49m\u001b[43mfixed_features\u001b[49m\u001b[38;5;241;43m=\u001b[39;49m\u001b[43mopt_inputs\u001b[49m\u001b[38;5;241;43m.\u001b[39;49m\u001b[43mfixed_features\u001b[49m\u001b[43m,\u001b[49m\n\u001b[1;32m    281\u001b[0m \u001b[43m        \u001b[49m\u001b[43moptions\u001b[49m\u001b[38;5;241;43m=\u001b[39;49m\u001b[43moptions\u001b[49m\u001b[43m,\u001b[49m\n\u001b[1;32m    282\u001b[0m \u001b[43m        \u001b[49m\u001b[43minequality_constraints\u001b[49m\u001b[38;5;241;43m=\u001b[39;49m\u001b[43mopt_inputs\u001b[49m\u001b[38;5;241;43m.\u001b[39;49m\u001b[43minequality_constraints\u001b[49m\u001b[43m,\u001b[49m\n\u001b[1;32m    283\u001b[0m \u001b[43m        \u001b[49m\u001b[43mequality_constraints\u001b[49m\u001b[38;5;241;43m=\u001b[39;49m\u001b[43mopt_inputs\u001b[49m\u001b[38;5;241;43m.\u001b[39;49m\u001b[43mequality_constraints\u001b[49m\u001b[43m,\u001b[49m\n\u001b[1;32m    284\u001b[0m \u001b[43m        \u001b[49m\u001b[38;5;241;43m*\u001b[39;49m\u001b[38;5;241;43m*\u001b[39;49m\u001b[43mopt_inputs\u001b[49m\u001b[38;5;241;43m.\u001b[39;49m\u001b[43mic_gen_kwargs\u001b[49m\u001b[43m,\u001b[49m\n\u001b[1;32m    285\u001b[0m \u001b[43m    \u001b[49m\u001b[43m)\u001b[49m\n\u001b[1;32m    287\u001b[0m batch_limit: \u001b[38;5;28mint\u001b[39m \u001b[38;5;241m=\u001b[39m options\u001b[38;5;241m.\u001b[39mget(\n\u001b[1;32m    288\u001b[0m     \u001b[38;5;124m\"\u001b[39m\u001b[38;5;124mbatch_limit\u001b[39m\u001b[38;5;124m\"\u001b[39m,\n\u001b[1;32m    289\u001b[0m     opt_inputs\u001b[38;5;241m.\u001b[39mnum_restarts\n\u001b[1;32m    290\u001b[0m     \u001b[38;5;28;01mif\u001b[39;00m \u001b[38;5;129;01mnot\u001b[39;00m opt_inputs\u001b[38;5;241m.\u001b[39mnonlinear_inequality_constraints\n\u001b[1;32m    291\u001b[0m     \u001b[38;5;28;01melse\u001b[39;00m \u001b[38;5;241m1\u001b[39m,\n\u001b[1;32m    292\u001b[0m )\n\u001b[1;32m    294\u001b[0m \u001b[38;5;28;01mdef\u001b[39;00m \u001b[38;5;21m_optimize_batch_candidates\u001b[39m() \u001b[38;5;241m-\u001b[39m\u001b[38;5;241m>\u001b[39m Tuple[Tensor, Tensor, List[\u001b[38;5;167;01mWarning\u001b[39;00m]]:\n",
      "File \u001b[0;32m~/Desktop/Curriculum/Graduate/Research/PandoraBayesOPT/pandorabayesopt_env/lib/python3.11/site-packages/botorch/optim/initializers.py:423\u001b[0m, in \u001b[0;36mgen_batch_initial_conditions\u001b[0;34m(acq_function, bounds, q, num_restarts, raw_samples, fixed_features, options, inequality_constraints, equality_constraints, generator, fixed_X_fantasies)\u001b[0m\n\u001b[1;32m    421\u001b[0m         start_idx \u001b[38;5;241m+\u001b[39m\u001b[38;5;241m=\u001b[39m batch_limit\n\u001b[1;32m    422\u001b[0m     Y_rnd \u001b[38;5;241m=\u001b[39m torch\u001b[38;5;241m.\u001b[39mcat(Y_rnd_list)\n\u001b[0;32m--> 423\u001b[0m batch_initial_conditions \u001b[38;5;241m=\u001b[39m \u001b[43minit_func\u001b[49m\u001b[43m(\u001b[49m\n\u001b[1;32m    424\u001b[0m \u001b[43m    \u001b[49m\u001b[43mX\u001b[49m\u001b[38;5;241;43m=\u001b[39;49m\u001b[43mX_rnd\u001b[49m\u001b[43m,\u001b[49m\u001b[43m \u001b[49m\u001b[43mY\u001b[49m\u001b[38;5;241;43m=\u001b[39;49m\u001b[43mY_rnd\u001b[49m\u001b[43m,\u001b[49m\u001b[43m \u001b[49m\u001b[43mn\u001b[49m\u001b[38;5;241;43m=\u001b[39;49m\u001b[43mnum_restarts\u001b[49m\u001b[43m,\u001b[49m\u001b[43m \u001b[49m\u001b[38;5;241;43m*\u001b[39;49m\u001b[38;5;241;43m*\u001b[39;49m\u001b[43minit_kwargs\u001b[49m\n\u001b[1;32m    425\u001b[0m \u001b[43m\u001b[49m\u001b[43m)\u001b[49m\u001b[38;5;241m.\u001b[39mto(device\u001b[38;5;241m=\u001b[39mdevice)\n\u001b[1;32m    426\u001b[0m \u001b[38;5;28;01mif\u001b[39;00m \u001b[38;5;129;01mnot\u001b[39;00m \u001b[38;5;28many\u001b[39m(\u001b[38;5;28missubclass\u001b[39m(w\u001b[38;5;241m.\u001b[39mcategory, BadInitialCandidatesWarning) \u001b[38;5;28;01mfor\u001b[39;00m w \u001b[38;5;129;01min\u001b[39;00m ws):\n\u001b[1;32m    427\u001b[0m     \u001b[38;5;28;01mreturn\u001b[39;00m batch_initial_conditions\n",
      "File \u001b[0;32m~/Desktop/Curriculum/Graduate/Research/PandoraBayesOPT/pandorabayesopt_env/lib/python3.11/site-packages/botorch/optim/initializers.py:951\u001b[0m, in \u001b[0;36minitialize_q_batch\u001b[0;34m(X, Y, n, eta)\u001b[0m\n\u001b[1;32m    949\u001b[0m     weights \u001b[38;5;241m=\u001b[39m torch\u001b[38;5;241m.\u001b[39mexp(etaZ)\n\u001b[1;32m    950\u001b[0m \u001b[38;5;28;01mif\u001b[39;00m batch_shape \u001b[38;5;241m==\u001b[39m torch\u001b[38;5;241m.\u001b[39mSize():\n\u001b[0;32m--> 951\u001b[0m     idcs \u001b[38;5;241m=\u001b[39m \u001b[43mtorch\u001b[49m\u001b[38;5;241;43m.\u001b[39;49m\u001b[43mmultinomial\u001b[49m\u001b[43m(\u001b[49m\u001b[43mweights\u001b[49m\u001b[43m,\u001b[49m\u001b[43m \u001b[49m\u001b[43mn\u001b[49m\u001b[43m)\u001b[49m\n\u001b[1;32m    952\u001b[0m \u001b[38;5;28;01melse\u001b[39;00m:\n\u001b[1;32m    953\u001b[0m     idcs \u001b[38;5;241m=\u001b[39m batched_multinomial(\n\u001b[1;32m    954\u001b[0m         weights\u001b[38;5;241m=\u001b[39mweights\u001b[38;5;241m.\u001b[39mpermute(\u001b[38;5;241m*\u001b[39m\u001b[38;5;28mrange\u001b[39m(\u001b[38;5;241m1\u001b[39m, \u001b[38;5;28mlen\u001b[39m(batch_shape) \u001b[38;5;241m+\u001b[39m \u001b[38;5;241m1\u001b[39m), \u001b[38;5;241m0\u001b[39m), num_samples\u001b[38;5;241m=\u001b[39mn\n\u001b[1;32m    955\u001b[0m     )\u001b[38;5;241m.\u001b[39mpermute(\u001b[38;5;241m-\u001b[39m\u001b[38;5;241m1\u001b[39m, \u001b[38;5;241m*\u001b[39m\u001b[38;5;28mrange\u001b[39m(\u001b[38;5;28mlen\u001b[39m(batch_shape)))\n",
      "\u001b[0;31mRuntimeError\u001b[0m: prob_dist must be 1 or 2 dim"
     ]
    }
   ],
   "source": [
    "from pandora_bayesopt.utils import find_global_optimum\n",
    "global_optimum_point, global_optimum_value = find_global_optimum(objective=objective_function, dim=dim, maximize=maximize)\n",
    "print(\"global_optimum\", global_optimum_point, global_optimum_value)\n",
    "print()"
   ]
  },
  {
   "cell_type": "code",
   "execution_count": 14,
   "id": "7234855f-ebb6-4015-8f74-3eefbc0c02e2",
   "metadata": {},
   "outputs": [],
   "source": [
    "log_cost_X = torch.log(cost_X)\n",
    "log_cost_model = fit_gp_model(X, log_cost_X, input_standardize=True)"
   ]
  },
  {
   "cell_type": "code",
   "execution_count": 15,
   "id": "85496f0d-b5f7-4109-9b51-6309f225afb5",
   "metadata": {},
   "outputs": [
    {
     "name": "stderr",
     "output_type": "stream",
     "text": [
      "/Users/qianxie/Desktop/Curriculum/Graduate/Research/PandoraBayesOPT/pandorabayesopt_env/lib/python3.11/site-packages/gpytorch/means/constant_mean.py:20: OldVersionWarning: You have loaded a GP model with a ConstantMean  from a previous version of GPyTorch. The mean module parameter `constant` has been renamed to `raw_constant`. Additionally, the shape of `raw_constant` is now *batch_shape, whereas the shape of `constant` was *batch_shape x 1. We have updated the name/shape of the parameter in your state dict, but we recommend that you re-save your model.\n",
      "  warnings.warn(\n"
     ]
    },
    {
     "data": {
      "text/plain": [
       "<All keys matched successfully>"
      ]
     },
     "execution_count": 15,
     "metadata": {},
     "output_type": "execute_result"
    }
   ],
   "source": [
    "log_cost_model_state_dict = torch.load('lda_log_cost_model_state.pth')\n",
    "log_cost_model_state_dict['outcome_transform._is_trained'] = torch.tensor(True)\n",
    "for key in keys_to_remove:\n",
    "    if key in log_cost_model_state_dict:\n",
    "        del log_cost_model_state_dict[key]\n",
    "log_cost_model.load_state_dict(log_cost_model_state_dict)"
   ]
  },
  {
   "cell_type": "code",
   "execution_count": 16,
   "id": "9ebf18f9-bfe3-4a97-b74f-93d4234b8227",
   "metadata": {},
   "outputs": [],
   "source": [
    "def cost_function(X):\n",
    "    posterior_X = log_cost_model.posterior(X)\n",
    "    cost_X = torch.exp(posterior_X.mean)\n",
    "    return cost_X"
   ]
  },
  {
   "cell_type": "code",
   "execution_count": 17,
   "id": "ffd96fff-b023-48c4-a74c-5968ace6f74b",
   "metadata": {},
   "outputs": [],
   "source": [
    "bounds = torch.stack([torch.zeros(dim), torch.ones(dim)])\n",
    "budget = 50\n",
    "seed = 42"
   ]
  },
  {
   "cell_type": "code",
   "execution_count": 19,
   "id": "e9d6bbd8-f0b6-4818-a634-9336476af65c",
   "metadata": {},
   "outputs": [],
   "source": [
    "from botorch.acquisition import ExpectedImprovement\n",
    "from pandora_bayesopt.acquisition.gittins import GittinsIndex\n",
    "from pandora_bayesopt.acquisition.ei_puc import ExpectedImprovementWithCost\n",
    "from pandora_bayesopt.bayesianoptimizer import BayesianOptimizer\n",
    "from botorch.utils.sampling import draw_sobol_samples"
   ]
  },
  {
   "cell_type": "code",
   "execution_count": 19,
   "id": "c6924af8-1622-4a3e-bbfa-7e65f8837103",
   "metadata": {},
   "outputs": [
    {
     "name": "stdout",
     "output_type": "stream",
     "text": [
      "Iteration 0, New point: [0.46208028 0.42763874 0.75728073], New value: -1.3001606096379907\n",
      "Best observed value: -1.3001606096379907\n",
      "Current acquisition value: tensor(0.1449)\n",
      "Cumulative cost: 3.3852892669276358\n",
      "\n",
      "Iteration 1, New point: [0.35701196 0.89689344 0.81975208], New value: -1.3289667601080226\n",
      "Best observed value: -1.3001606096379907\n",
      "Current acquisition value: tensor(0.1086)\n",
      "Cumulative cost: 9.437353339191084\n",
      "\n",
      "Iteration 2, New point: [0.76523115 0.96574861 0.38260839], New value: -1.514272270372922\n",
      "Best observed value: -1.3001606096379907\n",
      "Current acquisition value: tensor(0.1032)\n",
      "Cumulative cost: 15.344224618940956\n",
      "\n",
      "Iteration 3, New point: [0.88692592 0.48556457 0.74491199], New value: -1.3136373328876982\n",
      "Best observed value: -1.3001606096379907\n",
      "Current acquisition value: tensor(0.0965)\n",
      "Cumulative cost: 19.631207072766202\n",
      "\n",
      "Iteration 4, New point: [0.3329253  0.66903358 0.64005391], New value: -1.3214152915810855\n",
      "Best observed value: -1.3001606096379907\n",
      "Current acquisition value: tensor(0.0747)\n",
      "Cumulative cost: 23.109457898130884\n",
      "\n",
      "Iteration 5, New point: [0.51755169 0.09775422 0.9523144 ], New value: -1.2760054827095908\n",
      "Best observed value: -1.2760054827095908\n",
      "Current acquisition value: tensor(0.0678)\n",
      "Cumulative cost: 28.024182763909003\n",
      "\n",
      "Iteration 6, New point: [0.         0.40111239 0.92586995], New value: -1.273861296387364\n",
      "Best observed value: -1.273861296387364\n",
      "Current acquisition value: tensor(0.0639)\n",
      "Cumulative cost: 31.282616111860502\n",
      "\n",
      "Iteration 7, New point: [0.         0.         0.83071503], New value: -1.3476620958790289\n",
      "Best observed value: -1.273861296387364\n",
      "Current acquisition value: tensor(0.0622)\n",
      "Cumulative cost: 33.704001278937085\n",
      "\n",
      "Iteration 8, New point: [0.34653541 0.36680113 0.89798318], New value: -1.2728486510488648\n",
      "Best observed value: -1.2728486510488648\n",
      "Current acquisition value: tensor(0.0523)\n",
      "Cumulative cost: 37.84090772412205\n",
      "\n",
      "Iteration 9, New point: [0. 0. 1.], New value: -1.2721021300081508\n",
      "Best observed value: -1.2721021300081508\n",
      "Current acquisition value: tensor(0.0471)\n",
      "Cumulative cost: 41.66330702229783\n",
      "\n",
      "Iteration 10, New point: [0.24188365 0.40684964 1.        ], New value: -1.2664697605164787\n",
      "Best observed value: -1.2664697605164787\n",
      "Current acquisition value: tensor(0.0438)\n",
      "Cumulative cost: 47.071738116146015\n",
      "\n",
      "Iteration 11, New point: [1.         0.         0.56233774], New value: -1.6102186840660453\n",
      "Best observed value: -1.2664697605164787\n",
      "Current acquisition value: tensor(0.0378)\n",
      "Cumulative cost: 53.12993074748207\n",
      "\n"
     ]
    }
   ],
   "source": [
    "torch.manual_seed(seed)\n",
    "init_x = draw_sobol_samples(bounds=bounds, n=1, q=2*(dim+1), seed=seed).squeeze(0)\n",
    "\n",
    "# Example usage with EI\n",
    "EI_optimizer = BayesianOptimizer(objective=objective_function, dim=dim, maximize=maximize, cost=cost_function, initial_points=init_x, input_standardize=True)\n",
    "EI_optimizer.run_until_budget(budget=budget, acquisition_function_class=ExpectedImprovement)\n",
    "EI_best_history = EI_optimizer.get_best_history()\n",
    "EI_regret_history = EI_optimizer.get_regret_history(global_optimum_value)\n",
    "EI_cost_history = EI_optimizer.get_cost_history()"
   ]
  },
  {
   "cell_type": "code",
   "execution_count": 20,
   "id": "f8749e7c-8f4a-418a-82e7-df22d5911acd",
   "metadata": {},
   "outputs": [
    {
     "name": "stdout",
     "output_type": "stream",
     "text": [
      "Iteration 0, New point: [0.00919661 0.44715654 0.76750661], New value: -1.3212513354306399\n",
      "Best observed value: -1.3212513354306399\n",
      "Current acquisition value: tensor(0.0530)\n",
      "Cumulative cost: 2.3186284993520103\n",
      "\n",
      "Iteration 1, New point: [0.25809571 0.1432042  0.6953294 ], New value: -1.4076738817810754\n",
      "Best observed value: -1.3212513354306399\n",
      "Current acquisition value: tensor(0.0452)\n",
      "Cumulative cost: 4.7984704911382074\n",
      "\n",
      "Iteration 2, New point: [0.28811104 0.9233423  0.44537249], New value: -1.417017046370078\n",
      "Best observed value: -1.3212513354306399\n",
      "Current acquisition value: tensor(0.0355)\n",
      "Cumulative cost: 7.27086465387928\n",
      "\n",
      "Iteration 3, New point: [0.29346179 0.68914599 0.75684669], New value: -1.2944696162140858\n",
      "Best observed value: -1.2944696162140858\n",
      "Current acquisition value: tensor(0.0319)\n",
      "Cumulative cost: 10.616837888817816\n",
      "\n",
      "Iteration 4, New point: [0.00213593 0.0726819  0.90005002], New value: -1.2987533625043588\n",
      "Best observed value: -1.2944696162140858\n",
      "Current acquisition value: tensor(0.0223)\n",
      "Cumulative cost: 13.302851721347004\n",
      "\n",
      "Iteration 5, New point: [0.         0.78959116 0.86539984], New value: -1.2738166377943676\n",
      "Best observed value: -1.2738166377943676\n",
      "Current acquisition value: tensor(0.0233)\n",
      "Cumulative cost: 16.451354039872427\n",
      "\n",
      "Iteration 6, New point: [0.41771919 0.02386403 0.88795074], New value: -1.296565455985774\n",
      "Best observed value: -1.2738166377943676\n",
      "Current acquisition value: tensor(0.0185)\n",
      "Cumulative cost: 19.92090776394313\n",
      "\n",
      "Iteration 7, New point: [0.11152623 0.39722951 0.91539004], New value: -1.2713843601996069\n",
      "Best observed value: -1.2713843601996069\n",
      "Current acquisition value: tensor(0.0163)\n",
      "Cumulative cost: 23.245799403854626\n",
      "\n",
      "Iteration 8, New point: [0.87708347 1.         0.36215768], New value: -1.586595504413558\n",
      "Best observed value: -1.2713843601996069\n",
      "Current acquisition value: tensor(0.0158)\n",
      "Cumulative cost: 29.319367228183495\n",
      "\n",
      "Iteration 9, New point: [0.69329765 0.41951031 0.78361003], New value: -1.2974720824368524\n",
      "Best observed value: -1.2713843601996069\n",
      "Current acquisition value: tensor(0.0113)\n",
      "Cumulative cost: 33.51021339180145\n",
      "\n",
      "Iteration 10, New point: [0.         0.14374457 1.        ], New value: -1.2704073998960825\n",
      "Best observed value: -1.2704073998960825\n",
      "Current acquisition value: tensor(0.0090)\n",
      "Cumulative cost: 37.29226142612756\n",
      "\n",
      "Iteration 11, New point: [0.37156858 0.18946631 1.        ], New value: -1.2744599013995481\n",
      "Best observed value: -1.2704073998960825\n",
      "Current acquisition value: tensor(0.0085)\n",
      "Cumulative cost: 42.174263169031725\n",
      "\n",
      "Iteration 12, New point: [0.12981638 1.         0.76066892], New value: -1.3046460180967265\n",
      "Best observed value: -1.2704073998960825\n",
      "Current acquisition value: tensor(0.0070)\n",
      "Cumulative cost: 45.9067386318625\n",
      "\n",
      "Iteration 13, New point: [0.76112793 0.         1.        ], New value: -1.2866073676669674\n",
      "Best observed value: -1.2704073998960825\n",
      "Current acquisition value: tensor(0.0068)\n",
      "Cumulative cost: 52.22111049030565\n",
      "\n"
     ]
    }
   ],
   "source": [
    "torch.manual_seed(seed)\n",
    "init_x = draw_sobol_samples(bounds=bounds, n=1, q=2*(dim+1), seed=seed).squeeze(0)\n",
    "\n",
    "# Example usage with EIpu\n",
    "EIpu_optimizer = BayesianOptimizer(objective=objective_function, dim=dim, maximize=maximize, cost=cost_function, initial_points=init_x, input_standardize=True)\n",
    "EIpu_optimizer.run_until_budget(budget=budget, acquisition_function_class=ExpectedImprovementWithCost)\n",
    "EIpu_best_history = EIpu_optimizer.get_best_history()\n",
    "EIpu_regret_history = EIpu_optimizer.get_regret_history(global_optimum_value)\n",
    "EIpu_cost_history = EIpu_optimizer.get_cost_history()"
   ]
  },
  {
   "cell_type": "code",
   "execution_count": 21,
   "id": "ea168c31-c8ed-4499-99f7-a442aec61497",
   "metadata": {},
   "outputs": [
    {
     "name": "stdout",
     "output_type": "stream",
     "text": [
      "Iteration 0, New point: [0.0097822  0.79799226 0.5805825 ], New value: -1.388512655671465\n",
      "Best observed value: -1.323391271035382\n",
      "Current acquisition value: tensor(-1.5191)\n",
      "Cumulative cost: 1.8655030263564887\n",
      "Gittins lmbda: 0.1\n",
      "\n",
      "Iteration 1, New point: [0.02171209 0.43536268 0.78878319], New value: -1.3116256879581976\n",
      "Best observed value: -1.3116256879581976\n",
      "Current acquisition value: tensor(-1.3347)\n",
      "Cumulative cost: 4.2146349555322145\n",
      "Gittins lmbda: 0.05\n",
      "\n",
      "Iteration 2, New point: [0.29001371 0.13176303 0.69946958], New value: -1.4030148563755713\n",
      "Best observed value: -1.3116256879581976\n",
      "Current acquisition value: tensor(-1.2014)\n",
      "Cumulative cost: 6.778663924026944\n",
      "Gittins lmbda: 0.025\n",
      "\n",
      "Iteration 3, New point: [0.31735633 0.67856299 0.76522718], New value: -1.2932244334409453\n",
      "Best observed value: -1.2932244334409453\n",
      "Current acquisition value: tensor(-1.2710)\n",
      "Cumulative cost: 10.212690238681834\n",
      "Gittins lmbda: 0.025\n",
      "\n",
      "Iteration 4, New point: [0.         0.80233141 0.85119227], New value: -1.2761529518780885\n",
      "Best observed value: -1.2761529518780885\n",
      "Current acquisition value: tensor(-1.3106)\n",
      "Cumulative cost: 13.281219897618506\n",
      "Gittins lmbda: 0.025\n",
      "\n",
      "Iteration 5, New point: [0.00212017 0.05222026 0.94402212], New value: -1.2821070156089214\n",
      "Best observed value: -1.2761529518780885\n",
      "Current acquisition value: tensor(-1.2026)\n",
      "Cumulative cost: 16.395026234106137\n",
      "Gittins lmbda: 0.0125\n",
      "\n",
      "Iteration 6, New point: [0.42882375 0.00269341 0.90196487], New value: -1.2930393204734838\n",
      "Best observed value: -1.2761529518780885\n",
      "Current acquisition value: tensor(-1.2101)\n",
      "Cumulative cost: 20.055600743707497\n",
      "Gittins lmbda: 0.0125\n",
      "\n",
      "Iteration 7, New point: [0.8332593  1.         0.37168348], New value: -1.5622418663529787\n",
      "Best observed value: -1.2761529518780885\n",
      "Current acquisition value: tensor(-1.2240)\n",
      "Cumulative cost: 25.96322471256565\n",
      "Gittins lmbda: 0.0125\n",
      "\n",
      "Iteration 8, New point: [0.13143154 0.39123348 0.94891802], New value: -1.2657337058716571\n",
      "Best observed value: -1.2657337058716571\n",
      "Current acquisition value: tensor(-1.2266)\n",
      "Cumulative cost: 29.834372080948057\n",
      "Gittins lmbda: 0.0125\n",
      "\n",
      "Iteration 9, New point: [0.77610918 0.44459981 0.76075799], New value: -1.3045382647508228\n",
      "Best observed value: -1.2657337058716571\n",
      "Current acquisition value: tensor(-1.2856)\n",
      "Cumulative cost: 34.01208651536876\n",
      "Gittins lmbda: 0.0125\n",
      "\n",
      "Iteration 10, New point: [0.34468169 0.11345568 1.        ], New value: -1.2753894586020054\n",
      "Best observed value: -1.2657337058716571\n",
      "Current acquisition value: tensor(-1.2484)\n",
      "Cumulative cost: 38.745292770844145\n",
      "Gittins lmbda: 0.00625\n",
      "\n",
      "Iteration 11, New point: [0.32635255 1.         0.49253771], New value: -1.3849080174218587\n",
      "Best observed value: -1.2657337058716571\n",
      "Current acquisition value: tensor(-1.2504)\n",
      "Cumulative cost: 41.76369747089939\n",
      "Gittins lmbda: 0.00625\n",
      "\n",
      "Iteration 12, New point: [0.52575516 0.32967552 0.87439622], New value: -1.2777332907834744\n",
      "Best observed value: -1.2657337058716571\n",
      "Current acquisition value: tensor(-1.2629)\n",
      "Cumulative cost: 45.998456857043195\n",
      "Gittins lmbda: 0.00625\n",
      "\n",
      "Iteration 13, New point: [0.         0.28177331 1.        ], New value: -1.268738011582882\n",
      "Best observed value: -1.2657337058716571\n",
      "Current acquisition value: tensor(-1.2720)\n",
      "Cumulative cost: 50.04529429947304\n",
      "Gittins lmbda: 0.00625\n",
      "\n"
     ]
    }
   ],
   "source": [
    "torch.manual_seed(seed)\n",
    "\n",
    "init_x = draw_sobol_samples(bounds=bounds, n=1, q=2*(dim+1), seed=seed).squeeze(0)\n",
    "\n",
    "# Example usage with GittinsIndex\n",
    "GIstep_halving_optimizer = BayesianOptimizer(objective=objective_function, dim=dim, maximize=maximize, cost=cost_function, initial_points=init_x, input_standardize=True)\n",
    "GIstep_halving_optimizer.run_until_budget(budget=budget, acquisition_function_class=GittinsIndex, step_halving=True)\n",
    "GIstep_halving_best_history = GIstep_halving_optimizer.get_best_history()\n",
    "GIstep_halving_regret_history = GIstep_halving_optimizer.get_regret_history(global_optimum_value)\n",
    "GIstep_halving_cost_history = GIstep_halving_optimizer.get_cost_history()"
   ]
  },
  {
   "cell_type": "code",
   "execution_count": 22,
   "id": "3540c949-fd2f-4f10-9a5e-e69fb1ade264",
   "metadata": {},
   "outputs": [
    {
     "name": "stdout",
     "output_type": "stream",
     "text": [
      "current lambda: 0.026490620987474303\n",
      "Iteration 0, New point: [0.02038157 0.40508575 0.79462758], New value: -1.3131487051234814\n",
      "Best observed value: -1.3131487051234814\n",
      "Current acquisition value: tensor(-1.1207)\n",
      "Cumulative cost: 2.34592623512247\n",
      "Gittins lmbda: 0.026490620987474303\n",
      "\n",
      "current lambda: 0.026490620987474303\n",
      "Iteration 1, New point: [0.15739129 0.00244992 0.62895801], New value: -1.554729252866291\n",
      "Best observed value: -1.3131487051234814\n",
      "Current acquisition value: tensor(-1.1708)\n",
      "Cumulative cost: 4.658378983522866\n",
      "Gittins lmbda: 0.026490620987474303\n",
      "\n",
      "current lambda: 0.026490620987474303\n",
      "Iteration 2, New point: [0.41879936 0.43612554 0.76738189], New value: -1.2985671325765686\n",
      "Best observed value: -1.2985671325765686\n",
      "Current acquisition value: tensor(-1.2398)\n",
      "Cumulative cost: 7.919901797322488\n",
      "Gittins lmbda: 0.026490620987474303\n",
      "\n",
      "current lambda: 0.026490620987474303\n",
      "Iteration 3, New point: [0.         0.7989935  0.84042515], New value: -1.2775500183242061\n",
      "Best observed value: -1.2775500183242061\n",
      "Current acquisition value: tensor(-1.2730)\n",
      "Cumulative cost: 10.934268932991607\n",
      "Gittins lmbda: 0.026490620987474303\n",
      "\n",
      "current lambda: 0.026490620987474303\n",
      "Iteration 4, New point: [0.33113213 0.97677345 0.43515302], New value: -1.4134058437886443\n",
      "Best observed value: -1.2775500183242061\n",
      "Current acquisition value: tensor(-1.3074)\n",
      "Cumulative cost: 13.560091845877144\n",
      "Gittins lmbda: 0.026490620987474303\n",
      "\n",
      "current lambda: 0.00883110351196634\n",
      "Iteration 5, New point: [0.38237754 0.         0.9069537 ], New value: -1.2921280766059708\n",
      "Best observed value: -1.2775500183242061\n",
      "Current acquisition value: tensor(-1.1595)\n",
      "Cumulative cost: 17.16718290359493\n",
      "Gittins lmbda: 0.00883110351196634\n",
      "\n",
      "current lambda: 0.00883110351196634\n",
      "Iteration 6, New point: [0.         0.25692491 0.9955894 ], New value: -1.269012532452249\n",
      "Best observed value: -1.269012532452249\n",
      "Current acquisition value: tensor(-1.1791)\n",
      "Cumulative cost: 21.081541940891046\n",
      "Gittins lmbda: 0.00883110351196634\n",
      "\n",
      "current lambda: 0.00883110351196634\n",
      "Iteration 7, New point: [1.         0.84306566 0.40196651], New value: -1.5319341386177387\n",
      "Best observed value: -1.269012532452249\n",
      "Current acquisition value: tensor(-1.2111)\n",
      "Cumulative cost: 27.323381393405583\n",
      "Gittins lmbda: 0.00883110351196634\n",
      "\n",
      "current lambda: 0.00883110351196634\n",
      "Iteration 8, New point: [0.23000601 0.45940971 0.92761585], New value: -1.2644395607111005\n",
      "Best observed value: -1.2644395607111005\n",
      "Current acquisition value: tensor(-1.2087)\n",
      "Cumulative cost: 31.57378340406025\n",
      "Gittins lmbda: 0.00883110351196634\n",
      "\n",
      "current lambda: 0.00883110351196634\n",
      "Iteration 9, New point: [0.30269116 0.84324481 0.74744875], New value: -1.3079678249775397\n",
      "Best observed value: -1.2644395607111005\n",
      "Current acquisition value: tensor(-1.2400)\n",
      "Cumulative cost: 35.22560471028859\n",
      "Gittins lmbda: 0.00883110351196634\n",
      "\n",
      "current lambda: 0.00883110351196634\n",
      "Iteration 10, New point: [0.         0.         0.90175854], New value: -1.3029268606282909\n",
      "Best observed value: -1.2644395607111005\n",
      "Current acquisition value: tensor(-1.2695)\n",
      "Cumulative cost: 37.98289584131763\n",
      "Gittins lmbda: 0.00883110351196634\n",
      "\n",
      "current lambda: 0.0035575514278455337\n",
      "Iteration 11, New point: [0.83105814 0.         1.        ], New value: -1.289830479881321\n",
      "Best observed value: -1.2644395607111005\n",
      "Current acquisition value: tensor(-1.2068)\n",
      "Cumulative cost: 44.54605268974916\n",
      "Gittins lmbda: 0.0035575514278455337\n",
      "\n",
      "current lambda: 0.0035575514278455337\n",
      "Iteration 12, New point: [0.         0.76328707 1.        ], New value: -1.2759474088491933\n",
      "Best observed value: -1.2644395607111005\n",
      "Current acquisition value: tensor(-1.2276)\n",
      "Cumulative cost: 50.00666753267995\n",
      "Gittins lmbda: 0.0035575514278455337\n",
      "\n"
     ]
    }
   ],
   "source": [
    "torch.manual_seed(seed)\n",
    "\n",
    "init_x = draw_sobol_samples(bounds=bounds, n=1, q=2*(dim+1), seed=seed).squeeze(0)\n",
    "\n",
    "# Example usage with GittinsIndex\n",
    "GIstep_EIpu_optimizer = BayesianOptimizer(objective=objective_function, dim=dim, maximize=maximize, cost=cost_function, initial_points=init_x, input_standardize=True)\n",
    "GIstep_EIpu_optimizer.run_until_budget(budget=budget, acquisition_function_class=GittinsIndex, step_EIpu=True)\n",
    "GIstep_EIpu_best_history = GIstep_EIpu_optimizer.get_best_history()\n",
    "GIstep_EIpu_regret_history = GIstep_EIpu_optimizer.get_regret_history(global_optimum_value)\n",
    "GIstep_EIpu_cost_history = GIstep_EIpu_optimizer.get_cost_history()"
   ]
  },
  {
   "cell_type": "code",
   "execution_count": 23,
   "id": "f742d276-b5ba-49c3-b57c-02b908a4c2e6",
   "metadata": {},
   "outputs": [
    {
     "name": "stdout",
     "output_type": "stream",
     "text": [
      "Iteration 0, New point: [0.20440836 0.14425493 0.72190273], New value: -1.3900916779464565\n",
      "Best observed value: -1.323391271035382\n",
      "Current acquisition value: tensor(-0.4175)\n",
      "Cumulative cost: 2.4103798729966712\n",
      "\n",
      "Iteration 1, New point: [0.         0.7355258  0.88833997], New value: -1.2695611340715123\n",
      "Best observed value: -1.2695611340715123\n",
      "Current acquisition value: tensor(-0.6064)\n",
      "Cumulative cost: 5.764546519416531\n",
      "\n",
      "Iteration 2, New point: [0.         0.05257353 0.98231257], New value: -1.2730504422587785\n",
      "Best observed value: -1.2695611340715123\n",
      "Current acquisition value: tensor(-0.6532)\n",
      "Cumulative cost: 9.322182806504495\n",
      "\n",
      "Iteration 3, New point: [0.         0.38794285 0.45307463], New value: -1.8721529963605656\n",
      "Best observed value: -1.2695611340715123\n",
      "Current acquisition value: tensor(-0.7325)\n",
      "Cumulative cost: 11.283885899303167\n",
      "\n",
      "Iteration 4, New point: [0.5378615 0.        1.       ], New value: -1.2794281542805965\n",
      "Best observed value: -1.2695611340715123\n",
      "Current acquisition value: tensor(-0.7497)\n",
      "Cumulative cost: 16.7781477263756\n",
      "\n",
      "Iteration 5, New point: [1.         1.         0.38905724], New value: -1.614847495363485\n",
      "Best observed value: -1.2695611340715123\n",
      "Current acquisition value: tensor(-0.8622)\n",
      "Cumulative cost: 23.619330409872294\n",
      "\n",
      "Iteration 6, New point: [0.36049156 0.44810281 0.85012302], New value: -1.2794647457032076\n",
      "Best observed value: -1.2695611340715123\n",
      "Current acquisition value: tensor(-0.8428)\n",
      "Cumulative cost: 27.226637741491622\n",
      "\n",
      "Iteration 7, New point: [0.75279868 0.         0.57411816], New value: -1.57851917738154\n",
      "Best observed value: -1.2695611340715123\n",
      "Current acquisition value: tensor(-0.9325)\n",
      "Cumulative cost: 31.690108930600697\n",
      "\n",
      "Iteration 8, New point: [0.30355516 1.         0.78239844], New value: -1.345144966170522\n",
      "Best observed value: -1.2695611340715123\n",
      "Current acquisition value: tensor(-0.9606)\n",
      "Cumulative cost: 37.63437478227321\n",
      "\n",
      "Iteration 9, New point: [0.36589547 1.         0.45109112], New value: -1.403856519788928\n",
      "Best observed value: -1.2695611340715123\n",
      "Current acquisition value: tensor(-1.0003)\n",
      "Cumulative cost: 40.53732090624467\n",
      "\n",
      "Iteration 10, New point: [0.         0.41312477 1.        ], New value: -1.2678363749934807\n",
      "Best observed value: -1.2678363749934807\n",
      "Current acquisition value: tensor(-1.0510)\n",
      "Cumulative cost: 45.06613134640421\n",
      "\n",
      "Iteration 11, New point: [1. 0. 1.], New value: -1.3018600126081854\n",
      "Best observed value: -1.2678363749934807\n",
      "Current acquisition value: tensor(-1.0826)\n",
      "Cumulative cost: 52.029781764643275\n",
      "\n"
     ]
    }
   ],
   "source": [
    "torch.manual_seed(seed)\n",
    "\n",
    "init_x = draw_sobol_samples(bounds=bounds, n=1, q=2*(dim+1), seed=seed).squeeze(0)\n",
    "\n",
    "# Example usage with GittinsIndex\n",
    "GIlmbda_optimizer = BayesianOptimizer(objective=objective_function, dim=dim, maximize=maximize, cost=cost_function, initial_points=init_x, input_standardize=True)\n",
    "GIlmbda_optimizer.run_until_budget(budget=budget, acquisition_function_class=GittinsIndex, lmbda=0.001)\n",
    "GIlmbda_best_history = GIlmbda_optimizer.get_best_history()\n",
    "GIlmbda_regret_history = GIlmbda_optimizer.get_regret_history(global_optimum_value)\n",
    "GIlmbda_cost_history = GIlmbda_optimizer.get_cost_history()"
   ]
  },
  {
   "cell_type": "code",
   "execution_count": 24,
   "id": "ebe31aef-0633-4f24-87ac-16cdd4fd0a79",
   "metadata": {},
   "outputs": [
    {
     "data": {
      "text/plain": [
       "Text(0.5, 1.0, 'Performance of EI vs Gittins on LDA')"
      ]
     },
     "execution_count": 24,
     "metadata": {},
     "output_type": "execute_result"
    },
    {
     "data": {
      "image/png": "[encoded data removed]",
      "text/plain": [
       "<Figure size 640x480 with 1 Axes>"
      ]
     },
     "metadata": {},
     "output_type": "display_data"
    }
   ],
   "source": [
    "import matplotlib.pyplot as plt\n",
    "import numpy as np\n",
    "plt.plot(EI_cost_history, -1000*np.array(EI_best_history),'.-')\n",
    "plt.plot(EIpu_cost_history, -1000*np.array(EIpu_best_history),'.-',color='black')\n",
    "plt.plot(GIstep_halving_cost_history, -1000*np.array(GIstep_halving_best_history),'.-')\n",
    "plt.plot(GIstep_EIpu_cost_history, -1000*np.array(GIstep_EIpu_best_history),'.-')\n",
    "plt.plot(GIlmbda_cost_history, -1000*np.array(GIlmbda_best_history),'.-')\n",
    "plt.xlabel('Cumulative cost')\n",
    "plt.ylabel('Best value found')\n",
    "plt.title(\"Performance of EI vs Gittins on LDA\")"
   ]
  },
  {
   "cell_type": "code",
   "execution_count": 25,
   "id": "4a359f63-fde9-4fb7-830f-e7a4ded1ec3a",
   "metadata": {},
   "outputs": [
    {
     "data": {
      "text/plain": [
       "Text(0.5, 1.0, 'Performance of EI vs Gittins on LDA')"
      ]
     },
     "execution_count": 25,
     "metadata": {},
     "output_type": "execute_result"
    },
    {
     "data": {
      "image/png": "[encoded data removed]",
      "text/plain": [
       "<Figure size 640x480 with 1 Axes>"
      ]
     },
     "metadata": {},
     "output_type": "display_data"
    }
   ],
   "source": [
    "plt.plot(EI_cost_history, 3+np.log10(np.array(EI_regret_history)),'.-')\n",
    "plt.plot(EIpu_cost_history, 3+np.log10(np.array(EIpu_regret_history)),'.-',color='black')\n",
    "plt.plot(GIstep_halving_cost_history, 3+np.log10(np.array(GIstep_halving_regret_history)),'.-')\n",
    "plt.plot(GIstep_EIpu_cost_history, 3+np.log10(np.array(GIstep_EIpu_regret_history)),'.-')\n",
    "plt.plot(GIlmbda_cost_history, 3+np.log10(np.array(GIlmbda_regret_history)),'.-')\n",
    "plt.xlabel('Cumulative cost')\n",
    "plt.ylabel('lg(regret)')\n",
    "plt.title(\"Performance of EI vs Gittins on LDA\")"
   ]
  },
  {
   "cell_type": "code",
   "execution_count": 30,
   "id": "fcbbf83d-8b7f-4a31-8a81-1ce2d0c492d4",
   "metadata": {},
   "outputs": [
    {
     "ename": "TypeError",
     "evalue": "MCSampler.__init__() missing 1 required positional argument: 'sample_shape'",
     "output_type": "error",
     "traceback": [
      "\u001b[0;31m---------------------------------------------------------------------------\u001b[0m",
      "\u001b[0;31mTypeError\u001b[0m                                 Traceback (most recent call last)",
      "Cell \u001b[0;32mIn[30], line 9\u001b[0m\n\u001b[1;32m      7\u001b[0m \u001b[38;5;66;03m# Example usage with GittinsIndex\u001b[39;00m\n\u001b[1;32m      8\u001b[0m MSEI_optimizer \u001b[38;5;241m=\u001b[39m BayesianOptimizer(objective\u001b[38;5;241m=\u001b[39mobjective_function, dim\u001b[38;5;241m=\u001b[39mdim, maximize\u001b[38;5;241m=\u001b[39mmaximize, cost\u001b[38;5;241m=\u001b[39mcost_function, initial_points\u001b[38;5;241m=\u001b[39minit_x, input_standardize\u001b[38;5;241m=\u001b[39m\u001b[38;5;28;01mTrue\u001b[39;00m)\n\u001b[0;32m----> 9\u001b[0m \u001b[43mMSEI_optimizer\u001b[49m\u001b[38;5;241;43m.\u001b[39;49m\u001b[43mrun_until_budget\u001b[49m\u001b[43m(\u001b[49m\u001b[43mbudget\u001b[49m\u001b[38;5;241;43m=\u001b[39;49m\u001b[43mbudget\u001b[49m\u001b[43m,\u001b[49m\u001b[43m \u001b[49m\u001b[43macquisition_function_class\u001b[49m\u001b[38;5;241;43m=\u001b[39;49m\u001b[43mMultiStepLookaheadEI\u001b[49m\u001b[43m,\u001b[49m\u001b[43m \u001b[49m\u001b[43mbatch_size\u001b[49m\u001b[38;5;241;43m=\u001b[39;49m\u001b[38;5;241;43m1\u001b[39;49m\u001b[43m,\u001b[49m\u001b[43m \u001b[49m\u001b[43mlookahead_batch_sizes\u001b[49m\u001b[38;5;241;43m=\u001b[39;49m\u001b[43m[\u001b[49m\u001b[38;5;241;43m1\u001b[39;49m\u001b[43m,\u001b[49m\u001b[38;5;241;43m1\u001b[39;49m\u001b[43m,\u001b[49m\u001b[38;5;241;43m1\u001b[39;49m\u001b[43m]\u001b[49m\u001b[43m,\u001b[49m\u001b[43m \u001b[49m\u001b[43mnum_fantasies\u001b[49m\u001b[38;5;241;43m=\u001b[39;49m\u001b[43m[\u001b[49m\u001b[38;5;241;43m4\u001b[39;49m\u001b[43m,\u001b[49m\u001b[38;5;241;43m4\u001b[39;49m\u001b[43m,\u001b[49m\u001b[38;5;241;43m2\u001b[39;49m\u001b[43m]\u001b[49m\u001b[43m)\u001b[49m\n\u001b[1;32m     10\u001b[0m MSEI_best_history \u001b[38;5;241m=\u001b[39m MSEI_optimizer\u001b[38;5;241m.\u001b[39mget_best_history()\n\u001b[1;32m     11\u001b[0m MSEI_regret_history \u001b[38;5;241m=\u001b[39m MSEI_optimizer\u001b[38;5;241m.\u001b[39mget_regret_history(global_optimum_value)\n",
      "File \u001b[0;32m~/Desktop/Curriculum/Graduate/Research/PandoraBayesOPT/pandora_bayesopt/bayesianoptimizer.py:210\u001b[0m, in \u001b[0;36mBayesianOptimizer.run_until_budget\u001b[0;34m(self, budget, acquisition_function_class, **acqf_kwargs)\u001b[0m\n\u001b[1;32m    208\u001b[0m i \u001b[38;5;241m=\u001b[39m \u001b[38;5;241m0\u001b[39m\n\u001b[1;32m    209\u001b[0m \u001b[38;5;28;01mwhile\u001b[39;00m \u001b[38;5;28mself\u001b[39m\u001b[38;5;241m.\u001b[39mcumulative_cost \u001b[38;5;241m<\u001b[39m \u001b[38;5;28mself\u001b[39m\u001b[38;5;241m.\u001b[39mbudget:\n\u001b[0;32m--> 210\u001b[0m     \u001b[38;5;28;43mself\u001b[39;49m\u001b[38;5;241;43m.\u001b[39;49m\u001b[43miterate\u001b[49m\u001b[43m(\u001b[49m\u001b[43macquisition_function_class\u001b[49m\u001b[43m,\u001b[49m\u001b[43m \u001b[49m\u001b[38;5;241;43m*\u001b[39;49m\u001b[38;5;241;43m*\u001b[39;49m\u001b[43macqf_kwargs\u001b[49m\u001b[43m)\u001b[49m\n\u001b[1;32m    211\u001b[0m     \u001b[38;5;28mself\u001b[39m\u001b[38;5;241m.\u001b[39mprint_iteration_info(i)\n\u001b[1;32m    212\u001b[0m     i \u001b[38;5;241m+\u001b[39m\u001b[38;5;241m=\u001b[39m \u001b[38;5;241m1\u001b[39m\n",
      "File \u001b[0;32m~/Desktop/Curriculum/Graduate/Research/PandoraBayesOPT/pandora_bayesopt/bayesianoptimizer.py:136\u001b[0m, in \u001b[0;36mBayesianOptimizer.iterate\u001b[0;34m(self, acquisition_function_class, **acqf_kwargs)\u001b[0m\n\u001b[1;32m    133\u001b[0m \u001b[38;5;28;01melse\u001b[39;00m:\n\u001b[1;32m    134\u001b[0m     acqf_args\u001b[38;5;241m.\u001b[39mupdate(\u001b[38;5;241m*\u001b[39m\u001b[38;5;241m*\u001b[39macqf_kwargs)\n\u001b[0;32m--> 136\u001b[0m acq_function \u001b[38;5;241m=\u001b[39m \u001b[43macquisition_function_class\u001b[49m\u001b[43m(\u001b[49m\u001b[38;5;241;43m*\u001b[39;49m\u001b[38;5;241;43m*\u001b[39;49m\u001b[43macqf_args\u001b[49m\u001b[43m)\u001b[49m\n\u001b[1;32m    138\u001b[0m new_point, new_point_acq \u001b[38;5;241m=\u001b[39m optimize_acqf(\n\u001b[1;32m    139\u001b[0m     acq_function\u001b[38;5;241m=\u001b[39macq_function,\n\u001b[1;32m    140\u001b[0m     bounds\u001b[38;5;241m=\u001b[39m\u001b[38;5;28mself\u001b[39m\u001b[38;5;241m.\u001b[39mbounds,\n\u001b[0;32m   (...)\u001b[0m\n\u001b[1;32m    144\u001b[0m     options\u001b[38;5;241m=\u001b[39m{\u001b[38;5;124m'\u001b[39m\u001b[38;5;124mmethod\u001b[39m\u001b[38;5;124m'\u001b[39m: \u001b[38;5;124m'\u001b[39m\u001b[38;5;124mL-BFGS-B\u001b[39m\u001b[38;5;124m'\u001b[39m},\n\u001b[1;32m    145\u001b[0m )\n\u001b[1;32m    146\u001b[0m \u001b[38;5;28mself\u001b[39m\u001b[38;5;241m.\u001b[39mcurrent_acq \u001b[38;5;241m=\u001b[39m new_point_acq\n",
      "File \u001b[0;32m~/Desktop/Curriculum/Graduate/Research/PandoraBayesOPT/pandora_bayesopt/acquisition/multi_step_ei.py:66\u001b[0m, in \u001b[0;36mMultiStepLookaheadEI.__init__\u001b[0;34m(self, model, batch_size, lookahead_batch_sizes, num_fantasies, samplers, X_pending, collapse_fantasy_base_samples)\u001b[0m\n\u001b[1;32m     60\u001b[0m \u001b[38;5;66;03m# Set samplers\u001b[39;00m\n\u001b[1;32m     61\u001b[0m \u001b[38;5;28;01mif\u001b[39;00m samplers \u001b[38;5;129;01mis\u001b[39;00m \u001b[38;5;28;01mNone\u001b[39;00m:\n\u001b[1;32m     62\u001b[0m     \u001b[38;5;66;03m# The batch_range is not set here and left to sampler default of (0, -2),\u001b[39;00m\n\u001b[1;32m     63\u001b[0m     \u001b[38;5;66;03m# meaning that collapse_batch_dims will be applied on fantasy batch dimensions.\u001b[39;00m\n\u001b[1;32m     64\u001b[0m     \u001b[38;5;66;03m# If collapse_fantasy_base_samples is False, the batch_range is updated during\u001b[39;00m\n\u001b[1;32m     65\u001b[0m     \u001b[38;5;66;03m# the forward call.\u001b[39;00m\n\u001b[0;32m---> 66\u001b[0m     samplers: List[MCSampler] \u001b[38;5;241m=\u001b[39m \u001b[43m[\u001b[49m\n\u001b[1;32m     67\u001b[0m \u001b[43m        \u001b[49m\u001b[43mPosteriorMeanSampler\u001b[49m\u001b[43m(\u001b[49m\u001b[43mcollapse_batch_dims\u001b[49m\u001b[38;5;241;43m=\u001b[39;49m\u001b[38;5;28;43;01mTrue\u001b[39;49;00m\u001b[43m)\u001b[49m\n\u001b[1;32m     68\u001b[0m \u001b[43m        \u001b[49m\u001b[38;5;28;43;01mif\u001b[39;49;00m\u001b[43m \u001b[49m\u001b[43mnf\u001b[49m\u001b[43m \u001b[49m\u001b[38;5;241;43m==\u001b[39;49m\u001b[43m \u001b[49m\u001b[38;5;241;43m1\u001b[39;49m\n\u001b[1;32m     69\u001b[0m \u001b[43m        \u001b[49m\u001b[38;5;28;43;01melse\u001b[39;49;00m\u001b[43m \u001b[49m\u001b[43mSobolQMCNormalSampler\u001b[49m\u001b[43m(\u001b[49m\n\u001b[1;32m     70\u001b[0m \u001b[43m            \u001b[49m\u001b[43mnum_samples\u001b[49m\u001b[38;5;241;43m=\u001b[39;49m\u001b[43mnf\u001b[49m\u001b[43m,\u001b[49m\u001b[43m \u001b[49m\u001b[43mresample\u001b[49m\u001b[38;5;241;43m=\u001b[39;49m\u001b[38;5;28;43;01mFalse\u001b[39;49;00m\u001b[43m,\u001b[49m\u001b[43m \u001b[49m\u001b[43mcollapse_batch_dims\u001b[49m\u001b[38;5;241;43m=\u001b[39;49m\u001b[38;5;28;43;01mTrue\u001b[39;49;00m\n\u001b[1;32m     71\u001b[0m \u001b[43m        \u001b[49m\u001b[43m)\u001b[49m\n\u001b[1;32m     72\u001b[0m \u001b[43m        \u001b[49m\u001b[38;5;28;43;01mfor\u001b[39;49;00m\u001b[43m \u001b[49m\u001b[43mnf\u001b[49m\u001b[43m \u001b[49m\u001b[38;5;129;43;01min\u001b[39;49;00m\u001b[43m \u001b[49m\u001b[43mnum_fantasies\u001b[49m\n\u001b[1;32m     73\u001b[0m \u001b[43m    \u001b[49m\u001b[43m]\u001b[49m\n\u001b[1;32m     75\u001b[0m \u001b[38;5;28msuper\u001b[39m()\u001b[38;5;241m.\u001b[39m\u001b[38;5;21m__init__\u001b[39m(\n\u001b[1;32m     76\u001b[0m     model\u001b[38;5;241m=\u001b[39mmodel,\n\u001b[1;32m     77\u001b[0m     batch_sizes\u001b[38;5;241m=\u001b[39mlookahead_batch_sizes,\n\u001b[0;32m   (...)\u001b[0m\n\u001b[1;32m     83\u001b[0m     collapse_fantasy_base_samples\u001b[38;5;241m=\u001b[39mcollapse_fantasy_base_samples,\n\u001b[1;32m     84\u001b[0m )\n",
      "File \u001b[0;32m~/Desktop/Curriculum/Graduate/Research/PandoraBayesOPT/pandora_bayesopt/acquisition/multi_step_ei.py:69\u001b[0m, in \u001b[0;36m<listcomp>\u001b[0;34m(.0)\u001b[0m\n\u001b[1;32m     60\u001b[0m \u001b[38;5;66;03m# Set samplers\u001b[39;00m\n\u001b[1;32m     61\u001b[0m \u001b[38;5;28;01mif\u001b[39;00m samplers \u001b[38;5;129;01mis\u001b[39;00m \u001b[38;5;28;01mNone\u001b[39;00m:\n\u001b[1;32m     62\u001b[0m     \u001b[38;5;66;03m# The batch_range is not set here and left to sampler default of (0, -2),\u001b[39;00m\n\u001b[1;32m     63\u001b[0m     \u001b[38;5;66;03m# meaning that collapse_batch_dims will be applied on fantasy batch dimensions.\u001b[39;00m\n\u001b[1;32m     64\u001b[0m     \u001b[38;5;66;03m# If collapse_fantasy_base_samples is False, the batch_range is updated during\u001b[39;00m\n\u001b[1;32m     65\u001b[0m     \u001b[38;5;66;03m# the forward call.\u001b[39;00m\n\u001b[1;32m     66\u001b[0m     samplers: List[MCSampler] \u001b[38;5;241m=\u001b[39m [\n\u001b[1;32m     67\u001b[0m         PosteriorMeanSampler(collapse_batch_dims\u001b[38;5;241m=\u001b[39m\u001b[38;5;28;01mTrue\u001b[39;00m)\n\u001b[1;32m     68\u001b[0m         \u001b[38;5;28;01mif\u001b[39;00m nf \u001b[38;5;241m==\u001b[39m \u001b[38;5;241m1\u001b[39m\n\u001b[0;32m---> 69\u001b[0m         \u001b[38;5;28;01melse\u001b[39;00m \u001b[43mSobolQMCNormalSampler\u001b[49m\u001b[43m(\u001b[49m\n\u001b[1;32m     70\u001b[0m \u001b[43m            \u001b[49m\u001b[43mnum_samples\u001b[49m\u001b[38;5;241;43m=\u001b[39;49m\u001b[43mnf\u001b[49m\u001b[43m,\u001b[49m\u001b[43m \u001b[49m\u001b[43mresample\u001b[49m\u001b[38;5;241;43m=\u001b[39;49m\u001b[38;5;28;43;01mFalse\u001b[39;49;00m\u001b[43m,\u001b[49m\u001b[43m \u001b[49m\u001b[43mcollapse_batch_dims\u001b[49m\u001b[38;5;241;43m=\u001b[39;49m\u001b[38;5;28;43;01mTrue\u001b[39;49;00m\n\u001b[1;32m     71\u001b[0m \u001b[43m        \u001b[49m\u001b[43m)\u001b[49m\n\u001b[1;32m     72\u001b[0m         \u001b[38;5;28;01mfor\u001b[39;00m nf \u001b[38;5;129;01min\u001b[39;00m num_fantasies\n\u001b[1;32m     73\u001b[0m     ]\n\u001b[1;32m     75\u001b[0m \u001b[38;5;28msuper\u001b[39m()\u001b[38;5;241m.\u001b[39m\u001b[38;5;21m__init__\u001b[39m(\n\u001b[1;32m     76\u001b[0m     model\u001b[38;5;241m=\u001b[39mmodel,\n\u001b[1;32m     77\u001b[0m     batch_sizes\u001b[38;5;241m=\u001b[39mlookahead_batch_sizes,\n\u001b[0;32m   (...)\u001b[0m\n\u001b[1;32m     83\u001b[0m     collapse_fantasy_base_samples\u001b[38;5;241m=\u001b[39mcollapse_fantasy_base_samples,\n\u001b[1;32m     84\u001b[0m )\n",
      "\u001b[0;31mTypeError\u001b[0m: MCSampler.__init__() missing 1 required positional argument: 'sample_shape'"
     ]
    }
   ],
   "source": [
    "from pandora_bayesopt.acquisition.multi_step_ei import MultiStepLookaheadEI\n",
    "\n",
    "torch.manual_seed(seed)\n",
    "\n",
    "init_x = draw_sobol_samples(bounds=bounds, n=1, q=2*(dim+1), seed=seed).squeeze(0)\n",
    "\n",
    "# Example usage with GittinsIndex\n",
    "MSEI_optimizer = BayesianOptimizer(objective=objective_function, dim=dim, maximize=maximize, cost=cost_function, initial_points=init_x, input_standardize=True)\n",
    "MSEI_optimizer.run_until_budget(budget=budget, acquisition_function_class=MultiStepLookaheadEI, batch_size=1, lookahead_batch_sizes=[1,1,1], num_fantasies=[4,4,2])\n",
    "MSEI_best_history = MSEI_optimizer.get_best_history()\n",
    "MSEI_regret_history = MSEI_optimizer.get_regret_history(global_optimum_value)\n",
    "MSEI_cost_history = MSEI_optimizer.get_cost_history()"
   ]
  },
  {
   "cell_type": "code",
   "execution_count": 29,
   "id": "0f8854bd-0fab-4a47-9c21-758b7ca417df",
   "metadata": {},
   "outputs": [
    {
     "ename": "RuntimeError",
     "evalue": "split_with_sizes expects split_sizes have only non-negative entries, but got split_sizes=[-51, 4, 16, 32]",
     "output_type": "error",
     "traceback": [
      "\u001b[0;31m---------------------------------------------------------------------------\u001b[0m",
      "\u001b[0;31mRuntimeError\u001b[0m                              Traceback (most recent call last)",
      "Cell \u001b[0;32mIn[29], line 9\u001b[0m\n\u001b[1;32m      7\u001b[0m \u001b[38;5;66;03m# Example usage with GittinsIndex\u001b[39;00m\n\u001b[1;32m      8\u001b[0m MSEI_optimizer \u001b[38;5;241m=\u001b[39m BayesianOptimizer(objective\u001b[38;5;241m=\u001b[39mobjective_function, dim\u001b[38;5;241m=\u001b[39mdim, maximize\u001b[38;5;241m=\u001b[39mmaximize, cost\u001b[38;5;241m=\u001b[39mcost_function, initial_points\u001b[38;5;241m=\u001b[39minit_x, input_standardize\u001b[38;5;241m=\u001b[39m\u001b[38;5;28;01mTrue\u001b[39;00m)\n\u001b[0;32m----> 9\u001b[0m \u001b[43mMSEI_optimizer\u001b[49m\u001b[38;5;241;43m.\u001b[39;49m\u001b[43mrun_until_budget\u001b[49m\u001b[43m(\u001b[49m\u001b[43mbudget\u001b[49m\u001b[38;5;241;43m=\u001b[39;49m\u001b[43mbudget\u001b[49m\u001b[43m,\u001b[49m\u001b[43m \u001b[49m\u001b[43macquisition_function_class\u001b[49m\u001b[38;5;241;43m=\u001b[39;49m\u001b[43mqMultiStepLookahead\u001b[49m\u001b[43m,\u001b[49m\u001b[43m \u001b[49m\u001b[43mbatch_sizes\u001b[49m\u001b[38;5;241;43m=\u001b[39;49m\u001b[43m[\u001b[49m\u001b[38;5;241;43m1\u001b[39;49m\u001b[43m,\u001b[49m\u001b[38;5;241;43m1\u001b[39;49m\u001b[43m,\u001b[49m\u001b[38;5;241;43m1\u001b[39;49m\u001b[43m]\u001b[49m\u001b[43m,\u001b[49m\u001b[43m \u001b[49m\u001b[43mnum_fantasies\u001b[49m\u001b[38;5;241;43m=\u001b[39;49m\u001b[43m[\u001b[49m\u001b[38;5;241;43m4\u001b[39;49m\u001b[43m,\u001b[49m\u001b[38;5;241;43m4\u001b[39;49m\u001b[43m,\u001b[49m\u001b[38;5;241;43m2\u001b[39;49m\u001b[43m]\u001b[49m\u001b[43m)\u001b[49m\n\u001b[1;32m     10\u001b[0m MSEI_best_history \u001b[38;5;241m=\u001b[39m MSEI_optimizer\u001b[38;5;241m.\u001b[39mget_best_history()\n\u001b[1;32m     11\u001b[0m MSEI_regret_history \u001b[38;5;241m=\u001b[39m MSEI_optimizer\u001b[38;5;241m.\u001b[39mget_regret_history(global_optimum_value)\n",
      "File \u001b[0;32m~/Desktop/Curriculum/Graduate/Research/PandoraBayesOPT/pandora_bayesopt/bayesianoptimizer.py:210\u001b[0m, in \u001b[0;36mBayesianOptimizer.run_until_budget\u001b[0;34m(self, budget, acquisition_function_class, **acqf_kwargs)\u001b[0m\n\u001b[1;32m    208\u001b[0m i \u001b[38;5;241m=\u001b[39m \u001b[38;5;241m0\u001b[39m\n\u001b[1;32m    209\u001b[0m \u001b[38;5;28;01mwhile\u001b[39;00m \u001b[38;5;28mself\u001b[39m\u001b[38;5;241m.\u001b[39mcumulative_cost \u001b[38;5;241m<\u001b[39m \u001b[38;5;28mself\u001b[39m\u001b[38;5;241m.\u001b[39mbudget:\n\u001b[0;32m--> 210\u001b[0m     \u001b[38;5;28;43mself\u001b[39;49m\u001b[38;5;241;43m.\u001b[39;49m\u001b[43miterate\u001b[49m\u001b[43m(\u001b[49m\u001b[43macquisition_function_class\u001b[49m\u001b[43m,\u001b[49m\u001b[43m \u001b[49m\u001b[38;5;241;43m*\u001b[39;49m\u001b[38;5;241;43m*\u001b[39;49m\u001b[43macqf_kwargs\u001b[49m\u001b[43m)\u001b[49m\n\u001b[1;32m    211\u001b[0m     \u001b[38;5;28mself\u001b[39m\u001b[38;5;241m.\u001b[39mprint_iteration_info(i)\n\u001b[1;32m    212\u001b[0m     i \u001b[38;5;241m+\u001b[39m\u001b[38;5;241m=\u001b[39m \u001b[38;5;241m1\u001b[39m\n",
      "File \u001b[0;32m~/Desktop/Curriculum/Graduate/Research/PandoraBayesOPT/pandora_bayesopt/bayesianoptimizer.py:138\u001b[0m, in \u001b[0;36mBayesianOptimizer.iterate\u001b[0;34m(self, acquisition_function_class, **acqf_kwargs)\u001b[0m\n\u001b[1;32m    134\u001b[0m     acqf_args\u001b[38;5;241m.\u001b[39mupdate(\u001b[38;5;241m*\u001b[39m\u001b[38;5;241m*\u001b[39macqf_kwargs)\n\u001b[1;32m    136\u001b[0m acq_function \u001b[38;5;241m=\u001b[39m acquisition_function_class(\u001b[38;5;241m*\u001b[39m\u001b[38;5;241m*\u001b[39macqf_args)\n\u001b[0;32m--> 138\u001b[0m new_point, new_point_acq \u001b[38;5;241m=\u001b[39m \u001b[43moptimize_acqf\u001b[49m\u001b[43m(\u001b[49m\n\u001b[1;32m    139\u001b[0m \u001b[43m    \u001b[49m\u001b[43macq_function\u001b[49m\u001b[38;5;241;43m=\u001b[39;49m\u001b[43macq_function\u001b[49m\u001b[43m,\u001b[49m\n\u001b[1;32m    140\u001b[0m \u001b[43m    \u001b[49m\u001b[43mbounds\u001b[49m\u001b[38;5;241;43m=\u001b[39;49m\u001b[38;5;28;43mself\u001b[39;49m\u001b[38;5;241;43m.\u001b[39;49m\u001b[43mbounds\u001b[49m\u001b[43m,\u001b[49m\n\u001b[1;32m    141\u001b[0m \u001b[43m    \u001b[49m\u001b[43mq\u001b[49m\u001b[38;5;241;43m=\u001b[39;49m\u001b[38;5;241;43m1\u001b[39;49m\u001b[43m,\u001b[49m\n\u001b[1;32m    142\u001b[0m \u001b[43m    \u001b[49m\u001b[43mnum_restarts\u001b[49m\u001b[38;5;241;43m=\u001b[39;49m\u001b[38;5;241;43m20\u001b[39;49m\u001b[38;5;241;43m*\u001b[39;49m\u001b[38;5;28;43mself\u001b[39;49m\u001b[38;5;241;43m.\u001b[39;49m\u001b[43mdim\u001b[49m\u001b[43m,\u001b[49m\n\u001b[1;32m    143\u001b[0m \u001b[43m    \u001b[49m\u001b[43mraw_samples\u001b[49m\u001b[38;5;241;43m=\u001b[39;49m\u001b[38;5;241;43m1024\u001b[39;49m\u001b[38;5;241;43m*\u001b[39;49m\u001b[38;5;28;43mself\u001b[39;49m\u001b[38;5;241;43m.\u001b[39;49m\u001b[43mdim\u001b[49m\u001b[43m,\u001b[49m\n\u001b[1;32m    144\u001b[0m \u001b[43m    \u001b[49m\u001b[43moptions\u001b[49m\u001b[38;5;241;43m=\u001b[39;49m\u001b[43m{\u001b[49m\u001b[38;5;124;43m'\u001b[39;49m\u001b[38;5;124;43mmethod\u001b[39;49m\u001b[38;5;124;43m'\u001b[39;49m\u001b[43m:\u001b[49m\u001b[43m \u001b[49m\u001b[38;5;124;43m'\u001b[39;49m\u001b[38;5;124;43mL-BFGS-B\u001b[39;49m\u001b[38;5;124;43m'\u001b[39;49m\u001b[43m}\u001b[49m\u001b[43m,\u001b[49m\n\u001b[1;32m    145\u001b[0m \u001b[43m\u001b[49m\u001b[43m)\u001b[49m\n\u001b[1;32m    146\u001b[0m \u001b[38;5;28mself\u001b[39m\u001b[38;5;241m.\u001b[39mcurrent_acq \u001b[38;5;241m=\u001b[39m new_point_acq\n\u001b[1;32m    147\u001b[0m new_value \u001b[38;5;241m=\u001b[39m \u001b[38;5;28mself\u001b[39m\u001b[38;5;241m.\u001b[39mobjective(new_point)\n",
      "File \u001b[0;32m~/Desktop/Curriculum/Graduate/Research/PandoraBayesOPT/pandorabayesopt_env/lib/python3.11/site-packages/botorch/optim/optimize.py:563\u001b[0m, in \u001b[0;36moptimize_acqf\u001b[0;34m(acq_function, bounds, q, num_restarts, raw_samples, options, inequality_constraints, equality_constraints, nonlinear_inequality_constraints, fixed_features, post_processing_func, batch_initial_conditions, return_best_only, gen_candidates, sequential, ic_generator, timeout_sec, return_full_tree, retry_on_optimization_warning, **ic_gen_kwargs)\u001b[0m\n\u001b[1;32m    540\u001b[0m     gen_candidates \u001b[38;5;241m=\u001b[39m gen_candidates_scipy\n\u001b[1;32m    541\u001b[0m opt_acqf_inputs \u001b[38;5;241m=\u001b[39m OptimizeAcqfInputs(\n\u001b[1;32m    542\u001b[0m     acq_function\u001b[38;5;241m=\u001b[39macq_function,\n\u001b[1;32m    543\u001b[0m     bounds\u001b[38;5;241m=\u001b[39mbounds,\n\u001b[0;32m   (...)\u001b[0m\n\u001b[1;32m    561\u001b[0m     ic_gen_kwargs\u001b[38;5;241m=\u001b[39mic_gen_kwargs,\n\u001b[1;32m    562\u001b[0m )\n\u001b[0;32m--> 563\u001b[0m \u001b[38;5;28;01mreturn\u001b[39;00m \u001b[43m_optimize_acqf\u001b[49m\u001b[43m(\u001b[49m\u001b[43mopt_acqf_inputs\u001b[49m\u001b[43m)\u001b[49m\n",
      "File \u001b[0;32m~/Desktop/Curriculum/Graduate/Research/PandoraBayesOPT/pandorabayesopt_env/lib/python3.11/site-packages/botorch/optim/optimize.py:584\u001b[0m, in \u001b[0;36m_optimize_acqf\u001b[0;34m(opt_inputs)\u001b[0m\n\u001b[1;32m    581\u001b[0m     \u001b[38;5;28;01mreturn\u001b[39;00m _optimize_acqf_sequential_q(opt_inputs\u001b[38;5;241m=\u001b[39mopt_inputs)\n\u001b[1;32m    583\u001b[0m \u001b[38;5;66;03m# Batch optimization (including the case q=1)\u001b[39;00m\n\u001b[0;32m--> 584\u001b[0m \u001b[38;5;28;01mreturn\u001b[39;00m \u001b[43m_optimize_acqf_batch\u001b[49m\u001b[43m(\u001b[49m\u001b[43mopt_inputs\u001b[49m\u001b[38;5;241;43m=\u001b[39;49m\u001b[43mopt_inputs\u001b[49m\u001b[43m)\u001b[49m\n",
      "File \u001b[0;32m~/Desktop/Curriculum/Graduate/Research/PandoraBayesOPT/pandorabayesopt_env/lib/python3.11/site-packages/botorch/optim/optimize.py:274\u001b[0m, in \u001b[0;36m_optimize_acqf_batch\u001b[0;34m(opt_inputs)\u001b[0m\n\u001b[1;32m    271\u001b[0m     batch_initial_conditions \u001b[38;5;241m=\u001b[39m opt_inputs\u001b[38;5;241m.\u001b[39mbatch_initial_conditions\n\u001b[1;32m    272\u001b[0m \u001b[38;5;28;01melse\u001b[39;00m:\n\u001b[1;32m    273\u001b[0m     \u001b[38;5;66;03m# pyre-ignore[28]: Unexpected keyword argument `acq_function` to anonymous call.\u001b[39;00m\n\u001b[0;32m--> 274\u001b[0m     batch_initial_conditions \u001b[38;5;241m=\u001b[39m \u001b[43mopt_inputs\u001b[49m\u001b[38;5;241;43m.\u001b[39;49m\u001b[43mget_ic_generator\u001b[49m\u001b[43m(\u001b[49m\u001b[43m)\u001b[49m\u001b[43m(\u001b[49m\n\u001b[1;32m    275\u001b[0m \u001b[43m        \u001b[49m\u001b[43macq_function\u001b[49m\u001b[38;5;241;43m=\u001b[39;49m\u001b[43mopt_inputs\u001b[49m\u001b[38;5;241;43m.\u001b[39;49m\u001b[43macq_function\u001b[49m\u001b[43m,\u001b[49m\n\u001b[1;32m    276\u001b[0m \u001b[43m        \u001b[49m\u001b[43mbounds\u001b[49m\u001b[38;5;241;43m=\u001b[39;49m\u001b[43mopt_inputs\u001b[49m\u001b[38;5;241;43m.\u001b[39;49m\u001b[43mbounds\u001b[49m\u001b[43m,\u001b[49m\n\u001b[1;32m    277\u001b[0m \u001b[43m        \u001b[49m\u001b[43mq\u001b[49m\u001b[38;5;241;43m=\u001b[39;49m\u001b[43mopt_inputs\u001b[49m\u001b[38;5;241;43m.\u001b[39;49m\u001b[43mq\u001b[49m\u001b[43m,\u001b[49m\n\u001b[1;32m    278\u001b[0m \u001b[43m        \u001b[49m\u001b[43mnum_restarts\u001b[49m\u001b[38;5;241;43m=\u001b[39;49m\u001b[43mopt_inputs\u001b[49m\u001b[38;5;241;43m.\u001b[39;49m\u001b[43mnum_restarts\u001b[49m\u001b[43m,\u001b[49m\n\u001b[1;32m    279\u001b[0m \u001b[43m        \u001b[49m\u001b[43mraw_samples\u001b[49m\u001b[38;5;241;43m=\u001b[39;49m\u001b[43mopt_inputs\u001b[49m\u001b[38;5;241;43m.\u001b[39;49m\u001b[43mraw_samples\u001b[49m\u001b[43m,\u001b[49m\n\u001b[1;32m    280\u001b[0m \u001b[43m        \u001b[49m\u001b[43mfixed_features\u001b[49m\u001b[38;5;241;43m=\u001b[39;49m\u001b[43mopt_inputs\u001b[49m\u001b[38;5;241;43m.\u001b[39;49m\u001b[43mfixed_features\u001b[49m\u001b[43m,\u001b[49m\n\u001b[1;32m    281\u001b[0m \u001b[43m        \u001b[49m\u001b[43moptions\u001b[49m\u001b[38;5;241;43m=\u001b[39;49m\u001b[43moptions\u001b[49m\u001b[43m,\u001b[49m\n\u001b[1;32m    282\u001b[0m \u001b[43m        \u001b[49m\u001b[43minequality_constraints\u001b[49m\u001b[38;5;241;43m=\u001b[39;49m\u001b[43mopt_inputs\u001b[49m\u001b[38;5;241;43m.\u001b[39;49m\u001b[43minequality_constraints\u001b[49m\u001b[43m,\u001b[49m\n\u001b[1;32m    283\u001b[0m \u001b[43m        \u001b[49m\u001b[43mequality_constraints\u001b[49m\u001b[38;5;241;43m=\u001b[39;49m\u001b[43mopt_inputs\u001b[49m\u001b[38;5;241;43m.\u001b[39;49m\u001b[43mequality_constraints\u001b[49m\u001b[43m,\u001b[49m\n\u001b[1;32m    284\u001b[0m \u001b[43m        \u001b[49m\u001b[38;5;241;43m*\u001b[39;49m\u001b[38;5;241;43m*\u001b[39;49m\u001b[43mopt_inputs\u001b[49m\u001b[38;5;241;43m.\u001b[39;49m\u001b[43mic_gen_kwargs\u001b[49m\u001b[43m,\u001b[49m\n\u001b[1;32m    285\u001b[0m \u001b[43m    \u001b[49m\u001b[43m)\u001b[49m\n\u001b[1;32m    287\u001b[0m batch_limit: \u001b[38;5;28mint\u001b[39m \u001b[38;5;241m=\u001b[39m options\u001b[38;5;241m.\u001b[39mget(\n\u001b[1;32m    288\u001b[0m     \u001b[38;5;124m\"\u001b[39m\u001b[38;5;124mbatch_limit\u001b[39m\u001b[38;5;124m\"\u001b[39m,\n\u001b[1;32m    289\u001b[0m     opt_inputs\u001b[38;5;241m.\u001b[39mnum_restarts\n\u001b[1;32m    290\u001b[0m     \u001b[38;5;28;01mif\u001b[39;00m \u001b[38;5;129;01mnot\u001b[39;00m opt_inputs\u001b[38;5;241m.\u001b[39mnonlinear_inequality_constraints\n\u001b[1;32m    291\u001b[0m     \u001b[38;5;28;01melse\u001b[39;00m \u001b[38;5;241m1\u001b[39m,\n\u001b[1;32m    292\u001b[0m )\n\u001b[1;32m    294\u001b[0m \u001b[38;5;28;01mdef\u001b[39;00m \u001b[38;5;21m_optimize_batch_candidates\u001b[39m() \u001b[38;5;241m-\u001b[39m\u001b[38;5;241m>\u001b[39m Tuple[Tensor, Tensor, List[\u001b[38;5;167;01mWarning\u001b[39;00m]]:\n",
      "File \u001b[0;32m~/Desktop/Curriculum/Graduate/Research/PandoraBayesOPT/pandorabayesopt_env/lib/python3.11/site-packages/botorch/optim/initializers.py:417\u001b[0m, in \u001b[0;36mgen_batch_initial_conditions\u001b[0;34m(acq_function, bounds, q, num_restarts, raw_samples, fixed_features, options, inequality_constraints, equality_constraints, generator, fixed_X_fantasies)\u001b[0m\n\u001b[1;32m    415\u001b[0m \u001b[38;5;28;01mwhile\u001b[39;00m start_idx \u001b[38;5;241m<\u001b[39m X_rnd\u001b[38;5;241m.\u001b[39mshape[\u001b[38;5;241m0\u001b[39m]:\n\u001b[1;32m    416\u001b[0m     end_idx \u001b[38;5;241m=\u001b[39m \u001b[38;5;28mmin\u001b[39m(start_idx \u001b[38;5;241m+\u001b[39m batch_limit, X_rnd\u001b[38;5;241m.\u001b[39mshape[\u001b[38;5;241m0\u001b[39m])\n\u001b[0;32m--> 417\u001b[0m     Y_rnd_curr \u001b[38;5;241m=\u001b[39m \u001b[43macq_function\u001b[49m\u001b[43m(\u001b[49m\n\u001b[1;32m    418\u001b[0m \u001b[43m        \u001b[49m\u001b[43mX_rnd\u001b[49m\u001b[43m[\u001b[49m\u001b[43mstart_idx\u001b[49m\u001b[43m:\u001b[49m\u001b[43mend_idx\u001b[49m\u001b[43m]\u001b[49m\u001b[38;5;241;43m.\u001b[39;49m\u001b[43mto\u001b[49m\u001b[43m(\u001b[49m\u001b[43mdevice\u001b[49m\u001b[38;5;241;43m=\u001b[39;49m\u001b[43mdevice\u001b[49m\u001b[43m)\u001b[49m\n\u001b[1;32m    419\u001b[0m \u001b[43m    \u001b[49m\u001b[43m)\u001b[49m\u001b[38;5;241m.\u001b[39mcpu()\n\u001b[1;32m    420\u001b[0m     Y_rnd_list\u001b[38;5;241m.\u001b[39mappend(Y_rnd_curr)\n\u001b[1;32m    421\u001b[0m     start_idx \u001b[38;5;241m+\u001b[39m\u001b[38;5;241m=\u001b[39m batch_limit\n",
      "File \u001b[0;32m~/Desktop/Curriculum/Graduate/Research/PandoraBayesOPT/pandorabayesopt_env/lib/python3.11/site-packages/torch/nn/modules/module.py:1518\u001b[0m, in \u001b[0;36mModule._wrapped_call_impl\u001b[0;34m(self, *args, **kwargs)\u001b[0m\n\u001b[1;32m   1516\u001b[0m     \u001b[38;5;28;01mreturn\u001b[39;00m \u001b[38;5;28mself\u001b[39m\u001b[38;5;241m.\u001b[39m_compiled_call_impl(\u001b[38;5;241m*\u001b[39margs, \u001b[38;5;241m*\u001b[39m\u001b[38;5;241m*\u001b[39mkwargs)  \u001b[38;5;66;03m# type: ignore[misc]\u001b[39;00m\n\u001b[1;32m   1517\u001b[0m \u001b[38;5;28;01melse\u001b[39;00m:\n\u001b[0;32m-> 1518\u001b[0m     \u001b[38;5;28;01mreturn\u001b[39;00m \u001b[38;5;28;43mself\u001b[39;49m\u001b[38;5;241;43m.\u001b[39;49m\u001b[43m_call_impl\u001b[49m\u001b[43m(\u001b[49m\u001b[38;5;241;43m*\u001b[39;49m\u001b[43margs\u001b[49m\u001b[43m,\u001b[49m\u001b[43m \u001b[49m\u001b[38;5;241;43m*\u001b[39;49m\u001b[38;5;241;43m*\u001b[39;49m\u001b[43mkwargs\u001b[49m\u001b[43m)\u001b[49m\n",
      "File \u001b[0;32m~/Desktop/Curriculum/Graduate/Research/PandoraBayesOPT/pandorabayesopt_env/lib/python3.11/site-packages/torch/nn/modules/module.py:1527\u001b[0m, in \u001b[0;36mModule._call_impl\u001b[0;34m(self, *args, **kwargs)\u001b[0m\n\u001b[1;32m   1522\u001b[0m \u001b[38;5;66;03m# If we don't have any hooks, we want to skip the rest of the logic in\u001b[39;00m\n\u001b[1;32m   1523\u001b[0m \u001b[38;5;66;03m# this function, and just call forward.\u001b[39;00m\n\u001b[1;32m   1524\u001b[0m \u001b[38;5;28;01mif\u001b[39;00m \u001b[38;5;129;01mnot\u001b[39;00m (\u001b[38;5;28mself\u001b[39m\u001b[38;5;241m.\u001b[39m_backward_hooks \u001b[38;5;129;01mor\u001b[39;00m \u001b[38;5;28mself\u001b[39m\u001b[38;5;241m.\u001b[39m_backward_pre_hooks \u001b[38;5;129;01mor\u001b[39;00m \u001b[38;5;28mself\u001b[39m\u001b[38;5;241m.\u001b[39m_forward_hooks \u001b[38;5;129;01mor\u001b[39;00m \u001b[38;5;28mself\u001b[39m\u001b[38;5;241m.\u001b[39m_forward_pre_hooks\n\u001b[1;32m   1525\u001b[0m         \u001b[38;5;129;01mor\u001b[39;00m _global_backward_pre_hooks \u001b[38;5;129;01mor\u001b[39;00m _global_backward_hooks\n\u001b[1;32m   1526\u001b[0m         \u001b[38;5;129;01mor\u001b[39;00m _global_forward_hooks \u001b[38;5;129;01mor\u001b[39;00m _global_forward_pre_hooks):\n\u001b[0;32m-> 1527\u001b[0m     \u001b[38;5;28;01mreturn\u001b[39;00m \u001b[43mforward_call\u001b[49m\u001b[43m(\u001b[49m\u001b[38;5;241;43m*\u001b[39;49m\u001b[43margs\u001b[49m\u001b[43m,\u001b[49m\u001b[43m \u001b[49m\u001b[38;5;241;43m*\u001b[39;49m\u001b[38;5;241;43m*\u001b[39;49m\u001b[43mkwargs\u001b[49m\u001b[43m)\u001b[49m\n\u001b[1;32m   1529\u001b[0m \u001b[38;5;28;01mtry\u001b[39;00m:\n\u001b[1;32m   1530\u001b[0m     result \u001b[38;5;241m=\u001b[39m \u001b[38;5;28;01mNone\u001b[39;00m\n",
      "File \u001b[0;32m~/Desktop/Curriculum/Graduate/Research/PandoraBayesOPT/pandorabayesopt_env/lib/python3.11/site-packages/botorch/utils/transforms.py:259\u001b[0m, in \u001b[0;36mt_batch_mode_transform.<locals>.decorator.<locals>.decorated\u001b[0;34m(acqf, X, *args, **kwargs)\u001b[0m\n\u001b[1;32m    257\u001b[0m \u001b[38;5;66;03m# add t-batch dim\u001b[39;00m\n\u001b[1;32m    258\u001b[0m X \u001b[38;5;241m=\u001b[39m X \u001b[38;5;28;01mif\u001b[39;00m X\u001b[38;5;241m.\u001b[39mdim() \u001b[38;5;241m>\u001b[39m \u001b[38;5;241m2\u001b[39m \u001b[38;5;28;01melse\u001b[39;00m X\u001b[38;5;241m.\u001b[39munsqueeze(\u001b[38;5;241m0\u001b[39m)\n\u001b[0;32m--> 259\u001b[0m output \u001b[38;5;241m=\u001b[39m \u001b[43mmethod\u001b[49m\u001b[43m(\u001b[49m\u001b[43macqf\u001b[49m\u001b[43m,\u001b[49m\u001b[43m \u001b[49m\u001b[43mX\u001b[49m\u001b[43m,\u001b[49m\u001b[43m \u001b[49m\u001b[38;5;241;43m*\u001b[39;49m\u001b[43margs\u001b[49m\u001b[43m,\u001b[49m\u001b[43m \u001b[49m\u001b[38;5;241;43m*\u001b[39;49m\u001b[38;5;241;43m*\u001b[39;49m\u001b[43mkwargs\u001b[49m\u001b[43m)\u001b[49m\n\u001b[1;32m    260\u001b[0m \u001b[38;5;28;01mif\u001b[39;00m \u001b[38;5;28mhasattr\u001b[39m(acqf, \u001b[38;5;124m\"\u001b[39m\u001b[38;5;124mmodel\u001b[39m\u001b[38;5;124m\"\u001b[39m) \u001b[38;5;129;01mand\u001b[39;00m is_ensemble(acqf\u001b[38;5;241m.\u001b[39mmodel):\n\u001b[1;32m    261\u001b[0m     \u001b[38;5;66;03m# IDEA: this could be wrapped into SampleReducingMCAcquisitionFunction\u001b[39;00m\n\u001b[1;32m    262\u001b[0m     output \u001b[38;5;241m=\u001b[39m (\n\u001b[1;32m    263\u001b[0m         output\u001b[38;5;241m.\u001b[39mmean(dim\u001b[38;5;241m=\u001b[39m\u001b[38;5;241m-\u001b[39m\u001b[38;5;241m1\u001b[39m) \u001b[38;5;28;01mif\u001b[39;00m \u001b[38;5;129;01mnot\u001b[39;00m acqf\u001b[38;5;241m.\u001b[39m_log \u001b[38;5;28;01melse\u001b[39;00m logmeanexp(output, dim\u001b[38;5;241m=\u001b[39m\u001b[38;5;241m-\u001b[39m\u001b[38;5;241m1\u001b[39m)\n\u001b[1;32m    264\u001b[0m     )\n",
      "File \u001b[0;32m~/Desktop/Curriculum/Graduate/Research/PandoraBayesOPT/pandorabayesopt_env/lib/python3.11/site-packages/botorch/acquisition/multi_step_lookahead.py:179\u001b[0m, in \u001b[0;36mqMultiStepLookahead.forward\u001b[0;34m(self, X)\u001b[0m\n\u001b[1;32m    166\u001b[0m \u001b[38;5;129m@t_batch_mode_transform\u001b[39m()\n\u001b[1;32m    167\u001b[0m \u001b[38;5;28;01mdef\u001b[39;00m \u001b[38;5;21mforward\u001b[39m(\u001b[38;5;28mself\u001b[39m, X: Tensor) \u001b[38;5;241m-\u001b[39m\u001b[38;5;241m>\u001b[39m Tensor:\n\u001b[1;32m    168\u001b[0m \u001b[38;5;250m    \u001b[39m\u001b[38;5;124mr\u001b[39m\u001b[38;5;124;03m\"\"\"Evaluate qMultiStepLookahead on the candidate set X.\u001b[39;00m\n\u001b[1;32m    169\u001b[0m \n\u001b[1;32m    170\u001b[0m \u001b[38;5;124;03m    Args:\u001b[39;00m\n\u001b[0;32m   (...)\u001b[0m\n\u001b[1;32m    177\u001b[0m \u001b[38;5;124;03m        The acquisition value for each batch as a tensor of shape `batch_shape`.\u001b[39;00m\n\u001b[1;32m    178\u001b[0m \u001b[38;5;124;03m    \"\"\"\u001b[39;00m\n\u001b[0;32m--> 179\u001b[0m     Xs \u001b[38;5;241m=\u001b[39m \u001b[38;5;28;43mself\u001b[39;49m\u001b[38;5;241;43m.\u001b[39;49m\u001b[43mget_multi_step_tree_input_representation\u001b[49m\u001b[43m(\u001b[49m\u001b[43mX\u001b[49m\u001b[43m)\u001b[49m\n\u001b[1;32m    181\u001b[0m     \u001b[38;5;66;03m# set batch_range on samplers if not collapsing on fantasy dims\u001b[39;00m\n\u001b[1;32m    182\u001b[0m     \u001b[38;5;28;01mif\u001b[39;00m \u001b[38;5;129;01mnot\u001b[39;00m \u001b[38;5;28mself\u001b[39m\u001b[38;5;241m.\u001b[39m_collapse_fantasy_base_samples:\n",
      "File \u001b[0;32m~/Desktop/Curriculum/Graduate/Research/PandoraBayesOPT/pandorabayesopt_env/lib/python3.11/site-packages/botorch/acquisition/multi_step_lookahead.py:269\u001b[0m, in \u001b[0;36mqMultiStepLookahead.get_multi_step_tree_input_representation\u001b[0;34m(self, X)\u001b[0m\n\u001b[1;32m    266\u001b[0m batch_shape, shapes, sizes \u001b[38;5;241m=\u001b[39m \u001b[38;5;28mself\u001b[39m\u001b[38;5;241m.\u001b[39mget_split_shapes(X\u001b[38;5;241m=\u001b[39mX)\n\u001b[1;32m    267\u001b[0m \u001b[38;5;66;03m# Each X_i in Xsplit has shape batch_shape x qtilde x d with\u001b[39;00m\n\u001b[1;32m    268\u001b[0m \u001b[38;5;66;03m# qtilde = f_i * ... * f_1 * q_i\u001b[39;00m\n\u001b[0;32m--> 269\u001b[0m Xsplit \u001b[38;5;241m=\u001b[39m \u001b[43mtorch\u001b[49m\u001b[38;5;241;43m.\u001b[39;49m\u001b[43msplit\u001b[49m\u001b[43m(\u001b[49m\u001b[43mX\u001b[49m\u001b[43m,\u001b[49m\u001b[43m \u001b[49m\u001b[43msizes\u001b[49m\u001b[43m,\u001b[49m\u001b[43m \u001b[49m\u001b[43mdim\u001b[49m\u001b[38;5;241;43m=\u001b[39;49m\u001b[38;5;241;43m-\u001b[39;49m\u001b[38;5;241;43m2\u001b[39;49m\u001b[43m)\u001b[49m\n\u001b[1;32m    270\u001b[0m \u001b[38;5;66;03m# now reshape (need to permute batch_shape and qtilde dimensions for i > 0)\u001b[39;00m\n\u001b[1;32m    271\u001b[0m perm \u001b[38;5;241m=\u001b[39m [\u001b[38;5;241m-\u001b[39m\u001b[38;5;241m2\u001b[39m] \u001b[38;5;241m+\u001b[39m \u001b[38;5;28mlist\u001b[39m(\u001b[38;5;28mrange\u001b[39m(\u001b[38;5;28mlen\u001b[39m(batch_shape))) \u001b[38;5;241m+\u001b[39m [\u001b[38;5;241m-\u001b[39m\u001b[38;5;241m1\u001b[39m]\n",
      "File \u001b[0;32m~/Desktop/Curriculum/Graduate/Research/PandoraBayesOPT/pandorabayesopt_env/lib/python3.11/site-packages/torch/functional.py:187\u001b[0m, in \u001b[0;36msplit\u001b[0;34m(tensor, split_size_or_sections, dim)\u001b[0m\n\u001b[1;32m    181\u001b[0m     \u001b[38;5;28;01mreturn\u001b[39;00m handle_torch_function(\n\u001b[1;32m    182\u001b[0m         split, (tensor,), tensor, split_size_or_sections, dim\u001b[38;5;241m=\u001b[39mdim)\n\u001b[1;32m    183\u001b[0m \u001b[38;5;66;03m# Overwriting reason:\u001b[39;00m\n\u001b[1;32m    184\u001b[0m \u001b[38;5;66;03m# This dispatches to two ATen functions depending on the type of\u001b[39;00m\n\u001b[1;32m    185\u001b[0m \u001b[38;5;66;03m# split_size_or_sections. The branching code is in _tensor.py, which we\u001b[39;00m\n\u001b[1;32m    186\u001b[0m \u001b[38;5;66;03m# call here.\u001b[39;00m\n\u001b[0;32m--> 187\u001b[0m \u001b[38;5;28;01mreturn\u001b[39;00m \u001b[43mtensor\u001b[49m\u001b[38;5;241;43m.\u001b[39;49m\u001b[43msplit\u001b[49m\u001b[43m(\u001b[49m\u001b[43msplit_size_or_sections\u001b[49m\u001b[43m,\u001b[49m\u001b[43m \u001b[49m\u001b[43mdim\u001b[49m\u001b[43m)\u001b[49m\n",
      "File \u001b[0;32m~/Desktop/Curriculum/Graduate/Research/PandoraBayesOPT/pandorabayesopt_env/lib/python3.11/site-packages/torch/_tensor.py:864\u001b[0m, in \u001b[0;36mTensor.split\u001b[0;34m(self, split_size, dim)\u001b[0m\n\u001b[1;32m    862\u001b[0m     \u001b[38;5;28;01mreturn\u001b[39;00m torch\u001b[38;5;241m.\u001b[39m_VF\u001b[38;5;241m.\u001b[39msplit(\u001b[38;5;28mself\u001b[39m, split_size, dim)  \u001b[38;5;66;03m# type: ignore[attr-defined]\u001b[39;00m\n\u001b[1;32m    863\u001b[0m \u001b[38;5;28;01melse\u001b[39;00m:\n\u001b[0;32m--> 864\u001b[0m     \u001b[38;5;28;01mreturn\u001b[39;00m \u001b[43mtorch\u001b[49m\u001b[38;5;241;43m.\u001b[39;49m\u001b[43m_VF\u001b[49m\u001b[38;5;241;43m.\u001b[39;49m\u001b[43msplit_with_sizes\u001b[49m\u001b[43m(\u001b[49m\u001b[38;5;28;43mself\u001b[39;49m\u001b[43m,\u001b[49m\u001b[43m \u001b[49m\u001b[43msplit_size\u001b[49m\u001b[43m,\u001b[49m\u001b[43m \u001b[49m\u001b[43mdim\u001b[49m\u001b[43m)\u001b[49m\n",
      "\u001b[0;31mRuntimeError\u001b[0m: split_with_sizes expects split_sizes have only non-negative entries, but got split_sizes=[-51, 4, 16, 32]"
     ]
    }
   ],
   "source": [
    "from botorch.acquisition.multi_step_lookahead import qMultiStepLookahead\n",
    "\n",
    "torch.manual_seed(seed)\n",
    "\n",
    "init_x = draw_sobol_samples(bounds=bounds, n=1, q=2*(dim+1), seed=seed).squeeze(0)\n",
    "\n",
    "# Example usage with GittinsIndex\n",
    "MSEI_optimizer = BayesianOptimizer(objective=objective_function, dim=dim, maximize=maximize, cost=cost_function, initial_points=init_x, input_standardize=True)\n",
    "MSEI_optimizer.run_until_budget(budget=budget, acquisition_function_class=qMultiStepLookahead, batch_sizes=[1,1,1], num_fantasies=[4,4,2])\n",
    "MSEI_best_history = MSEI_optimizer.get_best_history()\n",
    "MSEI_regret_history = MSEI_optimizer.get_regret_history(global_optimum_value)\n",
    "MSEI_cost_history = MSEI_optimizer.get_cost_history()"
   ]
  },
  {
   "cell_type": "code",
   "execution_count": 31,
   "id": "15563259-752a-447e-8952-eaee5f63b449",
   "metadata": {},
   "outputs": [
    {
     "ename": "ImportError",
     "evalue": "cannot import name 'ScalarizedObjective' from 'botorch.acquisition.objective' (/Users/qianxie/Desktop/Curriculum/Graduate/Research/PandoraBayesOPT/pandorabayesopt_env/lib/python3.11/site-packages/botorch/acquisition/objective.py)",
     "output_type": "error",
     "traceback": [
      "\u001b[0;31m---------------------------------------------------------------------------\u001b[0m",
      "\u001b[0;31mImportError\u001b[0m                               Traceback (most recent call last)",
      "Cell \u001b[0;32mIn[31], line 1\u001b[0m\n\u001b[0;32m----> 1\u001b[0m \u001b[38;5;28;01mfrom\u001b[39;00m \u001b[38;5;21;01mpandora_bayesopt\u001b[39;00m\u001b[38;5;21;01m.\u001b[39;00m\u001b[38;5;21;01macquisition\u001b[39;00m\u001b[38;5;21;01m.\u001b[39;00m\u001b[38;5;21;01mbudgeted_multi_step_ei\u001b[39;00m \u001b[38;5;28;01mimport\u001b[39;00m BudgetedMultiStepLookaheadEI\n\u001b[1;32m      3\u001b[0m torch\u001b[38;5;241m.\u001b[39mmanual_seed(seed)\n\u001b[1;32m      5\u001b[0m init_x \u001b[38;5;241m=\u001b[39m draw_sobol_samples(bounds\u001b[38;5;241m=\u001b[39mbounds, n\u001b[38;5;241m=\u001b[39m\u001b[38;5;241m1\u001b[39m, q\u001b[38;5;241m=\u001b[39m\u001b[38;5;241m2\u001b[39m\u001b[38;5;241m*\u001b[39m(dim\u001b[38;5;241m+\u001b[39m\u001b[38;5;241m1\u001b[39m), seed\u001b[38;5;241m=\u001b[39mseed)\u001b[38;5;241m.\u001b[39msqueeze(\u001b[38;5;241m0\u001b[39m)\n",
      "File \u001b[0;32m~/Desktop/Curriculum/Graduate/Research/PandoraBayesOPT/pandora_bayesopt/acquisition/budgeted_multi_step_ei.py:9\u001b[0m\n\u001b[1;32m      7\u001b[0m \u001b[38;5;28;01mimport\u001b[39;00m \u001b[38;5;21;01mtorch\u001b[39;00m\n\u001b[1;32m      8\u001b[0m \u001b[38;5;28;01mfrom\u001b[39;00m \u001b[38;5;21;01mbotorch\u001b[39;00m\u001b[38;5;21;01m.\u001b[39;00m\u001b[38;5;21;01macquisition\u001b[39;00m\u001b[38;5;21;01m.\u001b[39;00m\u001b[38;5;21;01mmulti_step_lookahead\u001b[39;00m \u001b[38;5;28;01mimport\u001b[39;00m qMultiStepLookahead\n\u001b[0;32m----> 9\u001b[0m \u001b[38;5;28;01mfrom\u001b[39;00m \u001b[38;5;21;01mbotorch\u001b[39;00m\u001b[38;5;21;01m.\u001b[39;00m\u001b[38;5;21;01macquisition\u001b[39;00m\u001b[38;5;21;01m.\u001b[39;00m\u001b[38;5;21;01mobjective\u001b[39;00m \u001b[38;5;28;01mimport\u001b[39;00m LinearMCObjective, ScalarizedObjective\n\u001b[1;32m     10\u001b[0m \u001b[38;5;28;01mfrom\u001b[39;00m \u001b[38;5;21;01mbotorch\u001b[39;00m\u001b[38;5;21;01m.\u001b[39;00m\u001b[38;5;21;01mmodels\u001b[39;00m\u001b[38;5;21;01m.\u001b[39;00m\u001b[38;5;21;01mmodel\u001b[39;00m \u001b[38;5;28;01mimport\u001b[39;00m Model\n\u001b[1;32m     11\u001b[0m \u001b[38;5;28;01mfrom\u001b[39;00m \u001b[38;5;21;01mbotorch\u001b[39;00m\u001b[38;5;21;01m.\u001b[39;00m\u001b[38;5;21;01msampling\u001b[39;00m\u001b[38;5;21;01m.\u001b[39;00m\u001b[38;5;21;01msamplers\u001b[39;00m \u001b[38;5;28;01mimport\u001b[39;00m MCSampler, SobolQMCNormalSampler\n",
      "\u001b[0;31mImportError\u001b[0m: cannot import name 'ScalarizedObjective' from 'botorch.acquisition.objective' (/Users/qianxie/Desktop/Curriculum/Graduate/Research/PandoraBayesOPT/pandorabayesopt_env/lib/python3.11/site-packages/botorch/acquisition/objective.py)"
     ]
    }
   ],
   "source": [
    "from pandora_bayesopt.acquisition.budgeted_multi_step_ei import BudgetedMultiStepLookaheadEI\n",
    "\n",
    "torch.manual_seed(seed)\n",
    "\n",
    "init_x = draw_sobol_samples(bounds=bounds, n=1, q=2*(dim+1), seed=seed).squeeze(0)\n",
    "\n",
    "# Example usage with GittinsIndex\n",
    "BMSEI_optimizer = BayesianOptimizer(objective=objective_function, dim=dim, maximize=maximize, cost=cost_function, initial_points=init_x, input_standardize=True)\n",
    "BMSEI_optimizer.run_until_budget(budget=budget, acquisition_function_class=BudgetedMultiStepLookaheadEI, batch_size=1, lookahead_batch_sizes=[1,1,1], num_fantasies=[4,4,2])\n",
    "BMSEI_best_history = BMSEI_optimizer.get_best_history()\n",
    "BMSEI_regret_history = BMSEI_optimizer.get_regret_history(global_optimum_value)\n",
    "BMSEI_cost_history = BMSEI_optimizer.get_cost_history()"
   ]
  }
 ],
 "metadata": {
  "kernelspec": {
   "display_name": "Python 3 (ipykernel)",
   "language": "python",
   "name": "python3"
  },
  "language_info": {
   "codemirror_mode": {
    "name": "ipython",
    "version": 3
   },
   "file_extension": ".py",
   "mimetype": "text/x-python",
   "name": "python",
   "nbconvert_exporter": "python",
   "pygments_lexer": "ipython3",
   "version": "3.11.7"
  }
 },
 "nbformat": 4,
 "nbformat_minor": 5
}
