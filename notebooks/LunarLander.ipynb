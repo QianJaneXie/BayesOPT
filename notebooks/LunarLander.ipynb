{
 "cells": [
  {
   "cell_type": "code",
   "execution_count": 1,
   "metadata": {},
   "outputs": [],
   "source": [
    "from pandora_bayesopt.test_functions.lunar_lander import LunarLanderProblem"
   ]
  },
  {
   "cell_type": "code",
   "execution_count": 2,
   "metadata": {},
   "outputs": [],
   "source": [
    "import torch\n",
    "from botorch.utils.sampling import draw_sobol_samples\n",
    "from botorch.acquisition import ExpectedImprovement\n",
    "from pandora_bayesopt.acquisition.gittins import GittinsIndex\n",
    "from pandora_bayesopt.bayesianoptimizer import BayesianOptimizer"
   ]
  },
  {
   "cell_type": "code",
   "execution_count": 3,
   "metadata": {},
   "outputs": [],
   "source": [
    "# use a GPU if available\n",
    "device = torch.device(\"cuda\" if torch.cuda.is_available() else \"cpu\")\n",
    "\n",
    "# Set default tensor type to float64\n",
    "torch.set_default_dtype(torch.float64)"
   ]
  },
  {
   "cell_type": "code",
   "execution_count": 4,
   "metadata": {},
   "outputs": [
    {
     "data": {
      "text/plain": [
       "<torch._C.Generator at 0x10cba83b0>"
      ]
     },
     "execution_count": 4,
     "metadata": {},
     "output_type": "execute_result"
    }
   ],
   "source": [
    "seed = 42\n",
    "torch.manual_seed(seed)"
   ]
  },
  {
   "cell_type": "code",
   "execution_count": 5,
   "metadata": {},
   "outputs": [],
   "source": [
    "dim = 12\n",
    "bounds = torch.stack([torch.zeros(dim), torch.ones(dim)])\n",
    "init_x = draw_sobol_samples(bounds=bounds, n=1, q=2*(dim+1)).squeeze(0)"
   ]
  },
  {
   "cell_type": "code",
   "execution_count": 6,
   "metadata": {},
   "outputs": [],
   "source": [
    "def objective_function(X):\n",
    "    return LunarLanderProblem()(X)"
   ]
  },
  {
   "cell_type": "code",
   "execution_count": 7,
   "metadata": {},
   "outputs": [
    {
     "name": "stdout",
     "output_type": "stream",
     "text": [
      "571 232.21358713670193\n",
      "932 144.6508599521895\n",
      "Iteration 0, New point: [0.1702627  0.55547708 0.81363521 0.69487412 0.28854893 0.71227129\n",
      " 0.61415247 0.518101   0.72595463 0.17144252 0.83310051 0.21575163], New value: -107.1279101203503\n",
      "Best observed value: 8.647587607025399\n",
      "Current acquisition value: tensor([[230.1904]])\n",
      "Cumulative cost: 1.0\n",
      "\n",
      "Iteration 1, New point: [0.53263212 0.29874453 1.         0.75201223 0.00660404 0.36708079\n",
      " 0.87548325 0.62125025 1.         0.51979455 0.20831864 0.15394034], New value: -123.69016198532091\n",
      "Best observed value: 8.647587607025399\n",
      "Current acquisition value: tensor([[220.5942]])\n",
      "Cumulative cost: 2.0\n",
      "\n"
     ]
    }
   ],
   "source": [
    "Optimizer = BayesianOptimizer(\n",
    "        objective=objective_function, \n",
    "        dim=dim, \n",
    "        maximize=True, \n",
    "        initial_points=init_x,\n",
    "        input_standardize=True\n",
    "    )\n",
    "\n",
    "Optimizer.run(\n",
    "    num_iterations=2, \n",
    "    acquisition_function_class=\"ThompsonSampling\"\n",
    ")"
   ]
  },
  {
   "cell_type": "code",
   "execution_count": 8,
   "metadata": {},
   "outputs": [
    {
     "data": {
      "text/plain": [
       "[8.647587607025399, 8.647587607025399, 8.647587607025399]"
      ]
     },
     "execution_count": 8,
     "metadata": {},
     "output_type": "execute_result"
    }
   ],
   "source": [
    "best_history = Optimizer.get_best_history()\n",
    "best_history"
   ]
  }
 ],
 "metadata": {
  "kernelspec": {
   "display_name": "pandorabayesopt_env",
   "language": "python",
   "name": "python3"
  },
  "language_info": {
   "codemirror_mode": {
    "name": "ipython",
    "version": 3
   },
   "file_extension": ".py",
   "mimetype": "text/x-python",
   "name": "python",
   "nbconvert_exporter": "python",
   "pygments_lexer": "ipython3",
   "version": "3.9.18"
  }
 },
 "nbformat": 4,
 "nbformat_minor": 2
}
