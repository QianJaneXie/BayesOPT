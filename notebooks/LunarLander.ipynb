{
 "cells": [
  {
   "cell_type": "code",
   "execution_count": 1,
   "metadata": {},
   "outputs": [],
   "source": [
    "from pandora_bayesopt.test_functions.lunar_lander import LunarLanderProblem"
   ]
  },
  {
   "cell_type": "code",
   "execution_count": 8,
   "metadata": {},
   "outputs": [],
   "source": [
    "import torch\n",
    "from botorch.utils.sampling import draw_sobol_samples\n",
    "from botorch.acquisition import UpperConfidenceBound\n",
    "from pandora_bayesopt.bayesianoptimizer import BayesianOptimizer"
   ]
  },
  {
   "cell_type": "code",
   "execution_count": 3,
   "metadata": {},
   "outputs": [],
   "source": [
    "# use a GPU if available\n",
    "device = torch.device(\"cuda\" if torch.cuda.is_available() else \"cpu\")\n",
    "\n",
    "# Set default tensor type to float64\n",
    "torch.set_default_dtype(torch.float64)"
   ]
  },
  {
   "cell_type": "code",
   "execution_count": 4,
   "metadata": {},
   "outputs": [
    {
     "data": {
      "text/plain": [
       "<torch._C.Generator at 0x12059f3b0>"
      ]
     },
     "execution_count": 4,
     "metadata": {},
     "output_type": "execute_result"
    }
   ],
   "source": [
    "seed = 42\n",
    "torch.manual_seed(seed)"
   ]
  },
  {
   "cell_type": "code",
   "execution_count": 5,
   "metadata": {},
   "outputs": [],
   "source": [
    "dim = 12\n",
    "bounds = torch.stack([torch.zeros(dim), torch.ones(dim)])\n",
    "init_x = draw_sobol_samples(bounds=bounds, n=1, q=2*(dim+1)).squeeze(0)"
   ]
  },
  {
   "cell_type": "code",
   "execution_count": 6,
   "metadata": {},
   "outputs": [],
   "source": [
    "def objective_function(X):\n",
    "    objective_X, cost_X = LunarLanderProblem()(X)\n",
    "    return objective_X"
   ]
  },
  {
   "cell_type": "code",
   "execution_count": 9,
   "metadata": {},
   "outputs": [
    {
     "name": "stdout",
     "output_type": "stream",
     "text": [
      "571 232.21358713670193\n",
      "932 144.6508599521895\n",
      "Iteration 0, New point: [0.5002495  0.26483821 0.6597845  0.14477177 0.60178614 0.26220253\n",
      " 0.57976192 0.66505028 0.95314332 0.1345997  0.08935232 0.19458361], New value: -1.3719375125148396\n",
      "Best observed value: 8.6475876070254\n",
      "Current acquisition value: 33.74135721745778\n",
      "Cumulative cost: 1.0\n",
      "Running time: 4.993075\n",
      "\n",
      "Iteration 1, New point: [0.53614705 0.24685516 0.75069635 0.13151803 0.58165119 0.29676553\n",
      " 0.66331767 0.80089437 0.86821655 0.14351396 0.22851918 0.16578035], New value: 1.825984342985678\n",
      "Best observed value: 8.6475876070254\n",
      "Current acquisition value: 34.72331649652531\n",
      "Cumulative cost: 2.0\n",
      "Running time: 5.331211999999999\n",
      "\n"
     ]
    }
   ],
   "source": [
    "Optimizer = BayesianOptimizer(\n",
    "        dim=dim, \n",
    "        maximize=True, \n",
    "        initial_points=init_x,\n",
    "        objective=objective_function, \n",
    "        input_standardize=True\n",
    "    )\n",
    "Optimizer.run(\n",
    "    num_iterations = 2,\n",
    "    acquisition_function_class=UpperConfidenceBound,\n",
    "    heuristic=True\n",
    ")"
   ]
  }
 ],
 "metadata": {
  "kernelspec": {
   "display_name": "pandorabayesopt_env",
   "language": "python",
   "name": "python3"
  },
  "language_info": {
   "codemirror_mode": {
    "name": "ipython",
    "version": 3
   },
   "file_extension": ".py",
   "mimetype": "text/x-python",
   "name": "python",
   "nbconvert_exporter": "python",
   "pygments_lexer": "ipython3",
   "version": "3.9.18"
  }
 },
 "nbformat": 4,
 "nbformat_minor": 2
}
