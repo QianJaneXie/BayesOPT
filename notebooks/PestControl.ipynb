{
 "cells": [
  {
   "cell_type": "code",
   "execution_count": 1,
   "metadata": {},
   "outputs": [],
   "source": [
    "from pandora_bayesopt.test_functions.pest_control import PestControl, pest_control_price"
   ]
  },
  {
   "cell_type": "code",
   "execution_count": 2,
   "metadata": {},
   "outputs": [],
   "source": [
    "import torch\n",
    "from botorch.utils.sampling import draw_sobol_samples\n",
    "from botorch.acquisition import ExpectedImprovement\n",
    "from pandora_bayesopt.acquisition.gittins import GittinsIndex\n",
    "from pandora_bayesopt.bayesianoptimizer import BayesianOptimizer"
   ]
  },
  {
   "cell_type": "code",
   "execution_count": 3,
   "metadata": {},
   "outputs": [],
   "source": [
    "# use a GPU if available\n",
    "device = torch.device(\"cuda\" if torch.cuda.is_available() else \"cpu\")\n",
    "\n",
    "# Set default tensor type to float64\n",
    "torch.set_default_dtype(torch.float64)"
   ]
  },
  {
   "cell_type": "code",
   "execution_count": 4,
   "metadata": {},
   "outputs": [
    {
     "data": {
      "text/plain": [
       "<torch._C.Generator at 0x11a0b0390>"
      ]
     },
     "execution_count": 4,
     "metadata": {},
     "output_type": "execute_result"
    }
   ],
   "source": [
    "seed = 0\n",
    "torch.manual_seed(seed)"
   ]
  },
  {
   "cell_type": "code",
   "execution_count": 5,
   "metadata": {},
   "outputs": [],
   "source": [
    "dim = 25\n",
    "bounds = torch.stack([torch.zeros(dim), torch.ones(dim)])\n",
    "init_x = draw_sobol_samples(bounds=bounds, n=1, q=dim+1).squeeze(0)"
   ]
  },
  {
   "cell_type": "code",
   "execution_count": 6,
   "metadata": {},
   "outputs": [],
   "source": [
    "def objective_function(X):\n",
    "    choice_X = torch.floor(5*X)\n",
    "    choice_X[choice_X == 5] = 4\n",
    "    return PestControl(negate=True)(choice_X)"
   ]
  },
  {
   "cell_type": "code",
   "execution_count": 7,
   "metadata": {},
   "outputs": [],
   "source": [
    "import numpy as np\n",
    "     \n",
    "def cost_function(X):\n",
    "    choice_X = torch.floor(5*X)\n",
    "    choice_X[choice_X == 5] = 4\n",
    "    res = torch.stack([pest_control_price(x) for x in choice_X]).to(choice_X)\n",
    "    # Add a small amount of noise to prevent training instabilities\n",
    "    res += 1e-6 * torch.randn_like(res)\n",
    "    return res "
   ]
  },
  {
   "cell_type": "code",
   "execution_count": 8,
   "metadata": {},
   "outputs": [
    {
     "data": {
      "text/plain": [
       "tensor([[0.4751, 0.5925, 0.4945, 0.3139, 0.9561, 0.0833, 0.0988, 0.3475, 0.8469,\n",
       "         0.7615, 0.8828, 0.8802, 0.8025, 0.8511, 0.3647, 0.9520, 0.2220, 0.6901,\n",
       "         0.9973, 0.6273, 0.3472, 0.7656, 0.6587, 0.4764, 0.1585],\n",
       "        [0.7977, 0.5988, 0.2493, 0.7424, 0.6684, 0.5202, 0.0243, 0.8263, 0.7274,\n",
       "         0.2683, 0.0989, 0.6641, 0.1531, 0.0533, 0.8113, 0.8015, 0.6086, 0.3813,\n",
       "         0.8859, 0.6664, 0.6712, 0.8236, 0.9889, 0.2629, 0.1451],\n",
       "        [0.8653, 0.2530, 0.3578, 0.2487, 0.6613, 0.4413, 0.5199, 0.2375, 0.0419,\n",
       "         0.6801, 0.6986, 0.7500, 0.5400, 0.8805, 0.8813, 0.4593, 0.5351, 0.8944,\n",
       "         0.1966, 0.3889, 0.6816, 0.1965, 0.6133, 0.3215, 0.4993],\n",
       "        [0.0672, 0.8454, 0.5426, 0.3719, 0.5108, 0.0282, 0.3609, 0.6418, 0.2187,\n",
       "         0.2718, 0.8294, 0.5361, 0.4875, 0.9089, 0.7151, 0.6890, 0.1757, 0.5540,\n",
       "         0.6684, 0.8071, 0.0187, 0.2317, 0.4319, 0.6631, 0.6238],\n",
       "        [0.5548, 0.1569, 0.3566, 0.9287, 0.4057, 0.1726, 0.6179, 0.9103, 0.4576,\n",
       "         0.0211, 0.2455, 0.8759, 0.0354, 0.2708, 0.6789, 0.2028, 0.7558, 0.4340,\n",
       "         0.9554, 0.5336, 0.2546, 0.9677, 0.4268, 0.9224, 0.3429],\n",
       "        [0.9559, 0.7907, 0.9761, 0.0744, 0.6590, 0.9775, 0.5506, 0.3481, 0.9102,\n",
       "         0.7457, 0.4027, 0.2577, 0.0152, 0.7993, 0.0093, 0.8013, 0.6599, 0.9158,\n",
       "         0.0421, 0.9644, 0.6289, 0.9809, 0.3556, 0.6786, 0.8399],\n",
       "        [0.1530, 0.3910, 0.4063, 0.4416, 0.1518, 0.3831, 0.5309, 0.4266, 0.6323,\n",
       "         0.9944, 0.3164, 0.5718, 0.9740, 0.9099, 0.4896, 0.2815, 0.6074, 0.7960,\n",
       "         0.4003, 0.4057, 0.4337, 0.6125, 0.4753, 0.4879, 0.8982],\n",
       "        [0.1455, 0.0177, 0.4927, 0.2827, 0.4654, 0.9979, 0.1485, 0.8724, 0.8252,\n",
       "         0.0238, 0.5915, 0.0648, 0.8521, 0.3397, 0.2881, 0.6574, 0.4886, 0.6141,\n",
       "         0.8899, 0.4033, 0.3562, 0.3174, 0.0534, 0.4416, 0.9634],\n",
       "        [0.5597, 0.8864, 0.7033, 0.9536, 0.1643, 0.1456, 0.3565, 0.6613, 0.5334,\n",
       "         0.4872, 0.9392, 0.1483, 0.1416, 0.3175, 0.7428, 0.2452, 0.9972, 0.9104,\n",
       "         0.7949, 0.1413, 0.9415, 0.5437, 0.5714, 0.6882, 0.4466],\n",
       "        [0.8701, 0.1773, 0.2158, 0.8094, 0.5788, 0.2458, 0.7837, 0.9408, 0.4813,\n",
       "         0.4515, 0.2955, 0.0058, 0.6833, 0.5026, 0.3740, 0.0881, 0.8824, 0.5600,\n",
       "         0.1953, 0.6855, 0.6273, 0.0410, 0.9284, 0.6243, 0.2825],\n",
       "        [0.2799, 0.9442, 0.6777, 0.7057, 0.2518, 0.6844, 0.6846, 0.1064, 0.9032,\n",
       "         0.9397, 0.4785, 0.1835, 0.9520, 0.0146, 0.7826, 0.8109, 0.5610, 0.2108,\n",
       "         0.4230, 0.0124, 0.7165, 0.5398, 0.1159, 0.5139, 0.8334],\n",
       "        [0.9639, 0.3661, 0.2696, 0.6342, 0.4453, 0.4477, 0.8377, 0.9729, 0.1068,\n",
       "         0.9497, 0.4781, 0.8709, 0.2622, 0.3527, 0.8570, 0.2958, 0.5081, 0.9285,\n",
       "         0.9723, 0.6452, 0.7790, 0.0959, 0.0307, 0.2975, 0.6039],\n",
       "        [0.8456, 0.1972, 0.3811, 0.7078, 0.3976, 0.8106, 0.0850, 0.8585, 0.9087,\n",
       "         0.9997, 0.0234, 0.3177, 0.5992, 0.9390, 0.6585, 0.6162, 0.3858, 0.1995,\n",
       "         0.3357, 0.9448, 0.8375, 0.0314, 0.3929, 0.1035, 0.9610],\n",
       "        [0.2593, 0.8515, 0.8573, 0.5731, 0.1396, 0.0093, 0.8043, 0.7809, 0.7163,\n",
       "         0.4172, 0.6076, 0.5710, 0.9075, 0.9059, 0.5085, 0.5281, 0.9970, 0.6277,\n",
       "         0.7692, 0.1151, 0.0334, 0.5355, 0.6585, 0.0842, 0.5623],\n",
       "        [0.6594, 0.7950, 0.2316, 0.8592, 0.1483, 0.1066, 0.4528, 0.8039, 0.2438,\n",
       "         0.9138, 0.9692, 0.5858, 0.5711, 0.2242, 0.3690, 0.5851, 0.3569, 0.6383,\n",
       "         0.0981, 0.7269, 0.9867, 0.0954, 0.4535, 0.1849, 0.1541],\n",
       "        [0.6009, 0.6820, 0.4520, 0.7458, 0.8265, 0.3227, 0.7587, 0.0892, 0.3168,\n",
       "         0.6925, 0.5829, 0.9772, 0.3083, 0.5996, 0.9702, 0.3302, 0.8078, 0.8559,\n",
       "         0.6022, 0.3530, 0.2586, 0.2140, 0.2986, 0.4274, 0.1392],\n",
       "        [0.7780, 0.4258, 0.3102, 0.5779, 0.2661, 0.1302, 0.1244, 0.4115, 0.6026,\n",
       "         0.7316, 0.2609, 0.7962, 0.5531, 0.5518, 0.5781, 0.4002, 0.2253, 0.6157,\n",
       "         0.6987, 0.1481, 0.3781, 0.5739, 0.8233, 0.6571, 0.0040],\n",
       "        [0.3606, 0.3787, 0.1503, 0.6054, 0.6016, 0.5318, 0.9658, 0.2521, 0.1695,\n",
       "         0.0911, 0.6650, 0.2607, 0.6139, 0.5581, 0.1476, 0.0346, 0.1156, 0.3481,\n",
       "         0.9149, 0.7138, 0.4558, 0.3319, 0.1642, 0.6512, 0.4482],\n",
       "        [0.1471, 0.5068, 0.9435, 0.2664, 0.6717, 0.7374, 0.0455, 0.9183, 0.8703,\n",
       "         0.4461, 0.7729, 0.6864, 0.4779, 0.8644, 0.8635, 0.3947, 0.7511, 0.8567,\n",
       "         0.3823, 0.9756, 0.5614, 0.6600, 0.2867, 0.9883, 0.0802],\n",
       "        [0.6850, 0.9169, 0.0696, 0.2067, 0.3196, 0.6377, 0.4429, 0.1943, 0.6457,\n",
       "         0.9858, 0.1963, 0.6683, 0.9767, 0.0651, 0.0517, 0.7254, 0.1784, 0.2711,\n",
       "         0.3539, 0.2782, 0.9277, 0.8355, 0.2403, 0.4572, 0.9830],\n",
       "        [0.3365, 0.8961, 0.2779, 0.9235, 0.6365, 0.3733, 0.6115, 0.9124, 0.7764,\n",
       "         0.4690, 0.5479, 0.7341, 0.9857, 0.9966, 0.7496, 0.1292, 0.9157, 0.0625,\n",
       "         0.9605, 0.1347, 0.2711, 0.1012, 0.8908, 0.0168, 0.1318],\n",
       "        [0.4439, 0.6754, 0.8215, 0.1222, 0.4467, 0.2521, 0.8026, 0.0014, 0.0467,\n",
       "         0.2499, 0.8967, 0.9116, 0.3807, 0.8884, 0.9104, 0.8791, 0.0466, 0.7724,\n",
       "         0.1412, 0.0767, 0.4424, 0.9136, 0.6078, 0.5413, 0.6161],\n",
       "        [0.4985, 0.5235, 0.1699, 0.1825, 0.2069, 0.5291, 0.8425, 0.7250, 0.6356,\n",
       "         0.3071, 0.4755, 0.7397, 0.9074, 0.4439, 0.3747, 0.1446, 0.2261, 0.7621,\n",
       "         0.5545, 0.1685, 0.3715, 0.7430, 0.5053, 0.2220, 0.5551],\n",
       "        [0.9544, 0.4446, 0.3307, 0.3118, 0.9359, 0.0078, 0.6931, 0.5144, 0.8767,\n",
       "         0.0305, 0.9514, 0.8542, 0.8433, 0.5045, 0.3916, 0.1486, 0.0447, 0.9293,\n",
       "         0.3222, 0.8339, 0.6288, 0.8548, 0.6205, 0.6335, 0.1475],\n",
       "        [0.3390, 0.6586, 0.0630, 0.6423, 0.1299, 0.9161, 0.0501, 0.3867, 0.4238,\n",
       "         0.9188, 0.4225, 0.0528, 0.3541, 0.6990, 0.5037, 0.7545, 0.5641, 0.1815,\n",
       "         0.2569, 0.0012, 0.6365, 0.1007, 0.8258, 0.3393, 0.5168],\n",
       "        [0.4010, 0.1931, 0.8759, 0.5894, 0.4467, 0.5031, 0.8461, 0.0206, 0.9634,\n",
       "         0.2579, 0.9122, 0.6809, 0.6207, 0.2790, 0.7329, 0.4024, 0.0644, 0.2836,\n",
       "         0.7499, 0.2848, 0.9590, 0.3428, 0.6089, 0.8238, 0.6695]])"
      ]
     },
     "execution_count": 8,
     "metadata": {},
     "output_type": "execute_result"
    }
   ],
   "source": [
    "init_x"
   ]
  },
  {
   "cell_type": "code",
   "execution_count": 9,
   "metadata": {},
   "outputs": [
    {
     "data": {
      "text/plain": [
       "(tensor([-16.8864, -17.2760, -18.7440, -18.8620, -18.8708, -17.6280, -18.1560,\n",
       "         -19.2608, -18.5124, -19.1200, -18.2156, -18.0540, -18.0568, -17.5092,\n",
       "         -17.9756, -17.8720, -18.5440, -19.8960, -16.7960, -19.1736, -17.0936,\n",
       "         -18.0100, -19.2976, -17.5812, -19.5500, -18.3276]),\n",
       " tensor([15.1364, 13.4960, 16.0640, 15.1520, 15.1908, 13.4780, 16.1760, 13.6208,\n",
       "         13.6724, 14.3500, 13.5856, 15.4240, 13.0268, 13.0192, 13.7256, 16.9320,\n",
       "         15.5740, 13.6560, 14.8160, 13.5636, 12.7236, 12.6400, 15.7876, 13.3512,\n",
       "         13.3500, 15.4576]))"
      ]
     },
     "execution_count": 9,
     "metadata": {},
     "output_type": "execute_result"
    }
   ],
   "source": [
    "objective_function(init_x), cost_function(init_x)"
   ]
  },
  {
   "cell_type": "code",
   "execution_count": 10,
   "metadata": {},
   "outputs": [
    {
     "name": "stdout",
     "output_type": "stream",
     "text": [
      "Iteration 0, New point: [0.19345925 0.51806268 0.91593191 0.26890095 0.71419715 0.68799047\n",
      " 0.04760733 0.86441746 0.89524128 0.48543962 0.7819442  0.71727991\n",
      " 0.50523438 0.86302971 0.81808607 0.44429197 0.71747928 0.85330233\n",
      " 0.42631806 0.95584026 0.55825016 0.69168253 0.32468152 0.9428125\n",
      " 0.06767279], New value: -16.29999731036551\n",
      "Best observed value: -16.29999731036551\n",
      "Current acquisition value: tensor(0.0880)\n",
      "Cumulative cost: 14.320000744982508\n",
      "Running time: 26.726480000000002\n",
      "\n",
      "Iteration 1, New point: [0.16798882 0.50105485 0.88181964 0.27393041 0.71785274 0.64408442\n",
      " 0.02619072 0.85315295 0.87466976 0.49492089 0.80328166 0.72529179\n",
      " 0.54468276 0.86993695 0.80622825 0.47303263 0.68296665 0.83071156\n",
      " 0.49429283 0.92005216 0.53367848 0.67332027 0.33835404 0.92445061\n",
      " 0.06534654], New value: -16.16239992039369\n",
      "Best observed value: -16.16239992039369\n",
      "Current acquisition value: tensor(0.0801)\n",
      "Cumulative cost: 28.532401194670726\n",
      "Running time: 24.017742\n",
      "\n",
      "Iteration 2, New point: [0.21484197 0.49843046 0.86089672 0.26173045 0.73378133 0.61098099\n",
      " 0.06513188 0.84283726 0.88159087 0.44141289 0.82800773 0.71998015\n",
      " 0.55366523 0.84725788 0.77790442 0.44634715 0.63442875 0.85055879\n",
      " 0.45460092 0.93930007 0.54144568 0.68780391 0.34056053 0.93186908\n",
      " 0.08057783], New value: -16.18000109200245\n",
      "Best observed value: -16.16239992039369\n",
      "Current acquisition value: tensor(0.0712)\n",
      "Cumulative cost: 43.81240195503687\n",
      "Running time: 23.322660000000006\n",
      "\n"
     ]
    }
   ],
   "source": [
    "Optimizer = BayesianOptimizer(\n",
    "        objective=objective_function, \n",
    "        cost=cost_function,\n",
    "        dim=dim, \n",
    "        maximize=True, \n",
    "        initial_points=init_x,\n",
    "        input_standardize=True\n",
    "    )\n",
    "\n",
    "Optimizer.run_until_budget(\n",
    "    budget=30, \n",
    "    acquisition_function_class = ExpectedImprovement\n",
    ")"
   ]
  },
  {
   "cell_type": "code",
   "execution_count": 11,
   "metadata": {},
   "outputs": [
    {
     "name": "stderr",
     "output_type": "stream",
     "text": [
      "/Users/qianxie/Desktop/Curriculum/Graduate/Research/PandoraBayesOPT/pandorabayesopt_env/lib/python3.9/site-packages/botorch/optim/optimize.py:367: RuntimeWarning: Optimization failed in `gen_candidates_scipy` with the following warning(s):\n",
      "[OptimizationWarning('Optimization failed within `scipy.optimize.minimize` with status 2 and message ABNORMAL_TERMINATION_IN_LNSRCH.')]\n",
      "Trying again with a new set of initial conditions.\n",
      "  warnings.warn(first_warn_msg, RuntimeWarning)\n"
     ]
    },
    {
     "name": "stdout",
     "output_type": "stream",
     "text": [
      "Iteration 0, New point: [0.13939173 0.51626666 0.93377649 0.25597256 0.73141829 0.79620624\n",
      " 0.0296328  0.9686591  0.88226664 0.46144682 0.78955547 0.68009312\n",
      " 0.50351621 0.90017025 0.89132026 0.40435811 0.79714414 0.88582213\n",
      " 0.36813966 0.99483831 0.59623346 0.67330878 0.19999782 0.9909474\n",
      " 0.03359989], New value: -16.435600449472396\n",
      "Best observed value: -16.435600449472396\n",
      "Current acquisition value: tensor(0.0077)\n",
      "Cumulative cost: 13.625600499752252\n",
      "Running time: 18.695859999999996\n",
      "\n",
      "Iteration 1, New point: [0.14754597 0.54019039 0.89995898 0.2546378  0.77918041 0.78548227\n",
      " 0.05762605 0.96838533 0.88291491 0.48966642 0.7966716  0.68732446\n",
      " 0.53608101 0.88886166 0.79964934 0.43230816 0.80991988 0.89319377\n",
      " 0.36352891 0.97951368 0.6186219  0.68981198 0.15930404 0.97164719\n",
      " 0.04608342], New value: -16.31280061994978\n",
      "Best observed value: -16.31280061994978\n",
      "Current acquisition value: tensor(0.0068)\n",
      "Cumulative cost: 27.128399045327527\n",
      "Running time: 4.983294999999998\n",
      "\n",
      "Iteration 2, New point: [0.2472639  0.34138437 0.71379393 0.18472459 0.57264695 0.5363243\n",
      " 0.12819151 0.11278845 0.16799136 0.18648003 0.16955662 0.6097906\n",
      " 0.03935121 0.80216524 0.78809562 0.74182165 0.76138842 0.75356111\n",
      " 0.1747924  0.18242581 0.18888937 0.89020681 0.05228686 0.79424045\n",
      " 0.19444198], New value: -19.107997829618817\n",
      "Best observed value: -16.31280061994978\n",
      "Current acquisition value: tensor(0.0004)\n",
      "Cumulative cost: 36.14639780744938\n",
      "Running time: 4.473056\n",
      "\n"
     ]
    }
   ],
   "source": [
    "from pandora_bayesopt.acquisition.ei_puc import ExpectedImprovementWithCost\n",
    "Optimizer = BayesianOptimizer(\n",
    "        objective=objective_function, \n",
    "        cost=cost_function,\n",
    "        dim=dim, \n",
    "        maximize=True, \n",
    "        initial_points=init_x,\n",
    "        input_standardize=True\n",
    "    )\n",
    "\n",
    "Optimizer.run_until_budget(\n",
    "    budget=30, \n",
    "    acquisition_function_class = ExpectedImprovementWithCost\n",
    ")"
   ]
  },
  {
   "cell_type": "code",
   "execution_count": 12,
   "metadata": {},
   "outputs": [
    {
     "name": "stderr",
     "output_type": "stream",
     "text": [
      "/Users/qianxie/Desktop/Curriculum/Graduate/Research/PandoraBayesOPT/pandorabayesopt_env/lib/python3.9/site-packages/botorch/optim/optimize.py:367: RuntimeWarning: Optimization failed in `gen_candidates_scipy` with the following warning(s):\n",
      "[OptimizationWarning('Optimization failed within `scipy.optimize.minimize` with status 2 and message ABNORMAL_TERMINATION_IN_LNSRCH.'), OptimizationWarning('Optimization failed within `scipy.optimize.minimize` with status 2 and message ABNORMAL_TERMINATION_IN_LNSRCH.'), OptimizationWarning('Optimization failed within `scipy.optimize.minimize` with status 2 and message ABNORMAL_TERMINATION_IN_LNSRCH.'), OptimizationWarning('Optimization failed within `scipy.optimize.minimize` with status 2 and message ABNORMAL_TERMINATION_IN_LNSRCH.'), OptimizationWarning('Optimization failed within `scipy.optimize.minimize` with status 2 and message ABNORMAL_TERMINATION_IN_LNSRCH.'), OptimizationWarning('Optimization failed within `scipy.optimize.minimize` with status 2 and message ABNORMAL_TERMINATION_IN_LNSRCH.')]\n",
      "Trying again with a new set of initial conditions.\n",
      "  warnings.warn(first_warn_msg, RuntimeWarning)\n",
      "/Users/qianxie/Desktop/Curriculum/Graduate/Research/PandoraBayesOPT/pandorabayesopt_env/lib/python3.9/site-packages/botorch/optim/optimize.py:389: RuntimeWarning: Optimization failed on the second try, after generating a new set of initial conditions.\n",
      "  warnings.warn(\n"
     ]
    },
    {
     "name": "stdout",
     "output_type": "stream",
     "text": [
      "Iteration 0, New point: [0.70579026 0.61767867 0.45385434 0.6295011  0.8098968  0.28284879\n",
      " 0.6343039  0.13856162 0.37136603 0.68614079 0.61376292 0.85597179\n",
      " 0.41367375 0.64142898 0.92016916 0.30717739 0.70012623 0.81932064\n",
      " 0.60235092 0.35661044 0.3078365  0.2824     0.3420966  0.47984517\n",
      " 0.19992995], New value: -0.9299984843237176\n",
      "Best observed value: -0.8700001203413739\n",
      "Current acquisition value: tensor(1.4386)\n",
      "Cumulative cost: 16.541200023005747\n",
      "Running time: 72.3277\n",
      "\n"
     ]
    },
    {
     "name": "stderr",
     "output_type": "stream",
     "text": [
      "/Users/qianxie/Desktop/Curriculum/Graduate/Research/PandoraBayesOPT/pandorabayesopt_env/lib/python3.9/site-packages/botorch/optim/optimize.py:367: RuntimeWarning: Optimization failed in `gen_candidates_scipy` with the following warning(s):\n",
      "[OptimizationWarning('Optimization failed within `scipy.optimize.minimize` with status 2 and message ABNORMAL_TERMINATION_IN_LNSRCH.'), OptimizationWarning('Optimization failed within `scipy.optimize.minimize` with status 2 and message ABNORMAL_TERMINATION_IN_LNSRCH.'), OptimizationWarning('Optimization failed within `scipy.optimize.minimize` with status 2 and message ABNORMAL_TERMINATION_IN_LNSRCH.'), OptimizationWarning('Optimization failed within `scipy.optimize.minimize` with status 2 and message ABNORMAL_TERMINATION_IN_LNSRCH.'), OptimizationWarning('Optimization failed within `scipy.optimize.minimize` with status 2 and message ABNORMAL_TERMINATION_IN_LNSRCH.'), OptimizationWarning('Optimization failed within `scipy.optimize.minimize` with status 2 and message ABNORMAL_TERMINATION_IN_LNSRCH.'), OptimizationWarning('Optimization failed within `scipy.optimize.minimize` with status 2 and message ABNORMAL_TERMINATION_IN_LNSRCH.'), OptimizationWarning('Optimization failed within `scipy.optimize.minimize` with status 2 and message ABNORMAL_TERMINATION_IN_LNSRCH.'), OptimizationWarning('Optimization failed within `scipy.optimize.minimize` with status 2 and message ABNORMAL_TERMINATION_IN_LNSRCH.'), OptimizationWarning('Optimization failed within `scipy.optimize.minimize` with status 2 and message ABNORMAL_TERMINATION_IN_LNSRCH.')]\n",
      "Trying again with a new set of initial conditions.\n",
      "  warnings.warn(first_warn_msg, RuntimeWarning)\n"
     ]
    },
    {
     "name": "stdout",
     "output_type": "stream",
     "text": [
      "Iteration 1, New point: [0.68616429 0.69681423 0.43278816 0.72611595 0.83875734 0.26457534\n",
      " 0.55401027 0.18610637 0.30191294 0.61325178 0.55216271 0.88803815\n",
      " 0.29551987 0.5639763  0.83915475 0.19783683 0.79959105 0.80725567\n",
      " 0.62420954 0.25917003 0.19262629 0.26074367 0.22576351 0.42988147\n",
      " 0.17876078], New value: -2.8399996717300993\n",
      "Best observed value: -0.8700001203413739\n",
      "Current acquisition value: tensor(1.6190)\n",
      "Cumulative cost: 31.910801811247502\n",
      "Running time: 72.40731299999999\n",
      "\n"
     ]
    },
    {
     "name": "stderr",
     "output_type": "stream",
     "text": [
      "/Users/qianxie/Desktop/Curriculum/Graduate/Research/PandoraBayesOPT/pandorabayesopt_env/lib/python3.9/site-packages/botorch/optim/optimize.py:389: RuntimeWarning: Optimization failed on the second try, after generating a new set of initial conditions.\n",
      "  warnings.warn(\n"
     ]
    }
   ],
   "source": [
    "Optimizer = BayesianOptimizer(\n",
    "        objective=objective_function, \n",
    "        cost=cost_function,\n",
    "        dim=dim, \n",
    "        maximize=True, \n",
    "        initial_points=init_x,\n",
    "        input_standardize=True\n",
    "    )\n",
    "\n",
    "Optimizer.run_until_budget(\n",
    "            budget = 30, \n",
    "            acquisition_function_class = GittinsIndex,\n",
    "            lmbda = 0.0001\n",
    "        )"
   ]
  }
 ],
 "metadata": {
  "kernelspec": {
   "display_name": "pandorabayesopt_env",
   "language": "python",
   "name": "python3"
  },
  "language_info": {
   "codemirror_mode": {
    "name": "ipython",
    "version": 3
   },
   "file_extension": ".py",
   "mimetype": "text/x-python",
   "name": "python",
   "nbconvert_exporter": "python",
   "pygments_lexer": "ipython3",
   "version": "3.9.18"
  }
 },
 "nbformat": 4,
 "nbformat_minor": 2
}
