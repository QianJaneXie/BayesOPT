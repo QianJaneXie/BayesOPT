{
 "cells": [
  {
   "cell_type": "code",
   "execution_count": 1,
   "metadata": {},
   "outputs": [],
   "source": [
    "from pandora_bayesopt.test_functions.pest_control import PestControl"
   ]
  },
  {
   "cell_type": "code",
   "execution_count": 2,
   "metadata": {},
   "outputs": [],
   "source": [
    "import torch\n",
    "from botorch.utils.sampling import draw_sobol_samples\n",
    "from botorch.acquisition import ExpectedImprovement\n",
    "from pandora_bayesopt.acquisition.gittins import GittinsIndex\n",
    "from pandora_bayesopt.bayesianoptimizer import BayesianOptimizer"
   ]
  },
  {
   "cell_type": "code",
   "execution_count": 3,
   "metadata": {},
   "outputs": [],
   "source": [
    "# use a GPU if available\n",
    "device = torch.device(\"cuda\" if torch.cuda.is_available() else \"cpu\")\n",
    "\n",
    "# Set default tensor type to float64\n",
    "torch.set_default_dtype(torch.float64)"
   ]
  },
  {
   "cell_type": "code",
   "execution_count": 4,
   "metadata": {},
   "outputs": [
    {
     "data": {
      "text/plain": [
       "<torch._C.Generator at 0x1089f53d0>"
      ]
     },
     "execution_count": 4,
     "metadata": {},
     "output_type": "execute_result"
    }
   ],
   "source": [
    "seed = 42\n",
    "torch.manual_seed(seed)"
   ]
  },
  {
   "cell_type": "code",
   "execution_count": 5,
   "metadata": {},
   "outputs": [],
   "source": [
    "dim = 25\n",
    "bounds = torch.stack([torch.zeros(dim), torch.ones(dim)])\n",
    "init_x = draw_sobol_samples(bounds=bounds, n=1, q=2*(dim+1)).squeeze(0)"
   ]
  },
  {
   "cell_type": "code",
   "execution_count": 6,
   "metadata": {},
   "outputs": [],
   "source": [
    "def objective_function(X):\n",
    "    choice_X = torch.floor(5*X)\n",
    "    choice_X[choice_X == 5] = 4\n",
    "    return PestControl(negate=True)(choice_X)"
   ]
  },
  {
   "cell_type": "code",
   "execution_count": 7,
   "metadata": {},
   "outputs": [
    {
     "name": "stdout",
     "output_type": "stream",
     "text": [
      "tensor([-18.2056, -20.6544, -21.0508, -18.6940, -18.3764, -17.7940, -19.4588,\n",
      "        -16.9936, -18.8900, -18.1152, -20.0720, -17.6120, -20.1732, -17.1396,\n",
      "        -20.2652, -17.8624, -18.2528, -17.3620, -18.8732, -19.9800, -18.9572,\n",
      "        -18.5348, -19.2760, -18.3476, -17.5500, -18.4972, -18.3236, -18.3292,\n",
      "        -18.8908, -18.4700, -18.7872, -19.4580, -18.6132, -18.8760, -19.4020,\n",
      "        -19.0400, -16.8056, -17.1168, -19.3272, -16.9424, -19.4556, -18.5840,\n",
      "        -18.1244, -19.0356, -17.9636, -18.8448, -17.9572, -19.3644, -18.8120,\n",
      "        -18.4712, -18.0804, -17.4176])\n"
     ]
    }
   ],
   "source": [
    "init_y = objective_function(init_x)\n",
    "print(init_y)"
   ]
  },
  {
   "cell_type": "code",
   "execution_count": 8,
   "metadata": {},
   "outputs": [
    {
     "name": "stdout",
     "output_type": "stream",
     "text": [
      "Iteration 0, New point: [0.32133795 0.81804    0.76476365 0.93815855 0.61110898 0.57763049\n",
      " 0.09588868 0.44570932 0.80624984 0.85456994 0.92152701 0.7642226\n",
      " 0.95151181 0.77668428 0.47258786 0.48081227 0.77926163 0.23886343\n",
      " 0.49950168 0.98136905 0.37207303 0.6903533  0.14503833 0.23928996\n",
      " 0.15685175], New value: -16.749599408475916\n",
      "Best observed value: -16.749599408475916\n",
      "Current acquisition value: tensor(0.0949)\n",
      "Cumulative cost: 1.0\n",
      "\n",
      "Iteration 1, New point: [0.25075209 0.77800755 0.80366839 0.95705485 0.58745853 0.57157827\n",
      " 0.08219699 0.44852147 0.83344093 0.86296361 0.9949403  0.77584257\n",
      " 0.93852888 0.74063941 0.46319227 0.45482402 0.78568235 0.23154683\n",
      " 0.52072701 0.98996376 0.38904766 0.64769197 0.08612052 0.22073918\n",
      " 0.16727214], New value: -16.946399756321362\n",
      "Best observed value: -16.749599408475916\n",
      "Current acquisition value: tensor(0.1027)\n",
      "Cumulative cost: 2.0\n",
      "\n"
     ]
    }
   ],
   "source": [
    "Optimizer = BayesianOptimizer(\n",
    "        objective=objective_function, \n",
    "        dim=dim, \n",
    "        maximize=True, \n",
    "        initial_points=init_x,\n",
    "        input_standardize=True\n",
    "    )\n",
    "\n",
    "Optimizer.run(\n",
    "    num_iterations=2, \n",
    "    acquisition_function_class=ExpectedImprovement\n",
    ")"
   ]
  },
  {
   "cell_type": "code",
   "execution_count": 9,
   "metadata": {},
   "outputs": [
    {
     "data": {
      "text/plain": [
       "[-16.80559940323234, -16.749599408475916, -16.749599408475916]"
      ]
     },
     "execution_count": 9,
     "metadata": {},
     "output_type": "execute_result"
    }
   ],
   "source": [
    "best_history = Optimizer.get_best_history()\n",
    "best_history"
   ]
  }
 ],
 "metadata": {
  "kernelspec": {
   "display_name": "pandorabayesopt_env",
   "language": "python",
   "name": "python3"
  },
  "language_info": {
   "codemirror_mode": {
    "name": "ipython",
    "version": 3
   },
   "file_extension": ".py",
   "mimetype": "text/x-python",
   "name": "python",
   "nbconvert_exporter": "python",
   "pygments_lexer": "ipython3",
   "version": "3.9.18"
  }
 },
 "nbformat": 4,
 "nbformat_minor": 2
}
