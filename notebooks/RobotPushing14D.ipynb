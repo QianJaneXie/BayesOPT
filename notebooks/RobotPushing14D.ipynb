{
 "cells": [
  {
   "cell_type": "code",
   "execution_count": 1,
   "metadata": {},
   "outputs": [
    {
     "name": "stdout",
     "output_type": "stream",
     "text": [
      "pygame 2.1.0 (SDL 2.0.16, Python 3.9.18)\n",
      "Hello from the pygame community. https://www.pygame.org/contribute.html\n"
     ]
    }
   ],
   "source": [
    "from pandora_bayesopt.test_functions.robot_pushing.robot_pushing import robot_pushing_14d"
   ]
  },
  {
   "cell_type": "code",
   "execution_count": 2,
   "metadata": {},
   "outputs": [],
   "source": [
    "import torch\n",
    "from torch import Tensor\n",
    "import numpy as np\n",
    "from botorch.utils.sampling import draw_sobol_samples\n",
    "from botorch.acquisition import ExpectedImprovement\n",
    "from pandora_bayesopt.acquisition.ei_puc import ExpectedImprovementWithCost\n",
    "from pandora_bayesopt.acquisition.gittins import GittinsIndex\n",
    "from pandora_bayesopt.acquisition.multi_step_ei import MultiStepLookaheadEI\n",
    "from pandora_bayesopt.bayesianoptimizer import BayesianOptimizer"
   ]
  },
  {
   "cell_type": "code",
   "execution_count": 3,
   "metadata": {},
   "outputs": [],
   "source": [
    "# use a GPU if available\n",
    "device = torch.device(\"cuda\" if torch.cuda.is_available() else \"cpu\")\n",
    "\n",
    "# Set default tensor type to float64\n",
    "torch.set_default_dtype(torch.float64)"
   ]
  },
  {
   "cell_type": "code",
   "execution_count": 4,
   "metadata": {},
   "outputs": [
    {
     "data": {
      "text/plain": [
       "<torch._C.Generator at 0x12114aef0>"
      ]
     },
     "execution_count": 4,
     "metadata": {},
     "output_type": "execute_result"
    }
   ],
   "source": [
    "seed = 42\n",
    "torch.manual_seed(seed)"
   ]
  },
  {
   "cell_type": "code",
   "execution_count": 5,
   "metadata": {},
   "outputs": [],
   "source": [
    "target_location = 10.0 * torch.rand([2]) - 5.0\n",
    "target_location2 = 10.0 * torch.rand([2]) - 5.0"
   ]
  },
  {
   "cell_type": "code",
   "execution_count": 6,
   "metadata": {},
   "outputs": [
    {
     "data": {
      "text/plain": [
       "(tensor([-4.4185, -4.3709]), tensor([-3.7641, -4.4742]))"
      ]
     },
     "execution_count": 6,
     "metadata": {},
     "output_type": "execute_result"
    }
   ],
   "source": [
    "target_location, target_location2"
   ]
  },
  {
   "cell_type": "code",
   "execution_count": 12,
   "metadata": {},
   "outputs": [],
   "source": [
    "def unnorm_X(X: torch.Tensor) -> torch.Tensor:\n",
    "    X_unnorm = X.clone()\n",
    "    # Check if the tensor is higher than 3-dimensional\n",
    "    if X.dim() > 3:\n",
    "        # Assuming the extra unwanted dimension is at position 1 (the second position)\n",
    "        X_unnorm = X_unnorm.view(-1, X.size(-1))  # Remove the singleton dimension\n",
    "    # Check the dimensionality of X and adjust accordingly\n",
    "    if X.dim() == 3:\n",
    "        # Remove the singleton dimension assuming it's the second one\n",
    "        X_unnorm = X_unnorm.squeeze(1)\n",
    "    elif X.dim() == 1:\n",
    "        # If 1-dimensional, add a dimension to make it 2D (e.g., for batch size of 1)\n",
    "        X_unnorm = X_unnorm.unsqueeze(0)\n",
    "    X_unnorm[:, :2] = 10.0 * X_unnorm[:, :2] - 5.0\n",
    "    X_unnorm[:, 2:4] = 5 * X_unnorm[:, 2:4]\n",
    "    X_unnorm[:, 4] = 29.0 * X_unnorm[:, 4] + 1.0\n",
    "    X_unnorm[:, 5] = 2 * np.pi * X_unnorm[:, 5]\n",
    "    X_unnorm[:, 6:8] = 10.0 * X_unnorm[:, 6:8] - 5.0\n",
    "    X_unnorm[:, 8:10] = 5 * X_unnorm[:, 8:10]\n",
    "    X_unnorm[:, 10] = 29 * X_unnorm[:, 10] + 1.0\n",
    "    X_unnorm[:, 11] = 2 * np.pi * X_unnorm[:, 11]\n",
    "    X_unnorm[:, 12:] = 2 * np.pi * X_unnorm[:, 12:]\n",
    "\n",
    "    return X_unnorm\n",
    "\n",
    "def objective_function(X: torch.Tensor) -> torch.Tensor:\n",
    "    X_unnorm = unnorm_X(X)\n",
    "    objective_X = []\n",
    "    for x in X_unnorm:\n",
    "        np.random.seed(0)\n",
    "        object_location, object_location2, robot_location, robot_location2 = torch.tensor(robot_pushing_14d(x[0].item(), x[1].item(), x[2].item(), x[3].item(), x[4].item(), x[5].item(), x[6].item(), x[7].item(), x[8].item(), x[9].item(), x[10].item(), x[11].item(), x[12].item(), x[13].item()))\n",
    "        objective_X.append(-torch.dist(target_location, object_location)-torch.dist(target_location2, object_location2))\n",
    "    np.random.seed()  # Reset the seed\n",
    "    \n",
    "    return torch.tensor(objective_X)"
   ]
  },
  {
   "cell_type": "code",
   "execution_count": 8,
   "metadata": {},
   "outputs": [
    {
     "data": {
      "text/plain": [
       "<torch._C.Generator at 0x12114aef0>"
      ]
     },
     "execution_count": 8,
     "metadata": {},
     "output_type": "execute_result"
    }
   ],
   "source": [
    "seed = 1\n",
    "torch.manual_seed(seed)"
   ]
  },
  {
   "cell_type": "code",
   "execution_count": 9,
   "metadata": {},
   "outputs": [],
   "source": [
    "dim = 14\n",
    "bounds = torch.stack([torch.zeros(dim), torch.ones(dim)])\n",
    "init_x = draw_sobol_samples(bounds=bounds, n=1, q=2*(dim+1)).squeeze(0)"
   ]
  },
  {
   "cell_type": "code",
   "execution_count": 10,
   "metadata": {},
   "outputs": [
    {
     "data": {
      "text/plain": [
       "tensor([[0.2677, 0.3618, 0.7123, 0.0310, 0.5429, 0.3926, 0.8598, 0.8567, 0.9390,\n",
       "         0.6023, 0.6899, 0.1173, 0.8344, 0.0827],\n",
       "        [0.7407, 0.6302, 0.7171, 0.5266, 0.4053, 0.0307, 0.8213, 0.0118, 0.0054,\n",
       "         0.9607, 0.5815, 0.1177, 0.4939, 0.2619],\n",
       "        [0.6397, 0.9895, 0.6932, 0.4126, 0.3130, 0.9818, 0.7207, 0.5350, 0.6260,\n",
       "         0.2308, 0.9248, 0.2234, 0.9211, 0.9408],\n",
       "        [0.5096, 0.9172, 0.2922, 0.5778, 0.6194, 0.2053, 0.3703, 0.5456, 0.2116,\n",
       "         0.8923, 0.0013, 0.2025, 0.9183, 0.3255],\n",
       "        [0.7837, 0.5901, 0.3254, 0.4888, 0.8794, 0.1323, 0.6752, 0.5275, 0.6865,\n",
       "         0.1164, 0.8389, 0.5008, 0.2496, 0.5004],\n",
       "        [0.1528, 0.5619, 0.7670, 0.6909, 0.6614, 0.5812, 0.3681, 0.1230, 0.0721,\n",
       "         0.7912, 0.8940, 0.5347, 0.5987, 0.3354],\n",
       "        [0.2429, 0.7513, 0.4091, 0.7259, 0.5667, 0.3851, 0.9339, 0.1507, 0.7085,\n",
       "         0.3987, 0.9743, 0.0327, 0.7866, 0.5466],\n",
       "        [0.1582, 0.0296, 0.1630, 0.7866, 0.1217, 0.8445, 0.5881, 0.9087, 0.3270,\n",
       "         0.9635, 0.3642, 0.0345, 0.9199, 0.7002],\n",
       "        [0.0639, 0.6930, 0.3091, 0.3782, 0.4832, 0.5240, 0.5682, 0.9088, 0.9342,\n",
       "         0.9996, 0.5704, 0.7827, 0.6187, 0.1426],\n",
       "        [0.6203, 0.8256, 0.3022, 0.1428, 0.9205, 0.4914, 0.6725, 0.8339, 0.4277,\n",
       "         0.8691, 0.1215, 0.1732, 0.6577, 0.8876],\n",
       "        [0.0491, 0.8494, 0.4584, 0.4766, 0.1901, 0.8524, 0.2228, 0.7050, 0.3486,\n",
       "         0.6251, 0.2749, 0.2888, 0.2111, 0.2282],\n",
       "        [0.2875, 0.8129, 0.8095, 0.7263, 0.4721, 0.8190, 0.7989, 0.3810, 0.6962,\n",
       "         0.4728, 0.8204, 0.9815, 0.0394, 0.9508],\n",
       "        [0.2432, 0.0861, 0.8715, 0.6649, 0.9799, 0.3353, 0.1757, 0.9030, 0.1261,\n",
       "         0.9016, 0.0417, 0.6145, 0.7574, 0.6675],\n",
       "        [0.9323, 0.3999, 0.8670, 0.1256, 0.9337, 0.8020, 0.6820, 0.9400, 0.4358,\n",
       "         0.2899, 0.4489, 0.8821, 0.8542, 0.1960],\n",
       "        [0.2023, 0.9920, 0.9691, 0.6136, 0.2589, 0.0959, 0.5447, 0.1913, 0.1530,\n",
       "         0.3845, 0.9933, 0.2987, 0.0641, 0.0338],\n",
       "        [0.1082, 0.8156, 0.3080, 0.4346, 0.6519, 0.3998, 0.1713, 0.3470, 0.6449,\n",
       "         0.7932, 0.3629, 0.2300, 0.3710, 0.1396],\n",
       "        [0.4208, 0.1884, 0.7202, 0.0108, 0.9589, 0.8860, 0.0016, 0.5845, 0.4404,\n",
       "         0.4051, 0.3952, 0.8288, 0.8825, 0.4963],\n",
       "        [0.1164, 0.5455, 0.4823, 0.2214, 0.2227, 0.8132, 0.7674, 0.3253, 0.6543,\n",
       "         0.1922, 0.6415, 0.2623, 0.0532, 0.8104],\n",
       "        [0.1632, 0.2622, 0.4440, 0.4425, 0.2845, 0.5613, 0.4083, 0.2954, 0.2603,\n",
       "         0.7387, 0.0456, 0.5413, 0.5645, 0.8910],\n",
       "        [0.8514, 0.4939, 0.4570, 0.7505, 0.3780, 0.4412, 0.6354, 0.6010, 0.9923,\n",
       "         0.8059, 0.0020, 0.7420, 0.0452, 0.4263],\n",
       "        [0.2526, 0.8351, 0.5956, 0.6698, 0.0414, 0.8029, 0.0032, 0.5702, 0.8621,\n",
       "         0.2521, 0.6312, 0.4841, 0.9853, 0.4210],\n",
       "        [0.7564, 0.1238, 0.6667, 0.4421, 0.6672, 0.7601, 0.6478, 0.4844, 0.7770,\n",
       "         0.5318, 0.6694, 0.2999, 0.9531, 0.5942],\n",
       "        [0.2163, 0.7345, 0.3758, 0.5817, 0.1409, 0.7953, 0.4748, 0.6980, 0.5668,\n",
       "         0.2765, 0.4562, 0.9877, 0.9642, 0.3984],\n",
       "        [0.1265, 0.2918, 0.5176, 0.3167, 0.7265, 0.8122, 0.0120, 0.8732, 0.9820,\n",
       "         0.6455, 0.5795, 0.3749, 0.0208, 0.3384],\n",
       "        [0.0681, 0.7316, 0.8974, 0.2433, 0.8973, 0.4081, 0.0399, 0.5405, 0.0608,\n",
       "         0.8895, 0.4763, 0.6327, 0.3259, 0.9708],\n",
       "        [0.4215, 0.8964, 0.0028, 0.4363, 0.8394, 0.8158, 0.7504, 0.2755, 0.3865,\n",
       "         0.3878, 0.3134, 0.8495, 0.2350, 0.1080],\n",
       "        [0.0976, 0.8522, 0.2882, 0.0245, 0.7105, 0.5041, 0.2930, 0.7542, 0.9114,\n",
       "         0.9042, 0.7660, 0.2763, 0.2421, 0.0933],\n",
       "        [0.5151, 0.3558, 0.2232, 0.5886, 0.3504, 0.4962, 0.7496, 0.5118, 0.6012,\n",
       "         0.8978, 0.8328, 0.1304, 0.9561, 0.9049],\n",
       "        [0.8854, 0.5352, 0.3390, 0.8715, 0.2730, 0.8527, 0.5572, 0.7224, 0.1328,\n",
       "         0.9898, 0.4846, 0.4970, 0.0695, 0.2425],\n",
       "        [0.9987, 0.8899, 0.0308, 0.0425, 0.7281, 0.2092, 0.9703, 0.9885, 0.8096,\n",
       "         0.0444, 0.7757, 0.0110, 0.0939, 0.7785]])"
      ]
     },
     "execution_count": 10,
     "metadata": {},
     "output_type": "execute_result"
    }
   ],
   "source": [
    "init_x"
   ]
  },
  {
   "cell_type": "code",
   "execution_count": 13,
   "metadata": {},
   "outputs": [
    {
     "data": {
      "text/plain": [
       "tensor([-14.7659, -12.2576, -12.2576, -12.2576, -12.2576, -13.4437, -12.2576,\n",
       "        -12.2576, -12.2576, -12.2576, -12.2576, -12.2576, -14.0308, -12.2576,\n",
       "        -12.3664, -12.6729, -12.3685, -12.2576, -12.8875, -12.2576, -13.5099,\n",
       "        -12.2576, -12.7769, -12.3122, -12.2576, -12.2576, -12.2576, -11.9910,\n",
       "        -11.9794, -12.2576])"
      ]
     },
     "execution_count": 13,
     "metadata": {},
     "output_type": "execute_result"
    }
   ],
   "source": [
    "objective_function(init_x)"
   ]
  },
  {
   "cell_type": "code",
   "execution_count": 14,
   "metadata": {},
   "outputs": [],
   "source": [
    "from pandora_bayesopt.bayesianoptimizer import BayesianOptimizer\n",
    "from botorch.utils.sampling import draw_sobol_samples\n",
    "from botorch.acquisition.predictive_entropy_search import qPredictiveEntropySearch"
   ]
  },
  {
   "cell_type": "code",
   "execution_count": 15,
   "metadata": {},
   "outputs": [
    {
     "name": "stdout",
     "output_type": "stream",
     "text": [
      "Iteration 0, New point: [0.74732677 0.589306   0.31848285 0.59459996 0.53361456 0.60007322\n",
      " 0.81595371 0.41642292 0.64887248 0.50181698 0.78339512 0.13239732\n",
      " 0.7147757  0.90248912], New value: -12.257621159724565\n",
      "Best observed value: -11.979440263560832\n",
      "Current acquisition value: 0.19802843534595094\n",
      "Cumulative cost: 1.0\n",
      "Running time: 129.607935\n",
      "\n",
      "Iteration 1, New point: [0.63867621 0.64245318 0.18919789 0.67612231 0.38800106 0.76245487\n",
      " 0.62490155 0.63415543 0.54403358 0.75370564 0.46894034 0.53042456\n",
      " 0.02266885 0.33417419], New value: -12.314867938948597\n",
      "Best observed value: -11.979440263560832\n",
      "Current acquisition value: 0.19762863015150495\n",
      "Cumulative cost: 2.0\n",
      "Running time: 136.79211400000003\n",
      "\n"
     ]
    }
   ],
   "source": [
    "maximize = True\n",
    "input_standardize = True\n",
    "num_iterations = 2\n",
    "Optimizer = BayesianOptimizer(\n",
    "        objective=objective_function, \n",
    "        dim=dim, \n",
    "        maximize=maximize, \n",
    "        initial_points=init_x, \n",
    "        input_standardize=input_standardize\n",
    "    )\n",
    "Optimizer.run(\n",
    "            num_iterations=num_iterations,\n",
    "            acquisition_function_class = qPredictiveEntropySearch\n",
    "        )"
   ]
  },
  {
   "cell_type": "code",
   "execution_count": 13,
   "metadata": {},
   "outputs": [
    {
     "name": "stdout",
     "output_type": "stream",
     "text": [
      "Iteration 0, New point: [0.46998962 0.51364129 0.23806391 0.66094288 0.40406133 0.49301577\n",
      " 0.83252579 0.41030259 0.61191021 0.73049367 0.86253172 0.07536587\n",
      " 0.88080394 0.85809839], New value: -12.714719352648768\n",
      "Best observed value: -11.979440263560832\n",
      "Current acquisition value: tensor(0.4643)\n",
      "Cumulative cost: tensor(1.)\n",
      "Running time: 777.3063669999999\n",
      "\n"
     ]
    },
    {
     "name": "stderr",
     "output_type": "stream",
     "text": [
      "/Users/qianxie/Desktop/Curriculum/Graduate/Research/PandoraBayesOPT/pandorabayesopt_env/lib/python3.9/site-packages/botorch/models/gpytorch.py:99: BotorchTensorDimensionWarning: Non-strict enforcement of botorch tensor conventions. The following error would have been raised with strict enforcement: Expected X and Y to have the same number of dimensions (got X with dimension 3 and Y with dimension 4).\n",
      "  warnings.warn(\n",
      "/Users/qianxie/Desktop/Curriculum/Graduate/Research/PandoraBayesOPT/pandorabayesopt_env/lib/python3.9/site-packages/botorch/models/gpytorch.py:99: BotorchTensorDimensionWarning: Non-strict enforcement of botorch tensor conventions. The following error would have been raised with strict enforcement: Expected X and Y to have the same number of dimensions (got X with dimension 4 and Y with dimension 5).\n",
      "  warnings.warn(\n",
      "/Users/qianxie/Desktop/Curriculum/Graduate/Research/PandoraBayesOPT/pandorabayesopt_env/lib/python3.9/site-packages/botorch/models/gpytorch.py:99: BotorchTensorDimensionWarning: Non-strict enforcement of botorch tensor conventions. The following error would have been raised with strict enforcement: Expected X and Y to have the same number of dimensions (got X with dimension 5 and Y with dimension 6).\n",
      "  warnings.warn(\n"
     ]
    },
    {
     "name": "stdout",
     "output_type": "stream",
     "text": [
      "Iteration 1, New point: [0.46458694 0.25404045 0.17119677 0.6043153  0.26967387 0.53810771\n",
      " 0.70317251 0.62482248 0.5450931  1.         0.76217294 0.11723842\n",
      " 0.99513089 0.90768712], New value: -12.962865576872105\n",
      "Best observed value: -11.979440263560832\n",
      "Current acquisition value: tensor(0.5008)\n",
      "Cumulative cost: tensor(2.)\n",
      "Running time: 1043.857674\n",
      "\n"
     ]
    }
   ],
   "source": [
    "maximize = True\n",
    "input_standardize = True\n",
    "num_iterations = 2\n",
    "Optimizer = BayesianOptimizer(\n",
    "        objective=objective_function, \n",
    "        dim=dim, \n",
    "        maximize=maximize, \n",
    "        initial_points=init_x, \n",
    "        input_standardize=input_standardize\n",
    "    )\n",
    "Optimizer.run(\n",
    "            num_iterations=num_iterations,\n",
    "            acquisition_function_class = MultiStepLookaheadEI\n",
    "        )"
   ]
  },
  {
   "cell_type": "code",
   "execution_count": 11,
   "metadata": {},
   "outputs": [
    {
     "name": "stdout",
     "output_type": "stream",
     "text": [
      "Iteration 0, New point: [0.63179582 0.38636396 0.33572468 0.59879379 0.47067196 0.61691711\n",
      " 0.76765401 0.45453309 0.64104743 0.70200081 0.80235899 0.15181769\n",
      " 0.91285118 0.86440273], New value: -12.071019539287862\n",
      "Best observed value: -11.979440263560832\n",
      "Current acquisition value: -11.922940127479361\n",
      "Cumulative cost: 1.0\n",
      "Gittins lmbda: 0.1\n",
      "Running time: 19.823867999999997\n",
      "\n",
      "Iteration 1, New point: [0.44111386 0.53332271 0.22080603 0.66361186 0.39190687 0.45327023\n",
      " 0.84289532 0.39394119 0.61250603 0.74397337 0.88299684 0.06689219\n",
      " 0.8794775  0.85707015], New value: -13.042746450735962\n",
      "Best observed value: -11.979440263560832\n",
      "Current acquisition value: -11.928444233224031\n",
      "Cumulative cost: 2.0\n",
      "Gittins lmbda: 0.1\n",
      "Running time: 18.535795999999998\n",
      "\n"
     ]
    }
   ],
   "source": [
    "maximize = True\n",
    "input_standardize = True\n",
    "num_iterations = 2\n",
    "Optimizer = BayesianOptimizer(\n",
    "        objective=objective_function, \n",
    "        dim=dim, \n",
    "        maximize=maximize, \n",
    "        initial_points=init_x, \n",
    "        input_standardize=input_standardize\n",
    "    )\n",
    "Optimizer.run(\n",
    "            num_iterations=num_iterations,\n",
    "            acquisition_function_class = GittinsIndex,\n",
    "            step_divide = True,\n",
    "            alpha=2\n",
    "        )"
   ]
  }
 ],
 "metadata": {
  "kernelspec": {
   "display_name": "pandorabayesopt_env",
   "language": "python",
   "name": "python3"
  },
  "language_info": {
   "codemirror_mode": {
    "name": "ipython",
    "version": 3
   },
   "file_extension": ".py",
   "mimetype": "text/x-python",
   "name": "python",
   "nbconvert_exporter": "python",
   "pygments_lexer": "ipython3",
   "version": "3.9.18"
  }
 },
 "nbformat": 4,
 "nbformat_minor": 2
}
