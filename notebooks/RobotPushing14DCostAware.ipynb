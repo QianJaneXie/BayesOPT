{
 "cells": [
  {
   "cell_type": "code",
   "execution_count": 1,
   "metadata": {},
   "outputs": [
    {
     "name": "stdout",
     "output_type": "stream",
     "text": [
      "pygame 2.1.0 (SDL 2.0.16, Python 3.9.18)\n",
      "Hello from the pygame community. https://www.pygame.org/contribute.html\n"
     ]
    }
   ],
   "source": [
    "from pandora_bayesopt.test_functions.robot_pushing.robot_pushing import robot_pushing_14d"
   ]
  },
  {
   "cell_type": "code",
   "execution_count": 2,
   "metadata": {},
   "outputs": [],
   "source": [
    "import torch\n",
    "from torch import Tensor\n",
    "import numpy as np\n",
    "from botorch.utils.sampling import draw_sobol_samples\n",
    "from botorch.acquisition import ExpectedImprovement\n",
    "from pandora_bayesopt.acquisition.ei_puc import ExpectedImprovementWithCost\n",
    "from pandora_bayesopt.acquisition.gittins import GittinsIndex\n",
    "from pandora_bayesopt.acquisition.budgeted_multi_step_ei import BudgetedMultiStepLookaheadEI\n",
    "from pandora_bayesopt.bayesianoptimizer import BayesianOptimizer"
   ]
  },
  {
   "cell_type": "code",
   "execution_count": 3,
   "metadata": {},
   "outputs": [],
   "source": [
    "# use a GPU if available\n",
    "device = torch.device(\"cuda\" if torch.cuda.is_available() else \"cpu\")\n",
    "\n",
    "# Set default tensor type to float64\n",
    "torch.set_default_dtype(torch.float64)"
   ]
  },
  {
   "cell_type": "code",
   "execution_count": 4,
   "metadata": {},
   "outputs": [
    {
     "data": {
      "text/plain": [
       "<torch._C.Generator at 0x11c27ef50>"
      ]
     },
     "execution_count": 4,
     "metadata": {},
     "output_type": "execute_result"
    }
   ],
   "source": [
    "seed = 42\n",
    "torch.manual_seed(seed)"
   ]
  },
  {
   "cell_type": "code",
   "execution_count": 5,
   "metadata": {},
   "outputs": [],
   "source": [
    "target_location = 10.0 * torch.rand([2]) - 5.0\n",
    "target_location2 = 10.0 * torch.rand([2]) - 5.0"
   ]
  },
  {
   "cell_type": "code",
   "execution_count": 6,
   "metadata": {},
   "outputs": [
    {
     "data": {
      "text/plain": [
       "(tensor([-4.4185, -4.3709]), tensor([-3.7641, -4.4742]))"
      ]
     },
     "execution_count": 6,
     "metadata": {},
     "output_type": "execute_result"
    }
   ],
   "source": [
    "target_location, target_location2"
   ]
  },
  {
   "cell_type": "code",
   "execution_count": 7,
   "metadata": {},
   "outputs": [],
   "source": [
    "init_location = torch.tensor([0, 2])\n",
    "init_location2 = torch.tensor([0, -2])"
   ]
  },
  {
   "cell_type": "code",
   "execution_count": 37,
   "metadata": {},
   "outputs": [],
   "source": [
    "def unnorm_X(X: torch.Tensor) -> torch.Tensor:\n",
    "    X_unnorm = X.clone()\n",
    "    # Check if the tensor is higher than 3-dimensional\n",
    "    if X.dim() > 3:\n",
    "        # Assuming the extra unwanted dimension is at position 1 (the second position)\n",
    "        X_unnorm = X_unnorm.view(-1, X.size(-1))  # Remove the singleton dimension\n",
    "    # Check the dimensionality of X and adjust accordingly\n",
    "    if X.dim() == 3:\n",
    "        # Remove the singleton dimension assuming it's the second one\n",
    "        X_unnorm = X_unnorm.squeeze(1)\n",
    "    elif X.dim() == 1:\n",
    "        # If 1-dimensional, add a dimension to make it 2D (e.g., for batch size of 1)\n",
    "        X_unnorm = X_unnorm.unsqueeze(0)\n",
    "    X_unnorm[:, :2] = 10.0 * X_unnorm[:, :2] - 5.0\n",
    "    X_unnorm[:, 2:4] = 5 * X_unnorm[:, 2:4]\n",
    "    X_unnorm[:, 4] = 29.0 * X_unnorm[:, 4] + 1.0\n",
    "    X_unnorm[:, 5] = 2 * np.pi * X_unnorm[:, 5]\n",
    "    X_unnorm[:, 6:8] = 10.0 * X_unnorm[:, 6:8] - 5.0\n",
    "    X_unnorm[:, 8:10] = 5 * X_unnorm[:, 8:10]\n",
    "    X_unnorm[:, 10] = 29 * X_unnorm[:, 10] + 1.0\n",
    "    X_unnorm[:, 11] = 2 * np.pi * X_unnorm[:, 11]\n",
    "    X_unnorm[:, 12:] = 2 * np.pi * X_unnorm[:, 12:]\n",
    "\n",
    "    return X_unnorm\n",
    "\n",
    "def objective_cost_function(X: torch.Tensor) -> torch.Tensor:\n",
    "    X_unnorm = unnorm_X(X)\n",
    "    objective_X = []\n",
    "    cost_X = []\n",
    "    \n",
    "    for x in X_unnorm:\n",
    "        np.random.seed(0)\n",
    "        object_location, object_location2, robot_location, robot_location2 = torch.tensor(robot_pushing_14d(x[0].item(), x[1].item(), x[2].item(), x[3].item(), x[4].item(), x[5].item(), x[6].item(), x[7].item(), x[8].item(), x[9].item(), x[10].item(), x[11].item(), x[12].item(), x[13].item()))\n",
    "        objective_X.append(-torch.dist(target_location, object_location)-torch.dist(target_location2, object_location2))\n",
    "        moving_distance = torch.dist(x[:2], robot_location)+torch.dist(x[6:8], robot_location2)+0.1\n",
    "        \n",
    "        cost_X.append(moving_distance)\n",
    "\n",
    "    np.random.seed()  # Reset the seed\n",
    "    \n",
    "    objective_X = torch.tensor(objective_X)\n",
    "    cost_X = torch.tensor(cost_X)\n",
    "    return objective_X, cost_X"
   ]
  },
  {
   "cell_type": "code",
   "execution_count": 9,
   "metadata": {},
   "outputs": [
    {
     "data": {
      "text/plain": [
       "<torch._C.Generator at 0x11c27ef50>"
      ]
     },
     "execution_count": 9,
     "metadata": {},
     "output_type": "execute_result"
    }
   ],
   "source": [
    "seed = 1\n",
    "torch.manual_seed(seed)"
   ]
  },
  {
   "cell_type": "code",
   "execution_count": 10,
   "metadata": {},
   "outputs": [],
   "source": [
    "dim = 14\n",
    "bounds = torch.stack([torch.zeros(dim), torch.ones(dim)])\n",
    "init_x = draw_sobol_samples(bounds=bounds, n=1, q=2*(dim+1)).squeeze(0)"
   ]
  },
  {
   "cell_type": "code",
   "execution_count": 16,
   "metadata": {},
   "outputs": [],
   "source": [
    "objective_X, cost_X = objective_cost_function(init_x)"
   ]
  },
  {
   "cell_type": "code",
   "execution_count": 17,
   "metadata": {},
   "outputs": [
    {
     "data": {
      "text/plain": [
       "(tensor([-14.7659, -12.2576, -12.2576, -12.2576, -12.2576, -13.4437, -12.2576,\n",
       "         -12.2576, -12.2576, -12.2576, -12.2576, -12.2576, -14.0308, -12.2576,\n",
       "         -12.3664, -12.6729, -12.3685, -12.2576, -12.8875, -12.2576, -13.5099,\n",
       "         -12.2576, -12.7769, -12.3122, -12.2576, -12.2576, -12.2576, -11.9910,\n",
       "         -11.9794, -12.2576]),\n",
       " tensor([14.9645, 13.3399, 11.6955,  5.9913, 14.2644, 18.1455, 17.1731,  7.5569,\n",
       "         14.9609,  5.4775,  4.7969, 17.1050, 15.3101, 14.0806,  8.7827,  9.3806,\n",
       "         12.3590,  7.4306,  2.9377,  6.3146,  8.5321, 16.2050,  5.2135, 15.5288,\n",
       "         17.5221,  6.4471, 16.4901, 16.5528, 11.3678,  8.4962]))"
      ]
     },
     "execution_count": 17,
     "metadata": {},
     "output_type": "execute_result"
    }
   ],
   "source": [
    "objective_X, cost_X"
   ]
  },
  {
   "cell_type": "code",
   "execution_count": 18,
   "metadata": {},
   "outputs": [
    {
     "name": "stdout",
     "output_type": "stream",
     "text": [
      "Iteration 0, New point: [0.57842758 0.87961768 0.26781945 0.36382642 0.73224356 0.38738398\n",
      " 0.54794989 0.67008403 0.33032038 0.86813636 0.06791416 0.19406101\n",
      " 0.75371731 0.62978602], New value: -12.207867930901958\n",
      "Best observed value: -11.979440263560832\n",
      "Current acquisition value: 0.013591923351439997\n",
      "Cumulative cost: 5.406435062048684\n",
      "Running time: 8.181542999999998\n",
      "\n",
      "Iteration 1, New point: [0.56135752 0.77866619 0.27742945 0.34275905 0.65971034 0.55693654\n",
      " 0.61282477 0.67557888 0.4010546  0.79513321 0.09932942 0.30696246\n",
      " 0.46986676 0.71806048], New value: -12.159645052713874\n",
      "Best observed value: -11.979440263560832\n",
      "Current acquisition value: 0.014211666627187692\n",
      "Cumulative cost: 11.211253777605517\n",
      "Running time: 6.936563999999999\n",
      "\n",
      "Iteration 2, New point: [0.46030229 0.80841257 0.29883932 0.50290263 0.43872943 0.52804327\n",
      " 0.47924061 0.6098113  0.28342876 0.79739921 0.07519244 0.29477269\n",
      " 0.57616047 0.47218064], New value: -12.987528597786426\n",
      "Best observed value: -11.979440263560832\n",
      "Current acquisition value: 0.015408126166912624\n",
      "Cumulative cost: 15.33991233552291\n",
      "Running time: 6.726178000000001\n",
      "\n",
      "Iteration 3, New point: [0.68747284 0.76655339 0.26124646 0.33348228 0.76425781 0.39920935\n",
      " 0.66144477 0.58000922 0.44226691 0.82534002 0.08749125 0.27766581\n",
      " 0.62266017 0.8715041 ], New value: -12.257621159724565\n",
      "Best observed value: -11.979440263560832\n",
      "Current acquisition value: 0.016405104312206136\n",
      "Cumulative cost: 20.85892990316897\n",
      "Running time: 8.478748999999997\n",
      "\n"
     ]
    }
   ],
   "source": [
    "maximize = True\n",
    "input_standardize = True\n",
    "budget = 20\n",
    "Optimizer = BayesianOptimizer(\n",
    "        objective_cost=objective_cost_function, \n",
    "        dim=dim, \n",
    "        maximize=maximize, \n",
    "        initial_points=init_x, \n",
    "        input_standardize=input_standardize\n",
    "    )\n",
    "Optimizer.run_until_budget(\n",
    "            budget=budget,\n",
    "            acquisition_function_class = ExpectedImprovementWithCost\n",
    "        )"
   ]
  },
  {
   "cell_type": "code",
   "execution_count": 19,
   "metadata": {},
   "outputs": [
    {
     "name": "stdout",
     "output_type": "stream",
     "text": [
      "Iteration 0, New point: [0.56422224 0.67087796 0.34145352 0.65339473 0.27987554 0.7885727\n",
      " 0.49838885 0.69310072 0.35522463 0.78513832 0.25163533 0.46447239\n",
      " 0.12382329 0.30176179], New value: -14.056389940631117\n",
      "Best observed value: -11.979440263560832\n",
      "Current acquisition value: -10.769536565620601\n",
      "Cumulative cost: 5.0301266346352875\n",
      "Running time: 18.603854\n",
      "\n",
      "Iteration 1, New point: [0.64864001 0.75311841 0.27029397 0.40734736 0.64476262 0.36764584\n",
      " 0.56944918 0.55067039 0.35569456 0.85066346 0.08952755 0.17397713\n",
      " 0.92756943 0.74561181], New value: -12.249035999170989\n",
      "Best observed value: -11.979440263560832\n",
      "Current acquisition value: -10.652211572468318\n",
      "Cumulative cost: 10.58044120187924\n",
      "Running time: 22.491062\n",
      "\n",
      "Iteration 2, New point: [0.31676408 0.94871247 0.25982836 0.31000382 0.71358482 0.39847665\n",
      " 0.56863652 0.66402787 0.32883151 0.85991612 0.07219499 0.15998541\n",
      " 0.80158578 0.73204078], New value: -12.248238729283987\n",
      "Best observed value: -11.979440263560832\n",
      "Current acquisition value: -10.657284280746126\n",
      "Cumulative cost: 15.401410821611476\n",
      "Running time: 21.728339000000005\n",
      "\n",
      "Iteration 3, New point: [0.64938417 1.         0.25753995 0.1644449  0.76683256 0.33843547\n",
      " 0.52587296 0.70813446 0.21852746 0.86207957 0.05511459 0.08328172\n",
      " 0.7278751  0.4566875 ], New value: -12.483535198391841\n",
      "Best observed value: -11.979440263560832\n",
      "Current acquisition value: -10.670503054373686\n",
      "Cumulative cost: 18.78197299075326\n",
      "Running time: 31.099536999999998\n",
      "\n",
      "Iteration 4, New point: [0.57721557 1.         0.26565642 0.19771375 0.68966516 0.33002183\n",
      " 0.44916929 0.56153586 0.18051501 0.79503628 0.04917591 0.37682958\n",
      " 0.64779383 0.99205064], New value: -12.490895206551093\n",
      "Best observed value: -11.979440263560832\n",
      "Current acquisition value: -10.711088529155564\n",
      "Cumulative cost: 21.88139797087169\n",
      "Running time: 35.572992\n",
      "\n"
     ]
    }
   ],
   "source": [
    "maximize = True\n",
    "input_standardize = True\n",
    "budget = 20\n",
    "Optimizer = BayesianOptimizer(\n",
    "        objective_cost=objective_cost_function, \n",
    "        dim=dim, \n",
    "        maximize=maximize, \n",
    "        initial_points=init_x, \n",
    "        input_standardize=input_standardize\n",
    "    )\n",
    "Optimizer.run_until_budget(\n",
    "            budget=budget,\n",
    "            acquisition_function_class = GittinsIndex,\n",
    "            lmbda = 0.0001\n",
    "        )"
   ]
  }
 ],
 "metadata": {
  "kernelspec": {
   "display_name": "pandorabayesopt_env",
   "language": "python",
   "name": "python3"
  },
  "language_info": {
   "codemirror_mode": {
    "name": "ipython",
    "version": 3
   },
   "file_extension": ".py",
   "mimetype": "text/x-python",
   "name": "python",
   "nbconvert_exporter": "python",
   "pygments_lexer": "ipython3",
   "version": "3.9.18"
  }
 },
 "nbformat": 4,
 "nbformat_minor": 2
}
