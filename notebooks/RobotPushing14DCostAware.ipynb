{
 "cells": [
  {
   "cell_type": "code",
   "execution_count": 1,
   "metadata": {},
   "outputs": [
    {
     "name": "stdout",
     "output_type": "stream",
     "text": [
      "pygame 2.1.0 (SDL 2.0.16, Python 3.9.18)\n",
      "Hello from the pygame community. https://www.pygame.org/contribute.html\n"
     ]
    }
   ],
   "source": [
    "from pandora_bayesopt.test_functions.robot_pushing.robot_pushing import robot_pushing_14d"
   ]
  },
  {
   "cell_type": "code",
   "execution_count": 2,
   "metadata": {},
   "outputs": [],
   "source": [
    "import torch\n",
    "from torch import Tensor\n",
    "import numpy as np\n",
    "from botorch.utils.sampling import draw_sobol_samples\n",
    "# from botorch.acquisition import ExpectedImprovement\n",
    "# from pandora_bayesopt.acquisition.ei_puc import ExpectedImprovementWithCost\n",
    "# from pandora_bayesopt.acquisition.gittins import GittinsIndex\n",
    "# from pandora_bayesopt.acquisition.budgeted_multi_step_ei import BudgetedMultiStepLookaheadEI\n",
    "from pandora_bayesopt.bayesianoptimizer import BayesianOptimizer"
   ]
  },
  {
   "cell_type": "code",
   "execution_count": 3,
   "metadata": {},
   "outputs": [],
   "source": [
    "# use a GPU if available\n",
    "device = torch.device(\"cuda\" if torch.cuda.is_available() else \"cpu\")\n",
    "\n",
    "# Set default tensor type to float64\n",
    "torch.set_default_dtype(torch.float64)"
   ]
  },
  {
   "cell_type": "code",
   "execution_count": 4,
   "metadata": {},
   "outputs": [
    {
     "data": {
      "text/plain": [
       "<torch._C.Generator at 0x12e410e10>"
      ]
     },
     "execution_count": 4,
     "metadata": {},
     "output_type": "execute_result"
    }
   ],
   "source": [
    "seed = 42\n",
    "torch.manual_seed(seed)"
   ]
  },
  {
   "cell_type": "code",
   "execution_count": 5,
   "metadata": {},
   "outputs": [],
   "source": [
    "target_location = 10.0 * torch.rand([2]) - 5.0\n",
    "target_location2 = 10.0 * torch.rand([2]) - 5.0"
   ]
  },
  {
   "cell_type": "code",
   "execution_count": 6,
   "metadata": {},
   "outputs": [
    {
     "data": {
      "text/plain": [
       "(tensor([-4.4185, -4.3709]), tensor([-3.7641, -4.4742]))"
      ]
     },
     "execution_count": 6,
     "metadata": {},
     "output_type": "execute_result"
    }
   ],
   "source": [
    "target_location, target_location2"
   ]
  },
  {
   "cell_type": "code",
   "execution_count": 7,
   "metadata": {},
   "outputs": [],
   "source": [
    "init_location = torch.tensor([0, 2])\n",
    "init_location2 = torch.tensor([0, -2])"
   ]
  },
  {
   "cell_type": "code",
   "execution_count": 9,
   "metadata": {},
   "outputs": [],
   "source": [
    "def unnorm_X(X: torch.Tensor) -> torch.Tensor:\n",
    "    X_unnorm = X.clone()\n",
    "    # Check if the tensor is higher than 3-dimensional\n",
    "    if X.dim() > 3:\n",
    "        # Assuming the extra unwanted dimension is at position 1 (the second position)\n",
    "        X_unnorm = X_unnorm.view(-1, X.size(-1))  # Remove the singleton dimension\n",
    "    # Check the dimensionality of X and adjust accordingly\n",
    "    if X.dim() == 3:\n",
    "        # Remove the singleton dimension assuming it's the second one\n",
    "        X_unnorm = X_unnorm.squeeze(1)\n",
    "    elif X.dim() == 1:\n",
    "        # If 1-dimensional, add a dimension to make it 2D (e.g., for batch size of 1)\n",
    "        X_unnorm = X_unnorm.unsqueeze(0)\n",
    "    X_unnorm[:, :2] = 10.0 * X_unnorm[:, :2] - 5.0\n",
    "    X_unnorm[:, 2:4] = 5 * X_unnorm[:, 2:4]\n",
    "    X_unnorm[:, 4] = 29.0 * X_unnorm[:, 4] + 1.0\n",
    "    X_unnorm[:, 5] = 2 * np.pi * X_unnorm[:, 5]\n",
    "    X_unnorm[:, 6:8] = 10.0 * X_unnorm[:, 6:8] - 5.0\n",
    "    X_unnorm[:, 8:10] = 5 * X_unnorm[:, 8:10]\n",
    "    X_unnorm[:, 10] = 29 * X_unnorm[:, 10] + 1.0\n",
    "    X_unnorm[:, 11] = 2 * np.pi * X_unnorm[:, 11]\n",
    "    X_unnorm[:, 12:] = 2 * np.pi * X_unnorm[:, 12:]\n",
    "\n",
    "    return X_unnorm\n",
    "\n",
    "def objective_cost_function(X: torch.Tensor) -> torch.Tensor:\n",
    "    X_unnorm = unnorm_X(X)\n",
    "    objective_X = []\n",
    "    cost_X = []\n",
    "    \n",
    "    for x in X_unnorm:\n",
    "        np.random.seed(0)\n",
    "        object_location, object_location2, robot_location, robot_location2 = torch.tensor(robot_pushing_14d(x[0].item(), x[1].item(), x[2].item(), x[3].item(), x[4].item(), x[5].item(), x[6].item(), x[7].item(), x[8].item(), x[9].item(), x[10].item(), x[11].item(), x[12].item(), x[13].item()))\n",
    "        objective_X.append(-torch.dist(target_location, object_location)-torch.dist(target_location2, object_location2))\n",
    "        moving_distance = torch.dist(x[:2], robot_location)+torch.dist(x[6:8], robot_location2)+0.1\n",
    "        \n",
    "        cost_X.append(moving_distance)\n",
    "\n",
    "    np.random.seed()  # Reset the seed\n",
    "    \n",
    "    objective_X = torch.tensor(objective_X)\n",
    "    cost_X = torch.tensor(cost_X)\n",
    "    return objective_X, cost_X"
   ]
  },
  {
   "cell_type": "code",
   "execution_count": 9,
   "metadata": {},
   "outputs": [
    {
     "data": {
      "text/plain": [
       "<torch._C.Generator at 0x127f0df30>"
      ]
     },
     "execution_count": 9,
     "metadata": {},
     "output_type": "execute_result"
    }
   ],
   "source": [
    "seed = 1\n",
    "torch.manual_seed(seed)"
   ]
  },
  {
   "cell_type": "code",
   "execution_count": 10,
   "metadata": {},
   "outputs": [],
   "source": [
    "dim = 14\n",
    "bounds = torch.stack([torch.zeros(dim), torch.ones(dim)])\n",
    "init_x = draw_sobol_samples(bounds=bounds, n=1, q=2*(dim+1)).squeeze(0)"
   ]
  },
  {
   "cell_type": "code",
   "execution_count": 11,
   "metadata": {},
   "outputs": [],
   "source": [
    "objective_X, cost_X = objective_cost_function(init_x)"
   ]
  },
  {
   "cell_type": "code",
   "execution_count": 12,
   "metadata": {},
   "outputs": [
    {
     "data": {
      "text/plain": [
       "(tensor([-14.7659, -12.2576, -12.2576, -12.2576, -12.2576, -13.4437, -12.2576,\n",
       "         -12.2576, -12.2576, -12.2576, -12.2576, -12.2576, -14.0308, -12.2576,\n",
       "         -12.3664, -12.6729, -12.3685, -12.2576, -12.8875, -12.2576, -13.5099,\n",
       "         -12.2576, -12.7769, -12.3122, -12.2576, -12.2576, -12.2576, -11.9910,\n",
       "         -11.9794, -12.2576]),\n",
       " tensor([15.0645, 13.4399, 11.7955,  6.0913, 14.3644, 18.2455, 17.2731,  7.6569,\n",
       "         15.0609,  5.5775,  4.8969, 17.2050, 15.4101, 14.1806,  8.8827,  9.4806,\n",
       "         12.4590,  7.5306,  3.0377,  6.4146,  8.6321, 16.3050,  5.3135, 15.6288,\n",
       "         17.6221,  6.5471, 16.5901, 16.6528, 11.4678,  8.5962]))"
      ]
     },
     "execution_count": 12,
     "metadata": {},
     "output_type": "execute_result"
    }
   ],
   "source": [
    "objective_X, cost_X"
   ]
  },
  {
   "cell_type": "code",
   "execution_count": 13,
   "metadata": {},
   "outputs": [
    {
     "name": "stdout",
     "output_type": "stream",
     "text": [
      "357.42267252032934\n",
      "Iteration 0, New point: [0.14135802 0.74886461 0.4257125  0.46840969 0.1964887  0.84170694\n",
      " 0.34290749 0.67712155 0.35569603 0.61594825 0.25810555 0.34866355\n",
      " 0.12162245 0.46747142], New value: -12.456405716506502\n",
      "Best observed value: -11.979440263560832\n",
      "Current acquisition value: 0.07769895428256035\n",
      "Cumulative cost: 4.457966623134293\n",
      "Running time: 1756.5769879999998\n",
      "\n",
      "357.4226725203293\n"
     ]
    },
    {
     "name": "stderr",
     "output_type": "stream",
     "text": [
      "/Users/qianxie/Desktop/Curriculum/Graduate/Research/PandoraBayesOPT/pandorabayesopt_env/lib/python3.9/site-packages/botorch/models/gpytorch.py:99: BotorchTensorDimensionWarning: Non-strict enforcement of botorch tensor conventions. The following error would have been raised with strict enforcement: Expected X and Y to have the same number of dimensions (got X with dimension 3 and Y with dimension 4).\n",
      "  warnings.warn(\n",
      "/Users/qianxie/Desktop/Curriculum/Graduate/Research/PandoraBayesOPT/pandorabayesopt_env/lib/python3.9/site-packages/botorch/models/gpytorch.py:99: BotorchTensorDimensionWarning: Non-strict enforcement of botorch tensor conventions. The following error would have been raised with strict enforcement: Expected X and Y to have the same number of dimensions (got X with dimension 4 and Y with dimension 5).\n",
      "  warnings.warn(\n",
      "/Users/qianxie/Desktop/Curriculum/Graduate/Research/PandoraBayesOPT/pandorabayesopt_env/lib/python3.9/site-packages/botorch/models/gpytorch.py:99: BotorchTensorDimensionWarning: Non-strict enforcement of botorch tensor conventions. The following error would have been raised with strict enforcement: Expected X and Y to have the same number of dimensions (got X with dimension 5 and Y with dimension 6).\n",
      "  warnings.warn(\n",
      "/Users/qianxie/Desktop/Curriculum/Graduate/Research/PandoraBayesOPT/pandorabayesopt_env/lib/python3.9/site-packages/botorch/models/gpytorch.py:99: BotorchTensorDimensionWarning: Non-strict enforcement of botorch tensor conventions. The following error would have been raised with strict enforcement: Expected X and Y to have the same number of dimensions (got X with dimension 6 and Y with dimension 7).\n",
      "  warnings.warn(\n"
     ]
    },
    {
     "name": "stdout",
     "output_type": "stream",
     "text": [
      "Iteration 1, New point: [0.12851603 0.73105607 0.40261744 0.47537839 0.20244375 0.79228009\n",
      " 0.33864227 0.64284207 0.31570243 0.6479134  0.21184494 0.3715364\n",
      " 0.46730938 0.31453575], New value: -13.060730897545515\n",
      "Best observed value: -11.979440263560832\n",
      "Current acquisition value: 0.0349977671449512\n",
      "Cumulative cost: 8.038841429721792\n",
      "Running time: 277.72485099999994\n",
      "\n",
      "357.4226725203293\n"
     ]
    },
    {
     "name": "stderr",
     "output_type": "stream",
     "text": [
      "/Users/qianxie/Desktop/Curriculum/Graduate/Research/PandoraBayesOPT/pandorabayesopt_env/lib/python3.9/site-packages/botorch/models/gpytorch.py:99: BotorchTensorDimensionWarning: Non-strict enforcement of botorch tensor conventions. The following error would have been raised with strict enforcement: Expected X and Y to have the same number of dimensions (got X with dimension 3 and Y with dimension 4).\n",
      "  warnings.warn(\n",
      "/Users/qianxie/Desktop/Curriculum/Graduate/Research/PandoraBayesOPT/pandorabayesopt_env/lib/python3.9/site-packages/botorch/models/gpytorch.py:99: BotorchTensorDimensionWarning: Non-strict enforcement of botorch tensor conventions. The following error would have been raised with strict enforcement: Expected X and Y to have the same number of dimensions (got X with dimension 4 and Y with dimension 5).\n",
      "  warnings.warn(\n",
      "/Users/qianxie/Desktop/Curriculum/Graduate/Research/PandoraBayesOPT/pandorabayesopt_env/lib/python3.9/site-packages/botorch/models/gpytorch.py:99: BotorchTensorDimensionWarning: Non-strict enforcement of botorch tensor conventions. The following error would have been raised with strict enforcement: Expected X and Y to have the same number of dimensions (got X with dimension 5 and Y with dimension 6).\n",
      "  warnings.warn(\n",
      "/Users/qianxie/Desktop/Curriculum/Graduate/Research/PandoraBayesOPT/pandorabayesopt_env/lib/python3.9/site-packages/botorch/models/gpytorch.py:99: BotorchTensorDimensionWarning: Non-strict enforcement of botorch tensor conventions. The following error would have been raised with strict enforcement: Expected X and Y to have the same number of dimensions (got X with dimension 6 and Y with dimension 7).\n",
      "  warnings.warn(\n"
     ]
    },
    {
     "name": "stdout",
     "output_type": "stream",
     "text": [
      "Iteration 2, New point: [0.26063612 0.58015562 0.36887043 0.46410504 0.28327847 0.60813688\n",
      " 0.45259113 0.46869818 0.31936337 0.69175298 0.08704207 0.43504405\n",
      " 0.77908965 0.74146004], New value: -12.441184528715397\n",
      "Best observed value: -11.979440263560832\n",
      "Current acquisition value: 0.00066877526108295\n",
      "Cumulative cost: 11.439752058082547\n",
      "Running time: 325.09786099999997\n",
      "\n"
     ]
    }
   ],
   "source": [
    "Optimizer = BayesianOptimizer(\n",
    "        dim=dim, \n",
    "        maximize=True, \n",
    "        initial_points=init_x,\n",
    "        objective_cost=objective_cost_function, \n",
    "        input_standardize=True\n",
    "    )\n",
    "Optimizer.run_until_budget(\n",
    "    budget = 10,\n",
    "    acquisition_function_class=BudgetedMultiStepLookaheadEI\n",
    ")"
   ]
  },
  {
   "cell_type": "code",
   "execution_count": 14,
   "metadata": {},
   "outputs": [],
   "source": [
    "def objective_function(X: torch.Tensor) -> torch.Tensor:\n",
    "        X_unnorm = unnorm_X(X)\n",
    "        objective_X = []\n",
    "        for x in X_unnorm:\n",
    "                # Set the seed based on X to ensure consistent randomness\n",
    "                np.random.seed(0)\n",
    "                object_location, object_location2, robot_location, robot_location2 = torch.tensor(robot_pushing_14d(x[0].item(), x[1].item(), x[2].item(), x[3].item(), x[4].item(), x[5].item(), x[6].item(), x[7].item(), x[8].item(), x[9].item(), x[10].item(), x[11].item(), x[12].item(), x[13].item()))\n",
    "                objective_X.append(-torch.dist(target_location, object_location)-torch.dist(target_location2, object_location2))\n",
    "        np.random.seed()  # Reset the seed\n",
    "        return torch.tensor(objective_X)\n",
    "        \n",
    "def cost_function(X: torch.Tensor) -> torch.Tensor:\n",
    "        X_unnorm = unnorm_X(X)\n",
    "        return torch.max(X_unnorm[:, 4], X_unnorm[:, 10]).unsqueeze(0)"
   ]
  },
  {
   "cell_type": "code",
   "execution_count": 16,
   "metadata": {},
   "outputs": [],
   "source": [
    "seed = 1\n",
    "torch.manual_seed(seed)\n",
    "dim = 14\n",
    "bounds = torch.stack([torch.zeros(dim), torch.ones(dim)])\n",
    "init_x = draw_sobol_samples(bounds=bounds, n=1, q=2*(dim+1)).squeeze(0)"
   ]
  },
  {
   "cell_type": "code",
   "execution_count": 17,
   "metadata": {},
   "outputs": [
    {
     "name": "stdout",
     "output_type": "stream",
     "text": [
      "Iteration 0, New point: [0.89050487 0.92320345 0.45557586 0.82986061 0.87352606 0.34166862\n",
      " 0.32103348 0.56693015 0.02535154 0.57833602 0.69243414 0.21544393\n",
      " 0.60248031 0.18759451], New value: -12.257621159724565\n",
      "Best observed value: -11.979440263560832\n",
      "Current acquisition value: -8.083271503692927e-08\n",
      "Cumulative cost: 26.33225563261658\n",
      "Running time: 12.712875\n",
      "\n"
     ]
    }
   ],
   "source": [
    "from botorch.acquisition.max_value_entropy_search import qMultiFidelityMaxValueEntropy\n",
    "Optimizer = BayesianOptimizer(\n",
    "    dim=dim, \n",
    "    maximize=True, \n",
    "    initial_points=init_x,\n",
    "    objective=objective_function, \n",
    "    cost=cost_function,\n",
    "    output_standardize=True\n",
    "    )\n",
    "Optimizer.run_until_budget(\n",
    "    budget = 20,\n",
    "    acquisition_function_class=qMultiFidelityMaxValueEntropy\n",
    ")"
   ]
  }
 ],
 "metadata": {
  "kernelspec": {
   "display_name": "pandorabayesopt_env",
   "language": "python",
   "name": "python3"
  },
  "language_info": {
   "codemirror_mode": {
    "name": "ipython",
    "version": 3
   },
   "file_extension": ".py",
   "mimetype": "text/x-python",
   "name": "python",
   "nbconvert_exporter": "python",
   "pygments_lexer": "ipython3",
   "version": "3.9.18"
  }
 },
 "nbformat": 4,
 "nbformat_minor": 2
}
