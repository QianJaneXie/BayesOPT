{
 "cells": [
  {
   "cell_type": "code",
   "execution_count": null,
   "metadata": {},
   "outputs": [],
   "source": [
    "import numpy as np\n",
    "import pandas as pd\n",
    "from hpobench.benchmarks.ml.tabular_benchmark import TabularBenchmark\n",
    "from ConfigSpace.hyperparameters import OrdinalHyperparameter\n",
    "from ConfigSpace.configuration_space import ConfigurationSpace"
   ]
  },
  {
   "cell_type": "code",
   "execution_count": null,
   "metadata": {},
   "outputs": [],
   "source": [
    "benchmark = TabularBenchmark('nn', 31)"
   ]
  },
  {
   "cell_type": "code",
   "execution_count": null,
   "metadata": {},
   "outputs": [],
   "source": [
    "def find_nearest_ordinal(value: float, hyperparameter_type: OrdinalHyperparameter):\n",
    "    valid_values = np.array(hyperparameter_type.sequence)\n",
    "    nearest = np.argmin((valid_values - value)**2).item()\n",
    "    order = hyperparameter_type.get_seq_order()\n",
    "    return hyperparameter_type.get_value(order[nearest])\n",
    "\n",
    "def round_to_valid_config(values: dict, space: ConfigurationSpace):\n",
    "    return {hyperparameter.name:find_nearest_ordinal(values[hyperparameter.name], hyperparameter) for hyperparameter in space.get_hyperparameters()}\n",
    "\n",
    "def modified_objective_function(values: np.array):\n",
    "    config = {\"alpha\": values[0], \"batch_size\": values[1], \"depth\": values[2], \"learning_rate_init\": values[3], \"width\": values[4]}\n",
    "    result = benchmark.objective_function(round_to_valid_config(config, benchmark.configuration_space))\n",
    "    return result['function_value'], result['cost']"
   ]
  },
  {
   "cell_type": "code",
   "execution_count": null,
   "metadata": {},
   "outputs": [],
   "source": [
    "(result, cost) = modified_objective_function(np.array((0.01,32,2.0,0.001,64)))\n",
    "(result, cost)"
   ]
  }
 ],
 "metadata": {
  "kernelspec": {
   "display_name": ".venv",
   "language": "python",
   "name": "python3"
  },
  "language_info": {
   "codemirror_mode": {
    "name": "ipython",
    "version": 3
   },
   "file_extension": ".py",
   "mimetype": "text/x-python",
   "name": "python",
   "nbconvert_exporter": "python",
   "pygments_lexer": "ipython3",
   "version": "3.9.18"
  }
 },
 "nbformat": 4,
 "nbformat_minor": 2
}
