{
 "cells": [
  {
   "cell_type": "code",
   "execution_count": 2,
   "metadata": {},
   "outputs": [
    {
     "name": "stderr",
     "output_type": "stream",
     "text": [
      "/Users/qianxie/Desktop/Curriculum/Graduate/Research/PandoraBayesOPT/pandorabayesopt_env/lib/python3.9/site-packages/sklearn/experimental/enable_hist_gradient_boosting.py:15: UserWarning: Since version 1.0, it is not needed to import enable_hist_gradient_boosting anymore. HistGradientBoostingClassifier and HistGradientBoostingRegressor are now stable and can be normally imported from sklearn.ensemble.\n",
      "  warnings.warn(\n"
     ]
    }
   ],
   "source": [
    "import numpy as np\n",
    "import pandas as pd\n",
    "from hpobench.benchmarks.ml.tabular_benchmark import TabularBenchmark\n",
    "from ConfigSpace.hyperparameters import OrdinalHyperparameter\n",
    "from ConfigSpace.configuration_space import ConfigurationSpace"
   ]
  },
  {
   "cell_type": "code",
   "execution_count": 3,
   "metadata": {},
   "outputs": [],
   "source": [
    "benchmark = TabularBenchmark('nn', 31)"
   ]
  },
  {
   "cell_type": "code",
   "execution_count": 14,
   "metadata": {},
   "outputs": [],
   "source": [
    "import torch\n",
    "from typing import Dict\n",
    "\n",
    "def find_nearest_ordinal(value: float, hyperparameter_type: OrdinalHyperparameter):\n",
    "    # Convert the sequence to a PyTorch tensor\n",
    "    valid_values = torch.tensor(hyperparameter_type.sequence)\n",
    "    \n",
    "    # Calculate the nearest value using torch operations\n",
    "    nearest = torch.argmin((valid_values - value) ** 2).item()\n",
    "    order = hyperparameter_type.get_seq_order()\n",
    "\n",
    "    return hyperparameter_type.get_value(order[nearest])\n",
    "\n",
    "def round_to_valid_config(values: Dict[str, float], space: ConfigurationSpace):\n",
    "    # Iterate over hyperparameters using a dictionary comprehension\n",
    "    return {hyperparameter.name: find_nearest_ordinal(values[hyperparameter.name], hyperparameter) for hyperparameter in space.get_hyperparameters()}\n",
    "\n",
    "def modified_objective_function(values: torch.Tensor):\n",
    "    results = []\n",
    "    for i in range(values.size(0)):  # Looping over each point\n",
    "        config = {\n",
    "            \"alpha\": 10 ** ((values[i, 0].detach().item() - 1) * 8),\n",
    "            \"batch_size\": 2 ** (values[i, 1].detach().item() * 8),\n",
    "            \"depth\": int(2 * values[i, 2].detach().item() + 1),  # Ensuring depth is an integer\n",
    "            \"learning_rate_init\": 10 ** ((values[i, 3].detach().item() - 1) * 5),\n",
    "            \"width\": 2 ** (values[i, 4].detach().item() * 10)\n",
    "        }\n",
    "\n",
    "        result = benchmark.objective_function(round_to_valid_config(config, benchmark.configuration_space))\n",
    "        results.append(result['function_value'])\n",
    "\n",
    "    return torch.tensor(results)  # Convert the list of results to an N*1 tensor"
   ]
  },
  {
   "cell_type": "code",
   "execution_count": 33,
   "metadata": {},
   "outputs": [
    {
     "data": {
      "text/plain": [
       "0.08956228956228955"
      ]
     },
     "execution_count": 33,
     "metadata": {},
     "output_type": "execute_result"
    }
   ],
   "source": [
    "benchmark.get_global_min('val')['acc']"
   ]
  }
 ],
 "metadata": {
  "kernelspec": {
   "display_name": "Python 3 (ipykernel)",
   "language": "python",
   "name": "python3"
  },
  "language_info": {
   "codemirror_mode": {
    "name": "ipython",
    "version": 3
   },
   "file_extension": ".py",
   "mimetype": "text/x-python",
   "name": "python",
   "nbconvert_exporter": "python",
   "pygments_lexer": "ipython3",
   "version": "3.9.18"
  }
 },
 "nbformat": 4,
 "nbformat_minor": 4
}
