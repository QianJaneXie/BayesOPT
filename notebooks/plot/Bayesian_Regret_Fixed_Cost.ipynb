{
 "cells": [
  {
   "cell_type": "code",
   "execution_count": null,
   "metadata": {},
   "outputs": [],
   "source": [
    "import wandb\n",
    "from tqdm import tqdm\n",
    "import numpy as np\n",
    "\n",
    "api = wandb.Api()\n",
    "\n",
    "def load_bayesian_regret_fixed_cost_runs(acq, dim):\n",
    "    runs = api.runs(path=\"ziv-scully-group/Gittins for Bayesian Optimization\", filters={\n",
    "        \"sweep\": \"vwfh8gg0\", \n",
    "        \"config.lengthscale\": 1.0, \n",
    "        \"config.amplitude\": 1, \n",
    "        \"config.kernel\": \"matern52\", \n",
    "        \"config.dim\": dim,\n",
    "        \"config.policy\": acq})\n",
    "    \n",
    "    configs_and_metrics = []\n",
    "    for run in tqdm(runs):\n",
    "        metric_keys = [\"cumulative cost\",\"best observed\"]\n",
    "        history = run.scan_history(keys = metric_keys, page_size=1_000_000_000)\n",
    "        metrics = {k: [d[k] for d in history] for k in metric_keys}\n",
    "        summary_metric_keys = [\"global optimum value\"]\n",
    "        summary_history = run.scan_history(keys = summary_metric_keys, page_size=1_000_000_000)\n",
    "        metrics.update({k: [d[k] for d in summary_history] for k in summary_metric_keys})\n",
    "        configs_and_metrics.append((run.config, metrics))\n",
    "\n",
    "    return configs_and_metrics"
   ]
  },
  {
   "cell_type": "code",
   "execution_count": null,
   "metadata": {},
   "outputs": [],
   "source": [
    "acquisition_functions = {\n",
    "    'ExpectedImprovement':'ExpectedImprovement',\n",
    "    'ThompsonSampling':'ThompsonSampling', \n",
    "    # 'KnowledgeGradient':'KnowledgeGradient',\n",
    "    'Gittins_Lambda_01':'Gittins_Lambda01',\n",
    "    'Gittins_Lambda_001':'Gittins_Lambda001',\n",
    "    'Gittins_Lambda_0001':'Gittins_Lambda0001',\n",
    "    'Gittins_Step_Divide2':'Gittins_Step_Divide2',\n",
    "    'Gittins_Step_Divide5':'Gittins_Step_Divide5',\n",
    "    'Gittins_Step_Divide10':'Gittins_Step_Divide10',\n",
    "    'Gittins_Step_EIpu':'Gittins_Step_EIPC' , \n",
    "    }\n",
    "dimensions = [2,4,8]"
   ]
  },
  {
   "cell_type": "code",
   "execution_count": null,
   "metadata": {},
   "outputs": [],
   "source": [
    "grouped_runs = {(a,d): load_bayesian_regret_fixed_cost_runs(a,d) for a in acquisition_functions.keys() for d in (dimensions)}"
   ]
  },
  {
   "cell_type": "code",
   "execution_count": null,
   "metadata": {},
   "outputs": [],
   "source": [
    "for a in acquisition_functions.keys():\n",
    "    for d in dimensions:\n",
    "        config_and_metrics_per_seed = grouped_runs[a,d]\n",
    "\n",
    "        cumulative_cost_per_seed = np.array([m['cumulative cost'] for (_,m) in config_and_metrics_per_seed]).T\n",
    "        best_observed_per_seed = np.array([m['best observed'] for (_,m) in config_and_metrics_per_seed]).T\n",
    "        global_optimum_per_seed = np.array([m['global optimum value'][0] for (_,m) in config_and_metrics_per_seed])\n",
    "\n",
    "        regret_per_seed = global_optimum_per_seed - best_observed_per_seed\n",
    "\n",
    "        regret_25 = np.quantile(regret_per_seed, 0.25, axis=1)\n",
    "        regret_50 = np.quantile(regret_per_seed, 0.5, axis=1)\n",
    "        regret_75 = np.quantile(regret_per_seed, 0.75, axis=1)\n",
    "\n",
    "        output = np.stack((cumulative_cost_per_seed.mean(axis=1), regret_25, regret_50, regret_75),axis=-1)\n",
    "\n",
    "        np.savetxt(f\"bayesian_regret/BayesianRegret_FixedCost_d{d}_{acquisition_functions[a]}.csv\", output, header=\"cc, q25, q50, q75\", delimiter=', ', comments='')\n",
    "\n"
   ]
  }
 ],
 "metadata": {
  "kernelspec": {
   "display_name": ".venv",
   "language": "python",
   "name": "python3"
  },
  "language_info": {
   "codemirror_mode": {
    "name": "ipython",
    "version": 3
   },
   "file_extension": ".py",
   "mimetype": "text/x-python",
   "name": "python",
   "nbconvert_exporter": "python",
   "pygments_lexer": "ipython3",
   "version": "3.9.18"
  }
 },
 "nbformat": 4,
 "nbformat_minor": 2
}
