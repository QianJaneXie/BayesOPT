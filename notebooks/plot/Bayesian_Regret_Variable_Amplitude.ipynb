{
 "cells": [
  {
   "cell_type": "code",
   "execution_count": 1,
   "metadata": {},
   "outputs": [],
   "source": [
    "import wandb\n",
    "from tqdm import tqdm\n",
    "import numpy as np\n",
    "\n",
    "api = wandb.Api()\n",
    "\n",
    "def load_bayesian_regret_variable_cost_runs(acq, tfn, dim):\n",
    "    runs = api.runs(path=\"ziv-scully-group/PandoraBayesOpt\", filters={\n",
    "        \"sweep\": \"zz8l7my8\", \n",
    "        \"config.lengthscale\": 0.0001, \n",
    "        \"config.kernel\": \"Matern52\", \n",
    "        \"config.dim\": dim,\n",
    "        \"config.problem\": tfn,\n",
    "        \"config.policy\": acq})\n",
    "    \n",
    "    configs_and_metrics = []\n",
    "    for run in tqdm(runs):\n",
    "        metric_keys = [\"cumulative cost\",\"best observed\"]\n",
    "        history = run.scan_history(keys = metric_keys, page_size=1_000_000_000)\n",
    "        metrics = {k: [d[k] for d in history] for k in metric_keys}\n",
    "        summary_metric_keys = [\"global optimum value\"]\n",
    "        summary_history = run.scan_history(keys = summary_metric_keys, page_size=1_000_000_000)\n",
    "        metrics.update({k: [d[k] for d in summary_history] for k in summary_metric_keys})\n",
    "        configs_and_metrics.append((run.config, metrics))\n",
    "\n",
    "    return configs_and_metrics"
   ]
  },
  {
   "cell_type": "code",
   "execution_count": 2,
   "metadata": {},
   "outputs": [],
   "source": [
    "acquisition_functions = {\n",
    "      'ExpectedImprovementWithoutCost':'ExpectedImprovementWithoutCost',\n",
    "      'ExpectedImprovementPerUnitCost':'ExpectedImprovementPerUnitCost',\n",
    "      'Gittins_Lambda_01':'Gittins_Lambda01',\n",
    "      'Gittins_Lambda_001':'Gittins_Lambda001',\n",
    "      'Gittins_Lambda_0001':'Gittins_Lambda0001'\n",
    "    }\n",
    "target_functions = ['hard_for_eipc', 'hard_for_ei']\n",
    "dimensions = [1]"
   ]
  },
  {
   "cell_type": "code",
   "execution_count": 3,
   "metadata": {},
   "outputs": [
    {
     "name": "stderr",
     "output_type": "stream",
     "text": [
      "100%|██████████| 16/16 [00:13<00:00,  1.21it/s]\n",
      "100%|██████████| 16/16 [00:12<00:00,  1.23it/s]\n",
      "100%|██████████| 16/16 [00:13<00:00,  1.23it/s]\n",
      "100%|██████████| 16/16 [00:13<00:00,  1.21it/s]\n",
      "100%|██████████| 16/16 [00:13<00:00,  1.23it/s]\n",
      "100%|██████████| 16/16 [00:12<00:00,  1.30it/s]\n",
      "100%|██████████| 16/16 [00:13<00:00,  1.22it/s]\n",
      "100%|██████████| 16/16 [00:12<00:00,  1.26it/s]\n",
      "100%|██████████| 16/16 [00:13<00:00,  1.19it/s]\n",
      "100%|██████████| 16/16 [00:12<00:00,  1.23it/s]\n"
     ]
    }
   ],
   "source": [
    "grouped_runs = {(a,t,d): load_bayesian_regret_variable_cost_runs(a,t,d) for a in acquisition_functions.keys() for t in target_functions for d in (dimensions)}"
   ]
  },
  {
   "cell_type": "code",
   "execution_count": 6,
   "metadata": {},
   "outputs": [
    {
     "name": "stdout",
     "output_type": "stream",
     "text": [
      "ExpectedImprovementWithoutCost hard_for_eipc 1 (401, 16)\n",
      "ExpectedImprovementWithoutCost hard_for_ei 1 (401, 16)\n",
      "ExpectedImprovementPerUnitCost hard_for_eipc 1 (401, 16)\n",
      "ExpectedImprovementPerUnitCost hard_for_ei 1 (401, 16)\n",
      "Gittins_Lambda_01 hard_for_eipc 1 (401, 16)\n",
      "Gittins_Lambda_01 hard_for_ei 1 (401, 16)\n",
      "Gittins_Lambda_001 hard_for_eipc 1 (401, 16)\n",
      "Gittins_Lambda_001 hard_for_ei 1 (401, 16)\n",
      "Gittins_Lambda_0001 hard_for_eipc 1 (401, 16)\n",
      "Gittins_Lambda_0001 hard_for_ei 1 (401, 16)\n"
     ]
    }
   ],
   "source": [
    "for a in acquisition_functions.keys():\n",
    "    for t in target_functions:\n",
    "        for d in dimensions:\n",
    "            config_and_metrics_per_seed = grouped_runs[a,t,d]\n",
    "\n",
    "            cumulative_cost_per_seed = np.array([m['cumulative cost'] for (_,m) in config_and_metrics_per_seed]).T\n",
    "            best_observed_per_seed = np.array([m['best observed'] for (_,m) in config_and_metrics_per_seed]).T\n",
    "\n",
    "            # best_25 = np.quantile(best_observed_per_seed, 0.25, axis=1)\n",
    "            # best_50 = np.quantile(best_observed_per_seed, 0.5, axis=1)\n",
    "            # best_75 = np.quantile(best_observed_per_seed, 0.75, axis=1)\n",
    "\n",
    "            # output = np.stack((cumulative_cost_per_seed.mean(axis=1), best_25, best_50, best_75),axis=-1)\n",
    "\n",
    "            global_optimum_per_seed = np.array([m['global optimum value'][0] for (_,m) in config_and_metrics_per_seed])\n",
    "\n",
    "            regret_per_seed = global_optimum_per_seed - best_observed_per_seed\n",
    "\n",
    "            print(a, t, d, regret_per_seed.shape)\n",
    "\n",
    "            regret_25 = np.quantile(regret_per_seed, 0.25, axis=1)\n",
    "            regret_50 = np.quantile(regret_per_seed, 0.5, axis=1)\n",
    "            regret_75 = np.quantile(regret_per_seed, 0.75, axis=1)\n",
    "\n",
    "            output = np.stack((cumulative_cost_per_seed.mean(axis=1), regret_25, regret_50, regret_75),axis=-1)\n",
    "\n",
    "            np.savetxt(f\"results/variable_amplitude/VariableAmplitude_{t}_d{d}_{acquisition_functions[a]}.csv\", output, header=\"cc, q25, q50, q75\", delimiter=', ', comments='')"
   ]
  }
 ],
 "metadata": {
  "kernelspec": {
   "display_name": "Python 3 (ipykernel)",
   "language": "python",
   "name": "python3"
  },
  "language_info": {
   "codemirror_mode": {
    "name": "ipython",
    "version": 3
   },
   "file_extension": ".py",
   "mimetype": "text/x-python",
   "name": "python",
   "nbconvert_exporter": "python",
   "pygments_lexer": "ipython3",
   "version": "3.9.18"
  }
 },
 "nbformat": 4,
 "nbformat_minor": 4
}
