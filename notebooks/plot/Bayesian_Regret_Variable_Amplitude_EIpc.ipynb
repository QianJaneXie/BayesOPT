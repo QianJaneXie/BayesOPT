{
 "cells": [
  {
   "cell_type": "code",
   "execution_count": 1,
   "metadata": {},
   "outputs": [],
   "source": [
    "import wandb\n",
    "from tqdm import tqdm\n",
    "import numpy as np\n",
    "\n",
    "api = wandb.Api()\n",
    "\n",
    "def load_bayesian_regret_variable_cost_runs(acq, dim):\n",
    "    runs = api.runs(path=\"ziv-scully-group/Gittins for Bayesian Optimization\", filters={\n",
    "        \"sweep\": \"0ii9yc4n\", \n",
    "        \"config.lengthscale\": 0.01, \n",
    "        \"config.amplitude\": 1, \n",
    "        \"config.kernel\": \"matern52\", \n",
    "        \"config.dim\": dim,\n",
    "        \"config.problem\": 'hard_for_eipc',\n",
    "        \"config.policy\": acq})\n",
    "    \n",
    "    configs_and_metrics = []\n",
    "    for run in tqdm(runs):\n",
    "        metric_keys = [\"cumulative cost\",\"best observed\"]\n",
    "        history = run.scan_history(keys = metric_keys, page_size=1_000_000_000)\n",
    "        metrics = {k: [d[k] for d in history] for k in metric_keys}\n",
    "        summary_metric_keys = [\"global optimum value\"]\n",
    "        summary_history = run.scan_history(keys = summary_metric_keys, page_size=1_000_000_000)\n",
    "        metrics.update({k: [d[k] for d in summary_history] for k in summary_metric_keys})\n",
    "        configs_and_metrics.append((run.config, metrics))\n",
    "\n",
    "    return configs_and_metrics"
   ]
  },
  {
   "cell_type": "code",
   "execution_count": 2,
   "metadata": {},
   "outputs": [],
   "source": [
    "acquisition_functions = {\n",
    "      'ExpectedImprovement':'ExpectedImprovementPerCost',\n",
    "      'ExpectedImprovementWithCost_Uniform':'ExpectedImprovementPerCost_Uniform',\n",
    "      'ExpectedImprovementWithCost_Cooling':'ExpectedImprovementPerCost_Cooling',\n",
    "      'Gittins_Lambda_01':'Gittins_Lambda01',\n",
    "      'Gittins_Lambda_001':'Gittins_Lambda001',\n",
    "      'Gittins_Lambda_0001':'Gittins_Lambda0001',\n",
    "      'Gittins_Step_Divide2':'Gittins_Step_Divide2',\n",
    "      'Gittins_Step_Divide5':'Gittins_Step_Divide5',\n",
    "      'Gittins_Step_Divide10':'Gittins_Step_Divide10',\n",
    "      'Gittins_Step_EIpu':'Gittins_Step_EIPC',\n",
    "    }\n",
    "dimensions = [1]"
   ]
  },
  {
   "cell_type": "code",
   "execution_count": 3,
   "metadata": {},
   "outputs": [
    {
     "name": "stderr",
     "output_type": "stream",
     "text": [
      "100%|███████████████████████████████████████████| 20/20 [00:21<00:00,  1.10s/it]\n",
      "100%|███████████████████████████████████████████| 20/20 [00:21<00:00,  1.05s/it]\n",
      "100%|███████████████████████████████████████████| 20/20 [00:21<00:00,  1.06s/it]\n",
      "100%|███████████████████████████████████████████| 20/20 [00:20<00:00,  1.04s/it]\n",
      "100%|███████████████████████████████████████████| 20/20 [00:20<00:00,  1.02s/it]\n",
      "100%|███████████████████████████████████████████| 20/20 [00:21<00:00,  1.06s/it]\n",
      "100%|███████████████████████████████████████████| 20/20 [00:19<00:00,  1.00it/s]\n",
      "100%|███████████████████████████████████████████| 20/20 [00:20<00:00,  1.04s/it]\n",
      "100%|███████████████████████████████████████████| 20/20 [00:20<00:00,  1.03s/it]\n",
      "100%|███████████████████████████████████████████| 20/20 [00:22<00:00,  1.10s/it]\n"
     ]
    }
   ],
   "source": [
    "grouped_runs = {(a,d): load_bayesian_regret_variable_cost_runs(a,d) for a in acquisition_functions.keys() for d in (dimensions)}"
   ]
  },
  {
   "cell_type": "code",
   "execution_count": 6,
   "metadata": {},
   "outputs": [],
   "source": [
    "for a in acquisition_functions.keys():\n",
    "    for d in dimensions:\n",
    "        config_and_metrics_per_seed = grouped_runs[a,d]\n",
    "\n",
    "        cumulative_cost_per_seed = np.array([m['cumulative cost'] for (_,m) in config_and_metrics_per_seed]).T\n",
    "        best_observed_per_seed = np.array([m['best observed'] for (_,m) in config_and_metrics_per_seed]).T\n",
    "        global_optimum_per_seed = np.array([m['global optimum value'][0] for (_,m) in config_and_metrics_per_seed])\n",
    "\n",
    "        regret_per_seed = global_optimum_per_seed - best_observed_per_seed\n",
    "\n",
    "        regret_25 = np.quantile(regret_per_seed, 0.25, axis=1)\n",
    "        regret_50 = np.quantile(regret_per_seed, 0.5, axis=1)\n",
    "        regret_75 = np.quantile(regret_per_seed, 0.75, axis=1)\n",
    "\n",
    "        output = np.stack((cumulative_cost_per_seed.mean(axis=1), regret_25, regret_50, regret_75),axis=-1)\n",
    "\n",
    "        np.savetxt(f\"results/variable_amplitude/VariableAmplitude_EIpc_d{d}_{acquisition_functions[a]}.csv\", output, header=\"cc, q25, q50, q75\", delimiter=', ', comments='')"
   ]
  }
 ],
 "metadata": {
  "kernelspec": {
   "display_name": "Python 3 (ipykernel)",
   "language": "python",
   "name": "python3"
  },
  "language_info": {
   "codemirror_mode": {
    "name": "ipython",
    "version": 3
   },
   "file_extension": ".py",
   "mimetype": "text/x-python",
   "name": "python",
   "nbconvert_exporter": "python",
   "pygments_lexer": "ipython3",
   "version": "3.9.18"
  }
 },
 "nbformat": 4,
 "nbformat_minor": 4
}
