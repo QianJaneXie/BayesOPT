{
 "cells": [
  {
   "cell_type": "code",
   "execution_count": 1,
   "id": "d82a7b24-f8d7-4f9a-b6fd-c5ea2375ae9f",
   "metadata": {},
   "outputs": [],
   "source": [
    "import wandb\n",
    "from tqdm import tqdm\n",
    "import numpy as np\n",
    "\n",
    "api = wandb.Api()\n",
    "\n",
    "def load_synthetic_fixed_cost_runs(acq, tfn):\n",
    "    runs = api.runs(path=\"ziv-scully-group/Gittins for Bayesian Optimization\", filters={\n",
    "        \"sweep\": \"f3t4na5f\", \n",
    "        \"config.problem\": tfn,\n",
    "        \"config.policy\": acq})\n",
    "    \n",
    "    configs_and_metrics = []\n",
    "    for run in tqdm(runs):\n",
    "        metric_keys = [\"cumulative cost\",\"best observed\"]\n",
    "        history = run.scan_history(keys = metric_keys, page_size=1_000_000_000)\n",
    "        metrics = {k: [d[k] for d in history] for k in metric_keys}\n",
    "        summary_metric_keys = [\"global optimum value\"]\n",
    "        summary_history = run.scan_history(keys = summary_metric_keys, page_size=1_000_000_000)\n",
    "        metrics.update({k: [d[k] for d in summary_history] for k in summary_metric_keys})\n",
    "        configs_and_metrics.append((run.config, metrics))\n",
    "\n",
    "    return configs_and_metrics"
   ]
  },
  {
   "cell_type": "code",
   "execution_count": 11,
   "id": "17c6caef-2a31-4d80-8a89-60768c543652",
   "metadata": {},
   "outputs": [],
   "source": [
    "acquisition_functions = {\n",
    "    'ExpectedImprovement':'ExpectedImprovement',\n",
    "    'ThompsonSampling':'ThompsonSampling', \n",
    "    # 'KnowledgeGradient':'KnowledgeGradient',\n",
    "    # 'MultiStepLookaheadEI':'ExpectedImprovement_MultiStep',\n",
    "    'Gittins_Lambda_01':'Gittins_Lambda01',\n",
    "    'Gittins_Lambda_001':'Gittins_Lambda001',\n",
    "    'Gittins_Lambda_0001':'Gittins_Lambda0001',\n",
    "    'Gittins_Step_Divide2':'Gittins_Step_Divide2',\n",
    "    'Gittins_Step_Divide5':'Gittins_Step_Divide5',\n",
    "    'Gittins_Step_Divide10':'Gittins_Step_Divide10',\n",
    "    'Gittins_Step_EIpu':'Gittins_Step_EIPC',\n",
    "    }\n",
    "target_functions_with_optima = {\n",
    "    'FreeSolv': 25.591700836662685\n",
    "  }"
   ]
  },
  {
   "cell_type": "code",
   "execution_count": 7,
   "id": "3567d6d7-0a31-4d12-a6b6-4e81f1d3d5c8",
   "metadata": {},
   "outputs": [
    {
     "name": "stderr",
     "output_type": "stream",
     "text": [
      "100%|███████████████████████████████████████████| 50/50 [00:52<00:00,  1.04s/it]\n",
      "100%|███████████████████████████████████████████| 50/50 [00:42<00:00,  1.19it/s]\n",
      "100%|█████████████████████████████████████████████| 3/3 [00:01<00:00,  1.58it/s]\n",
      "0it [00:00, ?it/s]\n",
      "100%|███████████████████████████████████████████| 50/50 [00:33<00:00,  1.47it/s]\n",
      "100%|███████████████████████████████████████████| 50/50 [00:34<00:00,  1.46it/s]\n",
      "100%|███████████████████████████████████████████| 50/50 [00:34<00:00,  1.46it/s]\n",
      "100%|███████████████████████████████████████████| 50/50 [00:34<00:00,  1.47it/s]\n",
      "100%|███████████████████████████████████████████| 50/50 [00:35<00:00,  1.42it/s]\n",
      "100%|███████████████████████████████████████████| 42/42 [00:28<00:00,  1.48it/s]\n",
      "100%|███████████████████████████████████████████| 50/50 [00:33<00:00,  1.47it/s]\n"
     ]
    }
   ],
   "source": [
    "grouped_runs = {(a,t): load_synthetic_fixed_cost_runs(a,t) for a in acquisition_functions.keys() for t in target_functions_with_optima.keys()}"
   ]
  },
  {
   "cell_type": "code",
   "execution_count": null,
   "id": "0567d1be-a6ce-453a-837a-fa6906c7cac6",
   "metadata": {},
   "outputs": [],
   "source": [
    "for a in acquisition_functions.keys():\n",
    "    for (t,opt) in target_functions_with_optima.items():\n",
    "        config_and_metrics_per_seed = grouped_runs[a,t]\n",
    "\n",
    "        cumulative_cost_per_seed = np.array([m['cumulative cost'] for (_,m) in config_and_metrics_per_seed]).T\n",
    "        best_observed_per_seed = np.array([m['best observed'] for (_,m) in config_and_metrics_per_seed]).T\n",
    "        \n",
    "        regret_per_seed = opt - best_observed_per_seed\n",
    "\n",
    "        regret_25 = np.quantile(regret_per_seed, 0.25, axis=1)\n",
    "        regret_50 = np.quantile(regret_per_seed, 0.5, axis=1)\n",
    "        regret_75 = np.quantile(regret_per_seed, 0.75, axis=1)\n",
    "\n",
    "        output = np.stack((cumulative_cost_per_seed.mean(axis=1), regret_25, regret_50, regret_75),axis=-1)\n",
    "\n",
    "        np.savetxt(f\"results/empirical/Empirical_{t}_{acquisition_functions[a]}.csv\", output, header=\"cc, q25, q50, q75\", delimiter=', ', comments='')"
   ]
  }
 ],
 "metadata": {
  "kernelspec": {
   "display_name": "Python 3 (ipykernel)",
   "language": "python",
   "name": "python3"
  },
  "language_info": {
   "codemirror_mode": {
    "name": "ipython",
    "version": 3
   },
   "file_extension": ".py",
   "mimetype": "text/x-python",
   "name": "python",
   "nbconvert_exporter": "python",
   "pygments_lexer": "ipython3",
   "version": "3.9.18"
  }
 },
 "nbformat": 4,
 "nbformat_minor": 5
}
