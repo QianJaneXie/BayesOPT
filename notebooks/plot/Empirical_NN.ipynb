{
 "cells": [
  {
   "cell_type": "code",
   "execution_count": 1,
   "id": "331f696f-c0fe-4f74-b366-bccb8b5bd475",
   "metadata": {},
   "outputs": [],
   "source": [
    "import wandb\n",
    "from tqdm import tqdm\n",
    "import numpy as np\n",
    "\n",
    "api = wandb.Api()\n",
    "\n",
    "def load_synthetic_fixed_cost_runs(acq, tfn):\n",
    "    runs = api.runs(path=\"ziv-scully-group/Gittins for Bayesian Optimization\", filters={\n",
    "        \"sweep\": \"dksankho\", \n",
    "        \"config.problem\": tfn,\n",
    "        \"config.policy\": acq})\n",
    "    \n",
    "    configs_and_metrics = []\n",
    "    for run in tqdm(runs):\n",
    "        metric_keys = [\"cumulative cost\",\"best observed\"]\n",
    "        history = run.scan_history(keys = metric_keys, page_size=1_000_000_000)\n",
    "        metrics = {k: [d[k] for d in history] for k in metric_keys}\n",
    "        summary_metric_keys = [\"global optimum value\"]\n",
    "        summary_history = run.scan_history(keys = summary_metric_keys, page_size=1_000_000_000)\n",
    "        metrics.update({k: [d[k] for d in summary_history] for k in summary_metric_keys})\n",
    "        configs_and_metrics.append((run.config, metrics))\n",
    "\n",
    "    return configs_and_metrics"
   ]
  },
  {
   "cell_type": "code",
   "execution_count": 2,
   "id": "c1d277e2-7a92-4761-833c-41d20f915b8d",
   "metadata": {},
   "outputs": [],
   "source": [
    "acquisition_functions = {\n",
    "    'ExpectedImprovement':'ExpectedImprovement',\n",
    "    'ThompsonSampling':'ThompsonSampling', \n",
    "    'KnowledgeGradient':'KnowledgeGradient',\n",
    "    'MultiStepLookaheadEI':'ExpectedImprovement_MultiStep',\n",
    "    'Gittins_Lambda_01':'Gittins_Lambda01',\n",
    "    'Gittins_Lambda_001':'Gittins_Lambda001',\n",
    "    'Gittins_Lambda_0001':'Gittins_Lambda0001',\n",
    "    'Gittins_Step_Divide2':'Gittins_Step_Divide2',\n",
    "    'Gittins_Step_Divide5':'Gittins_Step_Divide5',\n",
    "    'Gittins_Step_Divide10':'Gittins_Step_Divide10',\n",
    "    'Gittins_Step_EIpu':'Gittins_Step_EIPC',\n",
    "    }\n",
    "target_functions_with_optima = {\n",
    "    'NN': 0.08956228956228955\n",
    "  }"
   ]
  },
  {
   "cell_type": "code",
   "execution_count": 3,
   "id": "f267f939-8247-4106-8887-1a9153bd18d7",
   "metadata": {},
   "outputs": [
    {
     "name": "stderr",
     "output_type": "stream",
     "text": [
      "100%|███████████████████████████████████████████| 16/16 [00:14<00:00,  1.12it/s]\n",
      "100%|███████████████████████████████████████████| 20/20 [00:29<00:00,  1.46s/it]\n",
      "100%|███████████████████████████████████████████| 19/19 [00:21<00:00,  1.15s/it]\n",
      "100%|███████████████████████████████████████████| 17/17 [00:19<00:00,  1.14s/it]\n",
      "100%|███████████████████████████████████████████| 18/18 [00:20<00:00,  1.13s/it]\n",
      "100%|███████████████████████████████████████████| 19/19 [00:20<00:00,  1.10s/it]\n",
      "100%|███████████████████████████████████████████| 18/18 [00:20<00:00,  1.13s/it]\n",
      "100%|███████████████████████████████████████████| 20/20 [00:21<00:00,  1.07s/it]\n",
      "100%|███████████████████████████████████████████| 20/20 [00:21<00:00,  1.08s/it]\n",
      "100%|███████████████████████████████████████████| 20/20 [00:21<00:00,  1.07s/it]\n",
      "100%|███████████████████████████████████████████| 18/18 [00:21<00:00,  1.19s/it]\n"
     ]
    }
   ],
   "source": [
    "grouped_runs = {(a,t): load_synthetic_fixed_cost_runs(a,t) for a in acquisition_functions.keys() for t in target_functions_with_optima.keys()}"
   ]
  },
  {
   "cell_type": "code",
   "execution_count": null,
   "id": "f3395c5b-5144-43fc-9bba-851de797ad27",
   "metadata": {},
   "outputs": [],
   "source": [
    "grouped_runs[('ExpectedImprovement','NN')]"
   ]
  },
  {
   "cell_type": "code",
   "execution_count": null,
   "id": "124ece1e-1b36-40fb-ad1c-b9d01a242262",
   "metadata": {},
   "outputs": [],
   "source": [
    "for a in acquisition_functions.keys():\n",
    "    for (t,opt) in target_functions_with_optima.items():\n",
    "        config_and_metrics_per_seed = grouped_runs[a,t]\n",
    "\n",
    "        cumulative_cost_per_seed = np.array([m['cumulative cost'] for (_,m) in config_and_metrics_per_seed]).T\n",
    "        best_observed_per_seed = np.array([m['best observed'] for (_,m) in config_and_metrics_per_seed]).T\n",
    "        \n",
    "        regret_per_seed = best_observed_per_seed - opt\n",
    "\n",
    "        print(\"regret_per_seed:\", regret_per_seed)\n",
    "\n",
    "        regret_25 = np.quantile(regret_per_seed, 0.25, axis=1)\n",
    "        regret_50 = np.quantile(regret_per_seed, 0.5, axis=1)\n",
    "        regret_75 = np.quantile(regret_per_seed, 0.75, axis=1)\n",
    "\n",
    "        output = np.stack((cumulative_cost_per_seed.mean(axis=1), regret_25, regret_50, regret_75),axis=-1)\n",
    "\n",
    "        np.savetxt(f\"empirical/Empirical_{t}_{acquisition_functions[a]}.csv\", output, header=\"cc, q25, q50, q75\", delimiter=', ', comments='')"
   ]
  }
 ],
 "metadata": {
  "kernelspec": {
   "display_name": "Python 3 (ipykernel)",
   "language": "python",
   "name": "python3"
  },
  "language_info": {
   "codemirror_mode": {
    "name": "ipython",
    "version": 3
   },
   "file_extension": ".py",
   "mimetype": "text/x-python",
   "name": "python",
   "nbconvert_exporter": "python",
   "pygments_lexer": "ipython3",
   "version": "3.9.18"
  }
 },
 "nbformat": 4,
 "nbformat_minor": 5
}
