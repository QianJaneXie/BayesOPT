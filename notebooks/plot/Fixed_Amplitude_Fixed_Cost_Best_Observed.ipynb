{
 "cells": [
  {
   "cell_type": "code",
   "execution_count": 14,
   "metadata": {},
   "outputs": [],
   "source": [
    "import wandb\n",
    "from tqdm import tqdm\n",
    "import numpy as np\n",
    "\n",
    "api = wandb.Api()\n",
    "\n",
    "def load_bayesian_regret_fixed_cost_runs(acq, dim, kernel, lengthscale):\n",
    "    runs = api.runs(path=\"ziv-scully-group/PandoraBayesOPT\", filters={\n",
    "        \"sweep\": \"0329pw34\",\n",
    "        \"config.amplitude\": 1,\n",
    "        \"config.dim\": dim,\n",
    "        \"config.kernel\": kernel,\n",
    "        \"config.lengthscale\": lengthscale,  \n",
    "        \"config.policy\": acq})\n",
    "    \n",
    "    configs_and_metrics = []\n",
    "    for run in tqdm(runs):\n",
    "        metric_keys = [\"cumulative cost\",\"best observed\"]\n",
    "        history = run.scan_history(keys = metric_keys, page_size=1_000_000_000)\n",
    "        metrics = {k: [d[k] for d in history] for k in metric_keys}\n",
    "        summary_metric_keys = [\"global optimum value\"]\n",
    "        summary_history = run.scan_history(keys = summary_metric_keys, page_size=1_000_000_000)\n",
    "        metrics.update({k: [d[k] for d in summary_history] for k in summary_metric_keys})\n",
    "        configs_and_metrics.append((run.config, metrics))\n",
    "\n",
    "    return configs_and_metrics"
   ]
  },
  {
   "cell_type": "code",
   "execution_count": 15,
   "metadata": {},
   "outputs": [],
   "source": [
    "acquisition_functions = { \n",
    "    'KnowledgeGradient':'KnowledgeGradient',\n",
    "    'UpperConfidenceBound': 'UpperConfidenceBound',\n",
    "    'MultiStepLookaheadEI':'MultiStepLookaheadEI',\n",
    "    }\n",
    "dimensions = [16]\n",
    "kernels = [\"Matern52\"]\n",
    "lengthscales = [0.1]"
   ]
  },
  {
   "cell_type": "code",
   "execution_count": 16,
   "metadata": {},
   "outputs": [
    {
     "name": "stderr",
     "output_type": "stream",
     "text": [
      "0it [00:00, ?it/s]\n"
     ]
    }
   ],
   "source": [
    "grouped_runs = {(a,d,k,l): load_bayesian_regret_fixed_cost_runs(a,d,k,l) for a in acquisition_functions.keys() for d in (dimensions) for k in (kernels) for l in (lengthscales)}"
   ]
  },
  {
   "cell_type": "code",
   "execution_count": 13,
   "metadata": {},
   "outputs": [
    {
     "name": "stdout",
     "output_type": "stream",
     "text": [
      "UpperConfidenceBound 16 Matern52 0.1 (401, 16)\n"
     ]
    }
   ],
   "source": [
    "for a in acquisition_functions.keys():\n",
    "    for d in dimensions:\n",
    "        for k in kernels:\n",
    "            for l in lengthscales:\n",
    "                config_and_metrics_per_seed = grouped_runs[a,d,k,l]\n",
    "        \n",
    "                cumulative_cost_per_seed = np.array([m['cumulative cost'] for (_,m) in config_and_metrics_per_seed if len(m['cumulative cost'])>0 and len(m['best observed'])>0]).T\n",
    "                best_observed_per_seed = np.array([m['best observed'] for (_,m) in config_and_metrics_per_seed if len(m['cumulative cost'])>0 and len(m['best observed'])>0]).T\n",
    "                # Handling potential empty arrays\n",
    "                if cumulative_cost_per_seed.size == 0 or best_observed_per_seed.size == 0:\n",
    "                    continue  # Skip this iteration if there's no data\n",
    "        \n",
    "                print(a, d, k, l, best_observed_per_seed.shape)\n",
    "        \n",
    "                best_25 = np.quantile(best_observed_per_seed, 0.25, axis=1)\n",
    "                best_50 = np.quantile(best_observed_per_seed, 0.5, axis=1)\n",
    "                best_75 = np.quantile(best_observed_per_seed, 0.75, axis=1)\n",
    "        \n",
    "                output = np.stack((cumulative_cost_per_seed.mean(axis=1), best_25, best_50, best_75),axis=-1)\n",
    "        \n",
    "                np.savetxt(f\"results/fixed_amplitude_best_observed/FixedAmplitude_FixedCost_d{d}_{k}_ls{l}_{acquisition_functions[a]}.csv\", output, header=\"cc, q25, q50, q75\", delimiter=', ', comments='')"
   ]
  },
  {
   "cell_type": "code",
   "execution_count": 4,
   "metadata": {},
   "outputs": [],
   "source": [
    "import wandb\n",
    "from tqdm import tqdm\n",
    "import numpy as np\n",
    "\n",
    "api = wandb.Api()\n",
    "\n",
    "def load_bayesian_regret_fixed_cost_runs(acq, dim, kernel, lengthscale):\n",
    "    runs = api.runs(path=\"ziv-scully-group/PandoraBayesOPT\", filters={\n",
    "        \"sweep\": \"h6skp9f3\",\n",
    "        \"config.amplitude\": 1,\n",
    "        \"config.dim\": dim,\n",
    "        \"config.kernel\": kernel,\n",
    "        \"config.lengthscale\": lengthscale,  \n",
    "        \"config.policy\": acq})\n",
    "    \n",
    "    configs_and_metrics = []\n",
    "    for run in tqdm(runs):\n",
    "        metric_keys = [\"cumulative cost\",\"best observed\"]\n",
    "        history = run.scan_history(keys = metric_keys, page_size=1_000_000_000)\n",
    "        metrics = {k: [d[k] for d in history] for k in metric_keys}\n",
    "        summary_metric_keys = [\"global optimum value\"]\n",
    "        summary_history = run.scan_history(keys = summary_metric_keys, page_size=1_000_000_000)\n",
    "        metrics.update({k: [d[k] for d in summary_history] for k in summary_metric_keys})\n",
    "        configs_and_metrics.append((run.config, metrics))\n",
    "\n",
    "    return configs_and_metrics"
   ]
  },
  {
   "cell_type": "code",
   "execution_count": 5,
   "metadata": {},
   "outputs": [],
   "source": [
    "acquisition_functions = { \n",
    "    'MaxValueEntropy':'MaxValueEntropy'\n",
    "    }\n",
    "dimensions = [16]\n",
    "kernels = [\"Matern52\"]\n",
    "lengthscales = [0.1]"
   ]
  },
  {
   "cell_type": "code",
   "execution_count": 6,
   "metadata": {},
   "outputs": [
    {
     "name": "stderr",
     "output_type": "stream",
     "text": [
      "100%|██████████| 16/16 [00:18<00:00,  1.16s/it]\n"
     ]
    }
   ],
   "source": [
    "grouped_runs = {(a,d,k,l): load_bayesian_regret_fixed_cost_runs(a,d,k,l) for a in acquisition_functions.keys() for d in (dimensions) for k in (kernels) for l in (lengthscales)}"
   ]
  },
  {
   "cell_type": "code",
   "execution_count": 7,
   "metadata": {},
   "outputs": [
    {
     "name": "stdout",
     "output_type": "stream",
     "text": [
      "MaxValueEntropy 16 Matern52 0.1 (401, 16)\n"
     ]
    }
   ],
   "source": [
    "for a in acquisition_functions.keys():\n",
    "    for d in dimensions:\n",
    "        for k in kernels:\n",
    "            for l in lengthscales:\n",
    "                config_and_metrics_per_seed = grouped_runs[a,d,k,l]\n",
    "        \n",
    "                cumulative_cost_per_seed = np.array([m['cumulative cost'] for (_,m) in config_and_metrics_per_seed if len(m['cumulative cost'])>0 and len(m['best observed'])>0]).T\n",
    "                best_observed_per_seed = np.array([m['best observed'] for (_,m) in config_and_metrics_per_seed if len(m['cumulative cost'])>0 and len(m['best observed'])>0]).T\n",
    "                # Handling potential empty arrays\n",
    "                if cumulative_cost_per_seed.size == 0 or best_observed_per_seed.size == 0:\n",
    "                    continue  # Skip this iteration if there's no data\n",
    "        \n",
    "                print(a, d, k, l, best_observed_per_seed.shape)\n",
    "        \n",
    "                best_25 = np.quantile(best_observed_per_seed, 0.25, axis=1)\n",
    "                best_50 = np.quantile(best_observed_per_seed, 0.5, axis=1)\n",
    "                best_75 = np.quantile(best_observed_per_seed, 0.75, axis=1)\n",
    "        \n",
    "                output = np.stack((cumulative_cost_per_seed.mean(axis=1), best_25, best_50, best_75),axis=-1)\n",
    "        \n",
    "                np.savetxt(f\"results/fixed_amplitude_best_observed/FixedAmplitude_FixedCost_d{d}_{k}_ls{l}_{acquisition_functions[a]}.csv\", output, header=\"cc, q25, q50, q75\", delimiter=', ', comments='')"
   ]
  }
 ],
 "metadata": {
  "kernelspec": {
   "display_name": "Python 3 (ipykernel)",
   "language": "python",
   "name": "python3"
  },
  "language_info": {
   "codemirror_mode": {
    "name": "ipython",
    "version": 3
   },
   "file_extension": ".py",
   "mimetype": "text/x-python",
   "name": "python",
   "nbconvert_exporter": "python",
   "pygments_lexer": "ipython3",
   "version": "3.9.18"
  }
 },
 "nbformat": 4,
 "nbformat_minor": 4
}
