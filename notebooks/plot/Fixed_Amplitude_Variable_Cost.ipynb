{
 "cells": [
  {
   "cell_type": "code",
   "execution_count": 1,
   "metadata": {},
   "outputs": [],
   "source": [
    "import wandb\n",
    "from tqdm import tqdm\n",
    "import numpy as np\n",
    "\n",
    "api = wandb.Api()\n",
    "\n",
    "def load_bayesian_regret_variable_cost_runs(acq, dim, kernel, lengthscale):\n",
    "    runs = api.runs(path=\"ziv-scully-group/PandoraBayesOPT\", filters={\n",
    "        \"sweep\": \"zcwerse3\",\n",
    "        \"config.amplitude\": 1,\n",
    "        \"config.dim\": dim,\n",
    "        \"config.kernel\": kernel,\n",
    "        \"config.lengthscale\": lengthscale,  \n",
    "        \"config.policy\": acq})\n",
    "    \n",
    "    configs_and_metrics = []\n",
    "    for run in tqdm(runs):\n",
    "        metric_keys = [\"cumulative cost\",\"best observed\"]\n",
    "        history = run.scan_history(keys = metric_keys, page_size=1_000_000_000)\n",
    "        metrics = {k: [d[k] for d in history] for k in metric_keys}\n",
    "        summary_metric_keys = [\"global optimum value\"]\n",
    "        summary_history = run.scan_history(keys = summary_metric_keys, page_size=1_000_000_000)\n",
    "        metrics.update({k: [d[k] for d in summary_history] for k in summary_metric_keys})\n",
    "        configs_and_metrics.append((run.config, metrics))\n",
    "\n",
    "    return configs_and_metrics"
   ]
  },
  {
   "cell_type": "code",
   "execution_count": 2,
   "metadata": {},
   "outputs": [],
   "source": [
    "acquisition_functions = {\n",
    "      'RandomSearch': 'RandomSearch',\n",
    "      'ExpectedImprovementWithoutCost':'ExpectedImprovementWithoutCost',\n",
    "      'ExpectedImprovementPerUnitCost':'ExpectedImprovementPerUnitCost',\n",
    "    #   'ExpectedImprovementWithCostCooling':'ExpectedImprovementWithCostCooling',\n",
    "      'Gittins_Lambda_01':'Gittins_Lambda01',\n",
    "    #   'Gittins_Lambda_001':'Gittins_Lambda001',\n",
    "    #   'Gittins_Lambda_0001':'Gittins_Lambda0001',\n",
    "      'Gittins_Step_Divide2':'Gittins_Step_Divide2',\n",
    "    #   'Gittins_Step_Divide5':'Gittins_Step_Divide5',\n",
    "    #   'Gittins_Step_Divide10':'Gittins_Step_Divide10',\n",
    "    #   'Gittins_Step_EIpu':'Gittins_Step_EIPC',\n",
    "    }\n",
    "dimensions = [4, 8, 16, 32]\n",
    "kernels = [\"Matern52\"]\n",
    "lengthscales = [0.1]"
   ]
  },
  {
   "cell_type": "code",
   "execution_count": 3,
   "metadata": {},
   "outputs": [
    {
     "name": "stderr",
     "output_type": "stream",
     "text": [
      "100%|██████████| 16/16 [00:18<00:00,  1.17s/it]\n",
      "100%|██████████| 16/16 [00:18<00:00,  1.18s/it]\n",
      "100%|██████████| 16/16 [00:27<00:00,  1.71s/it]\n",
      "100%|██████████| 16/16 [00:23<00:00,  1.46s/it]\n",
      "100%|██████████| 16/16 [00:17<00:00,  1.07s/it]\n",
      "100%|██████████| 16/16 [00:17<00:00,  1.08s/it]\n",
      "100%|██████████| 16/16 [00:17<00:00,  1.09s/it]\n",
      "100%|██████████| 16/16 [00:36<00:00,  2.29s/it]\n",
      "100%|██████████| 16/16 [00:20<00:00,  1.27s/it]\n",
      "100%|██████████| 16/16 [00:21<00:00,  1.35s/it]\n",
      "100%|██████████| 16/16 [00:16<00:00,  1.02s/it]\n",
      "100%|██████████| 16/16 [00:18<00:00,  1.18s/it]\n",
      "100%|██████████| 16/16 [00:18<00:00,  1.13s/it]\n",
      "100%|██████████| 16/16 [00:21<00:00,  1.34s/it]\n",
      "100%|██████████| 16/16 [00:19<00:00,  1.19s/it]\n",
      "100%|██████████| 16/16 [00:25<00:00,  1.57s/it]\n",
      "100%|██████████| 16/16 [00:20<00:00,  1.28s/it]\n",
      "100%|██████████| 16/16 [00:22<00:00,  1.43s/it]\n",
      "100%|██████████| 16/16 [00:17<00:00,  1.10s/it]\n",
      "100%|██████████| 16/16 [00:18<00:00,  1.14s/it]\n"
     ]
    }
   ],
   "source": [
    "grouped_runs = {(a,d,k,l): load_bayesian_regret_variable_cost_runs(a,d,k,l) for a in acquisition_functions.keys() for d in (dimensions) for k in (kernels) for l in (lengthscales)}"
   ]
  },
  {
   "cell_type": "code",
   "execution_count": 4,
   "metadata": {},
   "outputs": [
    {
     "name": "stdout",
     "output_type": "stream",
     "text": [
      "RandomSearch 4 Matern52 0.1 (201, 16)\n",
      "RandomSearch 8 Matern52 0.1 (401, 16)\n",
      "RandomSearch 16 Matern52 0.1 (801, 16)\n",
      "RandomSearch 32 Matern52 0.1 (801, 16)\n",
      "ExpectedImprovementWithoutCost 4 Matern52 0.1 (201, 16)\n",
      "ExpectedImprovementWithoutCost 8 Matern52 0.1 (401, 16)\n",
      "ExpectedImprovementWithoutCost 16 Matern52 0.1 (801, 16)\n",
      "ExpectedImprovementWithoutCost 32 Matern52 0.1 (801, 16)\n",
      "ExpectedImprovementPerUnitCost 4 Matern52 0.1 (201, 16)\n",
      "ExpectedImprovementPerUnitCost 8 Matern52 0.1 (401, 16)\n",
      "ExpectedImprovementPerUnitCost 16 Matern52 0.1 (801, 16)\n",
      "ExpectedImprovementPerUnitCost 32 Matern52 0.1 (801, 16)\n",
      "Gittins_Lambda_01 4 Matern52 0.1 (201, 16)\n",
      "Gittins_Lambda_01 8 Matern52 0.1 (401, 16)\n",
      "Gittins_Lambda_01 16 Matern52 0.1 (801, 16)\n",
      "Gittins_Lambda_01 32 Matern52 0.1 (801, 16)\n",
      "Gittins_Step_Divide2 4 Matern52 0.1 (201, 16)\n",
      "Gittins_Step_Divide2 8 Matern52 0.1 (401, 16)\n",
      "Gittins_Step_Divide2 16 Matern52 0.1 (801, 16)\n",
      "Gittins_Step_Divide2 32 Matern52 0.1 (801, 16)\n"
     ]
    }
   ],
   "source": [
    "for a in acquisition_functions.keys():\n",
    "    for d in dimensions:\n",
    "        for k in kernels:\n",
    "            for l in lengthscales:\n",
    "                config_and_metrics_per_seed = grouped_runs[a,d,k,l]\n",
    "        \n",
    "                cumulative_cost_per_seed = np.array([m['cumulative cost'] for (_,m) in config_and_metrics_per_seed if len(m['cumulative cost'])>0 and len(m['best observed'])>0]).T\n",
    "                best_observed_per_seed = np.array([m['best observed'] for (_,m) in config_and_metrics_per_seed if len(m['cumulative cost'])>0 and len(m['best observed'])>0]).T\n",
    "                # Handling potential empty arrays\n",
    "                if cumulative_cost_per_seed.size == 0 or best_observed_per_seed.size == 0:\n",
    "                    continue  # Skip this iteration if there's no data\n",
    "        \n",
    "                print(a, d, k, l, best_observed_per_seed.shape)\n",
    "        \n",
    "                best_25 = np.quantile(best_observed_per_seed, 0.25, axis=1)\n",
    "                best_50 = np.quantile(best_observed_per_seed, 0.5, axis=1)\n",
    "                best_75 = np.quantile(best_observed_per_seed, 0.75, axis=1)\n",
    "        \n",
    "                output = np.stack((cumulative_cost_per_seed.mean(axis=1), best_25, best_50, best_75),axis=-1)\n",
    "        \n",
    "                np.savetxt(f\"results/fixed_amplitude_cost_aware_best_observed/FixedAmplitude_VariableCost_d{d}_{k}_ls{l}_{acquisition_functions[a]}.csv\", output, header=\"cc, q25, q50, q75\", delimiter=', ', comments='')"
   ]
  }
 ],
 "metadata": {
  "kernelspec": {
   "display_name": "Python 3 (ipykernel)",
   "language": "python",
   "name": "python3"
  },
  "language_info": {
   "codemirror_mode": {
    "name": "ipython",
    "version": 3
   },
   "file_extension": ".py",
   "mimetype": "text/x-python",
   "name": "python",
   "nbconvert_exporter": "python",
   "pygments_lexer": "ipython3",
   "version": "3.9.18"
  }
 },
 "nbformat": 4,
 "nbformat_minor": 4
}
