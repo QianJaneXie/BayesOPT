{
 "cells": [
  {
   "cell_type": "code",
   "execution_count": 1,
   "metadata": {},
   "outputs": [],
   "source": [
    "import wandb\n",
    "from tqdm import tqdm\n",
    "import numpy as np\n",
    "\n",
    "api = wandb.Api()\n",
    "\n",
    "def load_impact_of_lmbda_runs(acq):\n",
    "    runs = api.runs(path=\"ziv-scully-group/PandoraBayesOPT\", filters={\n",
    "        \"sweep\": \"xcn0phan\",\n",
    "        \"config.amplitude\": 1,\n",
    "        \"config.dim\": 8,\n",
    "        \"config.kernel\": \"Matern52\",\n",
    "        \"config.lengthscale\": 0.1,  \n",
    "        \"config.policy\": acq})\n",
    "    \n",
    "    configs_and_metrics = []\n",
    "    for run in tqdm(runs):\n",
    "        metric_keys = [\"cumulative cost\",\"best observed\"]\n",
    "        history = run.scan_history(keys = metric_keys, page_size=1_000_000_000)\n",
    "        metrics = {k: [d[k] for d in history] for k in metric_keys}\n",
    "        summary_metric_keys = [\"global optimum value\"]\n",
    "        summary_history = run.scan_history(keys = summary_metric_keys, page_size=1_000_000_000)\n",
    "        metrics.update({k: [d[k] for d in summary_history] for k in summary_metric_keys})\n",
    "        configs_and_metrics.append((run.config, metrics))\n",
    "\n",
    "    return configs_and_metrics"
   ]
  },
  {
   "cell_type": "code",
   "execution_count": 2,
   "metadata": {},
   "outputs": [],
   "source": [
    "acquisition_functions = {\n",
    "    'Gittins_Lambda_1':'Gittins_Lambda1',\n",
    "    'Gittins_Lambda_01':'Gittins_Lambda01',\n",
    "    'Gittins_Lambda_001':'Gittins_Lambda001',\n",
    "    'Gittins_Lambda_0001':'Gittins_Lambda0001',\n",
    "    'Gittins_Lambda_00001':'Gittins_Lambda00001'\n",
    "    }"
   ]
  },
  {
   "cell_type": "code",
   "execution_count": 3,
   "metadata": {},
   "outputs": [
    {
     "name": "stderr",
     "output_type": "stream",
     "text": [
      "0it [00:00, ?it/s]\n",
      "100%|██████████| 256/256 [06:13<00:00,  1.46s/it]\n",
      "100%|██████████| 256/256 [04:30<00:00,  1.05s/it]\n",
      "100%|██████████| 256/256 [04:19<00:00,  1.01s/it]\n",
      "100%|██████████| 256/256 [04:11<00:00,  1.02it/s]\n"
     ]
    }
   ],
   "source": [
    "grouped_runs = {(a): load_impact_of_lmbda_runs(a) for a in acquisition_functions.keys()}"
   ]
  },
  {
   "cell_type": "code",
   "execution_count": 4,
   "metadata": {},
   "outputs": [
    {
     "name": "stdout",
     "output_type": "stream",
     "text": [
      "Gittins_Lambda_01 (200, 256)\n",
      "Gittins_Lambda_001 (200, 256)\n",
      "Gittins_Lambda_0001 (200, 256)\n",
      "Gittins_Lambda_00001 (200, 256)\n"
     ]
    }
   ],
   "source": [
    "for a in acquisition_functions.keys():\n",
    "    config_and_metrics_per_seed = grouped_runs[a]\n",
    "\n",
    "    cumulative_cost_per_seed = np.array([m['cumulative cost'] for (_,m) in config_and_metrics_per_seed if len(m['cumulative cost'])>0 and len(m['best observed'])>0]).T\n",
    "    best_observed_per_seed = np.array([m['best observed'] for (_,m) in config_and_metrics_per_seed if len(m['cumulative cost'])>0 and len(m['best observed'])>0]).T\n",
    "    # Handling potential empty arrays\n",
    "    if cumulative_cost_per_seed.size == 0 or best_observed_per_seed.size == 0:\n",
    "        continue  # Skip this iteration if there's no data\n",
    "    global_optimum_per_seed = np.array([m['global optimum value'][0] for (_,m) in config_and_metrics_per_seed if len(m['cumulative cost'])>0 and len(m['best observed'])>0])\n",
    "\n",
    "    regret_per_seed = global_optimum_per_seed - best_observed_per_seed\n",
    "    print(a, regret_per_seed.shape)\n",
    "\n",
    "    regret_25 = np.quantile(regret_per_seed, 0.25, axis=1)\n",
    "    regret_50 = np.quantile(regret_per_seed, 0.5, axis=1)\n",
    "    regret_75 = np.quantile(regret_per_seed, 0.75, axis=1)\n",
    "\n",
    "    output = np.stack((cumulative_cost_per_seed.mean(axis=1), regret_25, regret_50, regret_75),axis=-1)\n",
    "\n",
    "    np.savetxt(f\"results/impact_of_lmbda_256/Lmbda_Impact_{acquisition_functions[a]}.csv\", output, header=\"cc, q25, q50, q75\", delimiter=', ', comments='')"
   ]
  }
 ],
 "metadata": {
  "kernelspec": {
   "display_name": "Python 3 (ipykernel)",
   "language": "python",
   "name": "python3"
  },
  "language_info": {
   "codemirror_mode": {
    "name": "ipython",
    "version": 3
   },
   "file_extension": ".py",
   "mimetype": "text/x-python",
   "name": "python",
   "nbconvert_exporter": "python",
   "pygments_lexer": "ipython3",
   "version": "3.9.18"
  }
 },
 "nbformat": 4,
 "nbformat_minor": 4
}
