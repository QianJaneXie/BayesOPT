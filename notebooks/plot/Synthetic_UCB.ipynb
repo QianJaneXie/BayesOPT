{
 "cells": [
  {
   "cell_type": "code",
   "execution_count": 1,
   "metadata": {},
   "outputs": [],
   "source": [
    "import wandb\n",
    "from tqdm import tqdm\n",
    "import numpy as np\n",
    "\n",
    "api = wandb.Api()\n",
    "\n",
    "def load_synthetic_fixed_cost_runs(acq, tfn, dim):\n",
    "    runs = api.runs(path=\"ziv-scully-group/PandoraBayesOPT\", filters={\n",
    "        \"sweep\": \"8g2xaaq2\",\n",
    "        \"config.dim\": dim,\n",
    "        \"config.problem\": tfn,\n",
    "        \"config.policy\": acq})\n",
    "    \n",
    "    configs_and_metrics = []\n",
    "    for run in tqdm(runs):\n",
    "        metric_keys = [\"cumulative cost\",\"best observed\"]\n",
    "        history = run.scan_history(keys = metric_keys, page_size=1_000_000_000)\n",
    "        metrics = {k: [d[k] for d in history] for k in metric_keys}\n",
    "        summary_metric_keys = [\"global optimum value\"]\n",
    "        summary_history = run.scan_history(keys = summary_metric_keys, page_size=1_000_000_000)\n",
    "        metrics.update({k: [d[k] for d in summary_history] for k in summary_metric_keys})\n",
    "        configs_and_metrics.append((run.config, metrics))\n",
    "\n",
    "    return configs_and_metrics"
   ]
  },
  {
   "cell_type": "code",
   "execution_count": 2,
   "metadata": {},
   "outputs": [],
   "source": [
    "acquisition_functions = {\n",
    "    'UpperConfidenceBound': 'UpperConfidenceBound',\n",
    "    }\n",
    "target_functions_with_optima = {\n",
    "    'Ackley':0,\n",
    "    # 'DropWave_2D':-1,\n",
    "    # 'Shekel5_4D':-10.1532,\n",
    "    'Rosenbrock':0,\n",
    "    'Levy':0,\n",
    "  }\n",
    "dimensions = [4, 8, 16]"
   ]
  },
  {
   "cell_type": "code",
   "execution_count": 3,
   "metadata": {
    "scrolled": false
   },
   "outputs": [
    {
     "name": "stderr",
     "output_type": "stream",
     "text": [
      "100%|██████████| 16/16 [00:19<00:00,  1.24s/it]\n",
      "100%|██████████| 16/16 [00:20<00:00,  1.28s/it]\n",
      "100%|██████████| 16/16 [00:21<00:00,  1.35s/it]\n",
      "100%|██████████| 16/16 [00:21<00:00,  1.31s/it]\n",
      "100%|██████████| 16/16 [00:19<00:00,  1.21s/it]\n",
      "100%|██████████| 16/16 [00:19<00:00,  1.22s/it]\n",
      "100%|██████████| 16/16 [00:19<00:00,  1.22s/it]\n",
      "100%|██████████| 16/16 [00:20<00:00,  1.26s/it]\n",
      "100%|██████████| 16/16 [00:20<00:00,  1.26s/it]\n"
     ]
    }
   ],
   "source": [
    "grouped_runs = {(a,t,d): load_synthetic_fixed_cost_runs(a,t,d) for a in acquisition_functions.keys() for t in target_functions_with_optima.keys() for d in (dimensions)}"
   ]
  },
  {
   "cell_type": "code",
   "execution_count": 4,
   "metadata": {},
   "outputs": [
    {
     "name": "stdout",
     "output_type": "stream",
     "text": [
      "UpperConfidenceBound Ackley 4 (41, 16)\n",
      "UpperConfidenceBound Ackley 8 (81, 16)\n",
      "UpperConfidenceBound Ackley 16 (161, 16)\n",
      "UpperConfidenceBound Rosenbrock 4 (41, 16)\n",
      "UpperConfidenceBound Rosenbrock 8 (81, 16)\n",
      "UpperConfidenceBound Rosenbrock 16 (161, 16)\n",
      "UpperConfidenceBound Levy 4 (41, 16)\n",
      "UpperConfidenceBound Levy 8 (81, 16)\n",
      "UpperConfidenceBound Levy 16 (161, 16)\n"
     ]
    }
   ],
   "source": [
    "for a in acquisition_functions.keys():\n",
    "    for (t,opt) in target_functions_with_optima.items():\n",
    "        for d in dimensions:\n",
    "            config_and_metrics_per_seed = grouped_runs[a,t,d]\n",
    "    \n",
    "            cumulative_cost_per_seed = np.array([m['cumulative cost'] for (_,m) in config_and_metrics_per_seed if len(m['cumulative cost'])>0]).T \n",
    "            best_observed_per_seed = np.array([m['best observed'] for (_,m) in config_and_metrics_per_seed if len(m['best observed'])>0]).T\n",
    "            \n",
    "            regret_per_seed = best_observed_per_seed - opt\n",
    "    \n",
    "            print(a, t, d, regret_per_seed.shape)\n",
    "    \n",
    "            regret_25 = np.quantile(regret_per_seed, 0.25, axis=1)\n",
    "            regret_50 = np.quantile(regret_per_seed, 0.5, axis=1)\n",
    "            regret_75 = np.quantile(regret_per_seed, 0.75, axis=1)\n",
    "    \n",
    "            output = np.stack((cumulative_cost_per_seed.mean(axis=1), regret_25, regret_50, regret_75),axis=-1)\n",
    "    \n",
    "            np.savetxt(f\"results/preprint/synthetic/Synthetic_FixedCost_{t}_d{d}_{acquisition_functions[a]}.csv\", output, header=\"cc, q25, q50, q75\", delimiter=', ', comments='')"
   ]
  }
 ],
 "metadata": {
  "kernelspec": {
   "display_name": "Python 3 (ipykernel)",
   "language": "python",
   "name": "python3"
  },
  "language_info": {
   "codemirror_mode": {
    "name": "ipython",
    "version": 3
   },
   "file_extension": ".py",
   "mimetype": "text/x-python",
   "name": "python",
   "nbconvert_exporter": "python",
   "pygments_lexer": "ipython3",
   "version": "3.9.18"
  }
 },
 "nbformat": 4,
 "nbformat_minor": 4
}
