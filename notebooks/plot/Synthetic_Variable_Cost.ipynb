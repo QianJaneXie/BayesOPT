{
 "cells": [
  {
   "cell_type": "code",
   "execution_count": 1,
   "metadata": {},
   "outputs": [],
   "source": [
    "import wandb\n",
    "from tqdm import tqdm\n",
    "import numpy as np\n",
    "\n",
    "api = wandb.Api()\n",
    "\n",
    "def load_synthetic_variable_cost_runs(acq, tfn):\n",
    "    runs = api.runs(path=\"ziv-scully-group/Gittins for Bayesian Optimization\", filters={\n",
    "        \"sweep\": \"1ms6u0ln\", \n",
    "        \"config.problem\": tfn,\n",
    "        \"config.policy\": acq})\n",
    "    \n",
    "    configs_and_metrics = []\n",
    "    for run in tqdm(runs):\n",
    "        metric_keys = [\"cumulative cost\",\"best observed\"]\n",
    "        history = run.scan_history(keys = metric_keys, page_size=1_000_000_000)\n",
    "        metrics = {k: [d[k] for d in history] for k in metric_keys}\n",
    "        summary_metric_keys = [\"global optimum value\"]\n",
    "        summary_history = run.scan_history(keys = summary_metric_keys, page_size=1_000_000_000)\n",
    "        metrics.update({k: [d[k] for d in summary_history] for k in summary_metric_keys})\n",
    "        configs_and_metrics.append((run.config, metrics))\n",
    "\n",
    "    return configs_and_metrics"
   ]
  },
  {
   "cell_type": "code",
   "execution_count": 7,
   "metadata": {},
   "outputs": [],
   "source": [
    "acquisition_functions = {\n",
    "    'ExpectedImprovement':'ExpectedImprovementPerCost',\n",
    "    'ExpectedImprovementWithCost_Uniform':'ExpectedImprovementPerCost_Uniform',\n",
    "    'ExpectedImprovementWithCost_Cooling':'ExpectedImprovementPerCost_Cooling',\n",
    "    'BudgetedMultiStepLookaheadEI':'ExpectedImprovementPerCost_MultiStep',\n",
    "    'Gittins_Lambda_01':'Gittins_Lambda01',\n",
    "    'Gittins_Lambda_001':'Gittins_Lambda001',\n",
    "    'Gittins_Lambda_0001':'Gittins_Lambda0001',\n",
    "    'Gittins_Step_Divide2':'Gittins_Step_Divide2',\n",
    "    'Gittins_Step_Divide5':'Gittins_Step_Divide5',\n",
    "    'Gittins_Step_Divide10':'Gittins_Step_Divide10',\n",
    "    'Gittins_Step_EIpu':'Gittins_Step_EIPC',\n",
    "    }\n",
    "target_functions_with_optima = {\n",
    "    'Ackley_5D':0,\n",
    "    'DropWave_2D':-1,\n",
    "    'Shekel5_4D':-10.1532,\n",
    "    'Rosenbrock_5D':0,\n",
    "    'Levy_5D':0,\n",
    "  }"
   ]
  },
  {
   "cell_type": "code",
   "execution_count": null,
   "metadata": {},
   "outputs": [],
   "source": [
    "grouped_runs = {(a,t): load_synthetic_variable_cost_runs(a,t) for a in acquisition_functions.keys() for t in target_functions_with_optima.keys()}"
   ]
  },
  {
   "cell_type": "code",
   "execution_count": null,
   "metadata": {},
   "outputs": [],
   "source": [
    "for a in acquisition_functions.keys():\n",
    "    for (t,opt) in target_functions_with_optima.items():\n",
    "        config_and_metrics_per_seed = grouped_runs[a,t]\n",
    "\n",
    "        cumulative_cost_per_seed = np.array([m['cumulative cost'] for (_,m) in config_and_metrics_per_seed]).T\n",
    "        best_observed_per_seed = np.array([m['best observed'] for (_,m) in config_and_metrics_per_seed]).T\n",
    "\n",
    "        regret_per_seed = best_observed_per_seed - opt\n",
    "\n",
    "        print(regret_per_seed)\n",
    "\n",
    "        regret_25 = np.quantile(regret_per_seed, 0.25, axis=1)\n",
    "        regret_50 = np.quantile(regret_per_seed, 0.5, axis=1)\n",
    "        regret_75 = np.quantile(regret_per_seed, 0.75, axis=1)\n",
    "\n",
    "        output = np.stack((cumulative_cost_per_seed.mean(axis=1), regret_25, regret_50, regret_75),axis=-1)\n",
    "\n",
    "        np.savetxt(f\"synthetic/Synthetic_VariableCost_{t}_{acquisition_functions[a]}.csv\", output, header=\"cc, q25, q50, q75\", delimiter=', ', comments='')"
   ]
  }
 ],
 "metadata": {
  "kernelspec": {
   "display_name": "Python 3 (ipykernel)",
   "language": "python",
   "name": "python3"
  },
  "language_info": {
   "codemirror_mode": {
    "name": "ipython",
    "version": 3
   },
   "file_extension": ".py",
   "mimetype": "text/x-python",
   "name": "python",
   "nbconvert_exporter": "python",
   "pygments_lexer": "ipython3",
   "version": "3.9.18"
  }
 },
 "nbformat": 4,
 "nbformat_minor": 4
}
